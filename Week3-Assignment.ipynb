{
 "cells": [
  {
   "cell_type": "markdown",
   "metadata": {},
   "source": [
    "# LASTDATA ASSIGNMENT"
   ]
  },
  {
   "cell_type": "code",
   "execution_count": 1,
   "metadata": {},
   "outputs": [],
   "source": [
    "import statsmodels.stats.api as sms # İstatistik Kütüphanesi\n",
    "import os # Operating system kütüphanesi, çalıştığımız directory'yi değiştiririz\n",
    "import pandas as pd # Dataframe adında python'un özel tablo kütüphanesi\n",
    "import seaborn as sns\n",
    "from sklearn import datasets #Sckit-Learning kütüphanesindeki hazır 'toy' datasetler\n",
    "import matplotlib.pyplot as plt # Plot etmek için bu şekilde çağırıyoruz\n",
    "import numpy as np"
   ]
  },
  {
   "cell_type": "code",
   "execution_count": 5,
   "metadata": {},
   "outputs": [],
   "source": [
    "data = pd.read_excel(\"data.xlsx\")"
   ]
  },
  {
   "cell_type": "code",
   "execution_count": 9,
   "metadata": {},
   "outputs": [
    {
     "data": {
      "text/html": [
       "<div>\n",
       "<style scoped>\n",
       "    .dataframe tbody tr th:only-of-type {\n",
       "        vertical-align: middle;\n",
       "    }\n",
       "\n",
       "    .dataframe tbody tr th {\n",
       "        vertical-align: top;\n",
       "    }\n",
       "\n",
       "    .dataframe thead th {\n",
       "        text-align: right;\n",
       "    }\n",
       "</style>\n",
       "<table border=\"1\" class=\"dataframe\">\n",
       "  <thead>\n",
       "    <tr style=\"text-align: right;\">\n",
       "      <th></th>\n",
       "      <th>ind_5</th>\n",
       "      <th>ind_6</th>\n",
       "      <th>ind_8</th>\n",
       "      <th>ind_9</th>\n",
       "      <th>ind_10</th>\n",
       "      <th>ind_12</th>\n",
       "      <th>ind_13</th>\n",
       "      <th>ind_14</th>\n",
       "      <th>ind_15</th>\n",
       "      <th>ind_16</th>\n",
       "      <th>...</th>\n",
       "      <th>ind_416</th>\n",
       "      <th>ind_418</th>\n",
       "      <th>ind_420</th>\n",
       "      <th>ind_422</th>\n",
       "      <th>ind_424</th>\n",
       "      <th>ind_426</th>\n",
       "      <th>ind_428</th>\n",
       "      <th>20_target</th>\n",
       "      <th>50_target</th>\n",
       "      <th>90_target</th>\n",
       "    </tr>\n",
       "  </thead>\n",
       "  <tbody>\n",
       "    <tr>\n",
       "      <th>0</th>\n",
       "      <td>19</td>\n",
       "      <td>17</td>\n",
       "      <td>100.0</td>\n",
       "      <td>85.714286</td>\n",
       "      <td>14.285714</td>\n",
       "      <td>72.363515</td>\n",
       "      <td>60.808814</td>\n",
       "      <td>23.80</td>\n",
       "      <td>17.62</td>\n",
       "      <td>11.73</td>\n",
       "      <td>...</td>\n",
       "      <td>-49.6</td>\n",
       "      <td>-54</td>\n",
       "      <td>-152</td>\n",
       "      <td>-353</td>\n",
       "      <td>1.0</td>\n",
       "      <td>0.498547</td>\n",
       "      <td>0.701906</td>\n",
       "      <td>15.135802</td>\n",
       "      <td>35.625252</td>\n",
       "      <td>36.997753</td>\n",
       "    </tr>\n",
       "    <tr>\n",
       "      <th>1</th>\n",
       "      <td>24</td>\n",
       "      <td>19</td>\n",
       "      <td>100.0</td>\n",
       "      <td>78.571429</td>\n",
       "      <td>21.428571</td>\n",
       "      <td>74.275883</td>\n",
       "      <td>64.366798</td>\n",
       "      <td>11.45</td>\n",
       "      <td>18.16</td>\n",
       "      <td>12.22</td>\n",
       "      <td>...</td>\n",
       "      <td>-55.6</td>\n",
       "      <td>-60</td>\n",
       "      <td>-158</td>\n",
       "      <td>-359</td>\n",
       "      <td>1.0</td>\n",
       "      <td>0.537088</td>\n",
       "      <td>0.690833</td>\n",
       "      <td>15.143348</td>\n",
       "      <td>35.643013</td>\n",
       "      <td>37.016198</td>\n",
       "    </tr>\n",
       "    <tr>\n",
       "      <th>2</th>\n",
       "      <td>30</td>\n",
       "      <td>24</td>\n",
       "      <td>100.0</td>\n",
       "      <td>71.428571</td>\n",
       "      <td>28.571429</td>\n",
       "      <td>75.140402</td>\n",
       "      <td>65.915803</td>\n",
       "      <td>8.75</td>\n",
       "      <td>17.86</td>\n",
       "      <td>12.28</td>\n",
       "      <td>...</td>\n",
       "      <td>-58.4</td>\n",
       "      <td>-60</td>\n",
       "      <td>-160</td>\n",
       "      <td>-362</td>\n",
       "      <td>1.0</td>\n",
       "      <td>0.615169</td>\n",
       "      <td>0.693040</td>\n",
       "      <td>15.146870</td>\n",
       "      <td>35.651301</td>\n",
       "      <td>-37.024805</td>\n",
       "    </tr>\n",
       "    <tr>\n",
       "      <th>3</th>\n",
       "      <td>37</td>\n",
       "      <td>30</td>\n",
       "      <td>100.0</td>\n",
       "      <td>64.285714</td>\n",
       "      <td>35.714286</td>\n",
       "      <td>76.677846</td>\n",
       "      <td>68.584234</td>\n",
       "      <td>7.80</td>\n",
       "      <td>14.76</td>\n",
       "      <td>12.61</td>\n",
       "      <td>...</td>\n",
       "      <td>-61.8</td>\n",
       "      <td>-65</td>\n",
       "      <td>-166</td>\n",
       "      <td>-367</td>\n",
       "      <td>1.0</td>\n",
       "      <td>0.661517</td>\n",
       "      <td>0.673418</td>\n",
       "      <td>15.153283</td>\n",
       "      <td>0.000000</td>\n",
       "      <td>-37.040483</td>\n",
       "    </tr>\n",
       "    <tr>\n",
       "      <th>4</th>\n",
       "      <td>41</td>\n",
       "      <td>37</td>\n",
       "      <td>100.0</td>\n",
       "      <td>57.142857</td>\n",
       "      <td>42.857143</td>\n",
       "      <td>81.603007</td>\n",
       "      <td>76.455495</td>\n",
       "      <td>14.90</td>\n",
       "      <td>11.92</td>\n",
       "      <td>14.25</td>\n",
       "      <td>...</td>\n",
       "      <td>-79.8</td>\n",
       "      <td>-86</td>\n",
       "      <td>-186</td>\n",
       "      <td>-388</td>\n",
       "      <td>1.0</td>\n",
       "      <td>0.747204</td>\n",
       "      <td>0.700522</td>\n",
       "      <td>-15.179065</td>\n",
       "      <td>-35.727079</td>\n",
       "      <td>-37.103503</td>\n",
       "    </tr>\n",
       "  </tbody>\n",
       "</table>\n",
       "<p>5 rows × 136 columns</p>\n",
       "</div>"
      ],
      "text/plain": [
       "   ind_5  ind_6  ind_8      ind_9     ind_10     ind_12     ind_13  ind_14  \\\n",
       "0     19     17  100.0  85.714286  14.285714  72.363515  60.808814   23.80   \n",
       "1     24     19  100.0  78.571429  21.428571  74.275883  64.366798   11.45   \n",
       "2     30     24  100.0  71.428571  28.571429  75.140402  65.915803    8.75   \n",
       "3     37     30  100.0  64.285714  35.714286  76.677846  68.584234    7.80   \n",
       "4     41     37  100.0  57.142857  42.857143  81.603007  76.455495   14.90   \n",
       "\n",
       "   ind_15  ind_16  ...  ind_416  ind_418  ind_420  ind_422  ind_424   ind_426  \\\n",
       "0   17.62   11.73  ...    -49.6      -54     -152     -353      1.0  0.498547   \n",
       "1   18.16   12.22  ...    -55.6      -60     -158     -359      1.0  0.537088   \n",
       "2   17.86   12.28  ...    -58.4      -60     -160     -362      1.0  0.615169   \n",
       "3   14.76   12.61  ...    -61.8      -65     -166     -367      1.0  0.661517   \n",
       "4   11.92   14.25  ...    -79.8      -86     -186     -388      1.0  0.747204   \n",
       "\n",
       "    ind_428  20_target  50_target  90_target  \n",
       "0  0.701906  15.135802  35.625252  36.997753  \n",
       "1  0.690833  15.143348  35.643013  37.016198  \n",
       "2  0.693040  15.146870  35.651301 -37.024805  \n",
       "3  0.673418  15.153283   0.000000 -37.040483  \n",
       "4  0.700522 -15.179065 -35.727079 -37.103503  \n",
       "\n",
       "[5 rows x 136 columns]"
      ]
     },
     "execution_count": 9,
     "metadata": {},
     "output_type": "execute_result"
    }
   ],
   "source": [
    "data.head()"
   ]
  },
  {
   "cell_type": "code",
   "execution_count": 11,
   "metadata": {},
   "outputs": [
    {
     "data": {
      "text/html": [
       "<div>\n",
       "<style scoped>\n",
       "    .dataframe tbody tr th:only-of-type {\n",
       "        vertical-align: middle;\n",
       "    }\n",
       "\n",
       "    .dataframe tbody tr th {\n",
       "        vertical-align: top;\n",
       "    }\n",
       "\n",
       "    .dataframe thead th {\n",
       "        text-align: right;\n",
       "    }\n",
       "</style>\n",
       "<table border=\"1\" class=\"dataframe\">\n",
       "  <thead>\n",
       "    <tr style=\"text-align: right;\">\n",
       "      <th>90_target</th>\n",
       "      <th>-38.573858</th>\n",
       "      <th>-38.572936</th>\n",
       "      <th>-38.558488</th>\n",
       "      <th>-38.544962</th>\n",
       "      <th>-38.543117</th>\n",
       "      <th>-38.541273</th>\n",
       "      <th>-38.535432</th>\n",
       "      <th>-38.528976</th>\n",
       "      <th>-38.528361</th>\n",
       "      <th>-38.515757</th>\n",
       "      <th>...</th>\n",
       "      <th>38.424763</th>\n",
       "      <th>38.428452</th>\n",
       "      <th>38.432141</th>\n",
       "      <th>38.435215</th>\n",
       "      <th>38.438289</th>\n",
       "      <th>38.438904</th>\n",
       "      <th>38.442901</th>\n",
       "      <th>38.447204</th>\n",
       "      <th>38.447819</th>\n",
       "      <th>38.465649</th>\n",
       "    </tr>\n",
       "    <tr>\n",
       "      <th>50_target</th>\n",
       "      <th></th>\n",
       "      <th></th>\n",
       "      <th></th>\n",
       "      <th></th>\n",
       "      <th></th>\n",
       "      <th></th>\n",
       "      <th></th>\n",
       "      <th></th>\n",
       "      <th></th>\n",
       "      <th></th>\n",
       "      <th></th>\n",
       "      <th></th>\n",
       "      <th></th>\n",
       "      <th></th>\n",
       "      <th></th>\n",
       "      <th></th>\n",
       "      <th></th>\n",
       "      <th></th>\n",
       "      <th></th>\n",
       "      <th></th>\n",
       "      <th></th>\n",
       "    </tr>\n",
       "  </thead>\n",
       "  <tbody>\n",
       "    <tr>\n",
       "      <th>-37.142889</th>\n",
       "      <td>2</td>\n",
       "      <td>0</td>\n",
       "      <td>0</td>\n",
       "      <td>0</td>\n",
       "      <td>0</td>\n",
       "      <td>0</td>\n",
       "      <td>0</td>\n",
       "      <td>0</td>\n",
       "      <td>0</td>\n",
       "      <td>0</td>\n",
       "      <td>...</td>\n",
       "      <td>0</td>\n",
       "      <td>0</td>\n",
       "      <td>0</td>\n",
       "      <td>0</td>\n",
       "      <td>0</td>\n",
       "      <td>0</td>\n",
       "      <td>0</td>\n",
       "      <td>0</td>\n",
       "      <td>0</td>\n",
       "      <td>0</td>\n",
       "    </tr>\n",
       "    <tr>\n",
       "      <th>-37.142001</th>\n",
       "      <td>0</td>\n",
       "      <td>1</td>\n",
       "      <td>0</td>\n",
       "      <td>0</td>\n",
       "      <td>0</td>\n",
       "      <td>0</td>\n",
       "      <td>0</td>\n",
       "      <td>0</td>\n",
       "      <td>0</td>\n",
       "      <td>0</td>\n",
       "      <td>...</td>\n",
       "      <td>0</td>\n",
       "      <td>0</td>\n",
       "      <td>0</td>\n",
       "      <td>0</td>\n",
       "      <td>0</td>\n",
       "      <td>0</td>\n",
       "      <td>0</td>\n",
       "      <td>0</td>\n",
       "      <td>0</td>\n",
       "      <td>0</td>\n",
       "    </tr>\n",
       "    <tr>\n",
       "      <th>-37.128089</th>\n",
       "      <td>0</td>\n",
       "      <td>0</td>\n",
       "      <td>2</td>\n",
       "      <td>0</td>\n",
       "      <td>0</td>\n",
       "      <td>0</td>\n",
       "      <td>0</td>\n",
       "      <td>0</td>\n",
       "      <td>0</td>\n",
       "      <td>0</td>\n",
       "      <td>...</td>\n",
       "      <td>0</td>\n",
       "      <td>0</td>\n",
       "      <td>0</td>\n",
       "      <td>0</td>\n",
       "      <td>0</td>\n",
       "      <td>0</td>\n",
       "      <td>0</td>\n",
       "      <td>0</td>\n",
       "      <td>0</td>\n",
       "      <td>0</td>\n",
       "    </tr>\n",
       "    <tr>\n",
       "      <th>-37.115065</th>\n",
       "      <td>0</td>\n",
       "      <td>0</td>\n",
       "      <td>0</td>\n",
       "      <td>1</td>\n",
       "      <td>0</td>\n",
       "      <td>0</td>\n",
       "      <td>0</td>\n",
       "      <td>0</td>\n",
       "      <td>0</td>\n",
       "      <td>0</td>\n",
       "      <td>...</td>\n",
       "      <td>0</td>\n",
       "      <td>0</td>\n",
       "      <td>0</td>\n",
       "      <td>0</td>\n",
       "      <td>0</td>\n",
       "      <td>0</td>\n",
       "      <td>0</td>\n",
       "      <td>0</td>\n",
       "      <td>0</td>\n",
       "      <td>0</td>\n",
       "    </tr>\n",
       "    <tr>\n",
       "      <th>-37.113288</th>\n",
       "      <td>0</td>\n",
       "      <td>0</td>\n",
       "      <td>0</td>\n",
       "      <td>0</td>\n",
       "      <td>1</td>\n",
       "      <td>0</td>\n",
       "      <td>0</td>\n",
       "      <td>0</td>\n",
       "      <td>0</td>\n",
       "      <td>0</td>\n",
       "      <td>...</td>\n",
       "      <td>0</td>\n",
       "      <td>0</td>\n",
       "      <td>0</td>\n",
       "      <td>0</td>\n",
       "      <td>0</td>\n",
       "      <td>0</td>\n",
       "      <td>0</td>\n",
       "      <td>0</td>\n",
       "      <td>0</td>\n",
       "      <td>0</td>\n",
       "    </tr>\n",
       "    <tr>\n",
       "      <th>...</th>\n",
       "      <td>...</td>\n",
       "      <td>...</td>\n",
       "      <td>...</td>\n",
       "      <td>...</td>\n",
       "      <td>...</td>\n",
       "      <td>...</td>\n",
       "      <td>...</td>\n",
       "      <td>...</td>\n",
       "      <td>...</td>\n",
       "      <td>...</td>\n",
       "      <td>...</td>\n",
       "      <td>...</td>\n",
       "      <td>...</td>\n",
       "      <td>...</td>\n",
       "      <td>...</td>\n",
       "      <td>...</td>\n",
       "      <td>...</td>\n",
       "      <td>...</td>\n",
       "      <td>...</td>\n",
       "      <td>...</td>\n",
       "      <td>...</td>\n",
       "    </tr>\n",
       "    <tr>\n",
       "      <th>37.012941</th>\n",
       "      <td>0</td>\n",
       "      <td>0</td>\n",
       "      <td>0</td>\n",
       "      <td>0</td>\n",
       "      <td>0</td>\n",
       "      <td>0</td>\n",
       "      <td>0</td>\n",
       "      <td>0</td>\n",
       "      <td>0</td>\n",
       "      <td>0</td>\n",
       "      <td>...</td>\n",
       "      <td>0</td>\n",
       "      <td>0</td>\n",
       "      <td>0</td>\n",
       "      <td>0</td>\n",
       "      <td>0</td>\n",
       "      <td>1</td>\n",
       "      <td>0</td>\n",
       "      <td>0</td>\n",
       "      <td>0</td>\n",
       "      <td>0</td>\n",
       "    </tr>\n",
       "    <tr>\n",
       "      <th>37.016790</th>\n",
       "      <td>0</td>\n",
       "      <td>0</td>\n",
       "      <td>0</td>\n",
       "      <td>0</td>\n",
       "      <td>0</td>\n",
       "      <td>0</td>\n",
       "      <td>0</td>\n",
       "      <td>0</td>\n",
       "      <td>0</td>\n",
       "      <td>0</td>\n",
       "      <td>...</td>\n",
       "      <td>0</td>\n",
       "      <td>0</td>\n",
       "      <td>0</td>\n",
       "      <td>0</td>\n",
       "      <td>0</td>\n",
       "      <td>0</td>\n",
       "      <td>1</td>\n",
       "      <td>0</td>\n",
       "      <td>0</td>\n",
       "      <td>0</td>\n",
       "    </tr>\n",
       "    <tr>\n",
       "      <th>37.020934</th>\n",
       "      <td>0</td>\n",
       "      <td>0</td>\n",
       "      <td>0</td>\n",
       "      <td>0</td>\n",
       "      <td>0</td>\n",
       "      <td>0</td>\n",
       "      <td>0</td>\n",
       "      <td>0</td>\n",
       "      <td>0</td>\n",
       "      <td>0</td>\n",
       "      <td>...</td>\n",
       "      <td>0</td>\n",
       "      <td>0</td>\n",
       "      <td>0</td>\n",
       "      <td>0</td>\n",
       "      <td>0</td>\n",
       "      <td>0</td>\n",
       "      <td>0</td>\n",
       "      <td>2</td>\n",
       "      <td>0</td>\n",
       "      <td>0</td>\n",
       "    </tr>\n",
       "    <tr>\n",
       "      <th>37.021526</th>\n",
       "      <td>0</td>\n",
       "      <td>0</td>\n",
       "      <td>0</td>\n",
       "      <td>0</td>\n",
       "      <td>0</td>\n",
       "      <td>0</td>\n",
       "      <td>0</td>\n",
       "      <td>0</td>\n",
       "      <td>0</td>\n",
       "      <td>0</td>\n",
       "      <td>...</td>\n",
       "      <td>0</td>\n",
       "      <td>0</td>\n",
       "      <td>0</td>\n",
       "      <td>0</td>\n",
       "      <td>0</td>\n",
       "      <td>0</td>\n",
       "      <td>0</td>\n",
       "      <td>0</td>\n",
       "      <td>1</td>\n",
       "      <td>0</td>\n",
       "    </tr>\n",
       "    <tr>\n",
       "      <th>37.038694</th>\n",
       "      <td>0</td>\n",
       "      <td>0</td>\n",
       "      <td>0</td>\n",
       "      <td>0</td>\n",
       "      <td>0</td>\n",
       "      <td>0</td>\n",
       "      <td>0</td>\n",
       "      <td>0</td>\n",
       "      <td>0</td>\n",
       "      <td>0</td>\n",
       "      <td>...</td>\n",
       "      <td>0</td>\n",
       "      <td>0</td>\n",
       "      <td>0</td>\n",
       "      <td>0</td>\n",
       "      <td>0</td>\n",
       "      <td>0</td>\n",
       "      <td>0</td>\n",
       "      <td>0</td>\n",
       "      <td>0</td>\n",
       "      <td>1</td>\n",
       "    </tr>\n",
       "  </tbody>\n",
       "</table>\n",
       "<p>4355 rows × 4487 columns</p>\n",
       "</div>"
      ],
      "text/plain": [
       "90_target   -38.573858  -38.572936  -38.558488  -38.544962  -38.543117  \\\n",
       "50_target                                                                \n",
       "-37.142889           2           0           0           0           0   \n",
       "-37.142001           0           1           0           0           0   \n",
       "-37.128089           0           0           2           0           0   \n",
       "-37.115065           0           0           0           1           0   \n",
       "-37.113288           0           0           0           0           1   \n",
       "...                ...         ...         ...         ...         ...   \n",
       " 37.012941           0           0           0           0           0   \n",
       " 37.016790           0           0           0           0           0   \n",
       " 37.020934           0           0           0           0           0   \n",
       " 37.021526           0           0           0           0           0   \n",
       " 37.038694           0           0           0           0           0   \n",
       "\n",
       "90_target   -38.541273  -38.535432  -38.528976  -38.528361  -38.515757  ...  \\\n",
       "50_target                                                               ...   \n",
       "-37.142889           0           0           0           0           0  ...   \n",
       "-37.142001           0           0           0           0           0  ...   \n",
       "-37.128089           0           0           0           0           0  ...   \n",
       "-37.115065           0           0           0           0           0  ...   \n",
       "-37.113288           0           0           0           0           0  ...   \n",
       "...                ...         ...         ...         ...         ...  ...   \n",
       " 37.012941           0           0           0           0           0  ...   \n",
       " 37.016790           0           0           0           0           0  ...   \n",
       " 37.020934           0           0           0           0           0  ...   \n",
       " 37.021526           0           0           0           0           0  ...   \n",
       " 37.038694           0           0           0           0           0  ...   \n",
       "\n",
       "90_target    38.424763   38.428452   38.432141   38.435215   38.438289  \\\n",
       "50_target                                                                \n",
       "-37.142889           0           0           0           0           0   \n",
       "-37.142001           0           0           0           0           0   \n",
       "-37.128089           0           0           0           0           0   \n",
       "-37.115065           0           0           0           0           0   \n",
       "-37.113288           0           0           0           0           0   \n",
       "...                ...         ...         ...         ...         ...   \n",
       " 37.012941           0           0           0           0           0   \n",
       " 37.016790           0           0           0           0           0   \n",
       " 37.020934           0           0           0           0           0   \n",
       " 37.021526           0           0           0           0           0   \n",
       " 37.038694           0           0           0           0           0   \n",
       "\n",
       "90_target    38.438904   38.442901   38.447204   38.447819   38.465649  \n",
       "50_target                                                               \n",
       "-37.142889           0           0           0           0           0  \n",
       "-37.142001           0           0           0           0           0  \n",
       "-37.128089           0           0           0           0           0  \n",
       "-37.115065           0           0           0           0           0  \n",
       "-37.113288           0           0           0           0           0  \n",
       "...                ...         ...         ...         ...         ...  \n",
       " 37.012941           1           0           0           0           0  \n",
       " 37.016790           0           1           0           0           0  \n",
       " 37.020934           0           0           2           0           0  \n",
       " 37.021526           0           0           0           1           0  \n",
       " 37.038694           0           0           0           0           1  \n",
       "\n",
       "[4355 rows x 4487 columns]"
      ]
     },
     "execution_count": 11,
     "metadata": {},
     "output_type": "execute_result"
    }
   ],
   "source": [
    "a=pd.crosstab(index=data[\"50_target\"],columns = data[\"90_target\"])\n",
    "a"
   ]
  },
  {
   "cell_type": "code",
   "execution_count": 14,
   "metadata": {},
   "outputs": [
    {
     "data": {
      "text/html": [
       "<div>\n",
       "<style scoped>\n",
       "    .dataframe tbody tr th:only-of-type {\n",
       "        vertical-align: middle;\n",
       "    }\n",
       "\n",
       "    .dataframe tbody tr th {\n",
       "        vertical-align: top;\n",
       "    }\n",
       "\n",
       "    .dataframe thead th {\n",
       "        text-align: right;\n",
       "    }\n",
       "</style>\n",
       "<table border=\"1\" class=\"dataframe\">\n",
       "  <thead>\n",
       "    <tr style=\"text-align: right;\">\n",
       "      <th></th>\n",
       "      <th>ind_5</th>\n",
       "      <th>ind_6</th>\n",
       "      <th>ind_8</th>\n",
       "      <th>ind_9</th>\n",
       "      <th>ind_10</th>\n",
       "      <th>ind_12</th>\n",
       "      <th>ind_13</th>\n",
       "      <th>ind_14</th>\n",
       "      <th>ind_15</th>\n",
       "      <th>ind_16</th>\n",
       "      <th>...</th>\n",
       "      <th>ind_412</th>\n",
       "      <th>ind_414</th>\n",
       "      <th>ind_416</th>\n",
       "      <th>ind_418</th>\n",
       "      <th>ind_424</th>\n",
       "      <th>ind_426</th>\n",
       "      <th>ind_428</th>\n",
       "      <th>20_target</th>\n",
       "      <th>50_target</th>\n",
       "      <th>90_target</th>\n",
       "    </tr>\n",
       "  </thead>\n",
       "  <tbody>\n",
       "    <tr>\n",
       "      <th>ind_5</th>\n",
       "      <td>1.000000</td>\n",
       "      <td>0.989945</td>\n",
       "      <td>0.543246</td>\n",
       "      <td>-0.533328</td>\n",
       "      <td>0.649225</td>\n",
       "      <td>0.822255</td>\n",
       "      <td>0.768234</td>\n",
       "      <td>-0.014502</td>\n",
       "      <td>-0.026336</td>\n",
       "      <td>-0.041130</td>\n",
       "      <td>...</td>\n",
       "      <td>0.620106</td>\n",
       "      <td>-0.694619</td>\n",
       "      <td>-0.304134</td>\n",
       "      <td>-0.620099</td>\n",
       "      <td>0.076169</td>\n",
       "      <td>0.626439</td>\n",
       "      <td>0.817302</td>\n",
       "      <td>0.060969</td>\n",
       "      <td>0.068989</td>\n",
       "      <td>0.060428</td>\n",
       "    </tr>\n",
       "    <tr>\n",
       "      <th>ind_6</th>\n",
       "      <td>0.989945</td>\n",
       "      <td>1.000000</td>\n",
       "      <td>0.514222</td>\n",
       "      <td>-0.495572</td>\n",
       "      <td>0.608947</td>\n",
       "      <td>0.768551</td>\n",
       "      <td>0.713870</td>\n",
       "      <td>-0.006066</td>\n",
       "      <td>-0.019393</td>\n",
       "      <td>-0.035795</td>\n",
       "      <td>...</td>\n",
       "      <td>0.634679</td>\n",
       "      <td>-0.646983</td>\n",
       "      <td>-0.279922</td>\n",
       "      <td>-0.569657</td>\n",
       "      <td>0.021220</td>\n",
       "      <td>0.567359</td>\n",
       "      <td>0.810371</td>\n",
       "      <td>0.062101</td>\n",
       "      <td>0.069652</td>\n",
       "      <td>0.061560</td>\n",
       "    </tr>\n",
       "    <tr>\n",
       "      <th>ind_8</th>\n",
       "      <td>0.543246</td>\n",
       "      <td>0.514222</td>\n",
       "      <td>1.000000</td>\n",
       "      <td>-0.374857</td>\n",
       "      <td>0.828650</td>\n",
       "      <td>0.583623</td>\n",
       "      <td>0.482220</td>\n",
       "      <td>0.162635</td>\n",
       "      <td>0.139612</td>\n",
       "      <td>0.038862</td>\n",
       "      <td>...</td>\n",
       "      <td>0.275687</td>\n",
       "      <td>-0.489596</td>\n",
       "      <td>-0.277258</td>\n",
       "      <td>-0.432579</td>\n",
       "      <td>0.144795</td>\n",
       "      <td>0.593799</td>\n",
       "      <td>0.445427</td>\n",
       "      <td>-0.004126</td>\n",
       "      <td>0.006984</td>\n",
       "      <td>-0.006650</td>\n",
       "    </tr>\n",
       "    <tr>\n",
       "      <th>ind_9</th>\n",
       "      <td>-0.533328</td>\n",
       "      <td>-0.495572</td>\n",
       "      <td>-0.374857</td>\n",
       "      <td>1.000000</td>\n",
       "      <td>-0.829576</td>\n",
       "      <td>-0.609288</td>\n",
       "      <td>-0.568581</td>\n",
       "      <td>0.238938</td>\n",
       "      <td>0.240048</td>\n",
       "      <td>0.152133</td>\n",
       "      <td>...</td>\n",
       "      <td>-0.276882</td>\n",
       "      <td>0.436275</td>\n",
       "      <td>0.349318</td>\n",
       "      <td>0.505772</td>\n",
       "      <td>-0.173139</td>\n",
       "      <td>-0.631961</td>\n",
       "      <td>-0.450719</td>\n",
       "      <td>-0.031316</td>\n",
       "      <td>-0.004053</td>\n",
       "      <td>0.012093</td>\n",
       "    </tr>\n",
       "    <tr>\n",
       "      <th>ind_10</th>\n",
       "      <td>0.649225</td>\n",
       "      <td>0.608947</td>\n",
       "      <td>0.828650</td>\n",
       "      <td>-0.829576</td>\n",
       "      <td>1.000000</td>\n",
       "      <td>0.719409</td>\n",
       "      <td>0.633753</td>\n",
       "      <td>-0.046312</td>\n",
       "      <td>-0.060849</td>\n",
       "      <td>-0.068450</td>\n",
       "      <td>...</td>\n",
       "      <td>0.333229</td>\n",
       "      <td>-0.558311</td>\n",
       "      <td>-0.377913</td>\n",
       "      <td>-0.565931</td>\n",
       "      <td>0.191752</td>\n",
       "      <td>0.739227</td>\n",
       "      <td>0.540428</td>\n",
       "      <td>0.016423</td>\n",
       "      <td>0.006654</td>\n",
       "      <td>-0.011307</td>\n",
       "    </tr>\n",
       "    <tr>\n",
       "      <th>...</th>\n",
       "      <td>...</td>\n",
       "      <td>...</td>\n",
       "      <td>...</td>\n",
       "      <td>...</td>\n",
       "      <td>...</td>\n",
       "      <td>...</td>\n",
       "      <td>...</td>\n",
       "      <td>...</td>\n",
       "      <td>...</td>\n",
       "      <td>...</td>\n",
       "      <td>...</td>\n",
       "      <td>...</td>\n",
       "      <td>...</td>\n",
       "      <td>...</td>\n",
       "      <td>...</td>\n",
       "      <td>...</td>\n",
       "      <td>...</td>\n",
       "      <td>...</td>\n",
       "      <td>...</td>\n",
       "      <td>...</td>\n",
       "      <td>...</td>\n",
       "    </tr>\n",
       "    <tr>\n",
       "      <th>ind_426</th>\n",
       "      <td>0.626439</td>\n",
       "      <td>0.567359</td>\n",
       "      <td>0.593799</td>\n",
       "      <td>-0.631961</td>\n",
       "      <td>0.739227</td>\n",
       "      <td>0.776076</td>\n",
       "      <td>0.700736</td>\n",
       "      <td>-0.066201</td>\n",
       "      <td>-0.066437</td>\n",
       "      <td>-0.051049</td>\n",
       "      <td>...</td>\n",
       "      <td>0.293592</td>\n",
       "      <td>-0.571432</td>\n",
       "      <td>-0.356302</td>\n",
       "      <td>-0.594243</td>\n",
       "      <td>0.341017</td>\n",
       "      <td>1.000000</td>\n",
       "      <td>0.584754</td>\n",
       "      <td>0.019599</td>\n",
       "      <td>0.009063</td>\n",
       "      <td>-0.002519</td>\n",
       "    </tr>\n",
       "    <tr>\n",
       "      <th>ind_428</th>\n",
       "      <td>0.817302</td>\n",
       "      <td>0.810371</td>\n",
       "      <td>0.445427</td>\n",
       "      <td>-0.450719</td>\n",
       "      <td>0.540428</td>\n",
       "      <td>0.807595</td>\n",
       "      <td>0.727899</td>\n",
       "      <td>0.021970</td>\n",
       "      <td>0.016318</td>\n",
       "      <td>0.010361</td>\n",
       "      <td>...</td>\n",
       "      <td>0.574646</td>\n",
       "      <td>-0.499656</td>\n",
       "      <td>-0.260048</td>\n",
       "      <td>-0.487564</td>\n",
       "      <td>0.188853</td>\n",
       "      <td>0.584754</td>\n",
       "      <td>1.000000</td>\n",
       "      <td>0.047041</td>\n",
       "      <td>0.052418</td>\n",
       "      <td>0.043563</td>\n",
       "    </tr>\n",
       "    <tr>\n",
       "      <th>20_target</th>\n",
       "      <td>0.060969</td>\n",
       "      <td>0.062101</td>\n",
       "      <td>-0.004126</td>\n",
       "      <td>-0.031316</td>\n",
       "      <td>0.016423</td>\n",
       "      <td>0.042550</td>\n",
       "      <td>0.041289</td>\n",
       "      <td>0.015320</td>\n",
       "      <td>0.012012</td>\n",
       "      <td>0.026881</td>\n",
       "      <td>...</td>\n",
       "      <td>0.066637</td>\n",
       "      <td>-0.029005</td>\n",
       "      <td>-0.009829</td>\n",
       "      <td>-0.045656</td>\n",
       "      <td>-0.008799</td>\n",
       "      <td>0.019599</td>\n",
       "      <td>0.047041</td>\n",
       "      <td>1.000000</td>\n",
       "      <td>0.384076</td>\n",
       "      <td>0.355950</td>\n",
       "    </tr>\n",
       "    <tr>\n",
       "      <th>50_target</th>\n",
       "      <td>0.068989</td>\n",
       "      <td>0.069652</td>\n",
       "      <td>0.006984</td>\n",
       "      <td>-0.004053</td>\n",
       "      <td>0.006654</td>\n",
       "      <td>0.055045</td>\n",
       "      <td>0.048302</td>\n",
       "      <td>0.072728</td>\n",
       "      <td>0.084561</td>\n",
       "      <td>0.101774</td>\n",
       "      <td>...</td>\n",
       "      <td>0.127234</td>\n",
       "      <td>0.008239</td>\n",
       "      <td>0.047728</td>\n",
       "      <td>-0.101488</td>\n",
       "      <td>-0.003372</td>\n",
       "      <td>0.009063</td>\n",
       "      <td>0.052418</td>\n",
       "      <td>0.384076</td>\n",
       "      <td>1.000000</td>\n",
       "      <td>0.940916</td>\n",
       "    </tr>\n",
       "    <tr>\n",
       "      <th>90_target</th>\n",
       "      <td>0.060428</td>\n",
       "      <td>0.061560</td>\n",
       "      <td>-0.006650</td>\n",
       "      <td>0.012093</td>\n",
       "      <td>-0.011307</td>\n",
       "      <td>0.043786</td>\n",
       "      <td>0.043491</td>\n",
       "      <td>0.077710</td>\n",
       "      <td>0.088271</td>\n",
       "      <td>0.108077</td>\n",
       "      <td>...</td>\n",
       "      <td>0.124265</td>\n",
       "      <td>0.018379</td>\n",
       "      <td>0.049615</td>\n",
       "      <td>-0.096903</td>\n",
       "      <td>-0.007689</td>\n",
       "      <td>-0.002519</td>\n",
       "      <td>0.043563</td>\n",
       "      <td>0.355950</td>\n",
       "      <td>0.940916</td>\n",
       "      <td>1.000000</td>\n",
       "    </tr>\n",
       "  </tbody>\n",
       "</table>\n",
       "<p>133 rows × 133 columns</p>\n",
       "</div>"
      ],
      "text/plain": [
       "              ind_5     ind_6     ind_8     ind_9    ind_10    ind_12  \\\n",
       "ind_5      1.000000  0.989945  0.543246 -0.533328  0.649225  0.822255   \n",
       "ind_6      0.989945  1.000000  0.514222 -0.495572  0.608947  0.768551   \n",
       "ind_8      0.543246  0.514222  1.000000 -0.374857  0.828650  0.583623   \n",
       "ind_9     -0.533328 -0.495572 -0.374857  1.000000 -0.829576 -0.609288   \n",
       "ind_10     0.649225  0.608947  0.828650 -0.829576  1.000000  0.719409   \n",
       "...             ...       ...       ...       ...       ...       ...   \n",
       "ind_426    0.626439  0.567359  0.593799 -0.631961  0.739227  0.776076   \n",
       "ind_428    0.817302  0.810371  0.445427 -0.450719  0.540428  0.807595   \n",
       "20_target  0.060969  0.062101 -0.004126 -0.031316  0.016423  0.042550   \n",
       "50_target  0.068989  0.069652  0.006984 -0.004053  0.006654  0.055045   \n",
       "90_target  0.060428  0.061560 -0.006650  0.012093 -0.011307  0.043786   \n",
       "\n",
       "             ind_13    ind_14    ind_15    ind_16  ...   ind_412   ind_414  \\\n",
       "ind_5      0.768234 -0.014502 -0.026336 -0.041130  ...  0.620106 -0.694619   \n",
       "ind_6      0.713870 -0.006066 -0.019393 -0.035795  ...  0.634679 -0.646983   \n",
       "ind_8      0.482220  0.162635  0.139612  0.038862  ...  0.275687 -0.489596   \n",
       "ind_9     -0.568581  0.238938  0.240048  0.152133  ... -0.276882  0.436275   \n",
       "ind_10     0.633753 -0.046312 -0.060849 -0.068450  ...  0.333229 -0.558311   \n",
       "...             ...       ...       ...       ...  ...       ...       ...   \n",
       "ind_426    0.700736 -0.066201 -0.066437 -0.051049  ...  0.293592 -0.571432   \n",
       "ind_428    0.727899  0.021970  0.016318  0.010361  ...  0.574646 -0.499656   \n",
       "20_target  0.041289  0.015320  0.012012  0.026881  ...  0.066637 -0.029005   \n",
       "50_target  0.048302  0.072728  0.084561  0.101774  ...  0.127234  0.008239   \n",
       "90_target  0.043491  0.077710  0.088271  0.108077  ...  0.124265  0.018379   \n",
       "\n",
       "            ind_416   ind_418   ind_424   ind_426   ind_428  20_target  \\\n",
       "ind_5     -0.304134 -0.620099  0.076169  0.626439  0.817302   0.060969   \n",
       "ind_6     -0.279922 -0.569657  0.021220  0.567359  0.810371   0.062101   \n",
       "ind_8     -0.277258 -0.432579  0.144795  0.593799  0.445427  -0.004126   \n",
       "ind_9      0.349318  0.505772 -0.173139 -0.631961 -0.450719  -0.031316   \n",
       "ind_10    -0.377913 -0.565931  0.191752  0.739227  0.540428   0.016423   \n",
       "...             ...       ...       ...       ...       ...        ...   \n",
       "ind_426   -0.356302 -0.594243  0.341017  1.000000  0.584754   0.019599   \n",
       "ind_428   -0.260048 -0.487564  0.188853  0.584754  1.000000   0.047041   \n",
       "20_target -0.009829 -0.045656 -0.008799  0.019599  0.047041   1.000000   \n",
       "50_target  0.047728 -0.101488 -0.003372  0.009063  0.052418   0.384076   \n",
       "90_target  0.049615 -0.096903 -0.007689 -0.002519  0.043563   0.355950   \n",
       "\n",
       "           50_target  90_target  \n",
       "ind_5       0.068989   0.060428  \n",
       "ind_6       0.069652   0.061560  \n",
       "ind_8       0.006984  -0.006650  \n",
       "ind_9      -0.004053   0.012093  \n",
       "ind_10      0.006654  -0.011307  \n",
       "...              ...        ...  \n",
       "ind_426     0.009063  -0.002519  \n",
       "ind_428     0.052418   0.043563  \n",
       "20_target   0.384076   0.355950  \n",
       "50_target   1.000000   0.940916  \n",
       "90_target   0.940916   1.000000  \n",
       "\n",
       "[133 rows x 133 columns]"
      ]
     },
     "execution_count": 14,
     "metadata": {},
     "output_type": "execute_result"
    }
   ],
   "source": [
    "data.corr()"
   ]
  },
  {
   "cell_type": "raw",
   "metadata": {},
   "source": [
    "# 90_target ile 50_target arasındaki ilişki güçlü ve pozitiftir.(0.94)"
   ]
  },
  {
   "cell_type": "code",
   "execution_count": 15,
   "metadata": {},
   "outputs": [],
   "source": [
    "import numpy as np \n",
    "import pylab \n",
    "import scipy.stats as stats"
   ]
  },
  {
   "cell_type": "markdown",
   "metadata": {},
   "source": [
    "# Visualization"
   ]
  },
  {
   "cell_type": "code",
   "execution_count": null,
   "metadata": {},
   "outputs": [],
   "source": [
    "class Visualization:\n",
    "    import seaborn as sns\n",
    "    import matplotlib.pyplot as plt\n",
    "    import pandas as pd\n",
    "    def _init_(self, data):\n",
    "        self.dataframe = data\n",
    "    \n",
    "        \n",
    "    def scatterplot(self, data1, data2, xlabel=None, ylabel=None):\n",
    "        plt.figure(figsize=(10,6))\n",
    "        plt.scatter(data1, data2)\n",
    "        plt.xlabel(xlabel)\n",
    "        plt.ylabel(ylabel)\n",
    "        plt.show()\n",
    "\n",
    "    def histogram(self, data):\n",
    "        sns.distplot(data)\n",
    "        plt.show()"
   ]
  },
  {
   "cell_type": "code",
   "execution_count": 14,
   "metadata": {},
   "outputs": [],
   "source": [
    "data = pd.read_excel(\"data.xlsx\")"
   ]
  },
  {
   "cell_type": "code",
   "execution_count": 31,
   "metadata": {},
   "outputs": [
    {
     "data": {
      "image/png": "[encoded data removed]",
      "text/plain": [
       "<Figure size 1728x1152 with 132 Axes>"
      ]
     },
     "metadata": {
      "needs_background": "light"
     },
     "output_type": "display_data"
    }
   ],
   "source": [
    "data = data.drop([\"50_target\"], axis=1)\n",
    "data.hist(figsize=(24,16), bins=40, xlabelsize=6, ylabelsize=6)\n",
    "plt.show()"
   ]
  },
  {
   "cell_type": "code",
   "execution_count": 25,
   "metadata": {},
   "outputs": [],
   "source": [
    "data = pd.read_excel(\"data.xlsx\")"
   ]
  },
  {
   "cell_type": "code",
   "execution_count": 26,
   "metadata": {},
   "outputs": [
    {
     "data": {
      "text/plain": [
       "<matplotlib.axes._subplots.AxesSubplot at 0x1c2e68e4b08>"
      ]
     },
     "execution_count": 26,
     "metadata": {},
     "output_type": "execute_result"
    },
    {
     "data": {
      "image/png": "[encoded data removed]",
      "text/plain": [
       "<Figure size 720x432 with 1 Axes>"
      ]
     },
     "metadata": {
      "needs_background": "light"
     },
     "output_type": "display_data"
    }
   ],
   "source": [
    "fig, ax = plt.subplots(figsize=(10,6))        \n",
    "sns.barplot(x=\"50_target\", y=\"90_target\", data=data, ax=ax)"
   ]
  },
  {
   "cell_type": "code",
   "execution_count": 29,
   "metadata": {},
   "outputs": [
    {
     "data": {
      "image/png": "[encoded data removed]",
      "text/plain": [
       "<Figure size 1440x432 with 1 Axes>"
      ]
     },
     "metadata": {
      "needs_background": "light"
     },
     "output_type": "display_data"
    }
   ],
   "source": [
    "plt.figure(figsize=(20,6))\n",
    "data.boxplot()\n",
    "plt.show()"
   ]
  },
  {
   "cell_type": "code",
   "execution_count": 43,
   "metadata": {},
   "outputs": [
    {
     "data": {
      "image/png": "[encoded data removed]",
      "text/plain": [
       "<Figure size 720x576 with 1 Axes>"
      ]
     },
     "metadata": {
      "needs_background": "light"
     },
     "output_type": "display_data"
    }
   ],
   "source": [
    "plt.figure(figsize=(10,8))\n",
    "boxplot_df = data[[\"20_target\", \"90_target\"]]\n",
    "boxplot_df.boxplot()\n",
    "plt.show()"
   ]
  },
  {
   "cell_type": "code",
   "execution_count": 45,
   "metadata": {},
   "outputs": [
    {
     "data": {
      "text/plain": [
       "<matplotlib.axes._subplots.AxesSubplot at 0x1c2f2498d88>"
      ]
     },
     "execution_count": 45,
     "metadata": {},
     "output_type": "execute_result"
    },
    {
     "data": {
      "image/png": "[encoded data removed]",
      "text/plain": [
       "<Figure size 432x288 with 1 Axes>"
      ]
     },
     "metadata": {
      "needs_background": "light"
     },
     "output_type": "display_data"
    }
   ],
   "source": [
    "sns.countplot(x=\"90_target\", data=data) #target variable belirten grafik"
   ]
  },
  {
   "cell_type": "code",
   "execution_count": 47,
   "metadata": {},
   "outputs": [
    {
     "data": {
      "image/png": "[encoded data removed]",
      "text/plain": [
       "<Figure size 360x360 with 1 Axes>"
      ]
     },
     "metadata": {
      "needs_background": "light"
     },
     "output_type": "display_data"
    }
   ],
   "source": [
    "g = sns.lmplot(x=\"90_target\", y=\"20_target\", data=data)"
   ]
  },
  {
   "cell_type": "code",
   "execution_count": 42,
   "metadata": {},
   "outputs": [
    {
     "data": {
      "image/png": "[encoded data removed]",
      "text/plain": [
       "<Figure size 432x288 with 1 Axes>"
      ]
     },
     "metadata": {
      "needs_background": "light"
     },
     "output_type": "display_data"
    }
   ],
   "source": [
    "vs.histogram(data[\"90_target\"])"
   ]
  },
  {
   "cell_type": "code",
   "execution_count": 41,
   "metadata": {},
   "outputs": [
    {
     "data": {
      "image/png": "[encoded data removed]",
      "text/plain": [
       "<Figure size 432x288 with 1 Axes>"
      ]
     },
     "metadata": {
      "needs_background": "light"
     },
     "output_type": "display_data"
    }
   ],
   "source": [
    "vs.histogram(data[\"50_target\"])"
   ]
  },
  {
   "cell_type": "code",
   "execution_count": 34,
   "metadata": {},
   "outputs": [
    {
     "data": {
      "image/png": "[encoded data removed]",
      "text/plain": [
       "<Figure size 720x432 with 1 Axes>"
      ]
     },
     "metadata": {
      "needs_background": "light"
     },
     "output_type": "display_data"
    }
   ],
   "source": [
    "vs.scatterplot(data[\"50_target\"],data[\"90_target\"],\"\")"
   ]
  },
  {
   "cell_type": "code",
   "execution_count": 16,
   "metadata": {},
   "outputs": [],
   "source": [
    "import numpy as np\n",
    "import scipy.stats as stats\n",
    "import pylab "
   ]
  },
  {
   "cell_type": "code",
   "execution_count": 17,
   "metadata": {},
   "outputs": [
    {
     "data": {
      "image/png": "[encoded data removed]",
      "text/plain": [
       "<Figure size 432x288 with 1 Axes>"
      ]
     },
     "metadata": {
      "needs_background": "light"
     },
     "output_type": "display_data"
    }
   ],
   "source": [
    "measurements = np.random.normal(loc = 20, scale = 5, size=50)   \n",
    "stats.probplot(data[\"50_target\"], dist=\"norm\", plot=pylab)\n",
    "pylab.show()"
   ]
  },
  {
   "cell_type": "code",
   "execution_count": 49,
   "metadata": {},
   "outputs": [
    {
     "data": {
      "image/png": "[encoded data removed]",
      "text/plain": [
       "<Figure size 432x288 with 1 Axes>"
      ]
     },
     "metadata": {
      "needs_background": "light"
     },
     "output_type": "display_data"
    }
   ],
   "source": [
    "measurements = np.random.normal(loc = 20, scale = 5, size=50)   \n",
    "stats.probplot(data[\"90_target\"], dist=\"norm\", plot=pylab)\n",
    "pylab.show()"
   ]
  },
  {
   "cell_type": "code",
   "execution_count": 58,
   "metadata": {},
   "outputs": [],
   "source": [
    "import matplotlib.pylab as plt"
   ]
  },
  {
   "cell_type": "code",
   "execution_count": 60,
   "metadata": {},
   "outputs": [
    {
     "data": {
      "image/png": "[encoded data removed]",
      "text/plain": [
       "<Figure size 720x504 with 1 Axes>"
      ]
     },
     "metadata": {
      "needs_background": "light"
     },
     "output_type": "display_data"
    }
   ],
   "source": [
    "plt.figure(figsize = (10, 7)) \n",
    "\n",
    "sns.boxplot(x=\"50_target\", y=\"90_target\", palette=[\"m\", \"r\"],\n",
    "            data=data)\n",
    "sns.despine(offset=10, trim=True)"
   ]
  },
  {
   "cell_type": "code",
   "execution_count": 4,
   "metadata": {},
   "outputs": [],
   "source": [
    "import seaborn as sns\n",
    "import pandas as pd\n",
    "data = pd.read_excel(\"data.xlsx\")\n"
   ]
  },
  {
   "cell_type": "code",
   "execution_count": 5,
   "metadata": {},
   "outputs": [
    {
     "data": {
      "text/plain": [
       "<matplotlib.axes._subplots.AxesSubplot at 0x15fbc2410c8>"
      ]
     },
     "execution_count": 5,
     "metadata": {},
     "output_type": "execute_result"
    },
    {
     "data": {
      "image/png": "[encoded data removed]",
      "text/plain": [
       "<Figure size 432x288 with 1 Axes>"
      ]
     },
     "metadata": {
      "needs_background": "light"
     },
     "output_type": "display_data"
    }
   ],
   "source": [
    "sns.violinplot(x ='50_target', y ='90_target', data = data,color='yellow')"
   ]
  },
  {
   "cell_type": "markdown",
   "metadata": {},
   "source": [
    "# İstatiksel Testler"
   ]
  },
  {
   "cell_type": "code",
   "execution_count": 59,
   "metadata": {},
   "outputs": [],
   "source": [
    "import statsmodels.api as sm\n",
    "import matplotlib.pylab as plt\n",
    "import numpy as np\n",
    "import scipy.stats as stats\n",
    "import pylab "
   ]
  },
  {
   "cell_type": "markdown",
   "metadata": {},
   "source": [
    "# Normallik Testi (Shapiro), Levene Testi, T-testi"
   ]
  },
  {
   "cell_type": "code",
   "execution_count": 161,
   "metadata": {},
   "outputs": [
    {
     "data": {
      "text/plain": [
       "(0.6917874813079834, 0.0)"
      ]
     },
     "execution_count": 161,
     "metadata": {},
     "output_type": "execute_result"
    }
   ],
   "source": [
    "stats.shapiro(data[\"50_target\"])"
   ]
  },
  {
   "cell_type": "code",
   "execution_count": 62,
   "metadata": {},
   "outputs": [
    {
     "data": {
      "text/plain": [
       "(0.6609690189361572, 0.0)"
      ]
     },
     "execution_count": 62,
     "metadata": {},
     "output_type": "execute_result"
    }
   ],
   "source": [
    "stats.shapiro(data[\"90_target\"])"
   ]
  },
  {
   "cell_type": "code",
   "execution_count": 66,
   "metadata": {},
   "outputs": [
    {
     "name": "stdout",
     "output_type": "stream",
     "text": [
      "Statistics:0.661, p=0.000 \n",
      "Orneklem Normal (Gaussian) Dagilimdan gelmemektedir (reject H0)\n"
     ]
    }
   ],
   "source": [
    "stat, p = stats.shapiro(data[\"90_target\"])\n",
    "\n",
    "print(\"Statistics:%3.3f, p=%.3f \" % (stat,p))\n",
    "\n",
    "alpha = 0.05 \n",
    "if p>alpha:\n",
    "  print(\"Orneklem Normal (Gaussian) Dagilimdan gelmektedir (Fail to Reject H0)\")\n",
    "else:\n",
    "  print(\"Orneklem Normal (Gaussian) Dagilimdan gelmemektedir (reject H0)\")"
   ]
  },
  {
   "cell_type": "code",
   "execution_count": 160,
   "metadata": {},
   "outputs": [
    {
     "name": "stdout",
     "output_type": "stream",
     "text": [
      "Statistics:0.692, p=0.000 \n",
      "Orneklem Normal (Gaussian) Dagilimdan gelmemektedir (reject H0)\n"
     ]
    },
    {
     "name": "stderr",
     "output_type": "stream",
     "text": [
      "C:\\ProgramData\\Anaconda3\\lib\\site-packages\\scipy\\stats\\morestats.py:1676: UserWarning: p-value may not be accurate for N > 5000.\n",
      "  warnings.warn(\"p-value may not be accurate for N > 5000.\")\n"
     ]
    }
   ],
   "source": [
    "stat, p = stats.shapiro(data[\"50_target\"])\n",
    "\n",
    "print(\"Statistics:%3.3f, p=%.3f \" % (stat,p))\n",
    "\n",
    "alpha = 0.05 \n",
    "if p>alpha:\n",
    "  print(\"Orneklem Normal (Gaussian) Dagilimdan gelmektedir. (Fail to Reject H0)\")\n",
    "else:\n",
    "  print(\"Orneklem Normal (Gaussian) Dagilimdan gelmemektedir. (reject H0)\")"
   ]
  },
  {
   "cell_type": "raw",
   "metadata": {},
   "source": [
    "# Değişkenlerin normal dağılıma sahip olup olmadığını anlamak için Shapito test yapıldı ve normal dağılıma sahip olmadıkları gözlemlendi."
   ]
  },
  {
   "cell_type": "code",
   "execution_count": 159,
   "metadata": {},
   "outputs": [
    {
     "name": "stdout",
     "output_type": "stream",
     "text": [
      "Statistics:0.519, p=0.000 \n",
      "İki değişkenin varyansı birbirine eşit değildir. (reject H0)\n"
     ]
    }
   ],
   "source": [
    "stats.levene(data[\"90_target\"], data[\"50_target\"])  #Varyansların eşit olup olmadığını anlamak için.\n",
    "\n",
    "print(\"Statistics:%3.3f, p=%.3f \" % (stat,p))\n",
    "\n",
    "alpha = 0.05 \n",
    "if p>alpha:\n",
    "  print(\"İki değişkenin varyansı birbirine eşittir.(Fail to Reject H0)\")\n",
    "else:\n",
    "  print(\"İki değişkenin varyansı birbirine eşit değildir. (reject H0)\")\n"
   ]
  },
  {
   "cell_type": "raw",
   "metadata": {},
   "source": [
    "# Varyansların eşit olup olmadığına bakmak için LEVENE TEST yaparız.Burada eşit olmadığını gözlemledik."
   ]
  },
  {
   "cell_type": "code",
   "execution_count": 24,
   "metadata": {},
   "outputs": [],
   "source": [
    "import scipy.stats as stats"
   ]
  },
  {
   "cell_type": "code",
   "execution_count": 32,
   "metadata": {},
   "outputs": [
    {
     "data": {
      "text/plain": [
       "Ttest_indResult(statistic=-0.6353948302621644, pvalue=0.5251827285261892)"
      ]
     },
     "execution_count": 32,
     "metadata": {},
     "output_type": "execute_result"
    }
   ],
   "source": [
    "#Ortalamalar arasında anlamlı bir fark olup olmadığına baktık.\n",
    "stats.ttest_ind(data['90_target'],data['50_target'],equal_var=True) \n",
    "\n",
    "#H0 : İki değişkenin ortalamaları arasında anlamlı bir fark vardır.(Fail to reject)\n",
    "#H1 : İki değişkenin ortalamaları arasında anlamlı bir fark yoktur.(Reject)"
   ]
  },
  {
   "cell_type": "raw",
   "metadata": {},
   "source": [
    "### Stat değeri > p-value -- H0 hipotezi reddedilir. (Reject)\n",
    "    Stat değeri < p-value -- H0 hipotezi kabul edilir.(Do not reject)\n",
    "    \n",
    "    0.63> 0.52 - H0 hipotezi reddedilir. İki değişkenin ortalamaları arasında anlamlı bir fark yoktur."
   ]
  },
  {
   "cell_type": "markdown",
   "metadata": {},
   "source": [
    "# ANOVA "
   ]
  },
  {
   "cell_type": "code",
   "execution_count": 53,
   "metadata": {},
   "outputs": [],
   "source": [
    "import pandas as pd\n",
    "from scipy.stats import f_oneway"
   ]
  },
  {
   "cell_type": "code",
   "execution_count": 54,
   "metadata": {},
   "outputs": [],
   "source": [
    "data = pd.read_excel(\"data.xlsx\")"
   ]
  },
  {
   "cell_type": "code",
   "execution_count": 61,
   "metadata": {},
   "outputs": [],
   "source": [
    "A = pd.DataFrame([15.13580245,15.14334821,15.14686957,15.15328347,-15.17906484,-15.17692688,-15.17629806,-15.17290247,-15.16497941,-15.16736891,-15.16925535,-15.16648857,-15.16258992,-15.14963635,15.13919804,15.13102346,15.14636652,15.14938483,15.15227737,15.14963635])\n",
    "B = pd.DataFrame([35.62525217,35.64301269,35.65130094,0,-35.7270792,-35.72204705,-35.720567,-35.71257476,-35.69392621,-35.69955038,-35.70399051,-35.69747831,-35.68830204,-35.65781313,0,0,-35.65011691,-35.65722112,-35.66402932,-35.65781313])\n",
    "C = pd.DataFrame([36.99775274,37.01619751,-37.02480507,-37.04048313,-37.10350276,-37.09827674,-37.09673968,-37.08843953,-37.06907252,-37.07491337,-37.07952456,-37.07276148,-37.06323168,-37.03156815,-37.00605289,0,-37.02357542,-37.03095333,-37.03802382,-37.03156815])\n",
    "dfs=[A,B,C]"
   ]
  },
  {
   "cell_type": "code",
   "execution_count": 62,
   "metadata": {},
   "outputs": [
    {
     "data": {
      "text/html": [
       "<div>\n",
       "<style scoped>\n",
       "    .dataframe tbody tr th:only-of-type {\n",
       "        vertical-align: middle;\n",
       "    }\n",
       "\n",
       "    .dataframe tbody tr th {\n",
       "        vertical-align: top;\n",
       "    }\n",
       "\n",
       "    .dataframe thead th {\n",
       "        text-align: right;\n",
       "    }\n",
       "</style>\n",
       "<table border=\"1\" class=\"dataframe\">\n",
       "  <thead>\n",
       "    <tr style=\"text-align: right;\">\n",
       "      <th></th>\n",
       "      <th>count</th>\n",
       "      <th>mean</th>\n",
       "      <th>std</th>\n",
       "      <th>min</th>\n",
       "      <th>25%</th>\n",
       "      <th>50%</th>\n",
       "      <th>75%</th>\n",
       "      <th>max</th>\n",
       "    </tr>\n",
       "  </thead>\n",
       "  <tbody>\n",
       "    <tr>\n",
       "      <th>A</th>\n",
       "      <td>20.0</td>\n",
       "      <td>-0.011916</td>\n",
       "      <td>15.550381</td>\n",
       "      <td>-15.179065</td>\n",
       "      <td>-15.167841</td>\n",
       "      <td>-0.009306</td>\n",
       "      <td>15.146492</td>\n",
       "      <td>15.153283</td>\n",
       "    </tr>\n",
       "    <tr>\n",
       "      <th>B</th>\n",
       "      <td>20.0</td>\n",
       "      <td>-19.636647</td>\n",
       "      <td>27.077841</td>\n",
       "      <td>-35.727079</td>\n",
       "      <td>-35.700660</td>\n",
       "      <td>-35.660921</td>\n",
       "      <td>0.000000</td>\n",
       "      <td>35.651301</td>\n",
       "    </tr>\n",
       "    <tr>\n",
       "      <th>C</th>\n",
       "      <td>20.0</td>\n",
       "      <td>-27.797977</td>\n",
       "      <td>23.652741</td>\n",
       "      <td>-37.103503</td>\n",
       "      <td>-37.076066</td>\n",
       "      <td>-37.039253</td>\n",
       "      <td>-37.024498</td>\n",
       "      <td>37.016198</td>\n",
       "    </tr>\n",
       "  </tbody>\n",
       "</table>\n",
       "</div>"
      ],
      "text/plain": [
       "   count       mean        std        min        25%        50%        75%  \\\n",
       "A   20.0  -0.011916  15.550381 -15.179065 -15.167841  -0.009306  15.146492   \n",
       "B   20.0 -19.636647  27.077841 -35.727079 -35.700660 -35.660921   0.000000   \n",
       "C   20.0 -27.797977  23.652741 -37.103503 -37.076066 -37.039253 -37.024498   \n",
       "\n",
       "         max  \n",
       "A  15.153283  \n",
       "B  35.651301  \n",
       "C  37.016198  "
      ]
     },
     "execution_count": 62,
     "metadata": {},
     "output_type": "execute_result"
    }
   ],
   "source": [
    "\n",
    "ABC= pd.concat(dfs, axis =1)\n",
    "ABC.columns = [\"A\",\"B\",\"C\"]\n",
    "ABC.describe().T"
   ]
  },
  {
   "cell_type": "code",
   "execution_count": 63,
   "metadata": {},
   "outputs": [
    {
     "data": {
      "text/html": [
       "<div>\n",
       "<style scoped>\n",
       "    .dataframe tbody tr th:only-of-type {\n",
       "        vertical-align: middle;\n",
       "    }\n",
       "\n",
       "    .dataframe tbody tr th {\n",
       "        vertical-align: top;\n",
       "    }\n",
       "\n",
       "    .dataframe thead th {\n",
       "        text-align: right;\n",
       "    }\n",
       "</style>\n",
       "<table border=\"1\" class=\"dataframe\">\n",
       "  <thead>\n",
       "    <tr style=\"text-align: right;\">\n",
       "      <th></th>\n",
       "      <th>A</th>\n",
       "      <th>B</th>\n",
       "      <th>C</th>\n",
       "    </tr>\n",
       "  </thead>\n",
       "  <tbody>\n",
       "    <tr>\n",
       "      <th>0</th>\n",
       "      <td>15.135802</td>\n",
       "      <td>35.625252</td>\n",
       "      <td>36.997753</td>\n",
       "    </tr>\n",
       "    <tr>\n",
       "      <th>1</th>\n",
       "      <td>15.143348</td>\n",
       "      <td>35.643013</td>\n",
       "      <td>37.016198</td>\n",
       "    </tr>\n",
       "    <tr>\n",
       "      <th>2</th>\n",
       "      <td>15.146870</td>\n",
       "      <td>35.651301</td>\n",
       "      <td>-37.024805</td>\n",
       "    </tr>\n",
       "    <tr>\n",
       "      <th>3</th>\n",
       "      <td>15.153283</td>\n",
       "      <td>0.000000</td>\n",
       "      <td>-37.040483</td>\n",
       "    </tr>\n",
       "    <tr>\n",
       "      <th>4</th>\n",
       "      <td>-15.179065</td>\n",
       "      <td>-35.727079</td>\n",
       "      <td>-37.103503</td>\n",
       "    </tr>\n",
       "    <tr>\n",
       "      <th>5</th>\n",
       "      <td>-15.176927</td>\n",
       "      <td>-35.722047</td>\n",
       "      <td>-37.098277</td>\n",
       "    </tr>\n",
       "    <tr>\n",
       "      <th>6</th>\n",
       "      <td>-15.176298</td>\n",
       "      <td>-35.720567</td>\n",
       "      <td>-37.096740</td>\n",
       "    </tr>\n",
       "    <tr>\n",
       "      <th>7</th>\n",
       "      <td>-15.172902</td>\n",
       "      <td>-35.712575</td>\n",
       "      <td>-37.088440</td>\n",
       "    </tr>\n",
       "    <tr>\n",
       "      <th>8</th>\n",
       "      <td>-15.164979</td>\n",
       "      <td>-35.693926</td>\n",
       "      <td>-37.069073</td>\n",
       "    </tr>\n",
       "    <tr>\n",
       "      <th>9</th>\n",
       "      <td>-15.167369</td>\n",
       "      <td>-35.699550</td>\n",
       "      <td>-37.074913</td>\n",
       "    </tr>\n",
       "    <tr>\n",
       "      <th>10</th>\n",
       "      <td>-15.169255</td>\n",
       "      <td>-35.703991</td>\n",
       "      <td>-37.079525</td>\n",
       "    </tr>\n",
       "    <tr>\n",
       "      <th>11</th>\n",
       "      <td>-15.166489</td>\n",
       "      <td>-35.697478</td>\n",
       "      <td>-37.072761</td>\n",
       "    </tr>\n",
       "    <tr>\n",
       "      <th>12</th>\n",
       "      <td>-15.162590</td>\n",
       "      <td>-35.688302</td>\n",
       "      <td>-37.063232</td>\n",
       "    </tr>\n",
       "    <tr>\n",
       "      <th>13</th>\n",
       "      <td>-15.149636</td>\n",
       "      <td>-35.657813</td>\n",
       "      <td>-37.031568</td>\n",
       "    </tr>\n",
       "    <tr>\n",
       "      <th>14</th>\n",
       "      <td>15.139198</td>\n",
       "      <td>0.000000</td>\n",
       "      <td>-37.006053</td>\n",
       "    </tr>\n",
       "    <tr>\n",
       "      <th>15</th>\n",
       "      <td>15.131023</td>\n",
       "      <td>0.000000</td>\n",
       "      <td>0.000000</td>\n",
       "    </tr>\n",
       "    <tr>\n",
       "      <th>16</th>\n",
       "      <td>15.146367</td>\n",
       "      <td>-35.650117</td>\n",
       "      <td>-37.023575</td>\n",
       "    </tr>\n",
       "    <tr>\n",
       "      <th>17</th>\n",
       "      <td>15.149385</td>\n",
       "      <td>-35.657221</td>\n",
       "      <td>-37.030953</td>\n",
       "    </tr>\n",
       "    <tr>\n",
       "      <th>18</th>\n",
       "      <td>15.152277</td>\n",
       "      <td>-35.664029</td>\n",
       "      <td>-37.038024</td>\n",
       "    </tr>\n",
       "    <tr>\n",
       "      <th>19</th>\n",
       "      <td>15.149636</td>\n",
       "      <td>-35.657813</td>\n",
       "      <td>-37.031568</td>\n",
       "    </tr>\n",
       "  </tbody>\n",
       "</table>\n",
       "</div>"
      ],
      "text/plain": [
       "            A          B          C\n",
       "0   15.135802  35.625252  36.997753\n",
       "1   15.143348  35.643013  37.016198\n",
       "2   15.146870  35.651301 -37.024805\n",
       "3   15.153283   0.000000 -37.040483\n",
       "4  -15.179065 -35.727079 -37.103503\n",
       "5  -15.176927 -35.722047 -37.098277\n",
       "6  -15.176298 -35.720567 -37.096740\n",
       "7  -15.172902 -35.712575 -37.088440\n",
       "8  -15.164979 -35.693926 -37.069073\n",
       "9  -15.167369 -35.699550 -37.074913\n",
       "10 -15.169255 -35.703991 -37.079525\n",
       "11 -15.166489 -35.697478 -37.072761\n",
       "12 -15.162590 -35.688302 -37.063232\n",
       "13 -15.149636 -35.657813 -37.031568\n",
       "14  15.139198   0.000000 -37.006053\n",
       "15  15.131023   0.000000   0.000000\n",
       "16  15.146367 -35.650117 -37.023575\n",
       "17  15.149385 -35.657221 -37.030953\n",
       "18  15.152277 -35.664029 -37.038024\n",
       "19  15.149636 -35.657813 -37.031568"
      ]
     },
     "execution_count": 63,
     "metadata": {},
     "output_type": "execute_result"
    }
   ],
   "source": [
    "ABC"
   ]
  },
  {
   "cell_type": "code",
   "execution_count": 65,
   "metadata": {},
   "outputs": [],
   "source": [
    "from scipy.stats import shapiro"
   ]
  },
  {
   "cell_type": "code",
   "execution_count": 66,
   "metadata": {},
   "outputs": [
    {
     "name": "stdout",
     "output_type": "stream",
     "text": [
      "A için: \n",
      "Alanı Veren Nokta = 0.642, p = 0.000\n",
      " Örneklem Normal (Gaussian) dağılımdan gelmemektedir (Reject H0) \n",
      "B için: \n",
      "Alanı Veren Nokta = 0.624, p = 0.000\n",
      " Örneklem Normal (Gaussian) dağılımdan gelmemektedir (Reject H0) \n",
      "C için: \n",
      "Alanı Veren Nokta = 0.441, p = 0.000\n",
      " Örneklem Normal (Gaussian) dağılımdan gelmemektedir (Reject H0) \n"
     ]
    }
   ],
   "source": [
    "for i in range(len(ABC.columns)):\n",
    "\n",
    "    stat, p = shapiro(ABC.iloc[:,i])\n",
    "    print(str(ABC.columns[i])+\" için: \")\n",
    "    print('Alanı Veren Nokta = %.3f, p = %.3f' % (stat,p))\n",
    "\n",
    "    #interpret\n",
    "\n",
    "    alpha=0.05\n",
    "    if p> alpha:\n",
    "        print(\" Örneklem Normal (Gaussian) dağılımdan gelmektedir (fail to Reject)\")\n",
    "    else:\n",
    "        print(\" Örneklem Normal (Gaussian) dağılımdan gelmemektedir (Reject H0) \")"
   ]
  },
  {
   "cell_type": "code",
   "execution_count": 68,
   "metadata": {},
   "outputs": [],
   "source": [
    "from scipy.stats import f_oneway"
   ]
  },
  {
   "cell_type": "code",
   "execution_count": 69,
   "metadata": {},
   "outputs": [
    {
     "data": {
      "text/plain": [
       "F_onewayResult(statistic=7.975377614677815, pvalue=0.0008832513407913505)"
      ]
     },
     "execution_count": 69,
     "metadata": {},
     "output_type": "execute_result"
    }
   ],
   "source": [
    "f_oneway(ABC['A'],ABC['B'],ABC['C'])"
   ]
  },
  {
   "cell_type": "raw",
   "metadata": {},
   "source": [
    "### Sonuca göre bulunan değer p değerinden büyüktür.Bu da modeli reddetmemizi sağlar."
   ]
  },
  {
   "cell_type": "markdown",
   "metadata": {},
   "source": [
    "# Regresyon Analizi"
   ]
  },
  {
   "cell_type": "code",
   "execution_count": 102,
   "metadata": {},
   "outputs": [],
   "source": [
    "import numpy as np\n",
    "import scipy.stats as stats\n",
    "from matplotlib.pyplot import plot\n",
    "import pandas as pd\n",
    "import pylab\n",
    "import statsmodels.api as sm \n",
    "import seaborn as sns"
   ]
  },
  {
   "cell_type": "code",
   "execution_count": 103,
   "metadata": {},
   "outputs": [
    {
     "data": {
      "text/html": [
       "<div>\n",
       "<style scoped>\n",
       "    .dataframe tbody tr th:only-of-type {\n",
       "        vertical-align: middle;\n",
       "    }\n",
       "\n",
       "    .dataframe tbody tr th {\n",
       "        vertical-align: top;\n",
       "    }\n",
       "\n",
       "    .dataframe thead th {\n",
       "        text-align: right;\n",
       "    }\n",
       "</style>\n",
       "<table border=\"1\" class=\"dataframe\">\n",
       "  <thead>\n",
       "    <tr style=\"text-align: right;\">\n",
       "      <th></th>\n",
       "      <th>20_target</th>\n",
       "      <th>50_target</th>\n",
       "      <th>90_target</th>\n",
       "    </tr>\n",
       "  </thead>\n",
       "  <tbody>\n",
       "    <tr>\n",
       "      <th>0</th>\n",
       "      <td>15.135802</td>\n",
       "      <td>35.625252</td>\n",
       "      <td>36.997753</td>\n",
       "    </tr>\n",
       "    <tr>\n",
       "      <th>1</th>\n",
       "      <td>15.143348</td>\n",
       "      <td>35.643013</td>\n",
       "      <td>37.016198</td>\n",
       "    </tr>\n",
       "    <tr>\n",
       "      <th>2</th>\n",
       "      <td>15.146870</td>\n",
       "      <td>35.651301</td>\n",
       "      <td>-37.024805</td>\n",
       "    </tr>\n",
       "    <tr>\n",
       "      <th>3</th>\n",
       "      <td>15.153283</td>\n",
       "      <td>0.000000</td>\n",
       "      <td>-37.040483</td>\n",
       "    </tr>\n",
       "    <tr>\n",
       "      <th>4</th>\n",
       "      <td>-15.179065</td>\n",
       "      <td>-35.727079</td>\n",
       "      <td>-37.103503</td>\n",
       "    </tr>\n",
       "  </tbody>\n",
       "</table>\n",
       "</div>"
      ],
      "text/plain": [
       "   20_target  50_target  90_target\n",
       "0  15.135802  35.625252  36.997753\n",
       "1  15.143348  35.643013  37.016198\n",
       "2  15.146870  35.651301 -37.024805\n",
       "3  15.153283   0.000000 -37.040483\n",
       "4 -15.179065 -35.727079 -37.103503"
      ]
     },
     "execution_count": 103,
     "metadata": {},
     "output_type": "execute_result"
    }
   ],
   "source": [
    "ad = pd.read_excel(\"data.xlsx\",usecols=[133,134,135])\n",
    "data = ad.copy()\n",
    "data.head()"
   ]
  },
  {
   "cell_type": "code",
   "execution_count": 104,
   "metadata": {},
   "outputs": [
    {
     "data": {
      "text/plain": [
       "(6167, 3)"
      ]
     },
     "execution_count": 104,
     "metadata": {},
     "output_type": "execute_result"
    }
   ],
   "source": [
    "training = data.copy()    #datamızın shapeini gösterir.Toplam 6167 veri ve 135 columns.\n",
    "training.shape"
   ]
  },
  {
   "cell_type": "code",
   "execution_count": 105,
   "metadata": {},
   "outputs": [
    {
     "name": "stdout",
     "output_type": "stream",
     "text": [
      "<class 'pandas.core.frame.DataFrame'>\n",
      "RangeIndex: 6167 entries, 0 to 6166\n",
      "Data columns (total 3 columns):\n",
      " #   Column     Non-Null Count  Dtype  \n",
      "---  ------     --------------  -----  \n",
      " 0   20_target  6167 non-null   float64\n",
      " 1   50_target  6167 non-null   float64\n",
      " 2   90_target  6167 non-null   float64\n",
      "dtypes: float64(3)\n",
      "memory usage: 144.7 KB\n"
     ]
    },
    {
     "data": {
      "text/html": [
       "<div>\n",
       "<style scoped>\n",
       "    .dataframe tbody tr th:only-of-type {\n",
       "        vertical-align: middle;\n",
       "    }\n",
       "\n",
       "    .dataframe tbody tr th {\n",
       "        vertical-align: top;\n",
       "    }\n",
       "\n",
       "    .dataframe thead th {\n",
       "        text-align: right;\n",
       "    }\n",
       "</style>\n",
       "<table border=\"1\" class=\"dataframe\">\n",
       "  <thead>\n",
       "    <tr style=\"text-align: right;\">\n",
       "      <th></th>\n",
       "      <th>count</th>\n",
       "      <th>mean</th>\n",
       "      <th>std</th>\n",
       "      <th>min</th>\n",
       "      <th>25%</th>\n",
       "      <th>50%</th>\n",
       "      <th>75%</th>\n",
       "      <th>max</th>\n",
       "    </tr>\n",
       "  </thead>\n",
       "  <tbody>\n",
       "    <tr>\n",
       "      <th>20_target</th>\n",
       "      <td>6167.0</td>\n",
       "      <td>-0.057102</td>\n",
       "      <td>14.834497</td>\n",
       "      <td>-15.780588</td>\n",
       "      <td>-15.350354</td>\n",
       "      <td>0.000000</td>\n",
       "      <td>15.385945</td>\n",
       "      <td>15.768767</td>\n",
       "    </tr>\n",
       "    <tr>\n",
       "      <th>50_target</th>\n",
       "      <td>6167.0</td>\n",
       "      <td>-2.906358</td>\n",
       "      <td>34.559778</td>\n",
       "      <td>-37.142889</td>\n",
       "      <td>-36.208094</td>\n",
       "      <td>-34.267756</td>\n",
       "      <td>35.879524</td>\n",
       "      <td>37.038694</td>\n",
       "    </tr>\n",
       "    <tr>\n",
       "      <th>90_target</th>\n",
       "      <td>6167.0</td>\n",
       "      <td>-3.315072</td>\n",
       "      <td>36.841541</td>\n",
       "      <td>-38.573858</td>\n",
       "      <td>-37.695273</td>\n",
       "      <td>-35.788391</td>\n",
       "      <td>37.521892</td>\n",
       "      <td>38.465649</td>\n",
       "    </tr>\n",
       "  </tbody>\n",
       "</table>\n",
       "</div>"
      ],
      "text/plain": [
       "            count      mean        std        min        25%        50%  \\\n",
       "20_target  6167.0 -0.057102  14.834497 -15.780588 -15.350354   0.000000   \n",
       "50_target  6167.0 -2.906358  34.559778 -37.142889 -36.208094 -34.267756   \n",
       "90_target  6167.0 -3.315072  36.841541 -38.573858 -37.695273 -35.788391   \n",
       "\n",
       "                 75%        max  \n",
       "20_target  15.385945  15.768767  \n",
       "50_target  35.879524  37.038694  \n",
       "90_target  37.521892  38.465649  "
      ]
     },
     "execution_count": 105,
     "metadata": {},
     "output_type": "execute_result"
    }
   ],
   "source": [
    "data.info()\n",
    "data.describe().T"
   ]
  },
  {
   "cell_type": "code",
   "execution_count": 106,
   "metadata": {},
   "outputs": [
    {
     "data": {
      "text/plain": [
       "False"
      ]
     },
     "execution_count": 106,
     "metadata": {},
     "output_type": "execute_result"
    }
   ],
   "source": [
    "data.isnull().values.any()"
   ]
  },
  {
   "cell_type": "code",
   "execution_count": 107,
   "metadata": {},
   "outputs": [
    {
     "data": {
      "text/html": [
       "<div>\n",
       "<style scoped>\n",
       "    .dataframe tbody tr th:only-of-type {\n",
       "        vertical-align: middle;\n",
       "    }\n",
       "\n",
       "    .dataframe tbody tr th {\n",
       "        vertical-align: top;\n",
       "    }\n",
       "\n",
       "    .dataframe thead th {\n",
       "        text-align: right;\n",
       "    }\n",
       "</style>\n",
       "<table border=\"1\" class=\"dataframe\">\n",
       "  <thead>\n",
       "    <tr style=\"text-align: right;\">\n",
       "      <th></th>\n",
       "      <th>20_target</th>\n",
       "      <th>50_target</th>\n",
       "      <th>90_target</th>\n",
       "    </tr>\n",
       "  </thead>\n",
       "  <tbody>\n",
       "    <tr>\n",
       "      <th>20_target</th>\n",
       "      <td>1.000000</td>\n",
       "      <td>0.384076</td>\n",
       "      <td>0.355950</td>\n",
       "    </tr>\n",
       "    <tr>\n",
       "      <th>50_target</th>\n",
       "      <td>0.384076</td>\n",
       "      <td>1.000000</td>\n",
       "      <td>0.940916</td>\n",
       "    </tr>\n",
       "    <tr>\n",
       "      <th>90_target</th>\n",
       "      <td>0.355950</td>\n",
       "      <td>0.940916</td>\n",
       "      <td>1.000000</td>\n",
       "    </tr>\n",
       "  </tbody>\n",
       "</table>\n",
       "</div>"
      ],
      "text/plain": [
       "           20_target  50_target  90_target\n",
       "20_target   1.000000   0.384076   0.355950\n",
       "50_target   0.384076   1.000000   0.940916\n",
       "90_target   0.355950   0.940916   1.000000"
      ]
     },
     "execution_count": 107,
     "metadata": {},
     "output_type": "execute_result"
    }
   ],
   "source": [
    "data.corr()"
   ]
  },
  {
   "cell_type": "code",
   "execution_count": 8,
   "metadata": {},
   "outputs": [
    {
     "data": {
      "text/plain": [
       "<seaborn.axisgrid.JointGrid at 0x1fcf0641888>"
      ]
     },
     "execution_count": 8,
     "metadata": {},
     "output_type": "execute_result"
    },
    {
     "data": {
      "image/png": "[encoded data removed]",
      "text/plain": [
       "<Figure size 360x360 with 6 Axes>"
      ]
     },
     "metadata": {
      "needs_background": "light"
     },
     "output_type": "display_data"
    },
    {
     "data": {
      "image/png": "[encoded data removed]",
      "text/plain": [
       "<Figure size 360x360 with 6 Axes>"
      ]
     },
     "metadata": {
      "needs_background": "light"
     },
     "output_type": "display_data"
    },
    {
     "data": {
      "image/png": "[encoded data removed]",
      "text/plain": [
       "<Figure size 432x432 with 3 Axes>"
      ]
     },
     "metadata": {
      "needs_background": "light"
     },
     "output_type": "display_data"
    }
   ],
   "source": [
    "sns.pairplot(data,kind=\"reg\") # fit linear regression models to the scatter plots\n",
    "sns.pairplot (data,kind = \"scatter\")\n",
    "sns.jointplot(x = \"50_target\",y = \"90_target\",data = data , kind=\"reg\")"
   ]
  },
  {
   "cell_type": "code",
   "execution_count": 108,
   "metadata": {},
   "outputs": [],
   "source": [
    "import scipy.stats as stats\n",
    "import pylab"
   ]
  },
  {
   "cell_type": "code",
   "execution_count": 109,
   "metadata": {},
   "outputs": [
    {
     "data": {
      "image/png": "[encoded data removed]",
      "text/plain": [
       "<Figure size 432x288 with 1 Axes>"
      ]
     },
     "metadata": {
      "needs_background": "light"
     },
     "output_type": "display_data"
    }
   ],
   "source": [
    "stats.probplot(data[\"90_target\"],dist = \"norm\",plot = pylab)\n",
    "pylab.show()"
   ]
  },
  {
   "cell_type": "code",
   "execution_count": 112,
   "metadata": {},
   "outputs": [
    {
     "data": {
      "text/plain": [
       "0    35.625252\n",
       "1    35.643013\n",
       "2    35.651301\n",
       "3     0.000000\n",
       "4   -35.727079\n",
       "Name: 50_target, dtype: float64"
      ]
     },
     "execution_count": 112,
     "metadata": {},
     "output_type": "execute_result"
    }
   ],
   "source": [
    "#basit linear regresyon\n",
    "import statsmodels.api as sm\n",
    "X = data[[\"90_target\"]]\n",
    "X[0:5]\n",
    "X=sm.add_constant(X) # sabit bir değer atıyor , b0 olarak\n",
    "X[0:5]\n",
    "\n",
    "y = data[\"50_target\"]\n",
    "y[0:5]"
   ]
  },
  {
   "cell_type": "code",
   "execution_count": 113,
   "metadata": {},
   "outputs": [
    {
     "data": {
      "text/plain": [
       "0    15.135802\n",
       "1    15.143348\n",
       "2    15.146870\n",
       "3    15.153283\n",
       "4   -15.179065\n",
       "Name: 20_target, dtype: float64"
      ]
     },
     "execution_count": 113,
     "metadata": {},
     "output_type": "execute_result"
    }
   ],
   "source": [
    "import statsmodels.api as sm\n",
    "X = data[[\"90_target\"]]\n",
    "X[0:5]\n",
    "X=sm.add_constant(X) # sabit bir değer atıyor , b0 olarak\n",
    "X[0:5]\n",
    "\n",
    "y = data[\"20_target\"]\n",
    "y[0:5]"
   ]
  },
  {
   "cell_type": "code",
   "execution_count": 114,
   "metadata": {},
   "outputs": [
    {
     "data": {
      "text/html": [
       "<table class=\"simpletable\">\n",
       "<caption>OLS Regression Results</caption>\n",
       "<tr>\n",
       "  <th>Dep. Variable:</th>        <td>20_target</td>    <th>  R-squared:         </th> <td>   0.127</td> \n",
       "</tr>\n",
       "<tr>\n",
       "  <th>Model:</th>                   <td>OLS</td>       <th>  Adj. R-squared:    </th> <td>   0.127</td> \n",
       "</tr>\n",
       "<tr>\n",
       "  <th>Method:</th>             <td>Least Squares</td>  <th>  F-statistic:       </th> <td>   894.4</td> \n",
       "</tr>\n",
       "<tr>\n",
       "  <th>Date:</th>             <td>Thu, 23 Jul 2020</td> <th>  Prob (F-statistic):</th> <td>1.23e-183</td>\n",
       "</tr>\n",
       "<tr>\n",
       "  <th>Time:</th>                 <td>01:07:20</td>     <th>  Log-Likelihood:    </th> <td> -24964.</td> \n",
       "</tr>\n",
       "<tr>\n",
       "  <th>No. Observations:</th>      <td>  6167</td>      <th>  AIC:               </th> <td>4.993e+04</td>\n",
       "</tr>\n",
       "<tr>\n",
       "  <th>Df Residuals:</th>          <td>  6165</td>      <th>  BIC:               </th> <td>4.995e+04</td>\n",
       "</tr>\n",
       "<tr>\n",
       "  <th>Df Model:</th>              <td>     1</td>      <th>                     </th>     <td> </td>    \n",
       "</tr>\n",
       "<tr>\n",
       "  <th>Covariance Type:</th>      <td>nonrobust</td>    <th>                     </th>     <td> </td>    \n",
       "</tr>\n",
       "</table>\n",
       "<table class=\"simpletable\">\n",
       "<tr>\n",
       "      <td></td>         <th>coef</th>     <th>std err</th>      <th>t</th>      <th>P>|t|</th>  <th>[0.025</th>    <th>0.975]</th>  \n",
       "</tr>\n",
       "<tr>\n",
       "  <th>const</th>     <td>    0.4180</td> <td>    0.177</td> <td>    2.358</td> <td> 0.018</td> <td>    0.071</td> <td>    0.766</td>\n",
       "</tr>\n",
       "<tr>\n",
       "  <th>90_target</th> <td>    0.1433</td> <td>    0.005</td> <td>   29.907</td> <td> 0.000</td> <td>    0.134</td> <td>    0.153</td>\n",
       "</tr>\n",
       "</table>\n",
       "<table class=\"simpletable\">\n",
       "<tr>\n",
       "  <th>Omnibus:</th>       <td>71107.274</td> <th>  Durbin-Watson:     </th> <td>   0.840</td> \n",
       "</tr>\n",
       "<tr>\n",
       "  <th>Prob(Omnibus):</th>  <td> 0.000</td>   <th>  Jarque-Bera (JB):  </th> <td> 491.005</td> \n",
       "</tr>\n",
       "<tr>\n",
       "  <th>Skew:</th>           <td> 0.010</td>   <th>  Prob(JB):          </th> <td>2.40e-107</td>\n",
       "</tr>\n",
       "<tr>\n",
       "  <th>Kurtosis:</th>       <td> 1.618</td>   <th>  Cond. No.          </th> <td>    37.1</td> \n",
       "</tr>\n",
       "</table><br/><br/>Warnings:<br/>[1] Standard Errors assume that the covariance matrix of the errors is correctly specified."
      ],
      "text/plain": [
       "<class 'statsmodels.iolib.summary.Summary'>\n",
       "\"\"\"\n",
       "                            OLS Regression Results                            \n",
       "==============================================================================\n",
       "Dep. Variable:              20_target   R-squared:                       0.127\n",
       "Model:                            OLS   Adj. R-squared:                  0.127\n",
       "Method:                 Least Squares   F-statistic:                     894.4\n",
       "Date:                Thu, 23 Jul 2020   Prob (F-statistic):          1.23e-183\n",
       "Time:                        01:07:20   Log-Likelihood:                -24964.\n",
       "No. Observations:                6167   AIC:                         4.993e+04\n",
       "Df Residuals:                    6165   BIC:                         4.995e+04\n",
       "Df Model:                           1                                         \n",
       "Covariance Type:            nonrobust                                         \n",
       "==============================================================================\n",
       "                 coef    std err          t      P>|t|      [0.025      0.975]\n",
       "------------------------------------------------------------------------------\n",
       "const          0.4180      0.177      2.358      0.018       0.071       0.766\n",
       "90_target      0.1433      0.005     29.907      0.000       0.134       0.153\n",
       "==============================================================================\n",
       "Omnibus:                    71107.274   Durbin-Watson:                   0.840\n",
       "Prob(Omnibus):                  0.000   Jarque-Bera (JB):              491.005\n",
       "Skew:                           0.010   Prob(JB):                    2.40e-107\n",
       "Kurtosis:                       1.618   Cond. No.                         37.1\n",
       "==============================================================================\n",
       "\n",
       "Warnings:\n",
       "[1] Standard Errors assume that the covariance matrix of the errors is correctly specified.\n",
       "\"\"\""
      ]
     },
     "execution_count": 114,
     "metadata": {},
     "output_type": "execute_result"
    }
   ],
   "source": [
    "lm= sm.OLS(y,X) # burada normalite varsayımına gerek duymuyoruz.\n",
    "model = lm.fit()\n",
    "model.summary()"
   ]
  },
  {
   "cell_type": "code",
   "execution_count": 12,
   "metadata": {},
   "outputs": [
    {
     "data": {
      "text/html": [
       "<table class=\"simpletable\">\n",
       "<caption>OLS Regression Results</caption>\n",
       "<tr>\n",
       "  <th>Dep. Variable:</th>        <td>50_target</td>    <th>  R-squared:         </th> <td>   0.885</td> \n",
       "</tr>\n",
       "<tr>\n",
       "  <th>Model:</th>                   <td>OLS</td>       <th>  Adj. R-squared:    </th> <td>   0.885</td> \n",
       "</tr>\n",
       "<tr>\n",
       "  <th>Method:</th>             <td>Least Squares</td>  <th>  F-statistic:       </th> <td>4.759e+04</td>\n",
       "</tr>\n",
       "<tr>\n",
       "  <th>Date:</th>             <td>Wed, 22 Jul 2020</td> <th>  Prob (F-statistic):</th>  <td>  0.00</td>  \n",
       "</tr>\n",
       "<tr>\n",
       "  <th>Time:</th>                 <td>15:14:13</td>     <th>  Log-Likelihood:    </th> <td> -23920.</td> \n",
       "</tr>\n",
       "<tr>\n",
       "  <th>No. Observations:</th>      <td>  6167</td>      <th>  AIC:               </th> <td>4.784e+04</td>\n",
       "</tr>\n",
       "<tr>\n",
       "  <th>Df Residuals:</th>          <td>  6165</td>      <th>  BIC:               </th> <td>4.786e+04</td>\n",
       "</tr>\n",
       "<tr>\n",
       "  <th>Df Model:</th>              <td>     1</td>      <th>                     </th>     <td> </td>    \n",
       "</tr>\n",
       "<tr>\n",
       "  <th>Covariance Type:</th>      <td>nonrobust</td>    <th>                     </th>     <td> </td>    \n",
       "</tr>\n",
       "</table>\n",
       "<table class=\"simpletable\">\n",
       "<tr>\n",
       "      <td></td>         <th>coef</th>     <th>std err</th>      <th>t</th>      <th>P>|t|</th>  <th>[0.025</th>    <th>0.975]</th>  \n",
       "</tr>\n",
       "<tr>\n",
       "  <th>const</th>     <td>    0.0197</td> <td>    0.150</td> <td>    0.131</td> <td> 0.895</td> <td>   -0.274</td> <td>    0.313</td>\n",
       "</tr>\n",
       "<tr>\n",
       "  <th>90_target</th> <td>    0.8826</td> <td>    0.004</td> <td>  218.162</td> <td> 0.000</td> <td>    0.875</td> <td>    0.891</td>\n",
       "</tr>\n",
       "</table>\n",
       "<table class=\"simpletable\">\n",
       "<tr>\n",
       "  <th>Omnibus:</th>       <td>1495.009</td> <th>  Durbin-Watson:     </th> <td>   1.113</td> \n",
       "</tr>\n",
       "<tr>\n",
       "  <th>Prob(Omnibus):</th>  <td> 0.000</td>  <th>  Jarque-Bera (JB):  </th> <td>83378.368</td>\n",
       "</tr>\n",
       "<tr>\n",
       "  <th>Skew:</th>           <td> 0.215</td>  <th>  Prob(JB):          </th> <td>    0.00</td> \n",
       "</tr>\n",
       "<tr>\n",
       "  <th>Kurtosis:</th>       <td>21.008</td>  <th>  Cond. No.          </th> <td>    37.1</td> \n",
       "</tr>\n",
       "</table><br/><br/>Warnings:<br/>[1] Standard Errors assume that the covariance matrix of the errors is correctly specified."
      ],
      "text/plain": [
       "<class 'statsmodels.iolib.summary.Summary'>\n",
       "\"\"\"\n",
       "                            OLS Regression Results                            \n",
       "==============================================================================\n",
       "Dep. Variable:              50_target   R-squared:                       0.885\n",
       "Model:                            OLS   Adj. R-squared:                  0.885\n",
       "Method:                 Least Squares   F-statistic:                 4.759e+04\n",
       "Date:                Wed, 22 Jul 2020   Prob (F-statistic):               0.00\n",
       "Time:                        15:14:13   Log-Likelihood:                -23920.\n",
       "No. Observations:                6167   AIC:                         4.784e+04\n",
       "Df Residuals:                    6165   BIC:                         4.786e+04\n",
       "Df Model:                           1                                         \n",
       "Covariance Type:            nonrobust                                         \n",
       "==============================================================================\n",
       "                 coef    std err          t      P>|t|      [0.025      0.975]\n",
       "------------------------------------------------------------------------------\n",
       "const          0.0197      0.150      0.131      0.895      -0.274       0.313\n",
       "90_target      0.8826      0.004    218.162      0.000       0.875       0.891\n",
       "==============================================================================\n",
       "Omnibus:                     1495.009   Durbin-Watson:                   1.113\n",
       "Prob(Omnibus):                  0.000   Jarque-Bera (JB):            83378.368\n",
       "Skew:                           0.215   Prob(JB):                         0.00\n",
       "Kurtosis:                      21.008   Cond. No.                         37.1\n",
       "==============================================================================\n",
       "\n",
       "Warnings:\n",
       "[1] Standard Errors assume that the covariance matrix of the errors is correctly specified.\n",
       "\"\"\""
      ]
     },
     "execution_count": 12,
     "metadata": {},
     "output_type": "execute_result"
    }
   ],
   "source": [
    "lm= sm.OLS(y,X) # burada normalite varsayımına gerek duymuyoruz.\n",
    "model = lm.fit()\n",
    "model.summary()\n"
   ]
  },
  {
   "cell_type": "raw",
   "metadata": {},
   "source": [
    "# y (50_target) = B0(0.0197 )+ 0.8826(90_target)"
   ]
  },
  {
   "cell_type": "raw",
   "metadata": {},
   "source": [
    "# %88 oranında kurduğum regresyon modeli içerdeki dataların varyasyonlarını açıklamakta yeterlidir.. F-statistic değeri yüksektir. B1 değeri 0 dan farklı ve anlamlıdır.90_target değeri anlamlıdır."
   ]
  },
  {
   "cell_type": "code",
   "execution_count": 83,
   "metadata": {},
   "outputs": [],
   "source": [
    "lm= sm.OLS(y,X) \n",
    "model = lm.fit()"
   ]
  },
  {
   "cell_type": "code",
   "execution_count": 91,
   "metadata": {},
   "outputs": [
    {
     "data": {
      "text/plain": [
       "<statsmodels.stats.outliers_influence.OLSInfluence at 0x1c2848e60c8>"
      ]
     },
     "execution_count": 91,
     "metadata": {},
     "output_type": "execute_result"
    }
   ],
   "source": [
    "influence = model.get_influence()\n",
    "influence"
   ]
  },
  {
   "cell_type": "code",
   "execution_count": 92,
   "metadata": {},
   "outputs": [],
   "source": [
    "resid_student= influence.resid_studentized_external"
   ]
  },
  {
   "cell_type": "code",
   "execution_count": 93,
   "metadata": {},
   "outputs": [],
   "source": [
    "import seaborn as sns"
   ]
  },
  {
   "cell_type": "code",
   "execution_count": 99,
   "metadata": {},
   "outputs": [
    {
     "ename": "AttributeError",
     "evalue": "'OLSInfluence' object has no attribute 'datafits'",
     "output_type": "error",
     "traceback": [
      "\u001b[1;31m---------------------------------------------------------------------------\u001b[0m",
      "\u001b[1;31mAttributeError\u001b[0m                            Traceback (most recent call last)",
      "\u001b[1;32m<ipython-input-99-3485fc0a717e>\u001b[0m in \u001b[0;36m<module>\u001b[1;34m\u001b[0m\n\u001b[0;32m      1\u001b[0m \u001b[1;33m(\u001b[0m\u001b[0mcooks\u001b[0m\u001b[1;33m,\u001b[0m \u001b[0mp\u001b[0m\u001b[1;33m)\u001b[0m \u001b[1;33m=\u001b[0m \u001b[0minfluence\u001b[0m\u001b[1;33m.\u001b[0m\u001b[0mcooks_distance\u001b[0m \u001b[1;31m#noktalarımın olması gerekenden mesafesi\u001b[0m\u001b[1;33m\u001b[0m\u001b[1;33m\u001b[0m\u001b[0m\n\u001b[1;32m----> 2\u001b[1;33m \u001b[1;33m(\u001b[0m\u001b[0mdatafits\u001b[0m\u001b[1;33m,\u001b[0m \u001b[0mp\u001b[0m\u001b[1;33m)\u001b[0m \u001b[1;33m=\u001b[0m \u001b[0minfluence\u001b[0m\u001b[1;33m.\u001b[0m\u001b[0mdatafits\u001b[0m\u001b[1;33m\u001b[0m\u001b[1;33m\u001b[0m\u001b[0m\n\u001b[0m\u001b[0;32m      3\u001b[0m \u001b[0mleverage\u001b[0m \u001b[1;33m=\u001b[0m \u001b[0minfluence\u001b[0m\u001b[1;33m.\u001b[0m\u001b[0mhat_matrix_diag\u001b[0m\u001b[1;33m\u001b[0m\u001b[1;33m\u001b[0m\u001b[0m\n\u001b[0;32m      4\u001b[0m \u001b[0mprint\u001b[0m \u001b[1;33m(\u001b[0m\u001b[1;34m'Leverage vs Studentized Residuals'\u001b[0m\u001b[1;33m)\u001b[0m  \u001b[1;31m#Leverage:olması gereken errorlar ile benimkiler arasındaki fark.\u001b[0m\u001b[1;33m\u001b[0m\u001b[1;33m\u001b[0m\u001b[0m\n\u001b[0;32m      5\u001b[0m \u001b[0msns\u001b[0m\u001b[1;33m.\u001b[0m\u001b[0mregplot\u001b[0m \u001b[1;33m(\u001b[0m\u001b[0mleverage\u001b[0m\u001b[1;33m,\u001b[0m \u001b[0mmodel\u001b[0m\u001b[1;33m.\u001b[0m\u001b[0mresid_pearson\u001b[0m\u001b[1;33m,\u001b[0m \u001b[0mfit_reg\u001b[0m\u001b[1;33m=\u001b[0m \u001b[1;32mFalse\u001b[0m\u001b[1;33m)\u001b[0m\u001b[1;33m\u001b[0m\u001b[1;33m\u001b[0m\u001b[0m\n",
      "\u001b[1;31mAttributeError\u001b[0m: 'OLSInfluence' object has no attribute 'datafits'"
     ]
    }
   ],
   "source": [
    "(cooks, p) = influence.cooks_distance #noktalarımın olması gerekenden mesafesi \n",
    "(datafits, p) = influence.datafits\n",
    "leverage = influence.hat_matrix_diag\n",
    "print ('Leverage vs Studentized Residuals')  #Leverage:olması gereken errorlar ile benimkiler arasındaki fark.\n",
    "sns.regplot (leverage, model.resid_pearson, fit_reg= False)   #hata terimlerimdeki aşırı gözlemleri gösteren bir grafik çıkacak."
   ]
  },
  {
   "cell_type": "code",
   "execution_count": 100,
   "metadata": {},
   "outputs": [],
   "source": [
    "import numpy as np\n",
    "import pandas as pd\n",
    "import seaborn as sns"
   ]
  },
  {
   "cell_type": "code",
   "execution_count": 101,
   "metadata": {},
   "outputs": [
    {
     "data": {
      "text/plain": [
       "<matplotlib.axes._subplots.AxesSubplot at 0x1c288f62a08>"
      ]
     },
     "execution_count": 101,
     "metadata": {},
     "output_type": "execute_result"
    },
    {
     "data": {
      "image/png": "[encoded data removed]",
      "text/plain": [
       "<Figure size 432x288 with 1 Axes>"
      ]
     },
     "metadata": {
      "needs_background": "light"
     },
     "output_type": "display_data"
    }
   ],
   "source": [
    "### Residual yani artık değerler için normalite testlerinin yapılması.\n",
    "#Model residuallarından tahmin ettiklerimizi getirmesini istedik.\n",
    "advres = pd.concat([ad, pd.Series (model.resid, name= 'resid'), pd.Series (model.predict() , name= \"predict\")] ,axis=1)\n",
    "sns.kdeplot (np.array (advres.resid), bw=10)\n"
   ]
  },
  {
   "cell_type": "code",
   "execution_count": 118,
   "metadata": {},
   "outputs": [
    {
     "data": {
      "text/plain": [
       "<matplotlib.axes._subplots.AxesSubplot at 0x1c2853fd548>"
      ]
     },
     "execution_count": 118,
     "metadata": {},
     "output_type": "execute_result"
    },
    {
     "data": {
      "image/png": "[encoded data removed]",
      "text/plain": [
       "<Figure size 432x288 with 1 Axes>"
      ]
     },
     "metadata": {
      "needs_background": "light"
     },
     "output_type": "display_data"
    }
   ],
   "source": [
    "sns.distplot(np.array (advres.resid), hist=False)   "
   ]
  },
  {
   "cell_type": "raw",
   "metadata": {},
   "source": [
    "#Residual değerlerim -80 ve 60 arasında dağılıyor. -80 ve 0 arasında değerler çok aşağıda burada aşırı hatalar görüyoruz.Modelim buraları tahmin etmede sorunlar yaşıyor ve çok iyi çalışmıyor sonucuna varabiliriz."
   ]
  },
  {
   "cell_type": "code",
   "execution_count": 119,
   "metadata": {},
   "outputs": [
    {
     "data": {
      "image/png": "[encoded data removed]",
      "text/plain": [
       "<Figure size 432x288 with 1 Axes>"
      ]
     },
     "metadata": {
      "needs_background": "light"
     },
     "output_type": "display_data"
    }
   ],
   "source": [
    "import pylab     #Normal dağılımdan gelip gelmediğine bakacağız.\n",
    "stats.probplot(advres.resid, dist=\"norm\" , plot= pylab)\n",
    "pylab.show()"
   ]
  },
  {
   "cell_type": "raw",
   "metadata": {},
   "source": [
    "#Burada modeldeki error değerlerin olması gerektiği gibi standart dağılıma sahip olmadığını görüyoruz ve çok fazla aykırı gözlem olduğunu saptıyoruz."
   ]
  },
  {
   "cell_type": "code",
   "execution_count": 121,
   "metadata": {},
   "outputs": [
    {
     "data": {
      "text/plain": [
       "DescribeResult(nobs=6167, minmax=(-70.49171944782628, 70.18801766381678), mean=-3.0601613526493047e-15, variance=136.96787619560297, skewness=0.2148242962949994, kurtosis=18.00826082296641)"
      ]
     },
     "execution_count": 121,
     "metadata": {},
     "output_type": "execute_result"
    }
   ],
   "source": [
    "stats.describe(advres.resid)"
   ]
  },
  {
   "cell_type": "code",
   "execution_count": 120,
   "metadata": {},
   "outputs": [
    {
     "name": "stdout",
     "output_type": "stream",
     "text": [
      "Errorlar normal dağılımdan gelmemektedir.(Reject H0)\n"
     ]
    },
    {
     "name": "stderr",
     "output_type": "stream",
     "text": [
      "C:\\ProgramData\\Anaconda3\\lib\\site-packages\\scipy\\stats\\morestats.py:1676: UserWarning: p-value may not be accurate for N > 5000.\n",
      "  warnings.warn(\"p-value may not be accurate for N > 5000.\")\n"
     ]
    }
   ],
   "source": [
    "#Hatalarımın normal dağılımdan gelip gelmediğini üstteki grafiklerden anlamaya çalıştık ama Shapiro Test ile kanıtlayacağız.\n",
    "\n",
    "from scipy.stats import shapiro\n",
    "stat, p= shapiro(advres.resid)\n",
    "alpha =0.05\n",
    "if p > alpha:\n",
    "    print ('Errorlar normal dağılımdan gelmektedir.(Fail to reject H0)')\n",
    "else:\n",
    "    print ('Errorlar normal dağılımdan gelmemektedir.(Reject H0)')\n"
   ]
  },
  {
   "cell_type": "raw",
   "metadata": {},
   "source": [
    "## Modelde hatalar normal dağılımdan gelmemektedir,modelin açıklayıcılığı düşüktür."
   ]
  },
  {
   "cell_type": "code",
   "execution_count": 135,
   "metadata": {},
   "outputs": [
    {
     "data": {
      "text/plain": [
       "<matplotlib.collections.PathCollection at 0x1c2849cb288>"
      ]
     },
     "execution_count": 135,
     "metadata": {},
     "output_type": "execute_result"
    },
    {
     "data": {
      "image/png": "[encoded data removed]",
      "text/plain": [
       "<Figure size 432x288 with 1 Axes>"
      ]
     },
     "metadata": {
      "needs_background": "light"
     },
     "output_type": "display_data"
    }
   ],
   "source": [
    "resid = model.resid  #prediction yaptıktan sonra errorlar nasıl dağılıyor,bunu gösterir.Küçük gözlemlerimde daha aşırı değerlere rastlıyorum.\n",
    "plt.scatter(model.predict() , resid )"
   ]
  },
  {
   "cell_type": "code",
   "execution_count": 165,
   "metadata": {},
   "outputs": [],
   "source": [
    "import matplotlib.pyplot as plt"
   ]
  },
  {
   "cell_type": "code",
   "execution_count": 166,
   "metadata": {},
   "outputs": [
    {
     "data": {
      "text/plain": [
       "[<matplotlib.lines.Line2D at 0x1c284bf2388>,\n",
       " <matplotlib.lines.Line2D at 0x1c284c1a1c8>]"
      ]
     },
     "execution_count": 166,
     "metadata": {},
     "output_type": "execute_result"
    },
    {
     "data": {
      "image/png": "[encoded data removed]",
      "text/plain": [
       "<Figure size 432x288 with 1 Axes>"
      ]
     },
     "metadata": {
      "needs_background": "light"
     },
     "output_type": "display_data"
    }
   ],
   "source": [
    "plt.plot(model.resid)"
   ]
  },
  {
   "cell_type": "code",
   "execution_count": 26,
   "metadata": {},
   "outputs": [
    {
     "data": {
      "text/plain": [
       "Text(0.5, 0, '90_target')"
      ]
     },
     "execution_count": 26,
     "metadata": {},
     "output_type": "execute_result"
    },
    {
     "data": {
      "image/png": "[encoded data removed]",
      "text/plain": [
       "<Figure size 432x288 with 1 Axes>"
      ]
     },
     "metadata": {
      "needs_background": "light"
     },
     "output_type": "display_data"
    }
   ],
   "source": [
    "g = sns.regplot(data[\"50_target\"] , data[\"90_target\"] , ci=None , scatter_kws ={\"color\" : \"r\", \"s\":9})\n",
    "g.set_title(\"model denklemi 50_target = 0.019660 + 90_target*0.88 \")\n",
    "g.set_ylabel(\"50_target\")\n",
    "g.set_xlabel(\"90_target\")"
   ]
  },
  {
   "cell_type": "code",
   "execution_count": 27,
   "metadata": {},
   "outputs": [],
   "source": [
    "from sklearn.linear_model import LinearRegression"
   ]
  },
  {
   "cell_type": "code",
   "execution_count": 28,
   "metadata": {},
   "outputs": [],
   "source": [
    "X = data[[\"90_target\"]]\n",
    "y = data[[\"50_target\"]]\n",
    "reg = LinearRegression()"
   ]
  },
  {
   "cell_type": "code",
   "execution_count": 31,
   "metadata": {},
   "outputs": [
    {
     "data": {
      "text/plain": [
       "LinearRegression(copy_X=True, fit_intercept=True, n_jobs=None, normalize=False)"
      ]
     },
     "execution_count": 31,
     "metadata": {},
     "output_type": "execute_result"
    }
   ],
   "source": [
    "model = reg.fit(X,y)\n",
    "model"
   ]
  },
  {
   "cell_type": "code",
   "execution_count": 32,
   "metadata": {},
   "outputs": [
    {
     "data": {
      "text/plain": [
       "array([0.01965975])"
      ]
     },
     "execution_count": 32,
     "metadata": {},
     "output_type": "execute_result"
    }
   ],
   "source": [
    "model.intercept_"
   ]
  },
  {
   "cell_type": "code",
   "execution_count": 33,
   "metadata": {},
   "outputs": [
    {
     "data": {
      "text/plain": [
       "array([[0.88264078]])"
      ]
     },
     "execution_count": 33,
     "metadata": {},
     "output_type": "execute_result"
    }
   ],
   "source": [
    "model.coef_"
   ]
  },
  {
   "cell_type": "code",
   "execution_count": 34,
   "metadata": {},
   "outputs": [
    {
     "data": {
      "text/plain": [
       "0.8853228631145045"
      ]
     },
     "execution_count": 34,
     "metadata": {},
     "output_type": "execute_result"
    }
   ],
   "source": [
    "model.score(X,y)"
   ]
  },
  {
   "cell_type": "code",
   "execution_count": 36,
   "metadata": {},
   "outputs": [
    {
     "data": {
      "text/plain": [
       "array([[-32.73076145],\n",
       "       [-32.73917284]])"
      ]
     },
     "execution_count": 36,
     "metadata": {},
     "output_type": "execute_result"
    }
   ],
   "source": [
    "model.predict(X)[134:136]"
   ]
  },
  {
   "cell_type": "code",
   "execution_count": 156,
   "metadata": {},
   "outputs": [],
   "source": [
    "yeni_veri = [[133],[134],[135]]\n"
   ]
  },
  {
   "cell_type": "code",
   "execution_count": 157,
   "metadata": {},
   "outputs": [
    {
     "data": {
      "text/plain": [
       "array([[-3.45159013e-02,  1.17685083e+02],\n",
       "       [-3.47754194e-02,  1.18569933e+02],\n",
       "       [-3.50349374e-02,  1.19454783e+02]])"
      ]
     },
     "execution_count": 157,
     "metadata": {},
     "output_type": "execute_result"
    }
   ],
   "source": [
    "model.predict(yeni_veri)"
   ]
  },
  {
   "cell_type": "markdown",
   "metadata": {},
   "source": [
    "# Çoklu Doğrusal Regresyon"
   ]
  },
  {
   "cell_type": "code",
   "execution_count": 167,
   "metadata": {},
   "outputs": [],
   "source": [
    "import pandas as pd\n",
    "ad = pd.read_excel(\"data.xlsx\" , usecols = [133,134,135])\n",
    "df = ad.copy()"
   ]
  },
  {
   "cell_type": "code",
   "execution_count": 169,
   "metadata": {},
   "outputs": [],
   "source": [
    "from sklearn.model_selection import train_test_split , cross_val_score, cross_val_predict\n",
    "X = df.drop(\"90_target\" , axis = 1)\n",
    "y = df[\"90_target\"]\n",
    "\n",
    "X_train, X_test , y_train , y_test = train_test_split(X, y , test_size = 0.20 , random_state = 42)\n"
   ]
  },
  {
   "cell_type": "code",
   "execution_count": 171,
   "metadata": {},
   "outputs": [
    {
     "data": {
      "text/plain": [
       "(4933, 2)"
      ]
     },
     "execution_count": 171,
     "metadata": {},
     "output_type": "execute_result"
    }
   ],
   "source": [
    "X_train.shape"
   ]
  },
  {
   "cell_type": "code",
   "execution_count": 172,
   "metadata": {},
   "outputs": [
    {
     "data": {
      "text/plain": [
       "(1234, 2)"
      ]
     },
     "execution_count": 172,
     "metadata": {},
     "output_type": "execute_result"
    }
   ],
   "source": [
    "X_test.shape"
   ]
  },
  {
   "cell_type": "code",
   "execution_count": 173,
   "metadata": {},
   "outputs": [
    {
     "data": {
      "text/plain": [
       "(4933,)"
      ]
     },
     "execution_count": 173,
     "metadata": {},
     "output_type": "execute_result"
    }
   ],
   "source": [
    "y_train.shape"
   ]
  },
  {
   "cell_type": "code",
   "execution_count": 174,
   "metadata": {},
   "outputs": [
    {
     "data": {
      "text/plain": [
       "(6167, 3)"
      ]
     },
     "execution_count": 174,
     "metadata": {},
     "output_type": "execute_result"
    }
   ],
   "source": [
    "training = df.copy()\n",
    "training.shape"
   ]
  },
  {
   "cell_type": "code",
   "execution_count": 175,
   "metadata": {},
   "outputs": [],
   "source": [
    "lm = sm.OLS(y_train , X_train)"
   ]
  },
  {
   "cell_type": "code",
   "execution_count": 178,
   "metadata": {},
   "outputs": [
    {
     "data": {
      "text/html": [
       "<table class=\"simpletable\">\n",
       "<caption>OLS Regression Results</caption>\n",
       "<tr>\n",
       "  <th>Dep. Variable:</th>        <td>90_target</td>    <th>  R-squared (uncentered):</th>      <td>   0.890</td> \n",
       "</tr>\n",
       "<tr>\n",
       "  <th>Model:</th>                   <td>OLS</td>       <th>  Adj. R-squared (uncentered):</th> <td>   0.890</td> \n",
       "</tr>\n",
       "<tr>\n",
       "  <th>Method:</th>             <td>Least Squares</td>  <th>  F-statistic:       </th>          <td>1.989e+04</td>\n",
       "</tr>\n",
       "<tr>\n",
       "  <th>Date:</th>             <td>Thu, 23 Jul 2020</td> <th>  Prob (F-statistic):</th>           <td>  0.00</td>  \n",
       "</tr>\n",
       "<tr>\n",
       "  <th>Time:</th>                 <td>02:31:38</td>     <th>  Log-Likelihood:    </th>          <td> -19375.</td> \n",
       "</tr>\n",
       "<tr>\n",
       "  <th>No. Observations:</th>      <td>  4933</td>      <th>  AIC:               </th>          <td>3.875e+04</td>\n",
       "</tr>\n",
       "<tr>\n",
       "  <th>Df Residuals:</th>          <td>  4931</td>      <th>  BIC:               </th>          <td>3.877e+04</td>\n",
       "</tr>\n",
       "<tr>\n",
       "  <th>Df Model:</th>              <td>     2</td>      <th>                     </th>              <td> </td>    \n",
       "</tr>\n",
       "<tr>\n",
       "  <th>Covariance Type:</th>      <td>nonrobust</td>    <th>                     </th>              <td> </td>    \n",
       "</tr>\n",
       "</table>\n",
       "<table class=\"simpletable\">\n",
       "<tr>\n",
       "      <td></td>         <th>coef</th>     <th>std err</th>      <th>t</th>      <th>P>|t|</th>  <th>[0.025</th>    <th>0.975]</th>  \n",
       "</tr>\n",
       "<tr>\n",
       "  <th>20_target</th> <td>   -0.0175</td> <td>    0.013</td> <td>   -1.366</td> <td> 0.172</td> <td>   -0.043</td> <td>    0.008</td>\n",
       "</tr>\n",
       "<tr>\n",
       "  <th>50_target</th> <td>    1.0088</td> <td>    0.005</td> <td>  184.370</td> <td> 0.000</td> <td>    0.998</td> <td>    1.020</td>\n",
       "</tr>\n",
       "</table>\n",
       "<table class=\"simpletable\">\n",
       "<tr>\n",
       "  <th>Omnibus:</th>       <td>1266.818</td> <th>  Durbin-Watson:     </th> <td>   1.992</td> \n",
       "</tr>\n",
       "<tr>\n",
       "  <th>Prob(Omnibus):</th>  <td> 0.000</td>  <th>  Jarque-Bera (JB):  </th> <td>76861.878</td>\n",
       "</tr>\n",
       "<tr>\n",
       "  <th>Skew:</th>           <td>-0.296</td>  <th>  Prob(JB):          </th> <td>    0.00</td> \n",
       "</tr>\n",
       "<tr>\n",
       "  <th>Kurtosis:</th>       <td>22.329</td>  <th>  Cond. No.          </th> <td>    2.62</td> \n",
       "</tr>\n",
       "</table><br/><br/>Warnings:<br/>[1] Standard Errors assume that the covariance matrix of the errors is correctly specified."
      ],
      "text/plain": [
       "<class 'statsmodels.iolib.summary.Summary'>\n",
       "\"\"\"\n",
       "                                 OLS Regression Results                                \n",
       "=======================================================================================\n",
       "Dep. Variable:              90_target   R-squared (uncentered):                   0.890\n",
       "Model:                            OLS   Adj. R-squared (uncentered):              0.890\n",
       "Method:                 Least Squares   F-statistic:                          1.989e+04\n",
       "Date:                Thu, 23 Jul 2020   Prob (F-statistic):                        0.00\n",
       "Time:                        02:31:38   Log-Likelihood:                         -19375.\n",
       "No. Observations:                4933   AIC:                                  3.875e+04\n",
       "Df Residuals:                    4931   BIC:                                  3.877e+04\n",
       "Df Model:                           2                                                  \n",
       "Covariance Type:            nonrobust                                                  \n",
       "==============================================================================\n",
       "                 coef    std err          t      P>|t|      [0.025      0.975]\n",
       "------------------------------------------------------------------------------\n",
       "20_target     -0.0175      0.013     -1.366      0.172      -0.043       0.008\n",
       "50_target      1.0088      0.005    184.370      0.000       0.998       1.020\n",
       "==============================================================================\n",
       "Omnibus:                     1266.818   Durbin-Watson:                   1.992\n",
       "Prob(Omnibus):                  0.000   Jarque-Bera (JB):            76861.878\n",
       "Skew:                          -0.296   Prob(JB):                         0.00\n",
       "Kurtosis:                      22.329   Cond. No.                         2.62\n",
       "==============================================================================\n",
       "\n",
       "Warnings:\n",
       "[1] Standard Errors assume that the covariance matrix of the errors is correctly specified.\n",
       "\"\"\""
      ]
     },
     "execution_count": 178,
     "metadata": {},
     "output_type": "execute_result"
    }
   ],
   "source": [
    "model = lm.fit()\n",
    "model.summary()"
   ]
  },
  {
   "cell_type": "raw",
   "metadata": {},
   "source": [
    "#Çoklu regresyonda değişken sayımı arttırdım ve açıklayıcılığa baktım.Bunun denklemini ise şu şekilde yazabiliriz:\n",
    "y (90_target) = -0.017(20_target) + 1.00(50_target) + Errorterm"
   ]
  },
  {
   "cell_type": "code",
   "execution_count": 182,
   "metadata": {},
   "outputs": [
    {
     "data": {
      "text/plain": [
       "<statsmodels.stats.outliers_influence.OLSInfluence at 0x1c287e3e3c8>"
      ]
     },
     "execution_count": 182,
     "metadata": {},
     "output_type": "execute_result"
    }
   ],
   "source": [
    "influence = model.get_influence()\n",
    "influence"
   ]
  },
  {
   "cell_type": "code",
   "execution_count": 183,
   "metadata": {},
   "outputs": [],
   "source": [
    "resid_student = influence.resid_studentized_external"
   ]
  },
  {
   "cell_type": "code",
   "execution_count": 184,
   "metadata": {},
   "outputs": [
    {
     "name": "stdout",
     "output_type": "stream",
     "text": [
      "Leverage vs studentized residuals\n"
     ]
    },
    {
     "data": {
      "text/plain": [
       "<matplotlib.axes._subplots.AxesSubplot at 0x1c2894b4908>"
      ]
     },
     "execution_count": 184,
     "metadata": {},
     "output_type": "execute_result"
    },
    {
     "data": {
      "image/png": "[encoded data removed]",
      "text/plain": [
       "<Figure size 432x288 with 1 Axes>"
      ]
     },
     "metadata": {
      "needs_background": "light"
     },
     "output_type": "display_data"
    }
   ],
   "source": [
    "(cooks, p) =influence.cooks_distance\n",
    "(dffits,p) = influence.dffits\n",
    "leverage = influence.hat_matrix_diag\n",
    "print(\"Leverage vs studentized residuals\")\n",
    "sns.regplot(leverage , model.resid_pearson , fit_reg = False)"
   ]
  },
  {
   "cell_type": "code",
   "execution_count": 185,
   "metadata": {},
   "outputs": [
    {
     "data": {
      "image/png": "[encoded data removed]",
      "text/plain": [
       "<Figure size 432x288 with 1 Axes>"
      ]
     },
     "metadata": {
      "needs_background": "light"
     },
     "output_type": "display_data"
    },
    {
     "data": {
      "image/png": "[encoded data removed]",
      "text/plain": [
       "<Figure size 432x288 with 1 Axes>"
      ]
     },
     "metadata": {
      "needs_background": "light"
     },
     "output_type": "display_data"
    }
   ],
   "source": [
    "advres = pd.concat([ad , pd.Series(model.resid, name = 'resid'), pd.Series(model.predict(), name = \"predict\")], axis = 1)\n",
    "\n",
    "sns.kdeplot(np.array(advres.resid), bw=10)\n",
    "sns.distplot(np.array(advres.resid), hist=False)\n",
    "\n",
    "sm.qqplot(advres.resid)\n",
    "plt.show()"
   ]
  },
  {
   "cell_type": "code",
   "execution_count": 186,
   "metadata": {},
   "outputs": [
    {
     "name": "stderr",
     "output_type": "stream",
     "text": [
      "C:\\ProgramData\\Anaconda3\\lib\\site-packages\\scipy\\stats\\_distn_infrastructure.py:903: RuntimeWarning: invalid value encountered in greater\n",
      "  return (a < x) & (x < b)\n",
      "C:\\ProgramData\\Anaconda3\\lib\\site-packages\\scipy\\stats\\_distn_infrastructure.py:903: RuntimeWarning: invalid value encountered in less\n",
      "  return (a < x) & (x < b)\n",
      "C:\\ProgramData\\Anaconda3\\lib\\site-packages\\scipy\\stats\\_distn_infrastructure.py:1912: RuntimeWarning: invalid value encountered in less_equal\n",
      "  cond2 = cond0 & (x <= _a)\n"
     ]
    },
    {
     "data": {
      "image/png": "[encoded data removed]",
      "text/plain": [
       "<Figure size 432x288 with 1 Axes>"
      ]
     },
     "metadata": {
      "needs_background": "light"
     },
     "output_type": "display_data"
    },
    {
     "name": "stdout",
     "output_type": "stream",
     "text": [
      "Hatalar Normal (Gaussian) Dağılımdan gelmektedir (Fail to Reject H0)\n"
     ]
    },
    {
     "name": "stderr",
     "output_type": "stream",
     "text": [
      "C:\\ProgramData\\Anaconda3\\lib\\site-packages\\scipy\\stats\\morestats.py:1676: UserWarning: p-value may not be accurate for N > 5000.\n",
      "  warnings.warn(\"p-value may not be accurate for N > 5000.\")\n"
     ]
    }
   ],
   "source": [
    "import pylab\n",
    "stats.probplot(advres.resid, dist=\"norm\", plot=pylab)\n",
    "pylab.show()\n",
    "from scipy.stats import shapiro\n",
    "\n",
    "stat, p =shapiro(advres.resid)\n",
    "alpha = 0.05\n",
    "if p > alpha:\n",
    "    print('Hatalar Normal (Gaussian) Dağılımdan gelmektedir (Fail to Reject H0)')\n",
    "else:\n",
    "    print('Hatalar Normal (Gaussian) Dağılımdan gelmemektedir (reject H0)')"
   ]
  },
  {
   "cell_type": "markdown",
   "metadata": {},
   "source": [
    "#Hatalarım 3 değişkeni de kullanınca ve normal dağılımdan gelince, güzel bir model kurmuş olduk.Hata terimi varyansları da sabittir."
   ]
  },
  {
   "cell_type": "raw",
   "metadata": {},
   "source": [
    "## Multicollinearity : İçeriye birbiriyle çok ilişkili olan veriler koyunca modeller bazen yanlış olabilir.Bunu kontrol etmek için VIF Değeri kullanırız.(Variance inflation factor)"
   ]
  },
  {
   "cell_type": "code",
   "execution_count": 6,
   "metadata": {},
   "outputs": [],
   "source": [
    "from patsy import dmatrices\n",
    "from statsmodels.stats.outliers_influence import variance_inflation_factor\n"
   ]
  },
  {
   "cell_type": "code",
   "execution_count": 195,
   "metadata": {},
   "outputs": [
    {
     "data": {
      "text/plain": [
       "[1.1719522291666085, 1.171952229166609]"
      ]
     },
     "execution_count": 195,
     "metadata": {},
     "output_type": "execute_result"
    }
   ],
   "source": [
    "vif = [variance_inflation_factor(X.values, i) for i in range(X.shape[1])]\n",
    "vif    # bu rakamların 10 altında olmasını istiyoruz."
   ]
  },
  {
   "cell_type": "code",
   "execution_count": null,
   "metadata": {},
   "outputs": [],
   "source": []
  }
 ],
 "metadata": {
  "kernelspec": {
   "display_name": "Python 3",
   "language": "python",
   "name": "python3"
  },
  "language_info": {
   "codemirror_mode": {
    "name": "ipython",
    "version": 3
   },
   "file_extension": ".py",
   "mimetype": "text/x-python",
   "name": "python",
   "nbconvert_exporter": "python",
   "pygments_lexer": "ipython3",
   "version": "3.7.6"
  }
 },
 "nbformat": 4,
 "nbformat_minor": 4
}
