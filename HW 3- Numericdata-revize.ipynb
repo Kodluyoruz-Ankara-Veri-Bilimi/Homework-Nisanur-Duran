{
 "cells": [
  {
   "cell_type": "code",
   "execution_count": 215,
   "metadata": {},
   "outputs": [],
   "source": [
    "import statsmodels.stats.api as sms # İstatistik Kütüphanesi\n",
    "import os # Operating system kütüphanesi, çalıştığımız directory'yi değiştiririz\n",
    "import pandas as pd # Dataframe adında python'un özel tablo kütüphanesi\n",
    "import seaborn as sns\n",
    "from sklearn import datasets #Sckit-Learning kütüphanesindeki hazır 'toy' datasetler\n",
    "import matplotlib.pyplot as plt # Plot etmek için bu şekilde çağırıyoruz\n",
    "import numpy as np\n",
    "import statsmodels.api as sm\n",
    "import scipy.stats as stats\n",
    "from scipy.stats import shapiro"
   ]
  },
  {
   "cell_type": "code",
   "execution_count": 216,
   "metadata": {},
   "outputs": [],
   "source": [
    "df= pd.read_excel(\"data.xlsx\")"
   ]
  },
  {
   "cell_type": "code",
   "execution_count": 217,
   "metadata": {},
   "outputs": [
    {
     "data": {
      "text/html": [
       "<div>\n",
       "<style scoped>\n",
       "    .dataframe tbody tr th:only-of-type {\n",
       "        vertical-align: middle;\n",
       "    }\n",
       "\n",
       "    .dataframe tbody tr th {\n",
       "        vertical-align: top;\n",
       "    }\n",
       "\n",
       "    .dataframe thead th {\n",
       "        text-align: right;\n",
       "    }\n",
       "</style>\n",
       "<table border=\"1\" class=\"dataframe\">\n",
       "  <thead>\n",
       "    <tr style=\"text-align: right;\">\n",
       "      <th></th>\n",
       "      <th>ind_5</th>\n",
       "      <th>ind_6</th>\n",
       "      <th>ind_8</th>\n",
       "      <th>ind_9</th>\n",
       "      <th>ind_10</th>\n",
       "      <th>ind_12</th>\n",
       "      <th>ind_13</th>\n",
       "      <th>ind_14</th>\n",
       "      <th>ind_15</th>\n",
       "      <th>ind_16</th>\n",
       "      <th>...</th>\n",
       "      <th>ind_416</th>\n",
       "      <th>ind_418</th>\n",
       "      <th>ind_420</th>\n",
       "      <th>ind_422</th>\n",
       "      <th>ind_424</th>\n",
       "      <th>ind_426</th>\n",
       "      <th>ind_428</th>\n",
       "      <th>20_target</th>\n",
       "      <th>50_target</th>\n",
       "      <th>90_target</th>\n",
       "    </tr>\n",
       "  </thead>\n",
       "  <tbody>\n",
       "    <tr>\n",
       "      <th>0</th>\n",
       "      <td>19</td>\n",
       "      <td>17</td>\n",
       "      <td>100.0</td>\n",
       "      <td>85.714286</td>\n",
       "      <td>14.285714</td>\n",
       "      <td>72.363515</td>\n",
       "      <td>60.808814</td>\n",
       "      <td>23.80</td>\n",
       "      <td>17.62</td>\n",
       "      <td>11.73</td>\n",
       "      <td>...</td>\n",
       "      <td>-49.6</td>\n",
       "      <td>-54</td>\n",
       "      <td>-152</td>\n",
       "      <td>-353</td>\n",
       "      <td>1.0</td>\n",
       "      <td>0.498547</td>\n",
       "      <td>0.701906</td>\n",
       "      <td>15.135802</td>\n",
       "      <td>35.625252</td>\n",
       "      <td>36.997753</td>\n",
       "    </tr>\n",
       "    <tr>\n",
       "      <th>1</th>\n",
       "      <td>24</td>\n",
       "      <td>19</td>\n",
       "      <td>100.0</td>\n",
       "      <td>78.571429</td>\n",
       "      <td>21.428571</td>\n",
       "      <td>74.275883</td>\n",
       "      <td>64.366798</td>\n",
       "      <td>11.45</td>\n",
       "      <td>18.16</td>\n",
       "      <td>12.22</td>\n",
       "      <td>...</td>\n",
       "      <td>-55.6</td>\n",
       "      <td>-60</td>\n",
       "      <td>-158</td>\n",
       "      <td>-359</td>\n",
       "      <td>1.0</td>\n",
       "      <td>0.537088</td>\n",
       "      <td>0.690833</td>\n",
       "      <td>15.143348</td>\n",
       "      <td>35.643013</td>\n",
       "      <td>37.016198</td>\n",
       "    </tr>\n",
       "    <tr>\n",
       "      <th>2</th>\n",
       "      <td>30</td>\n",
       "      <td>24</td>\n",
       "      <td>100.0</td>\n",
       "      <td>71.428571</td>\n",
       "      <td>28.571429</td>\n",
       "      <td>75.140402</td>\n",
       "      <td>65.915803</td>\n",
       "      <td>8.75</td>\n",
       "      <td>17.86</td>\n",
       "      <td>12.28</td>\n",
       "      <td>...</td>\n",
       "      <td>-58.4</td>\n",
       "      <td>-60</td>\n",
       "      <td>-160</td>\n",
       "      <td>-362</td>\n",
       "      <td>1.0</td>\n",
       "      <td>0.615169</td>\n",
       "      <td>0.693040</td>\n",
       "      <td>15.146870</td>\n",
       "      <td>35.651301</td>\n",
       "      <td>-37.024805</td>\n",
       "    </tr>\n",
       "    <tr>\n",
       "      <th>3</th>\n",
       "      <td>37</td>\n",
       "      <td>30</td>\n",
       "      <td>100.0</td>\n",
       "      <td>64.285714</td>\n",
       "      <td>35.714286</td>\n",
       "      <td>76.677846</td>\n",
       "      <td>68.584234</td>\n",
       "      <td>7.80</td>\n",
       "      <td>14.76</td>\n",
       "      <td>12.61</td>\n",
       "      <td>...</td>\n",
       "      <td>-61.8</td>\n",
       "      <td>-65</td>\n",
       "      <td>-166</td>\n",
       "      <td>-367</td>\n",
       "      <td>1.0</td>\n",
       "      <td>0.661517</td>\n",
       "      <td>0.673418</td>\n",
       "      <td>15.153283</td>\n",
       "      <td>0.000000</td>\n",
       "      <td>-37.040483</td>\n",
       "    </tr>\n",
       "    <tr>\n",
       "      <th>4</th>\n",
       "      <td>41</td>\n",
       "      <td>37</td>\n",
       "      <td>100.0</td>\n",
       "      <td>57.142857</td>\n",
       "      <td>42.857143</td>\n",
       "      <td>81.603007</td>\n",
       "      <td>76.455495</td>\n",
       "      <td>14.90</td>\n",
       "      <td>11.92</td>\n",
       "      <td>14.25</td>\n",
       "      <td>...</td>\n",
       "      <td>-79.8</td>\n",
       "      <td>-86</td>\n",
       "      <td>-186</td>\n",
       "      <td>-388</td>\n",
       "      <td>1.0</td>\n",
       "      <td>0.747204</td>\n",
       "      <td>0.700522</td>\n",
       "      <td>-15.179065</td>\n",
       "      <td>-35.727079</td>\n",
       "      <td>-37.103503</td>\n",
       "    </tr>\n",
       "  </tbody>\n",
       "</table>\n",
       "<p>5 rows × 136 columns</p>\n",
       "</div>"
      ],
      "text/plain": [
       "   ind_5  ind_6  ind_8      ind_9     ind_10     ind_12     ind_13  ind_14  \\\n",
       "0     19     17  100.0  85.714286  14.285714  72.363515  60.808814   23.80   \n",
       "1     24     19  100.0  78.571429  21.428571  74.275883  64.366798   11.45   \n",
       "2     30     24  100.0  71.428571  28.571429  75.140402  65.915803    8.75   \n",
       "3     37     30  100.0  64.285714  35.714286  76.677846  68.584234    7.80   \n",
       "4     41     37  100.0  57.142857  42.857143  81.603007  76.455495   14.90   \n",
       "\n",
       "   ind_15  ind_16  ...  ind_416  ind_418  ind_420  ind_422  ind_424   ind_426  \\\n",
       "0   17.62   11.73  ...    -49.6      -54     -152     -353      1.0  0.498547   \n",
       "1   18.16   12.22  ...    -55.6      -60     -158     -359      1.0  0.537088   \n",
       "2   17.86   12.28  ...    -58.4      -60     -160     -362      1.0  0.615169   \n",
       "3   14.76   12.61  ...    -61.8      -65     -166     -367      1.0  0.661517   \n",
       "4   11.92   14.25  ...    -79.8      -86     -186     -388      1.0  0.747204   \n",
       "\n",
       "    ind_428  20_target  50_target  90_target  \n",
       "0  0.701906  15.135802  35.625252  36.997753  \n",
       "1  0.690833  15.143348  35.643013  37.016198  \n",
       "2  0.693040  15.146870  35.651301 -37.024805  \n",
       "3  0.673418  15.153283   0.000000 -37.040483  \n",
       "4  0.700522 -15.179065 -35.727079 -37.103503  \n",
       "\n",
       "[5 rows x 136 columns]"
      ]
     },
     "execution_count": 217,
     "metadata": {},
     "output_type": "execute_result"
    }
   ],
   "source": [
    "df.head()"
   ]
  },
  {
   "cell_type": "code",
   "execution_count": 235,
   "metadata": {},
   "outputs": [
    {
     "name": "stdout",
     "output_type": "stream",
     "text": [
      "<class 'pandas.core.frame.DataFrame'>\n",
      "RangeIndex: 6167 entries, 0 to 6166\n",
      "Columns: 134 entries, ind_5 to 90_target\n",
      "dtypes: float64(88), int64(45), object(1)\n",
      "memory usage: 6.3+ MB\n"
     ]
    }
   ],
   "source": [
    "df.info()"
   ]
  },
  {
   "cell_type": "code",
   "execution_count": 236,
   "metadata": {},
   "outputs": [
    {
     "data": {
      "text/plain": [
       "(6167, 134)"
      ]
     },
     "execution_count": 236,
     "metadata": {},
     "output_type": "execute_result"
    }
   ],
   "source": [
    "df.shape  # data 6167 gözlem ,136 değişken içermektedir."
   ]
  },
  {
   "cell_type": "code",
   "execution_count": 243,
   "metadata": {},
   "outputs": [
    {
     "data": {
      "text/html": [
       "<div>\n",
       "<style scoped>\n",
       "    .dataframe tbody tr th:only-of-type {\n",
       "        vertical-align: middle;\n",
       "    }\n",
       "\n",
       "    .dataframe tbody tr th {\n",
       "        vertical-align: top;\n",
       "    }\n",
       "\n",
       "    .dataframe thead th {\n",
       "        text-align: right;\n",
       "    }\n",
       "</style>\n",
       "<table border=\"1\" class=\"dataframe\">\n",
       "  <thead>\n",
       "    <tr style=\"text-align: right;\">\n",
       "      <th></th>\n",
       "      <th>count</th>\n",
       "      <th>mean</th>\n",
       "      <th>std</th>\n",
       "      <th>min</th>\n",
       "      <th>25%</th>\n",
       "      <th>50%</th>\n",
       "      <th>75%</th>\n",
       "      <th>max</th>\n",
       "    </tr>\n",
       "  </thead>\n",
       "  <tbody>\n",
       "    <tr>\n",
       "      <th>ind_5</th>\n",
       "      <td>6167.0</td>\n",
       "      <td>-0.803146</td>\n",
       "      <td>23.624403</td>\n",
       "      <td>-131.000000</td>\n",
       "      <td>-14.000000</td>\n",
       "      <td>0.000000</td>\n",
       "      <td>13.000000</td>\n",
       "      <td>76.000000</td>\n",
       "    </tr>\n",
       "    <tr>\n",
       "      <th>ind_6</th>\n",
       "      <td>6167.0</td>\n",
       "      <td>-0.803470</td>\n",
       "      <td>23.624144</td>\n",
       "      <td>-131.000000</td>\n",
       "      <td>-14.000000</td>\n",
       "      <td>0.000000</td>\n",
       "      <td>13.000000</td>\n",
       "      <td>76.000000</td>\n",
       "    </tr>\n",
       "    <tr>\n",
       "      <th>ind_8</th>\n",
       "      <td>6167.0</td>\n",
       "      <td>48.388890</td>\n",
       "      <td>36.388526</td>\n",
       "      <td>0.000000</td>\n",
       "      <td>14.285714</td>\n",
       "      <td>50.000000</td>\n",
       "      <td>85.714286</td>\n",
       "      <td>100.000000</td>\n",
       "    </tr>\n",
       "    <tr>\n",
       "      <th>ind_9</th>\n",
       "      <td>6167.0</td>\n",
       "      <td>48.289282</td>\n",
       "      <td>36.478009</td>\n",
       "      <td>0.000000</td>\n",
       "      <td>14.285714</td>\n",
       "      <td>50.000000</td>\n",
       "      <td>85.714286</td>\n",
       "      <td>100.000000</td>\n",
       "    </tr>\n",
       "    <tr>\n",
       "      <th>ind_10</th>\n",
       "      <td>6167.0</td>\n",
       "      <td>0.099609</td>\n",
       "      <td>60.414625</td>\n",
       "      <td>-100.000000</td>\n",
       "      <td>-50.000000</td>\n",
       "      <td>0.000000</td>\n",
       "      <td>57.142857</td>\n",
       "      <td>100.000000</td>\n",
       "    </tr>\n",
       "    <tr>\n",
       "      <th>...</th>\n",
       "      <td>...</td>\n",
       "      <td>...</td>\n",
       "      <td>...</td>\n",
       "      <td>...</td>\n",
       "      <td>...</td>\n",
       "      <td>...</td>\n",
       "      <td>...</td>\n",
       "      <td>...</td>\n",
       "    </tr>\n",
       "    <tr>\n",
       "      <th>ind_426</th>\n",
       "      <td>6167.0</td>\n",
       "      <td>0.498188</td>\n",
       "      <td>0.228547</td>\n",
       "      <td>0.000000</td>\n",
       "      <td>0.323783</td>\n",
       "      <td>0.495192</td>\n",
       "      <td>0.675730</td>\n",
       "      <td>1.000000</td>\n",
       "    </tr>\n",
       "    <tr>\n",
       "      <th>ind_428</th>\n",
       "      <td>6167.0</td>\n",
       "      <td>0.490174</td>\n",
       "      <td>0.150483</td>\n",
       "      <td>0.083530</td>\n",
       "      <td>0.379894</td>\n",
       "      <td>0.487078</td>\n",
       "      <td>0.601508</td>\n",
       "      <td>0.868534</td>\n",
       "    </tr>\n",
       "    <tr>\n",
       "      <th>20_target</th>\n",
       "      <td>6167.0</td>\n",
       "      <td>-0.057102</td>\n",
       "      <td>14.834497</td>\n",
       "      <td>-15.780588</td>\n",
       "      <td>-15.350354</td>\n",
       "      <td>0.000000</td>\n",
       "      <td>15.385945</td>\n",
       "      <td>15.768767</td>\n",
       "    </tr>\n",
       "    <tr>\n",
       "      <th>50_target</th>\n",
       "      <td>6167.0</td>\n",
       "      <td>-2.906358</td>\n",
       "      <td>34.559778</td>\n",
       "      <td>-37.142889</td>\n",
       "      <td>-36.208094</td>\n",
       "      <td>-34.267756</td>\n",
       "      <td>35.879524</td>\n",
       "      <td>37.038694</td>\n",
       "    </tr>\n",
       "    <tr>\n",
       "      <th>90_target</th>\n",
       "      <td>6167.0</td>\n",
       "      <td>-3.315072</td>\n",
       "      <td>36.841541</td>\n",
       "      <td>-38.573858</td>\n",
       "      <td>-37.695273</td>\n",
       "      <td>-35.788391</td>\n",
       "      <td>37.521892</td>\n",
       "      <td>38.465649</td>\n",
       "    </tr>\n",
       "  </tbody>\n",
       "</table>\n",
       "<p>133 rows × 8 columns</p>\n",
       "</div>"
      ],
      "text/plain": [
       "            count       mean        std         min        25%        50%  \\\n",
       "ind_5      6167.0  -0.803146  23.624403 -131.000000 -14.000000   0.000000   \n",
       "ind_6      6167.0  -0.803470  23.624144 -131.000000 -14.000000   0.000000   \n",
       "ind_8      6167.0  48.388890  36.388526    0.000000  14.285714  50.000000   \n",
       "ind_9      6167.0  48.289282  36.478009    0.000000  14.285714  50.000000   \n",
       "ind_10     6167.0   0.099609  60.414625 -100.000000 -50.000000   0.000000   \n",
       "...           ...        ...        ...         ...        ...        ...   \n",
       "ind_426    6167.0   0.498188   0.228547    0.000000   0.323783   0.495192   \n",
       "ind_428    6167.0   0.490174   0.150483    0.083530   0.379894   0.487078   \n",
       "20_target  6167.0  -0.057102  14.834497  -15.780588 -15.350354   0.000000   \n",
       "50_target  6167.0  -2.906358  34.559778  -37.142889 -36.208094 -34.267756   \n",
       "90_target  6167.0  -3.315072  36.841541  -38.573858 -37.695273 -35.788391   \n",
       "\n",
       "                 75%         max  \n",
       "ind_5      13.000000   76.000000  \n",
       "ind_6      13.000000   76.000000  \n",
       "ind_8      85.714286  100.000000  \n",
       "ind_9      85.714286  100.000000  \n",
       "ind_10     57.142857  100.000000  \n",
       "...              ...         ...  \n",
       "ind_426     0.675730    1.000000  \n",
       "ind_428     0.601508    0.868534  \n",
       "20_target  15.385945   15.768767  \n",
       "50_target  35.879524   37.038694  \n",
       "90_target  37.521892   38.465649  \n",
       "\n",
       "[133 rows x 8 columns]"
      ]
     },
     "execution_count": 243,
     "metadata": {},
     "output_type": "execute_result"
    }
   ],
   "source": [
    "df.describe().T"
   ]
  },
  {
   "cell_type": "code",
   "execution_count": 244,
   "metadata": {},
   "outputs": [
    {
     "data": {
      "text/plain": [
       "False"
      ]
     },
     "execution_count": 244,
     "metadata": {},
     "output_type": "execute_result"
    }
   ],
   "source": [
    "df.isnull().values.any()"
   ]
  },
  {
   "cell_type": "code",
   "execution_count": 245,
   "metadata": {},
   "outputs": [
    {
     "data": {
      "text/plain": [
       "{'ind_109'}"
      ]
     },
     "execution_count": 245,
     "metadata": {},
     "output_type": "execute_result"
    }
   ],
   "source": [
    "col=df.columns\n",
    "\n",
    "num_cols=df._get_numeric_data().columns\n",
    "cat=set(col)-set(num_cols)\n",
    "cat"
   ]
  },
  {
   "cell_type": "code",
   "execution_count": 246,
   "metadata": {},
   "outputs": [
    {
     "data": {
      "text/plain": [
       "array(['GREEN', 'RED'], dtype=object)"
      ]
     },
     "execution_count": 246,
     "metadata": {},
     "output_type": "execute_result"
    }
   ],
   "source": [
    "df['ind_109'].unique()  #Bu değişkenin kategorik olduğu kanıtlandı."
   ]
  },
  {
   "cell_type": "code",
   "execution_count": 247,
   "metadata": {},
   "outputs": [
    {
     "data": {
      "text/plain": [
       "GREEN    3132\n",
       "RED      3035\n",
       "Name: ind_109, dtype: int64"
      ]
     },
     "execution_count": 247,
     "metadata": {},
     "output_type": "execute_result"
    }
   ],
   "source": [
    "df[\"ind_109\"].value_counts()"
   ]
  },
  {
   "cell_type": "code",
   "execution_count": 242,
   "metadata": {},
   "outputs": [
    {
     "data": {
      "text/html": [
       "<div>\n",
       "<style scoped>\n",
       "    .dataframe tbody tr th:only-of-type {\n",
       "        vertical-align: middle;\n",
       "    }\n",
       "\n",
       "    .dataframe tbody tr th {\n",
       "        vertical-align: top;\n",
       "    }\n",
       "\n",
       "    .dataframe thead th {\n",
       "        text-align: right;\n",
       "    }\n",
       "</style>\n",
       "<table border=\"1\" class=\"dataframe\">\n",
       "  <thead>\n",
       "    <tr style=\"text-align: right;\">\n",
       "      <th></th>\n",
       "      <th>ind_109</th>\n",
       "    </tr>\n",
       "  </thead>\n",
       "  <tbody>\n",
       "    <tr>\n",
       "      <th>0</th>\n",
       "      <td>GREEN</td>\n",
       "    </tr>\n",
       "    <tr>\n",
       "      <th>1</th>\n",
       "      <td>GREEN</td>\n",
       "    </tr>\n",
       "    <tr>\n",
       "      <th>2</th>\n",
       "      <td>GREEN</td>\n",
       "    </tr>\n",
       "    <tr>\n",
       "      <th>3</th>\n",
       "      <td>GREEN</td>\n",
       "    </tr>\n",
       "    <tr>\n",
       "      <th>4</th>\n",
       "      <td>GREEN</td>\n",
       "    </tr>\n",
       "    <tr>\n",
       "      <th>...</th>\n",
       "      <td>...</td>\n",
       "    </tr>\n",
       "    <tr>\n",
       "      <th>6162</th>\n",
       "      <td>RED</td>\n",
       "    </tr>\n",
       "    <tr>\n",
       "      <th>6163</th>\n",
       "      <td>RED</td>\n",
       "    </tr>\n",
       "    <tr>\n",
       "      <th>6164</th>\n",
       "      <td>GREEN</td>\n",
       "    </tr>\n",
       "    <tr>\n",
       "      <th>6165</th>\n",
       "      <td>GREEN</td>\n",
       "    </tr>\n",
       "    <tr>\n",
       "      <th>6166</th>\n",
       "      <td>GREEN</td>\n",
       "    </tr>\n",
       "  </tbody>\n",
       "</table>\n",
       "<p>6167 rows × 1 columns</p>\n",
       "</div>"
      ],
      "text/plain": [
       "     ind_109\n",
       "0      GREEN\n",
       "1      GREEN\n",
       "2      GREEN\n",
       "3      GREEN\n",
       "4      GREEN\n",
       "...      ...\n",
       "6162     RED\n",
       "6163     RED\n",
       "6164   GREEN\n",
       "6165   GREEN\n",
       "6166   GREEN\n",
       "\n",
       "[6167 rows x 1 columns]"
      ]
     },
     "execution_count": 242,
     "metadata": {},
     "output_type": "execute_result"
    }
   ],
   "source": [
    "cat = df.select_dtypes(include='object')\n",
    "cat  #ind_109 değişkeni kategorik bir değişkendir."
   ]
  },
  {
   "cell_type": "code",
   "execution_count": 228,
   "metadata": {},
   "outputs": [
    {
     "data": {
      "text/html": [
       "<div>\n",
       "<style scoped>\n",
       "    .dataframe tbody tr th:only-of-type {\n",
       "        vertical-align: middle;\n",
       "    }\n",
       "\n",
       "    .dataframe tbody tr th {\n",
       "        vertical-align: top;\n",
       "    }\n",
       "\n",
       "    .dataframe thead th {\n",
       "        text-align: right;\n",
       "    }\n",
       "</style>\n",
       "<table border=\"1\" class=\"dataframe\">\n",
       "  <thead>\n",
       "    <tr style=\"text-align: right;\">\n",
       "      <th></th>\n",
       "      <th>ind_5</th>\n",
       "      <th>ind_6</th>\n",
       "      <th>ind_8</th>\n",
       "      <th>ind_9</th>\n",
       "      <th>ind_10</th>\n",
       "      <th>ind_12</th>\n",
       "      <th>ind_13</th>\n",
       "      <th>ind_14</th>\n",
       "      <th>ind_15</th>\n",
       "      <th>ind_16</th>\n",
       "      <th>...</th>\n",
       "      <th>ind_412</th>\n",
       "      <th>ind_414</th>\n",
       "      <th>ind_416</th>\n",
       "      <th>ind_418</th>\n",
       "      <th>ind_424</th>\n",
       "      <th>ind_426</th>\n",
       "      <th>ind_428</th>\n",
       "      <th>20_target</th>\n",
       "      <th>50_target</th>\n",
       "      <th>90_target</th>\n",
       "    </tr>\n",
       "  </thead>\n",
       "  <tbody>\n",
       "    <tr>\n",
       "      <th>0</th>\n",
       "      <td>19</td>\n",
       "      <td>17</td>\n",
       "      <td>100.0</td>\n",
       "      <td>85.714286</td>\n",
       "      <td>14.285714</td>\n",
       "      <td>72.363515</td>\n",
       "      <td>60.808814</td>\n",
       "      <td>23.80</td>\n",
       "      <td>17.62</td>\n",
       "      <td>11.73</td>\n",
       "      <td>...</td>\n",
       "      <td>0.002371</td>\n",
       "      <td>2.0</td>\n",
       "      <td>-49.6</td>\n",
       "      <td>-54</td>\n",
       "      <td>1.0</td>\n",
       "      <td>0.498547</td>\n",
       "      <td>0.701906</td>\n",
       "      <td>15.135802</td>\n",
       "      <td>35.625252</td>\n",
       "      <td>36.997753</td>\n",
       "    </tr>\n",
       "    <tr>\n",
       "      <th>1</th>\n",
       "      <td>24</td>\n",
       "      <td>19</td>\n",
       "      <td>100.0</td>\n",
       "      <td>78.571429</td>\n",
       "      <td>21.428571</td>\n",
       "      <td>74.275883</td>\n",
       "      <td>64.366798</td>\n",
       "      <td>11.45</td>\n",
       "      <td>18.16</td>\n",
       "      <td>12.22</td>\n",
       "      <td>...</td>\n",
       "      <td>0.003074</td>\n",
       "      <td>0.8</td>\n",
       "      <td>-55.6</td>\n",
       "      <td>-60</td>\n",
       "      <td>1.0</td>\n",
       "      <td>0.537088</td>\n",
       "      <td>0.690833</td>\n",
       "      <td>15.143348</td>\n",
       "      <td>35.643013</td>\n",
       "      <td>37.016198</td>\n",
       "    </tr>\n",
       "    <tr>\n",
       "      <th>2</th>\n",
       "      <td>30</td>\n",
       "      <td>24</td>\n",
       "      <td>100.0</td>\n",
       "      <td>71.428571</td>\n",
       "      <td>28.571429</td>\n",
       "      <td>75.140402</td>\n",
       "      <td>65.915803</td>\n",
       "      <td>8.75</td>\n",
       "      <td>17.86</td>\n",
       "      <td>12.28</td>\n",
       "      <td>...</td>\n",
       "      <td>0.003561</td>\n",
       "      <td>2.7</td>\n",
       "      <td>-58.4</td>\n",
       "      <td>-60</td>\n",
       "      <td>1.0</td>\n",
       "      <td>0.615169</td>\n",
       "      <td>0.693040</td>\n",
       "      <td>15.146870</td>\n",
       "      <td>35.651301</td>\n",
       "      <td>-37.024805</td>\n",
       "    </tr>\n",
       "    <tr>\n",
       "      <th>3</th>\n",
       "      <td>37</td>\n",
       "      <td>30</td>\n",
       "      <td>100.0</td>\n",
       "      <td>64.285714</td>\n",
       "      <td>35.714286</td>\n",
       "      <td>76.677846</td>\n",
       "      <td>68.584234</td>\n",
       "      <td>7.80</td>\n",
       "      <td>14.76</td>\n",
       "      <td>12.61</td>\n",
       "      <td>...</td>\n",
       "      <td>0.004366</td>\n",
       "      <td>0.9</td>\n",
       "      <td>-61.8</td>\n",
       "      <td>-65</td>\n",
       "      <td>1.0</td>\n",
       "      <td>0.661517</td>\n",
       "      <td>0.673418</td>\n",
       "      <td>15.153283</td>\n",
       "      <td>0.000000</td>\n",
       "      <td>-37.040483</td>\n",
       "    </tr>\n",
       "    <tr>\n",
       "      <th>4</th>\n",
       "      <td>41</td>\n",
       "      <td>37</td>\n",
       "      <td>100.0</td>\n",
       "      <td>57.142857</td>\n",
       "      <td>42.857143</td>\n",
       "      <td>81.603007</td>\n",
       "      <td>76.455495</td>\n",
       "      <td>14.90</td>\n",
       "      <td>11.92</td>\n",
       "      <td>14.25</td>\n",
       "      <td>...</td>\n",
       "      <td>0.004198</td>\n",
       "      <td>0.1</td>\n",
       "      <td>-79.8</td>\n",
       "      <td>-86</td>\n",
       "      <td>1.0</td>\n",
       "      <td>0.747204</td>\n",
       "      <td>0.700522</td>\n",
       "      <td>-15.179065</td>\n",
       "      <td>-35.727079</td>\n",
       "      <td>-37.103503</td>\n",
       "    </tr>\n",
       "  </tbody>\n",
       "</table>\n",
       "<p>5 rows × 134 columns</p>\n",
       "</div>"
      ],
      "text/plain": [
       "   ind_5  ind_6  ind_8      ind_9     ind_10     ind_12     ind_13  ind_14  \\\n",
       "0     19     17  100.0  85.714286  14.285714  72.363515  60.808814   23.80   \n",
       "1     24     19  100.0  78.571429  21.428571  74.275883  64.366798   11.45   \n",
       "2     30     24  100.0  71.428571  28.571429  75.140402  65.915803    8.75   \n",
       "3     37     30  100.0  64.285714  35.714286  76.677846  68.584234    7.80   \n",
       "4     41     37  100.0  57.142857  42.857143  81.603007  76.455495   14.90   \n",
       "\n",
       "   ind_15  ind_16  ...   ind_412  ind_414  ind_416  ind_418  ind_424  \\\n",
       "0   17.62   11.73  ...  0.002371      2.0    -49.6      -54      1.0   \n",
       "1   18.16   12.22  ...  0.003074      0.8    -55.6      -60      1.0   \n",
       "2   17.86   12.28  ...  0.003561      2.7    -58.4      -60      1.0   \n",
       "3   14.76   12.61  ...  0.004366      0.9    -61.8      -65      1.0   \n",
       "4   11.92   14.25  ...  0.004198      0.1    -79.8      -86      1.0   \n",
       "\n",
       "    ind_426   ind_428  20_target  50_target  90_target  \n",
       "0  0.498547  0.701906  15.135802  35.625252  36.997753  \n",
       "1  0.537088  0.690833  15.143348  35.643013  37.016198  \n",
       "2  0.615169  0.693040  15.146870  35.651301 -37.024805  \n",
       "3  0.661517  0.673418  15.153283   0.000000 -37.040483  \n",
       "4  0.747204  0.700522 -15.179065 -35.727079 -37.103503  \n",
       "\n",
       "[5 rows x 134 columns]"
      ]
     },
     "execution_count": 228,
     "metadata": {},
     "output_type": "execute_result"
    }
   ],
   "source": [
    "df = df.drop([\"ind_420\", \"ind_422\"], axis=1)  #bu verileri veri setimizden siliyoruz.\n",
    "df.head()"
   ]
  },
  {
   "cell_type": "code",
   "execution_count": 18,
   "metadata": {},
   "outputs": [
    {
     "data": {
      "text/html": [
       "<div>\n",
       "<style scoped>\n",
       "    .dataframe tbody tr th:only-of-type {\n",
       "        vertical-align: middle;\n",
       "    }\n",
       "\n",
       "    .dataframe tbody tr th {\n",
       "        vertical-align: top;\n",
       "    }\n",
       "\n",
       "    .dataframe thead th {\n",
       "        text-align: right;\n",
       "    }\n",
       "</style>\n",
       "<table border=\"1\" class=\"dataframe\">\n",
       "  <thead>\n",
       "    <tr style=\"text-align: right;\">\n",
       "      <th></th>\n",
       "      <th>ind_5</th>\n",
       "      <th>ind_6</th>\n",
       "      <th>ind_8</th>\n",
       "      <th>ind_9</th>\n",
       "      <th>ind_10</th>\n",
       "      <th>ind_12</th>\n",
       "      <th>ind_13</th>\n",
       "      <th>ind_14</th>\n",
       "      <th>ind_15</th>\n",
       "      <th>ind_16</th>\n",
       "      <th>...</th>\n",
       "      <th>ind_416</th>\n",
       "      <th>ind_418</th>\n",
       "      <th>ind_424</th>\n",
       "      <th>ind_426</th>\n",
       "      <th>ind_428</th>\n",
       "      <th>20_target</th>\n",
       "      <th>50_target</th>\n",
       "      <th>90_target</th>\n",
       "      <th>ind_109_GREEN</th>\n",
       "      <th>ind_109_RED</th>\n",
       "    </tr>\n",
       "  </thead>\n",
       "  <tbody>\n",
       "    <tr>\n",
       "      <th>0</th>\n",
       "      <td>19</td>\n",
       "      <td>17</td>\n",
       "      <td>100.000000</td>\n",
       "      <td>85.714286</td>\n",
       "      <td>14.285714</td>\n",
       "      <td>72.363515</td>\n",
       "      <td>60.808814</td>\n",
       "      <td>23.80</td>\n",
       "      <td>17.62</td>\n",
       "      <td>11.73</td>\n",
       "      <td>...</td>\n",
       "      <td>-49.6</td>\n",
       "      <td>-54</td>\n",
       "      <td>1.000000</td>\n",
       "      <td>0.498547</td>\n",
       "      <td>0.701906</td>\n",
       "      <td>15.135802</td>\n",
       "      <td>35.625252</td>\n",
       "      <td>36.997753</td>\n",
       "      <td>1</td>\n",
       "      <td>0</td>\n",
       "    </tr>\n",
       "    <tr>\n",
       "      <th>1</th>\n",
       "      <td>24</td>\n",
       "      <td>19</td>\n",
       "      <td>100.000000</td>\n",
       "      <td>78.571429</td>\n",
       "      <td>21.428571</td>\n",
       "      <td>74.275883</td>\n",
       "      <td>64.366798</td>\n",
       "      <td>11.45</td>\n",
       "      <td>18.16</td>\n",
       "      <td>12.22</td>\n",
       "      <td>...</td>\n",
       "      <td>-55.6</td>\n",
       "      <td>-60</td>\n",
       "      <td>1.000000</td>\n",
       "      <td>0.537088</td>\n",
       "      <td>0.690833</td>\n",
       "      <td>15.143348</td>\n",
       "      <td>35.643013</td>\n",
       "      <td>37.016198</td>\n",
       "      <td>1</td>\n",
       "      <td>0</td>\n",
       "    </tr>\n",
       "    <tr>\n",
       "      <th>2</th>\n",
       "      <td>30</td>\n",
       "      <td>24</td>\n",
       "      <td>100.000000</td>\n",
       "      <td>71.428571</td>\n",
       "      <td>28.571429</td>\n",
       "      <td>75.140402</td>\n",
       "      <td>65.915803</td>\n",
       "      <td>8.75</td>\n",
       "      <td>17.86</td>\n",
       "      <td>12.28</td>\n",
       "      <td>...</td>\n",
       "      <td>-58.4</td>\n",
       "      <td>-60</td>\n",
       "      <td>1.000000</td>\n",
       "      <td>0.615169</td>\n",
       "      <td>0.693040</td>\n",
       "      <td>15.146870</td>\n",
       "      <td>35.651301</td>\n",
       "      <td>-37.024805</td>\n",
       "      <td>1</td>\n",
       "      <td>0</td>\n",
       "    </tr>\n",
       "    <tr>\n",
       "      <th>3</th>\n",
       "      <td>37</td>\n",
       "      <td>30</td>\n",
       "      <td>100.000000</td>\n",
       "      <td>64.285714</td>\n",
       "      <td>35.714286</td>\n",
       "      <td>76.677846</td>\n",
       "      <td>68.584234</td>\n",
       "      <td>7.80</td>\n",
       "      <td>14.76</td>\n",
       "      <td>12.61</td>\n",
       "      <td>...</td>\n",
       "      <td>-61.8</td>\n",
       "      <td>-65</td>\n",
       "      <td>1.000000</td>\n",
       "      <td>0.661517</td>\n",
       "      <td>0.673418</td>\n",
       "      <td>15.153283</td>\n",
       "      <td>0.000000</td>\n",
       "      <td>-37.040483</td>\n",
       "      <td>1</td>\n",
       "      <td>0</td>\n",
       "    </tr>\n",
       "    <tr>\n",
       "      <th>4</th>\n",
       "      <td>41</td>\n",
       "      <td>37</td>\n",
       "      <td>100.000000</td>\n",
       "      <td>57.142857</td>\n",
       "      <td>42.857143</td>\n",
       "      <td>81.603007</td>\n",
       "      <td>76.455495</td>\n",
       "      <td>14.90</td>\n",
       "      <td>11.92</td>\n",
       "      <td>14.25</td>\n",
       "      <td>...</td>\n",
       "      <td>-79.8</td>\n",
       "      <td>-86</td>\n",
       "      <td>1.000000</td>\n",
       "      <td>0.747204</td>\n",
       "      <td>0.700522</td>\n",
       "      <td>-15.179065</td>\n",
       "      <td>-35.727079</td>\n",
       "      <td>-37.103503</td>\n",
       "      <td>1</td>\n",
       "      <td>0</td>\n",
       "    </tr>\n",
       "    <tr>\n",
       "      <th>...</th>\n",
       "      <td>...</td>\n",
       "      <td>...</td>\n",
       "      <td>...</td>\n",
       "      <td>...</td>\n",
       "      <td>...</td>\n",
       "      <td>...</td>\n",
       "      <td>...</td>\n",
       "      <td>...</td>\n",
       "      <td>...</td>\n",
       "      <td>...</td>\n",
       "      <td>...</td>\n",
       "      <td>...</td>\n",
       "      <td>...</td>\n",
       "      <td>...</td>\n",
       "      <td>...</td>\n",
       "      <td>...</td>\n",
       "      <td>...</td>\n",
       "      <td>...</td>\n",
       "      <td>...</td>\n",
       "      <td>...</td>\n",
       "      <td>...</td>\n",
       "    </tr>\n",
       "    <tr>\n",
       "      <th>6162</th>\n",
       "      <td>27</td>\n",
       "      <td>31</td>\n",
       "      <td>57.142857</td>\n",
       "      <td>28.571429</td>\n",
       "      <td>28.571429</td>\n",
       "      <td>60.010531</td>\n",
       "      <td>32.362582</td>\n",
       "      <td>9.70</td>\n",
       "      <td>9.38</td>\n",
       "      <td>13.66</td>\n",
       "      <td>...</td>\n",
       "      <td>-28.2</td>\n",
       "      <td>-40</td>\n",
       "      <td>0.270270</td>\n",
       "      <td>0.840000</td>\n",
       "      <td>0.600846</td>\n",
       "      <td>14.673247</td>\n",
       "      <td>-34.536532</td>\n",
       "      <td>-35.867088</td>\n",
       "      <td>0</td>\n",
       "      <td>1</td>\n",
       "    </tr>\n",
       "    <tr>\n",
       "      <th>6163</th>\n",
       "      <td>22</td>\n",
       "      <td>27</td>\n",
       "      <td>50.000000</td>\n",
       "      <td>21.428571</td>\n",
       "      <td>28.571429</td>\n",
       "      <td>60.209998</td>\n",
       "      <td>32.914628</td>\n",
       "      <td>7.65</td>\n",
       "      <td>8.84</td>\n",
       "      <td>11.79</td>\n",
       "      <td>...</td>\n",
       "      <td>-28.6</td>\n",
       "      <td>-41</td>\n",
       "      <td>0.000000</td>\n",
       "      <td>0.737470</td>\n",
       "      <td>0.527673</td>\n",
       "      <td>14.673750</td>\n",
       "      <td>-34.537716</td>\n",
       "      <td>-35.868318</td>\n",
       "      <td>0</td>\n",
       "      <td>1</td>\n",
       "    </tr>\n",
       "    <tr>\n",
       "      <th>6164</th>\n",
       "      <td>19</td>\n",
       "      <td>22</td>\n",
       "      <td>42.857143</td>\n",
       "      <td>14.285714</td>\n",
       "      <td>28.571429</td>\n",
       "      <td>64.329611</td>\n",
       "      <td>43.550592</td>\n",
       "      <td>8.95</td>\n",
       "      <td>9.06</td>\n",
       "      <td>10.30</td>\n",
       "      <td>...</td>\n",
       "      <td>-37.2</td>\n",
       "      <td>-49</td>\n",
       "      <td>0.769231</td>\n",
       "      <td>0.632107</td>\n",
       "      <td>0.551759</td>\n",
       "      <td>-14.684566</td>\n",
       "      <td>-34.563173</td>\n",
       "      <td>-35.894755</td>\n",
       "      <td>1</td>\n",
       "      <td>0</td>\n",
       "    </tr>\n",
       "    <tr>\n",
       "      <th>6165</th>\n",
       "      <td>19</td>\n",
       "      <td>19</td>\n",
       "      <td>100.000000</td>\n",
       "      <td>7.142857</td>\n",
       "      <td>92.857143</td>\n",
       "      <td>69.027764</td>\n",
       "      <td>54.130755</td>\n",
       "      <td>13.55</td>\n",
       "      <td>10.36</td>\n",
       "      <td>10.55</td>\n",
       "      <td>...</td>\n",
       "      <td>-48.9</td>\n",
       "      <td>-61</td>\n",
       "      <td>1.000000</td>\n",
       "      <td>0.733010</td>\n",
       "      <td>0.591584</td>\n",
       "      <td>-14.699280</td>\n",
       "      <td>-34.597806</td>\n",
       "      <td>-35.930723</td>\n",
       "      <td>1</td>\n",
       "      <td>0</td>\n",
       "    </tr>\n",
       "    <tr>\n",
       "      <th>6166</th>\n",
       "      <td>19</td>\n",
       "      <td>19</td>\n",
       "      <td>92.857143</td>\n",
       "      <td>0.000000</td>\n",
       "      <td>92.857143</td>\n",
       "      <td>65.157180</td>\n",
       "      <td>45.524973</td>\n",
       "      <td>11.45</td>\n",
       "      <td>10.16</td>\n",
       "      <td>9.68</td>\n",
       "      <td>...</td>\n",
       "      <td>-44.0</td>\n",
       "      <td>-56</td>\n",
       "      <td>1.000000</td>\n",
       "      <td>0.687500</td>\n",
       "      <td>0.593936</td>\n",
       "      <td>-14.693117</td>\n",
       "      <td>-34.583301</td>\n",
       "      <td>-35.915659</td>\n",
       "      <td>1</td>\n",
       "      <td>0</td>\n",
       "    </tr>\n",
       "  </tbody>\n",
       "</table>\n",
       "<p>6167 rows × 135 columns</p>\n",
       "</div>"
      ],
      "text/plain": [
       "      ind_5  ind_6       ind_8      ind_9     ind_10     ind_12     ind_13  \\\n",
       "0        19     17  100.000000  85.714286  14.285714  72.363515  60.808814   \n",
       "1        24     19  100.000000  78.571429  21.428571  74.275883  64.366798   \n",
       "2        30     24  100.000000  71.428571  28.571429  75.140402  65.915803   \n",
       "3        37     30  100.000000  64.285714  35.714286  76.677846  68.584234   \n",
       "4        41     37  100.000000  57.142857  42.857143  81.603007  76.455495   \n",
       "...     ...    ...         ...        ...        ...        ...        ...   \n",
       "6162     27     31   57.142857  28.571429  28.571429  60.010531  32.362582   \n",
       "6163     22     27   50.000000  21.428571  28.571429  60.209998  32.914628   \n",
       "6164     19     22   42.857143  14.285714  28.571429  64.329611  43.550592   \n",
       "6165     19     19  100.000000   7.142857  92.857143  69.027764  54.130755   \n",
       "6166     19     19   92.857143   0.000000  92.857143  65.157180  45.524973   \n",
       "\n",
       "      ind_14  ind_15  ind_16  ...  ind_416  ind_418   ind_424   ind_426  \\\n",
       "0      23.80   17.62   11.73  ...    -49.6      -54  1.000000  0.498547   \n",
       "1      11.45   18.16   12.22  ...    -55.6      -60  1.000000  0.537088   \n",
       "2       8.75   17.86   12.28  ...    -58.4      -60  1.000000  0.615169   \n",
       "3       7.80   14.76   12.61  ...    -61.8      -65  1.000000  0.661517   \n",
       "4      14.90   11.92   14.25  ...    -79.8      -86  1.000000  0.747204   \n",
       "...      ...     ...     ...  ...      ...      ...       ...       ...   \n",
       "6162    9.70    9.38   13.66  ...    -28.2      -40  0.270270  0.840000   \n",
       "6163    7.65    8.84   11.79  ...    -28.6      -41  0.000000  0.737470   \n",
       "6164    8.95    9.06   10.30  ...    -37.2      -49  0.769231  0.632107   \n",
       "6165   13.55   10.36   10.55  ...    -48.9      -61  1.000000  0.733010   \n",
       "6166   11.45   10.16    9.68  ...    -44.0      -56  1.000000  0.687500   \n",
       "\n",
       "       ind_428  20_target  50_target  90_target  ind_109_GREEN  ind_109_RED  \n",
       "0     0.701906  15.135802  35.625252  36.997753              1            0  \n",
       "1     0.690833  15.143348  35.643013  37.016198              1            0  \n",
       "2     0.693040  15.146870  35.651301 -37.024805              1            0  \n",
       "3     0.673418  15.153283   0.000000 -37.040483              1            0  \n",
       "4     0.700522 -15.179065 -35.727079 -37.103503              1            0  \n",
       "...        ...        ...        ...        ...            ...          ...  \n",
       "6162  0.600846  14.673247 -34.536532 -35.867088              0            1  \n",
       "6163  0.527673  14.673750 -34.537716 -35.868318              0            1  \n",
       "6164  0.551759 -14.684566 -34.563173 -35.894755              1            0  \n",
       "6165  0.591584 -14.699280 -34.597806 -35.930723              1            0  \n",
       "6166  0.593936 -14.693117 -34.583301 -35.915659              1            0  \n",
       "\n",
       "[6167 rows x 135 columns]"
      ]
     },
     "execution_count": 18,
     "metadata": {},
     "output_type": "execute_result"
    }
   ],
   "source": [
    "dummy_df = pd.get_dummies(df)\n",
    "data = dummy_df\n",
    "data"
   ]
  },
  {
   "cell_type": "code",
   "execution_count": 19,
   "metadata": {},
   "outputs": [
    {
     "data": {
      "text/html": [
       "<div>\n",
       "<style scoped>\n",
       "    .dataframe tbody tr th:only-of-type {\n",
       "        vertical-align: middle;\n",
       "    }\n",
       "\n",
       "    .dataframe tbody tr th {\n",
       "        vertical-align: top;\n",
       "    }\n",
       "\n",
       "    .dataframe thead th {\n",
       "        text-align: right;\n",
       "    }\n",
       "</style>\n",
       "<table border=\"1\" class=\"dataframe\">\n",
       "  <thead>\n",
       "    <tr style=\"text-align: right;\">\n",
       "      <th></th>\n",
       "      <th>ind_5</th>\n",
       "      <th>ind_6</th>\n",
       "      <th>ind_8</th>\n",
       "      <th>ind_9</th>\n",
       "      <th>ind_10</th>\n",
       "      <th>ind_12</th>\n",
       "      <th>ind_13</th>\n",
       "      <th>ind_14</th>\n",
       "      <th>ind_15</th>\n",
       "      <th>ind_16</th>\n",
       "      <th>...</th>\n",
       "      <th>ind_412</th>\n",
       "      <th>ind_414</th>\n",
       "      <th>ind_416</th>\n",
       "      <th>ind_418</th>\n",
       "      <th>ind_424</th>\n",
       "      <th>ind_426</th>\n",
       "      <th>ind_428</th>\n",
       "      <th>20_target</th>\n",
       "      <th>50_target</th>\n",
       "      <th>90_target</th>\n",
       "    </tr>\n",
       "  </thead>\n",
       "  <tbody>\n",
       "    <tr>\n",
       "      <th>ind_5</th>\n",
       "      <td>1.000000</td>\n",
       "      <td>0.989945</td>\n",
       "      <td>0.543246</td>\n",
       "      <td>-0.533328</td>\n",
       "      <td>0.649225</td>\n",
       "      <td>0.822255</td>\n",
       "      <td>0.768234</td>\n",
       "      <td>-0.014502</td>\n",
       "      <td>-0.026336</td>\n",
       "      <td>-0.041130</td>\n",
       "      <td>...</td>\n",
       "      <td>0.620106</td>\n",
       "      <td>-0.694619</td>\n",
       "      <td>-0.304134</td>\n",
       "      <td>-0.620099</td>\n",
       "      <td>0.076169</td>\n",
       "      <td>0.626439</td>\n",
       "      <td>0.817302</td>\n",
       "      <td>0.060969</td>\n",
       "      <td>0.068989</td>\n",
       "      <td>0.060428</td>\n",
       "    </tr>\n",
       "    <tr>\n",
       "      <th>ind_6</th>\n",
       "      <td>0.989945</td>\n",
       "      <td>1.000000</td>\n",
       "      <td>0.514222</td>\n",
       "      <td>-0.495572</td>\n",
       "      <td>0.608947</td>\n",
       "      <td>0.768551</td>\n",
       "      <td>0.713870</td>\n",
       "      <td>-0.006066</td>\n",
       "      <td>-0.019393</td>\n",
       "      <td>-0.035795</td>\n",
       "      <td>...</td>\n",
       "      <td>0.634679</td>\n",
       "      <td>-0.646983</td>\n",
       "      <td>-0.279922</td>\n",
       "      <td>-0.569657</td>\n",
       "      <td>0.021220</td>\n",
       "      <td>0.567359</td>\n",
       "      <td>0.810371</td>\n",
       "      <td>0.062101</td>\n",
       "      <td>0.069652</td>\n",
       "      <td>0.061560</td>\n",
       "    </tr>\n",
       "    <tr>\n",
       "      <th>ind_8</th>\n",
       "      <td>0.543246</td>\n",
       "      <td>0.514222</td>\n",
       "      <td>1.000000</td>\n",
       "      <td>-0.374857</td>\n",
       "      <td>0.828650</td>\n",
       "      <td>0.583623</td>\n",
       "      <td>0.482220</td>\n",
       "      <td>0.162635</td>\n",
       "      <td>0.139612</td>\n",
       "      <td>0.038862</td>\n",
       "      <td>...</td>\n",
       "      <td>0.275687</td>\n",
       "      <td>-0.489596</td>\n",
       "      <td>-0.277258</td>\n",
       "      <td>-0.432579</td>\n",
       "      <td>0.144795</td>\n",
       "      <td>0.593799</td>\n",
       "      <td>0.445427</td>\n",
       "      <td>-0.004126</td>\n",
       "      <td>0.006984</td>\n",
       "      <td>-0.006650</td>\n",
       "    </tr>\n",
       "    <tr>\n",
       "      <th>ind_9</th>\n",
       "      <td>-0.533328</td>\n",
       "      <td>-0.495572</td>\n",
       "      <td>-0.374857</td>\n",
       "      <td>1.000000</td>\n",
       "      <td>-0.829576</td>\n",
       "      <td>-0.609288</td>\n",
       "      <td>-0.568581</td>\n",
       "      <td>0.238938</td>\n",
       "      <td>0.240048</td>\n",
       "      <td>0.152133</td>\n",
       "      <td>...</td>\n",
       "      <td>-0.276882</td>\n",
       "      <td>0.436275</td>\n",
       "      <td>0.349318</td>\n",
       "      <td>0.505772</td>\n",
       "      <td>-0.173139</td>\n",
       "      <td>-0.631961</td>\n",
       "      <td>-0.450719</td>\n",
       "      <td>-0.031316</td>\n",
       "      <td>-0.004053</td>\n",
       "      <td>0.012093</td>\n",
       "    </tr>\n",
       "    <tr>\n",
       "      <th>ind_10</th>\n",
       "      <td>0.649225</td>\n",
       "      <td>0.608947</td>\n",
       "      <td>0.828650</td>\n",
       "      <td>-0.829576</td>\n",
       "      <td>1.000000</td>\n",
       "      <td>0.719409</td>\n",
       "      <td>0.633753</td>\n",
       "      <td>-0.046312</td>\n",
       "      <td>-0.060849</td>\n",
       "      <td>-0.068450</td>\n",
       "      <td>...</td>\n",
       "      <td>0.333229</td>\n",
       "      <td>-0.558311</td>\n",
       "      <td>-0.377913</td>\n",
       "      <td>-0.565931</td>\n",
       "      <td>0.191752</td>\n",
       "      <td>0.739227</td>\n",
       "      <td>0.540428</td>\n",
       "      <td>0.016423</td>\n",
       "      <td>0.006654</td>\n",
       "      <td>-0.011307</td>\n",
       "    </tr>\n",
       "    <tr>\n",
       "      <th>...</th>\n",
       "      <td>...</td>\n",
       "      <td>...</td>\n",
       "      <td>...</td>\n",
       "      <td>...</td>\n",
       "      <td>...</td>\n",
       "      <td>...</td>\n",
       "      <td>...</td>\n",
       "      <td>...</td>\n",
       "      <td>...</td>\n",
       "      <td>...</td>\n",
       "      <td>...</td>\n",
       "      <td>...</td>\n",
       "      <td>...</td>\n",
       "      <td>...</td>\n",
       "      <td>...</td>\n",
       "      <td>...</td>\n",
       "      <td>...</td>\n",
       "      <td>...</td>\n",
       "      <td>...</td>\n",
       "      <td>...</td>\n",
       "      <td>...</td>\n",
       "    </tr>\n",
       "    <tr>\n",
       "      <th>ind_426</th>\n",
       "      <td>0.626439</td>\n",
       "      <td>0.567359</td>\n",
       "      <td>0.593799</td>\n",
       "      <td>-0.631961</td>\n",
       "      <td>0.739227</td>\n",
       "      <td>0.776076</td>\n",
       "      <td>0.700736</td>\n",
       "      <td>-0.066201</td>\n",
       "      <td>-0.066437</td>\n",
       "      <td>-0.051049</td>\n",
       "      <td>...</td>\n",
       "      <td>0.293592</td>\n",
       "      <td>-0.571432</td>\n",
       "      <td>-0.356302</td>\n",
       "      <td>-0.594243</td>\n",
       "      <td>0.341017</td>\n",
       "      <td>1.000000</td>\n",
       "      <td>0.584754</td>\n",
       "      <td>0.019599</td>\n",
       "      <td>0.009063</td>\n",
       "      <td>-0.002519</td>\n",
       "    </tr>\n",
       "    <tr>\n",
       "      <th>ind_428</th>\n",
       "      <td>0.817302</td>\n",
       "      <td>0.810371</td>\n",
       "      <td>0.445427</td>\n",
       "      <td>-0.450719</td>\n",
       "      <td>0.540428</td>\n",
       "      <td>0.807595</td>\n",
       "      <td>0.727899</td>\n",
       "      <td>0.021970</td>\n",
       "      <td>0.016318</td>\n",
       "      <td>0.010361</td>\n",
       "      <td>...</td>\n",
       "      <td>0.574646</td>\n",
       "      <td>-0.499656</td>\n",
       "      <td>-0.260048</td>\n",
       "      <td>-0.487564</td>\n",
       "      <td>0.188853</td>\n",
       "      <td>0.584754</td>\n",
       "      <td>1.000000</td>\n",
       "      <td>0.047041</td>\n",
       "      <td>0.052418</td>\n",
       "      <td>0.043563</td>\n",
       "    </tr>\n",
       "    <tr>\n",
       "      <th>20_target</th>\n",
       "      <td>0.060969</td>\n",
       "      <td>0.062101</td>\n",
       "      <td>-0.004126</td>\n",
       "      <td>-0.031316</td>\n",
       "      <td>0.016423</td>\n",
       "      <td>0.042550</td>\n",
       "      <td>0.041289</td>\n",
       "      <td>0.015320</td>\n",
       "      <td>0.012012</td>\n",
       "      <td>0.026881</td>\n",
       "      <td>...</td>\n",
       "      <td>0.066637</td>\n",
       "      <td>-0.029005</td>\n",
       "      <td>-0.009829</td>\n",
       "      <td>-0.045656</td>\n",
       "      <td>-0.008799</td>\n",
       "      <td>0.019599</td>\n",
       "      <td>0.047041</td>\n",
       "      <td>1.000000</td>\n",
       "      <td>0.384076</td>\n",
       "      <td>0.355950</td>\n",
       "    </tr>\n",
       "    <tr>\n",
       "      <th>50_target</th>\n",
       "      <td>0.068989</td>\n",
       "      <td>0.069652</td>\n",
       "      <td>0.006984</td>\n",
       "      <td>-0.004053</td>\n",
       "      <td>0.006654</td>\n",
       "      <td>0.055045</td>\n",
       "      <td>0.048302</td>\n",
       "      <td>0.072728</td>\n",
       "      <td>0.084561</td>\n",
       "      <td>0.101774</td>\n",
       "      <td>...</td>\n",
       "      <td>0.127234</td>\n",
       "      <td>0.008239</td>\n",
       "      <td>0.047728</td>\n",
       "      <td>-0.101488</td>\n",
       "      <td>-0.003372</td>\n",
       "      <td>0.009063</td>\n",
       "      <td>0.052418</td>\n",
       "      <td>0.384076</td>\n",
       "      <td>1.000000</td>\n",
       "      <td>0.940916</td>\n",
       "    </tr>\n",
       "    <tr>\n",
       "      <th>90_target</th>\n",
       "      <td>0.060428</td>\n",
       "      <td>0.061560</td>\n",
       "      <td>-0.006650</td>\n",
       "      <td>0.012093</td>\n",
       "      <td>-0.011307</td>\n",
       "      <td>0.043786</td>\n",
       "      <td>0.043491</td>\n",
       "      <td>0.077710</td>\n",
       "      <td>0.088271</td>\n",
       "      <td>0.108077</td>\n",
       "      <td>...</td>\n",
       "      <td>0.124265</td>\n",
       "      <td>0.018379</td>\n",
       "      <td>0.049615</td>\n",
       "      <td>-0.096903</td>\n",
       "      <td>-0.007689</td>\n",
       "      <td>-0.002519</td>\n",
       "      <td>0.043563</td>\n",
       "      <td>0.355950</td>\n",
       "      <td>0.940916</td>\n",
       "      <td>1.000000</td>\n",
       "    </tr>\n",
       "  </tbody>\n",
       "</table>\n",
       "<p>133 rows × 133 columns</p>\n",
       "</div>"
      ],
      "text/plain": [
       "              ind_5     ind_6     ind_8     ind_9    ind_10    ind_12  \\\n",
       "ind_5      1.000000  0.989945  0.543246 -0.533328  0.649225  0.822255   \n",
       "ind_6      0.989945  1.000000  0.514222 -0.495572  0.608947  0.768551   \n",
       "ind_8      0.543246  0.514222  1.000000 -0.374857  0.828650  0.583623   \n",
       "ind_9     -0.533328 -0.495572 -0.374857  1.000000 -0.829576 -0.609288   \n",
       "ind_10     0.649225  0.608947  0.828650 -0.829576  1.000000  0.719409   \n",
       "...             ...       ...       ...       ...       ...       ...   \n",
       "ind_426    0.626439  0.567359  0.593799 -0.631961  0.739227  0.776076   \n",
       "ind_428    0.817302  0.810371  0.445427 -0.450719  0.540428  0.807595   \n",
       "20_target  0.060969  0.062101 -0.004126 -0.031316  0.016423  0.042550   \n",
       "50_target  0.068989  0.069652  0.006984 -0.004053  0.006654  0.055045   \n",
       "90_target  0.060428  0.061560 -0.006650  0.012093 -0.011307  0.043786   \n",
       "\n",
       "             ind_13    ind_14    ind_15    ind_16  ...   ind_412   ind_414  \\\n",
       "ind_5      0.768234 -0.014502 -0.026336 -0.041130  ...  0.620106 -0.694619   \n",
       "ind_6      0.713870 -0.006066 -0.019393 -0.035795  ...  0.634679 -0.646983   \n",
       "ind_8      0.482220  0.162635  0.139612  0.038862  ...  0.275687 -0.489596   \n",
       "ind_9     -0.568581  0.238938  0.240048  0.152133  ... -0.276882  0.436275   \n",
       "ind_10     0.633753 -0.046312 -0.060849 -0.068450  ...  0.333229 -0.558311   \n",
       "...             ...       ...       ...       ...  ...       ...       ...   \n",
       "ind_426    0.700736 -0.066201 -0.066437 -0.051049  ...  0.293592 -0.571432   \n",
       "ind_428    0.727899  0.021970  0.016318  0.010361  ...  0.574646 -0.499656   \n",
       "20_target  0.041289  0.015320  0.012012  0.026881  ...  0.066637 -0.029005   \n",
       "50_target  0.048302  0.072728  0.084561  0.101774  ...  0.127234  0.008239   \n",
       "90_target  0.043491  0.077710  0.088271  0.108077  ...  0.124265  0.018379   \n",
       "\n",
       "            ind_416   ind_418   ind_424   ind_426   ind_428  20_target  \\\n",
       "ind_5     -0.304134 -0.620099  0.076169  0.626439  0.817302   0.060969   \n",
       "ind_6     -0.279922 -0.569657  0.021220  0.567359  0.810371   0.062101   \n",
       "ind_8     -0.277258 -0.432579  0.144795  0.593799  0.445427  -0.004126   \n",
       "ind_9      0.349318  0.505772 -0.173139 -0.631961 -0.450719  -0.031316   \n",
       "ind_10    -0.377913 -0.565931  0.191752  0.739227  0.540428   0.016423   \n",
       "...             ...       ...       ...       ...       ...        ...   \n",
       "ind_426   -0.356302 -0.594243  0.341017  1.000000  0.584754   0.019599   \n",
       "ind_428   -0.260048 -0.487564  0.188853  0.584754  1.000000   0.047041   \n",
       "20_target -0.009829 -0.045656 -0.008799  0.019599  0.047041   1.000000   \n",
       "50_target  0.047728 -0.101488 -0.003372  0.009063  0.052418   0.384076   \n",
       "90_target  0.049615 -0.096903 -0.007689 -0.002519  0.043563   0.355950   \n",
       "\n",
       "           50_target  90_target  \n",
       "ind_5       0.068989   0.060428  \n",
       "ind_6       0.069652   0.061560  \n",
       "ind_8       0.006984  -0.006650  \n",
       "ind_9      -0.004053   0.012093  \n",
       "ind_10      0.006654  -0.011307  \n",
       "...              ...        ...  \n",
       "ind_426     0.009063  -0.002519  \n",
       "ind_428     0.052418   0.043563  \n",
       "20_target   0.384076   0.355950  \n",
       "50_target   1.000000   0.940916  \n",
       "90_target   0.940916   1.000000  \n",
       "\n",
       "[133 rows x 133 columns]"
      ]
     },
     "execution_count": 19,
     "metadata": {},
     "output_type": "execute_result"
    }
   ],
   "source": [
    "df.corr()"
   ]
  },
  {
   "cell_type": "raw",
   "metadata": {},
   "source": [
    "# Son 3 değişken olarak target değişkenlerimiz var ve diğer değişkenler ve bunlar arasındaki ilişkilere bakacağız."
   ]
  },
  {
   "cell_type": "code",
   "execution_count": 249,
   "metadata": {},
   "outputs": [
    {
     "data": {
      "text/html": [
       "<div>\n",
       "<style scoped>\n",
       "    .dataframe tbody tr th:only-of-type {\n",
       "        vertical-align: middle;\n",
       "    }\n",
       "\n",
       "    .dataframe tbody tr th {\n",
       "        vertical-align: top;\n",
       "    }\n",
       "\n",
       "    .dataframe thead th {\n",
       "        text-align: right;\n",
       "    }\n",
       "</style>\n",
       "<table border=\"1\" class=\"dataframe\">\n",
       "  <thead>\n",
       "    <tr style=\"text-align: right;\">\n",
       "      <th></th>\n",
       "      <th>count</th>\n",
       "      <th>mean</th>\n",
       "      <th>std</th>\n",
       "      <th>min</th>\n",
       "      <th>25%</th>\n",
       "      <th>50%</th>\n",
       "      <th>75%</th>\n",
       "      <th>max</th>\n",
       "    </tr>\n",
       "  </thead>\n",
       "  <tbody>\n",
       "    <tr>\n",
       "      <th>20_target</th>\n",
       "      <td>6167.0</td>\n",
       "      <td>-0.057102</td>\n",
       "      <td>14.834497</td>\n",
       "      <td>-15.780588</td>\n",
       "      <td>-15.350354</td>\n",
       "      <td>0.000000</td>\n",
       "      <td>15.385945</td>\n",
       "      <td>15.768767</td>\n",
       "    </tr>\n",
       "    <tr>\n",
       "      <th>50_target</th>\n",
       "      <td>6167.0</td>\n",
       "      <td>-2.906358</td>\n",
       "      <td>34.559778</td>\n",
       "      <td>-37.142889</td>\n",
       "      <td>-36.208094</td>\n",
       "      <td>-34.267756</td>\n",
       "      <td>35.879524</td>\n",
       "      <td>37.038694</td>\n",
       "    </tr>\n",
       "    <tr>\n",
       "      <th>90_target</th>\n",
       "      <td>6167.0</td>\n",
       "      <td>-3.315072</td>\n",
       "      <td>36.841541</td>\n",
       "      <td>-38.573858</td>\n",
       "      <td>-37.695273</td>\n",
       "      <td>-35.788391</td>\n",
       "      <td>37.521892</td>\n",
       "      <td>38.465649</td>\n",
       "    </tr>\n",
       "  </tbody>\n",
       "</table>\n",
       "</div>"
      ],
      "text/plain": [
       "            count      mean        std        min        25%        50%  \\\n",
       "20_target  6167.0 -0.057102  14.834497 -15.780588 -15.350354   0.000000   \n",
       "50_target  6167.0 -2.906358  34.559778 -37.142889 -36.208094 -34.267756   \n",
       "90_target  6167.0 -3.315072  36.841541 -38.573858 -37.695273 -35.788391   \n",
       "\n",
       "                 75%        max  \n",
       "20_target  15.385945  15.768767  \n",
       "50_target  35.879524  37.038694  \n",
       "90_target  37.521892  38.465649  "
      ]
     },
     "execution_count": 249,
     "metadata": {},
     "output_type": "execute_result"
    }
   ],
   "source": [
    "df[['20_target','50_target','90_target']].describe().T"
   ]
  },
  {
   "cell_type": "code",
   "execution_count": 252,
   "metadata": {},
   "outputs": [
    {
     "ename": "NameError",
     "evalue": "name 'df_corr' is not defined",
     "output_type": "error",
     "traceback": [
      "\u001b[1;31m---------------------------------------------------------------------------\u001b[0m",
      "\u001b[1;31mNameError\u001b[0m                                 Traceback (most recent call last)",
      "\u001b[1;32m<ipython-input-252-8accf791905b>\u001b[0m in \u001b[0;36m<module>\u001b[1;34m\u001b[0m\n\u001b[1;32m----> 1\u001b[1;33m \u001b[0mdf_corr\u001b[0m\u001b[1;33m(\u001b[0m\u001b[1;33m[\u001b[0m\u001b[1;34m'20_target'\u001b[0m\u001b[1;33m,\u001b[0m\u001b[1;34m'50_target'\u001b[0m\u001b[1;33m,\u001b[0m\u001b[1;34m'90_target'\u001b[0m\u001b[1;33m]\u001b[0m\u001b[1;33m)\u001b[0m\u001b[1;33m.\u001b[0m\u001b[0mT\u001b[0m\u001b[1;33m\u001b[0m\u001b[1;33m\u001b[0m\u001b[0m\n\u001b[0m",
      "\u001b[1;31mNameError\u001b[0m: name 'df_corr' is not defined"
     ]
    }
   ],
   "source": [
    "df_corr(['20_target','50_target','90_target']).T"
   ]
  },
  {
   "cell_type": "raw",
   "metadata": {},
   "source": [
    "#Bu target değişkenlerden 50_target seçildi.Korelasyon durumuna göre karar verildi."
   ]
  },
  {
   "cell_type": "code",
   "execution_count": 51,
   "metadata": {},
   "outputs": [],
   "source": [
    "df = df.drop(columns=['20_target', '90_target'])"
   ]
  },
  {
   "cell_type": "code",
   "execution_count": 26,
   "metadata": {},
   "outputs": [
    {
     "data": {
      "text/plain": [
       "ind_5        0.068989\n",
       "ind_6        0.069652\n",
       "ind_8        0.006984\n",
       "ind_9        0.004053\n",
       "ind_10       0.006654\n",
       "               ...   \n",
       "ind_418      0.101488\n",
       "ind_424      0.003372\n",
       "ind_426      0.009063\n",
       "ind_428      0.052418\n",
       "50_target    1.000000\n",
       "Name: 50_target, Length: 131, dtype: float64"
      ]
     },
     "execution_count": 26,
     "metadata": {},
     "output_type": "execute_result"
    }
   ],
   "source": [
    "cor = df.corr()[\"50_target\"].abs()\n",
    "cor"
   ]
  },
  {
   "cell_type": "code",
   "execution_count": 27,
   "metadata": {},
   "outputs": [
    {
     "data": {
      "text/plain": [
       "Index(['50_target', 'ind_412', 'ind_18', 'ind_17', 'ind_324', 'ind_332'], dtype='object')"
      ]
     },
     "execution_count": 27,
     "metadata": {},
     "output_type": "execute_result"
    }
   ],
   "source": [
    "corr = cor.nlargest(6).index\n",
    "corr"
   ]
  },
  {
   "cell_type": "code",
   "execution_count": 28,
   "metadata": {},
   "outputs": [
    {
     "data": {
      "image/png": "[encoded data removed]",
      "text/plain": [
       "<Figure size 432x288 with 1 Axes>"
      ]
     },
     "metadata": {
      "needs_background": "light"
     },
     "output_type": "display_data"
    }
   ],
   "source": [
    "plt.hist(df.ind_18,bins=12,color='#0ea7b5',\n",
    "         histtype=\"bar\")\n",
    "\n",
    "plt.xlabel(\"ind_18\")\n",
    "plt.ylabel(\"50_target\")\n",
    "\n",
    "plt.show()"
   ]
  },
  {
   "cell_type": "code",
   "execution_count": 29,
   "metadata": {},
   "outputs": [
    {
     "data": {
      "image/png": "[encoded data removed]",
      "text/plain": [
       "<Figure size 432x288 with 1 Axes>"
      ]
     },
     "metadata": {
      "needs_background": "light"
     },
     "output_type": "display_data"
    }
   ],
   "source": [
    "plt.hist(df.ind_17,bins=12,color='#ffe28a',\n",
    "         histtype=\"bar\")\n",
    "\n",
    "plt.xlabel(\"ind_17\")\n",
    "plt.ylabel(\"50_target\")\n",
    "\n",
    "plt.show()"
   ]
  },
  {
   "cell_type": "code",
   "execution_count": 30,
   "metadata": {},
   "outputs": [
    {
     "data": {
      "image/png": "[encoded data removed]",
      "text/plain": [
       "<Figure size 432x288 with 1 Axes>"
      ]
     },
     "metadata": {
      "needs_background": "light"
     },
     "output_type": "display_data"
    }
   ],
   "source": [
    "plt.hist(df.ind_324,bins=12,color='#ee104e',\n",
    "         histtype=\"bar\")\n",
    "\n",
    "plt.xlabel(\"ind_324\")\n",
    "plt.ylabel(\"50_target\")\n",
    "\n",
    "plt.show()"
   ]
  },
  {
   "cell_type": "code",
   "execution_count": 31,
   "metadata": {},
   "outputs": [
    {
     "data": {
      "image/png": "[encoded data removed]",
      "text/plain": [
       "<Figure size 432x288 with 1 Axes>"
      ]
     },
     "metadata": {
      "needs_background": "light"
     },
     "output_type": "display_data"
    }
   ],
   "source": [
    "plt.hist(df.ind_332,bins=12,color='#9acd32',\n",
    "         histtype=\"bar\")\n",
    "\n",
    "plt.xlabel(\"ind_332\")\n",
    "plt.ylabel(\"50_target\")\n",
    "\n",
    "plt.show()\n"
   ]
  },
  {
   "cell_type": "code",
   "execution_count": 32,
   "metadata": {},
   "outputs": [
    {
     "data": {
      "image/png": "[encoded data removed]",
      "text/plain": [
       "<Figure size 432x288 with 1 Axes>"
      ]
     },
     "metadata": {
      "needs_background": "light"
     },
     "output_type": "display_data"
    }
   ],
   "source": [
    "plt.hist(df.ind_412,bins=12,color='#5cb85c',\n",
    "         histtype=\"bar\")\n",
    "\n",
    "plt.xlabel(\"ind_412\")\n",
    "plt.ylabel(\"50_target\")\n",
    "\n",
    "plt.show()"
   ]
  },
  {
   "cell_type": "code",
   "execution_count": 33,
   "metadata": {},
   "outputs": [
    {
     "data": {
      "text/plain": [
       "<matplotlib.axes._subplots.AxesSubplot at 0x1727ab658c8>"
      ]
     },
     "execution_count": 33,
     "metadata": {},
     "output_type": "execute_result"
    },
    {
     "data": {
      "image/png": "[encoded data removed]",
      "text/plain": [
       "<Figure size 720x432 with 1 Axes>"
      ]
     },
     "metadata": {
      "needs_background": "light"
     },
     "output_type": "display_data"
    }
   ],
   "source": [
    "fig, ax = plt.subplots(figsize=(10,6))        \n",
    "sns.barplot(x=\"ind_412\", y=\"50_target\", data=df, ax=ax ,color =\"purple\")\n"
   ]
  },
  {
   "cell_type": "code",
   "execution_count": 34,
   "metadata": {},
   "outputs": [
    {
     "data": {
      "image/png": "[encoded data removed]",
      "text/plain": [
       "<Figure size 720x576 with 1 Axes>"
      ]
     },
     "metadata": {
      "needs_background": "light"
     },
     "output_type": "display_data"
    }
   ],
   "source": [
    "plt.figure(figsize=(10,8))\n",
    "boxplot_df = df[[\"ind_18\", \"ind_324\" , \"ind_332\",\"ind_17\" , \"ind_412\" ,\"50_target\"]]\n",
    "boxplot_df.boxplot()\n",
    "plt.show()"
   ]
  },
  {
   "cell_type": "code",
   "execution_count": 35,
   "metadata": {},
   "outputs": [
    {
     "data": {
      "text/html": [
       "<div>\n",
       "<style scoped>\n",
       "    .dataframe tbody tr th:only-of-type {\n",
       "        vertical-align: middle;\n",
       "    }\n",
       "\n",
       "    .dataframe tbody tr th {\n",
       "        vertical-align: top;\n",
       "    }\n",
       "\n",
       "    .dataframe thead th {\n",
       "        text-align: right;\n",
       "    }\n",
       "</style>\n",
       "<table border=\"1\" class=\"dataframe\">\n",
       "  <thead>\n",
       "    <tr style=\"text-align: right;\">\n",
       "      <th></th>\n",
       "      <th>50_target</th>\n",
       "      <th>ind_412</th>\n",
       "      <th>ind_18</th>\n",
       "      <th>ind_17</th>\n",
       "      <th>ind_324</th>\n",
       "      <th>ind_332</th>\n",
       "    </tr>\n",
       "  </thead>\n",
       "  <tbody>\n",
       "    <tr>\n",
       "      <th>50_target</th>\n",
       "      <td>1.000000</td>\n",
       "      <td>0.127234</td>\n",
       "      <td>0.127057</td>\n",
       "      <td>0.121097</td>\n",
       "      <td>-0.110802</td>\n",
       "      <td>0.104057</td>\n",
       "    </tr>\n",
       "    <tr>\n",
       "      <th>ind_412</th>\n",
       "      <td>0.127234</td>\n",
       "      <td>1.000000</td>\n",
       "      <td>-0.018460</td>\n",
       "      <td>-0.036754</td>\n",
       "      <td>-0.263317</td>\n",
       "      <td>0.077782</td>\n",
       "    </tr>\n",
       "    <tr>\n",
       "      <th>ind_18</th>\n",
       "      <td>0.127057</td>\n",
       "      <td>-0.018460</td>\n",
       "      <td>1.000000</td>\n",
       "      <td>0.545873</td>\n",
       "      <td>-0.257567</td>\n",
       "      <td>0.160939</td>\n",
       "    </tr>\n",
       "    <tr>\n",
       "      <th>ind_17</th>\n",
       "      <td>0.121097</td>\n",
       "      <td>-0.036754</td>\n",
       "      <td>0.545873</td>\n",
       "      <td>1.000000</td>\n",
       "      <td>-0.158633</td>\n",
       "      <td>0.064045</td>\n",
       "    </tr>\n",
       "    <tr>\n",
       "      <th>ind_324</th>\n",
       "      <td>-0.110802</td>\n",
       "      <td>-0.263317</td>\n",
       "      <td>-0.257567</td>\n",
       "      <td>-0.158633</td>\n",
       "      <td>1.000000</td>\n",
       "      <td>-0.137205</td>\n",
       "    </tr>\n",
       "    <tr>\n",
       "      <th>ind_332</th>\n",
       "      <td>0.104057</td>\n",
       "      <td>0.077782</td>\n",
       "      <td>0.160939</td>\n",
       "      <td>0.064045</td>\n",
       "      <td>-0.137205</td>\n",
       "      <td>1.000000</td>\n",
       "    </tr>\n",
       "  </tbody>\n",
       "</table>\n",
       "</div>"
      ],
      "text/plain": [
       "           50_target   ind_412    ind_18    ind_17   ind_324   ind_332\n",
       "50_target   1.000000  0.127234  0.127057  0.121097 -0.110802  0.104057\n",
       "ind_412     0.127234  1.000000 -0.018460 -0.036754 -0.263317  0.077782\n",
       "ind_18      0.127057 -0.018460  1.000000  0.545873 -0.257567  0.160939\n",
       "ind_17      0.121097 -0.036754  0.545873  1.000000 -0.158633  0.064045\n",
       "ind_324    -0.110802 -0.263317 -0.257567 -0.158633  1.000000 -0.137205\n",
       "ind_332     0.104057  0.077782  0.160939  0.064045 -0.137205  1.000000"
      ]
     },
     "execution_count": 35,
     "metadata": {},
     "output_type": "execute_result"
    }
   ],
   "source": [
    "new_data = df[['50_target', 'ind_412', 'ind_18', 'ind_17', 'ind_324', 'ind_332']]\n",
    "new_data.corr()"
   ]
  },
  {
   "cell_type": "code",
   "execution_count": 145,
   "metadata": {},
   "outputs": [
    {
     "data": {
      "image/png": "[encoded data removed]",
      "text/plain": [
       "<Figure size 720x576 with 2 Axes>"
      ]
     },
     "metadata": {},
     "output_type": "display_data"
    }
   ],
   "source": [
    "import matplotlib.pyplot as plt\n",
    "import seaborn as sns\n",
    "corr = new_data.corr()\n",
    "fig, ax = plt.subplots(figsize=(10,8))\n",
    "colormap = sns.diverging_palette(220, 10, as_cmap=True)\n",
    "sns.heatmap(corr, cmap=colormap, annot=True, fmt=\".2f\")\n",
    "plt.xticks(range(len(corr.columns)), corr.columns);\n",
    "plt.yticks(range(len(corr.columns)), corr.columns)\n",
    "plt.show()"
   ]
  },
  {
   "cell_type": "code",
   "execution_count": 139,
   "metadata": {},
   "outputs": [
    {
     "data": {
      "image/png": "[encoded data removed]",
      "text/plain": [
       "<Figure size 1872x1296 with 6 Axes>"
      ]
     },
     "metadata": {},
     "output_type": "display_data"
    }
   ],
   "source": [
    "new_data.hist(figsize=(26,18), bins=40, xlabelsize=6, ylabelsize=6,color=\"brown\")\n",
    "plt.show()"
   ]
  },
  {
   "cell_type": "code",
   "execution_count": null,
   "metadata": {},
   "outputs": [],
   "source": [
    "# Dağılımlara bakarak ind_412 değişkeninin normalliğinden şüphelendik ve shapiro normallik testi yaptık."
   ]
  },
  {
   "cell_type": "code",
   "execution_count": null,
   "metadata": {},
   "outputs": [],
   "source": [
    "import statsmodels.api as sm\n",
    "import matplotlib.pylab as plt\n",
    "import numpy as np\n",
    "import scipy.stats as stats\n",
    "import pylab \n",
    "from scipy.stats import shapiro"
   ]
  },
  {
   "cell_type": "code",
   "execution_count": 174,
   "metadata": {},
   "outputs": [
    {
     "name": "stdout",
     "output_type": "stream",
     "text": [
      "Statistics:0.985, p=0.000 \n",
      "örneklem normal dağılımdan gelmemektedir. (reject H0)\n"
     ]
    }
   ],
   "source": [
    "stat, p = stats.shapiro(df[\"ind_412\"])\n",
    "\n",
    "print(\"Statistics:%3.3f, p=%.3f \" % (stat,p))\n",
    "\n",
    "alpha = 0.05 \n",
    "if p>alpha:\n",
    "  print(\"örneklem normal dağılımdan gelmektedir. (Fail to Reject H0)\")\n",
    "else:\n",
    "  print(\"örneklem normal dağılımdan gelmemektedir. (reject H0)\")"
   ]
  },
  {
   "cell_type": "code",
   "execution_count": 181,
   "metadata": {},
   "outputs": [
    {
     "name": "stdout",
     "output_type": "stream",
     "text": [
      "Statistics:0.692, p=0.000 \n",
      "örneklem normal dağılımdan gelmemektedir. (reject H0)\n"
     ]
    },
    {
     "name": "stderr",
     "output_type": "stream",
     "text": [
      "C:\\ProgramData\\Anaconda3\\lib\\site-packages\\scipy\\stats\\morestats.py:1676: UserWarning: p-value may not be accurate for N > 5000.\n",
      "  warnings.warn(\"p-value may not be accurate for N > 5000.\")\n"
     ]
    }
   ],
   "source": [
    "stat, p = stats.shapiro(df[\"50_target\"])\n",
    "\n",
    "print(\"Statistics:%3.3f, p=%.3f \" % (stat,p))\n",
    "\n",
    "alpha = 0.05 \n",
    "if p>alpha:\n",
    "  print(\"örneklem normal dağılımdan gelmektedir. (Fail to Reject H0)\")\n",
    "else:\n",
    "  print(\"örneklem normal dağılımdan gelmemektedir. (reject H0)\")"
   ]
  },
  {
   "cell_type": "code",
   "execution_count": 180,
   "metadata": {},
   "outputs": [
    {
     "name": "stdout",
     "output_type": "stream",
     "text": [
      "Statistics:0.985, p=0.000 \n",
      "İki değişkenin varyansı birbirine eşit değildir. (reject H0)\n"
     ]
    }
   ],
   "source": [
    "stats.levene(df[\"50_target\"], df[\"ind_412\"])  #Varyansların eşit olup olmadığını anlamak için.\n",
    "\n",
    "print(\"Statistics:%3.3f, p=%.3f \" % (stat,p))\n",
    "\n",
    "alpha = 0.05 \n",
    "if p>alpha:\n",
    "  print(\"İki değişkenin varyansı birbirine eşittir.(Fail to Reject H0)\")\n",
    "else:\n",
    "  print(\"İki değişkenin varyansı birbirine eşit değildir. (reject H0)\")\n"
   ]
  },
  {
   "cell_type": "code",
   "execution_count": 182,
   "metadata": {},
   "outputs": [
    {
     "data": {
      "text/plain": [
       "Ttest_indResult(statistic=-6.604632042359823, pvalue=4.148655478019836e-11)"
      ]
     },
     "execution_count": 182,
     "metadata": {},
     "output_type": "execute_result"
    }
   ],
   "source": [
    "#Ortalamalar arasında anlamlı bir fark olup olmadığına baktık.\n",
    "stats.ttest_ind(df['50_target'],df['ind_412'],equal_var=True) \n",
    "\n",
    "#H0 : İki değişkenin ortalamaları arasında anlamlı bir fark vardır.(Fail to reject)\n",
    "#H1 : İki değişkenin ortalamaları arasında anlamlı bir fark yoktur.(Reject)"
   ]
  },
  {
   "cell_type": "raw",
   "metadata": {},
   "source": [
    "*** Stat değeri > p-value -- H0 hipotezi reddedilir. (Reject)\n",
    "    Stat değeri < p-value -- H0 hipotezi kabul edilir.(Do not reject)\n",
    "    \n",
    "   *H0 hipotezi reddedilir. İki değişkenin ortalamaları arasında anlamlı bir fark yoktur."
   ]
  },
  {
   "cell_type": "code",
   "execution_count": 175,
   "metadata": {},
   "outputs": [
    {
     "data": {
      "image/png": "[encoded data removed]",
      "text/plain": [
       "<Figure size 360x360 with 1 Axes>"
      ]
     },
     "metadata": {},
     "output_type": "display_data"
    }
   ],
   "source": [
    "stats.probplot(new_data[\"ind_412\"], dist = \"norm\", plot=pylab)\n",
    "pylab.show()"
   ]
  },
  {
   "cell_type": "code",
   "execution_count": 176,
   "metadata": {},
   "outputs": [
    {
     "data": {
      "image/png": "[encoded data removed]",
      "text/plain": [
       "<Figure size 360x360 with 1 Axes>"
      ]
     },
     "metadata": {},
     "output_type": "display_data"
    }
   ],
   "source": [
    "stats.probplot(new_data[\"ind_17\"], dist = \"norm\", plot=pylab)\n",
    "pylab.show()"
   ]
  },
  {
   "cell_type": "code",
   "execution_count": 177,
   "metadata": {},
   "outputs": [
    {
     "data": {
      "image/png": "[encoded data removed]",
      "text/plain": [
       "<Figure size 360x360 with 1 Axes>"
      ]
     },
     "metadata": {},
     "output_type": "display_data"
    }
   ],
   "source": [
    "stats.probplot(new_data[\"ind_18\"], dist = \"norm\", plot=pylab)\n",
    "pylab.show()"
   ]
  },
  {
   "cell_type": "code",
   "execution_count": 178,
   "metadata": {},
   "outputs": [
    {
     "data": {
      "image/png": "[encoded data removed]",
      "text/plain": [
       "<Figure size 360x360 with 1 Axes>"
      ]
     },
     "metadata": {},
     "output_type": "display_data"
    }
   ],
   "source": [
    "stats.probplot(new_data[\"ind_332\"], dist = \"norm\", plot=pylab)\n",
    "pylab.show()"
   ]
  },
  {
   "cell_type": "code",
   "execution_count": 179,
   "metadata": {},
   "outputs": [
    {
     "data": {
      "image/png": "[encoded data removed]",
      "text/plain": [
       "<Figure size 360x360 with 1 Axes>"
      ]
     },
     "metadata": {},
     "output_type": "display_data"
    }
   ],
   "source": [
    "stats.probplot(new_data[\"ind_324\"], dist = \"norm\", plot=pylab)\n",
    "pylab.show()"
   ]
  },
  {
   "cell_type": "code",
   "execution_count": 212,
   "metadata": {},
   "outputs": [
    {
     "data": {
      "text/plain": [
       "<seaborn.axisgrid.PairGrid at 0x1720e7ac7c8>"
      ]
     },
     "execution_count": 212,
     "metadata": {},
     "output_type": "execute_result"
    },
    {
     "data": {
      "image/png": "[encoded data removed]",
      "text/plain": [
       "<Figure size 1080x1080 with 42 Axes>"
      ]
     },
     "metadata": {
      "needs_background": "light"
     },
     "output_type": "display_data"
    }
   ],
   "source": [
    "sns.pairplot(new_data,kind=\"reg\")"
   ]
  },
  {
   "cell_type": "markdown",
   "metadata": {},
   "source": [
    "# Linear Regression "
   ]
  },
  {
   "cell_type": "code",
   "execution_count": 37,
   "metadata": {},
   "outputs": [],
   "source": [
    "import statsmodels.api as sm\n",
    "import matplotlib.pylab as plt\n",
    "import numpy as np\n",
    "import scipy.stats as stats\n",
    "import pylab \n",
    "from scipy.stats import shapiro"
   ]
  },
  {
   "cell_type": "code",
   "execution_count": 38,
   "metadata": {},
   "outputs": [],
   "source": [
    "df= pd.read_excel(\"data.xlsx\")"
   ]
  },
  {
   "cell_type": "code",
   "execution_count": 79,
   "metadata": {},
   "outputs": [
    {
     "data": {
      "text/html": [
       "<div>\n",
       "<style scoped>\n",
       "    .dataframe tbody tr th:only-of-type {\n",
       "        vertical-align: middle;\n",
       "    }\n",
       "\n",
       "    .dataframe tbody tr th {\n",
       "        vertical-align: top;\n",
       "    }\n",
       "\n",
       "    .dataframe thead th {\n",
       "        text-align: right;\n",
       "    }\n",
       "</style>\n",
       "<table border=\"1\" class=\"dataframe\">\n",
       "  <thead>\n",
       "    <tr style=\"text-align: right;\">\n",
       "      <th></th>\n",
       "      <th>ind_412</th>\n",
       "      <th>ind_18</th>\n",
       "      <th>ind_17</th>\n",
       "      <th>ind_324</th>\n",
       "      <th>ind_332</th>\n",
       "    </tr>\n",
       "  </thead>\n",
       "  <tbody>\n",
       "    <tr>\n",
       "      <th>0</th>\n",
       "      <td>0.002371</td>\n",
       "      <td>9.1100</td>\n",
       "      <td>12.060000</td>\n",
       "      <td>-0.000062</td>\n",
       "      <td>20.967742</td>\n",
       "    </tr>\n",
       "    <tr>\n",
       "      <th>1</th>\n",
       "      <td>0.003074</td>\n",
       "      <td>9.2225</td>\n",
       "      <td>11.326667</td>\n",
       "      <td>-0.000062</td>\n",
       "      <td>20.800000</td>\n",
       "    </tr>\n",
       "    <tr>\n",
       "      <th>2</th>\n",
       "      <td>0.003561</td>\n",
       "      <td>9.3125</td>\n",
       "      <td>10.973333</td>\n",
       "      <td>-0.000062</td>\n",
       "      <td>20.634921</td>\n",
       "    </tr>\n",
       "    <tr>\n",
       "      <th>3</th>\n",
       "      <td>0.004366</td>\n",
       "      <td>9.4150</td>\n",
       "      <td>10.426667</td>\n",
       "      <td>-0.000062</td>\n",
       "      <td>20.472441</td>\n",
       "    </tr>\n",
       "    <tr>\n",
       "      <th>4</th>\n",
       "      <td>0.004198</td>\n",
       "      <td>9.8925</td>\n",
       "      <td>11.406667</td>\n",
       "      <td>-0.000062</td>\n",
       "      <td>20.312500</td>\n",
       "    </tr>\n",
       "  </tbody>\n",
       "</table>\n",
       "</div>"
      ],
      "text/plain": [
       "    ind_412  ind_18     ind_17   ind_324    ind_332\n",
       "0  0.002371  9.1100  12.060000 -0.000062  20.967742\n",
       "1  0.003074  9.2225  11.326667 -0.000062  20.800000\n",
       "2  0.003561  9.3125  10.973333 -0.000062  20.634921\n",
       "3  0.004366  9.4150  10.426667 -0.000062  20.472441\n",
       "4  0.004198  9.8925  11.406667 -0.000062  20.312500"
      ]
     },
     "execution_count": 79,
     "metadata": {},
     "output_type": "execute_result"
    }
   ],
   "source": [
    "X= df[[\"ind_412\",\"ind_18\",\"ind_17\",\"ind_324\",\"ind_332\"]]    # bağımlı değişken\n",
    "X[0:5]"
   ]
  },
  {
   "cell_type": "code",
   "execution_count": 80,
   "metadata": {},
   "outputs": [],
   "source": [
    "X=sm.add_constant(X)"
   ]
  },
  {
   "cell_type": "code",
   "execution_count": 81,
   "metadata": {},
   "outputs": [
    {
     "data": {
      "text/html": [
       "<div>\n",
       "<style scoped>\n",
       "    .dataframe tbody tr th:only-of-type {\n",
       "        vertical-align: middle;\n",
       "    }\n",
       "\n",
       "    .dataframe tbody tr th {\n",
       "        vertical-align: top;\n",
       "    }\n",
       "\n",
       "    .dataframe thead th {\n",
       "        text-align: right;\n",
       "    }\n",
       "</style>\n",
       "<table border=\"1\" class=\"dataframe\">\n",
       "  <thead>\n",
       "    <tr style=\"text-align: right;\">\n",
       "      <th></th>\n",
       "      <th>50_target</th>\n",
       "    </tr>\n",
       "  </thead>\n",
       "  <tbody>\n",
       "    <tr>\n",
       "      <th>0</th>\n",
       "      <td>35.625252</td>\n",
       "    </tr>\n",
       "    <tr>\n",
       "      <th>1</th>\n",
       "      <td>35.643013</td>\n",
       "    </tr>\n",
       "    <tr>\n",
       "      <th>2</th>\n",
       "      <td>35.651301</td>\n",
       "    </tr>\n",
       "    <tr>\n",
       "      <th>3</th>\n",
       "      <td>0.000000</td>\n",
       "    </tr>\n",
       "    <tr>\n",
       "      <th>4</th>\n",
       "      <td>-35.727079</td>\n",
       "    </tr>\n",
       "  </tbody>\n",
       "</table>\n",
       "</div>"
      ],
      "text/plain": [
       "   50_target\n",
       "0  35.625252\n",
       "1  35.643013\n",
       "2  35.651301\n",
       "3   0.000000\n",
       "4 -35.727079"
      ]
     },
     "execution_count": 81,
     "metadata": {},
     "output_type": "execute_result"
    }
   ],
   "source": [
    "y=df[[\"50_target\"]]  # response variable\n",
    "y[0:5]"
   ]
  },
  {
   "cell_type": "code",
   "execution_count": 82,
   "metadata": {},
   "outputs": [
    {
     "data": {
      "text/html": [
       "<table class=\"simpletable\">\n",
       "<caption>OLS Regression Results</caption>\n",
       "<tr>\n",
       "  <th>Dep. Variable:</th>        <td>50_target</td>    <th>  R-squared:         </th> <td>   0.045</td> \n",
       "</tr>\n",
       "<tr>\n",
       "  <th>Model:</th>                   <td>OLS</td>       <th>  Adj. R-squared:    </th> <td>   0.044</td> \n",
       "</tr>\n",
       "<tr>\n",
       "  <th>Method:</th>             <td>Least Squares</td>  <th>  F-statistic:       </th> <td>   57.46</td> \n",
       "</tr>\n",
       "<tr>\n",
       "  <th>Date:</th>             <td>Sat, 25 Jul 2020</td> <th>  Prob (F-statistic):</th> <td>1.29e-58</td> \n",
       "</tr>\n",
       "<tr>\n",
       "  <th>Time:</th>                 <td>02:15:42</td>     <th>  Log-Likelihood:    </th> <td> -30457.</td> \n",
       "</tr>\n",
       "<tr>\n",
       "  <th>No. Observations:</th>      <td>  6167</td>      <th>  AIC:               </th> <td>6.093e+04</td>\n",
       "</tr>\n",
       "<tr>\n",
       "  <th>Df Residuals:</th>          <td>  6161</td>      <th>  BIC:               </th> <td>6.097e+04</td>\n",
       "</tr>\n",
       "<tr>\n",
       "  <th>Df Model:</th>              <td>     5</td>      <th>                     </th>     <td> </td>    \n",
       "</tr>\n",
       "<tr>\n",
       "  <th>Covariance Type:</th>      <td>nonrobust</td>    <th>                     </th>     <td> </td>    \n",
       "</tr>\n",
       "</table>\n",
       "<table class=\"simpletable\">\n",
       "<tr>\n",
       "     <td></td>        <th>coef</th>     <th>std err</th>      <th>t</th>      <th>P>|t|</th>  <th>[0.025</th>    <th>0.975]</th>  \n",
       "</tr>\n",
       "<tr>\n",
       "  <th>const</th>   <td>  -21.8114</td> <td>    1.944</td> <td>  -11.219</td> <td> 0.000</td> <td>  -25.623</td> <td>  -18.000</td>\n",
       "</tr>\n",
       "<tr>\n",
       "  <th>ind_412</th> <td>  699.7887</td> <td>   79.345</td> <td>    8.820</td> <td> 0.000</td> <td>  544.244</td> <td>  855.333</td>\n",
       "</tr>\n",
       "<tr>\n",
       "  <th>ind_18</th>  <td>    0.8057</td> <td>    0.196</td> <td>    4.113</td> <td> 0.000</td> <td>    0.422</td> <td>    1.190</td>\n",
       "</tr>\n",
       "<tr>\n",
       "  <th>ind_17</th>  <td>    0.6121</td> <td>    0.115</td> <td>    5.341</td> <td> 0.000</td> <td>    0.387</td> <td>    0.837</td>\n",
       "</tr>\n",
       "<tr>\n",
       "  <th>ind_324</th> <td>-1.079e+04</td> <td> 3495.370</td> <td>   -3.087</td> <td> 0.002</td> <td>-1.76e+04</td> <td>-3938.578</td>\n",
       "</tr>\n",
       "<tr>\n",
       "  <th>ind_332</th> <td>    0.0807</td> <td>    0.014</td> <td>    5.838</td> <td> 0.000</td> <td>    0.054</td> <td>    0.108</td>\n",
       "</tr>\n",
       "</table>\n",
       "<table class=\"simpletable\">\n",
       "<tr>\n",
       "  <th>Omnibus:</th>       <td>26013.709</td> <th>  Durbin-Watson:     </th> <td>   0.312</td> \n",
       "</tr>\n",
       "<tr>\n",
       "  <th>Prob(Omnibus):</th>  <td> 0.000</td>   <th>  Jarque-Bera (JB):  </th> <td> 791.957</td> \n",
       "</tr>\n",
       "<tr>\n",
       "  <th>Skew:</th>           <td> 0.131</td>   <th>  Prob(JB):          </th> <td>1.07e-172</td>\n",
       "</tr>\n",
       "<tr>\n",
       "  <th>Kurtosis:</th>       <td> 1.264</td>   <th>  Cond. No.          </th> <td>2.97e+05</td> \n",
       "</tr>\n",
       "</table><br/><br/>Warnings:<br/>[1] Standard Errors assume that the covariance matrix of the errors is correctly specified.<br/>[2] The condition number is large, 2.97e+05. This might indicate that there are<br/>strong multicollinearity or other numerical problems."
      ],
      "text/plain": [
       "<class 'statsmodels.iolib.summary.Summary'>\n",
       "\"\"\"\n",
       "                            OLS Regression Results                            \n",
       "==============================================================================\n",
       "Dep. Variable:              50_target   R-squared:                       0.045\n",
       "Model:                            OLS   Adj. R-squared:                  0.044\n",
       "Method:                 Least Squares   F-statistic:                     57.46\n",
       "Date:                Sat, 25 Jul 2020   Prob (F-statistic):           1.29e-58\n",
       "Time:                        02:15:42   Log-Likelihood:                -30457.\n",
       "No. Observations:                6167   AIC:                         6.093e+04\n",
       "Df Residuals:                    6161   BIC:                         6.097e+04\n",
       "Df Model:                           5                                         \n",
       "Covariance Type:            nonrobust                                         \n",
       "==============================================================================\n",
       "                 coef    std err          t      P>|t|      [0.025      0.975]\n",
       "------------------------------------------------------------------------------\n",
       "const        -21.8114      1.944    -11.219      0.000     -25.623     -18.000\n",
       "ind_412      699.7887     79.345      8.820      0.000     544.244     855.333\n",
       "ind_18         0.8057      0.196      4.113      0.000       0.422       1.190\n",
       "ind_17         0.6121      0.115      5.341      0.000       0.387       0.837\n",
       "ind_324    -1.079e+04   3495.370     -3.087      0.002   -1.76e+04   -3938.578\n",
       "ind_332        0.0807      0.014      5.838      0.000       0.054       0.108\n",
       "==============================================================================\n",
       "Omnibus:                    26013.709   Durbin-Watson:                   0.312\n",
       "Prob(Omnibus):                  0.000   Jarque-Bera (JB):              791.957\n",
       "Skew:                           0.131   Prob(JB):                    1.07e-172\n",
       "Kurtosis:                       1.264   Cond. No.                     2.97e+05\n",
       "==============================================================================\n",
       "\n",
       "Warnings:\n",
       "[1] Standard Errors assume that the covariance matrix of the errors is correctly specified.\n",
       "[2] The condition number is large, 2.97e+05. This might indicate that there are\n",
       "strong multicollinearity or other numerical problems.\n",
       "\"\"\""
      ]
     },
     "execution_count": 82,
     "metadata": {},
     "output_type": "execute_result"
    }
   ],
   "source": [
    "lm=sm.OLS(y,X)     # Modeli kurma\n",
    "model=lm.fit()\n",
    "model.summary()"
   ]
  },
  {
   "cell_type": "code",
   "execution_count": 84,
   "metadata": {},
   "outputs": [
    {
     "data": {
      "text/html": [
       "<table class=\"simpletable\">\n",
       "<tr>\n",
       "     <td></td>        <th>coef</th>     <th>std err</th>      <th>t</th>      <th>P>|t|</th>  <th>[0.025</th>    <th>0.975]</th>  \n",
       "</tr>\n",
       "<tr>\n",
       "  <th>const</th>   <td>  -21.8114</td> <td>    1.944</td> <td>  -11.219</td> <td> 0.000</td> <td>  -25.623</td> <td>  -18.000</td>\n",
       "</tr>\n",
       "<tr>\n",
       "  <th>ind_412</th> <td>  699.7887</td> <td>   79.345</td> <td>    8.820</td> <td> 0.000</td> <td>  544.244</td> <td>  855.333</td>\n",
       "</tr>\n",
       "<tr>\n",
       "  <th>ind_18</th>  <td>    0.8057</td> <td>    0.196</td> <td>    4.113</td> <td> 0.000</td> <td>    0.422</td> <td>    1.190</td>\n",
       "</tr>\n",
       "<tr>\n",
       "  <th>ind_17</th>  <td>    0.6121</td> <td>    0.115</td> <td>    5.341</td> <td> 0.000</td> <td>    0.387</td> <td>    0.837</td>\n",
       "</tr>\n",
       "<tr>\n",
       "  <th>ind_324</th> <td>-1.079e+04</td> <td> 3495.370</td> <td>   -3.087</td> <td> 0.002</td> <td>-1.76e+04</td> <td>-3938.578</td>\n",
       "</tr>\n",
       "<tr>\n",
       "  <th>ind_332</th> <td>    0.0807</td> <td>    0.014</td> <td>    5.838</td> <td> 0.000</td> <td>    0.054</td> <td>    0.108</td>\n",
       "</tr>\n",
       "</table>"
      ],
      "text/plain": [
       "<class 'statsmodels.iolib.table.SimpleTable'>"
      ]
     },
     "execution_count": 84,
     "metadata": {},
     "output_type": "execute_result"
    }
   ],
   "source": [
    "model.summary().tables[1]"
   ]
  },
  {
   "cell_type": "code",
   "execution_count": 85,
   "metadata": {},
   "outputs": [
    {
     "data": {
      "text/plain": [
       "1.286510129123042e-58"
      ]
     },
     "execution_count": 85,
     "metadata": {},
     "output_type": "execute_result"
    }
   ],
   "source": [
    "model.f_pvalue\n"
   ]
  },
  {
   "cell_type": "code",
   "execution_count": 90,
   "metadata": {},
   "outputs": [
    {
     "data": {
      "text/html": [
       "<div>\n",
       "<style scoped>\n",
       "    .dataframe tbody tr th:only-of-type {\n",
       "        vertical-align: middle;\n",
       "    }\n",
       "\n",
       "    .dataframe tbody tr th {\n",
       "        vertical-align: top;\n",
       "    }\n",
       "\n",
       "    .dataframe thead th {\n",
       "        text-align: right;\n",
       "    }\n",
       "</style>\n",
       "<table border=\"1\" class=\"dataframe\">\n",
       "  <thead>\n",
       "    <tr style=\"text-align: right;\">\n",
       "      <th></th>\n",
       "      <th>0</th>\n",
       "      <th>1</th>\n",
       "    </tr>\n",
       "  </thead>\n",
       "  <tbody>\n",
       "    <tr>\n",
       "      <th>const</th>\n",
       "      <td>-25.622630</td>\n",
       "      <td>-18.000153</td>\n",
       "    </tr>\n",
       "    <tr>\n",
       "      <th>ind_412</th>\n",
       "      <td>544.243913</td>\n",
       "      <td>855.333476</td>\n",
       "    </tr>\n",
       "    <tr>\n",
       "      <th>ind_18</th>\n",
       "      <td>0.421687</td>\n",
       "      <td>1.189773</td>\n",
       "    </tr>\n",
       "    <tr>\n",
       "      <th>ind_17</th>\n",
       "      <td>0.387471</td>\n",
       "      <td>0.836780</td>\n",
       "    </tr>\n",
       "    <tr>\n",
       "      <th>ind_324</th>\n",
       "      <td>-17642.866701</td>\n",
       "      <td>-3938.577557</td>\n",
       "    </tr>\n",
       "    <tr>\n",
       "      <th>ind_332</th>\n",
       "      <td>0.053589</td>\n",
       "      <td>0.107770</td>\n",
       "    </tr>\n",
       "  </tbody>\n",
       "</table>\n",
       "</div>"
      ],
      "text/plain": [
       "                    0            1\n",
       "const      -25.622630   -18.000153\n",
       "ind_412    544.243913   855.333476\n",
       "ind_18       0.421687     1.189773\n",
       "ind_17       0.387471     0.836780\n",
       "ind_324 -17642.866701 -3938.577557\n",
       "ind_332      0.053589     0.107770"
      ]
     },
     "execution_count": 90,
     "metadata": {},
     "output_type": "execute_result"
    }
   ],
   "source": [
    "model.conf_int()"
   ]
  },
  {
   "cell_type": "code",
   "execution_count": 92,
   "metadata": {},
   "outputs": [
    {
     "data": {
      "text/plain": [
       "0   -3.070923\n",
       "1   -2.950783\n",
       "2   -2.767111\n",
       "3   -2.469080\n",
       "4   -1.615032\n",
       "dtype: float64"
      ]
     },
     "execution_count": 92,
     "metadata": {},
     "output_type": "execute_result"
    }
   ],
   "source": [
    "model.fittedvalues[0:5]"
   ]
  },
  {
   "cell_type": "code",
   "execution_count": 97,
   "metadata": {},
   "outputs": [
    {
     "data": {
      "text/html": [
       "<div>\n",
       "<style scoped>\n",
       "    .dataframe tbody tr th:only-of-type {\n",
       "        vertical-align: middle;\n",
       "    }\n",
       "\n",
       "    .dataframe tbody tr th {\n",
       "        vertical-align: top;\n",
       "    }\n",
       "\n",
       "    .dataframe thead th {\n",
       "        text-align: right;\n",
       "    }\n",
       "</style>\n",
       "<table border=\"1\" class=\"dataframe\">\n",
       "  <thead>\n",
       "    <tr style=\"text-align: right;\">\n",
       "      <th></th>\n",
       "      <th>50_target</th>\n",
       "    </tr>\n",
       "  </thead>\n",
       "  <tbody>\n",
       "    <tr>\n",
       "      <th>0</th>\n",
       "      <td>35.625252</td>\n",
       "    </tr>\n",
       "    <tr>\n",
       "      <th>1</th>\n",
       "      <td>35.643013</td>\n",
       "    </tr>\n",
       "    <tr>\n",
       "      <th>2</th>\n",
       "      <td>35.651301</td>\n",
       "    </tr>\n",
       "    <tr>\n",
       "      <th>3</th>\n",
       "      <td>0.000000</td>\n",
       "    </tr>\n",
       "    <tr>\n",
       "      <th>4</th>\n",
       "      <td>-35.727079</td>\n",
       "    </tr>\n",
       "  </tbody>\n",
       "</table>\n",
       "</div>"
      ],
      "text/plain": [
       "   50_target\n",
       "0  35.625252\n",
       "1  35.643013\n",
       "2  35.651301\n",
       "3   0.000000\n",
       "4 -35.727079"
      ]
     },
     "execution_count": 97,
     "metadata": {},
     "output_type": "execute_result"
    }
   ],
   "source": [
    "y[0:5]"
   ]
  },
  {
   "cell_type": "code",
   "execution_count": 99,
   "metadata": {},
   "outputs": [
    {
     "data": {
      "text/plain": [
       "0    0.002371\n",
       "1    0.003074\n",
       "2    0.003561\n",
       "3    0.004366\n",
       "4    0.004198\n",
       "Name: ind_412, dtype: float64"
      ]
     },
     "execution_count": 99,
     "metadata": {},
     "output_type": "execute_result"
    }
   ],
   "source": [
    "X['ind_412'][0:5]"
   ]
  },
  {
   "cell_type": "code",
   "execution_count": 100,
   "metadata": {},
   "outputs": [],
   "source": [
    "y_predicted=[]\n",
    "for i in range(len(y)):\n",
    "    y_predicted.append(X['ind_412'][i]*float(model.params[1])+float(model.params[0]))"
   ]
  },
  {
   "cell_type": "code",
   "execution_count": 101,
   "metadata": {},
   "outputs": [
    {
     "data": {
      "text/plain": [
       "[-20.151880956972875,\n",
       " -19.659959595406512,\n",
       " -19.319200989392296,\n",
       " -18.756020145029254,\n",
       " -18.87368681491367]"
      ]
     },
     "execution_count": 101,
     "metadata": {},
     "output_type": "execute_result"
    }
   ],
   "source": [
    "y_predicted[0:5]"
   ]
  },
  {
   "cell_type": "code",
   "execution_count": 104,
   "metadata": {},
   "outputs": [
    {
     "data": {
      "image/png": "[encoded data removed]",
      "text/plain": [
       "<Figure size 432x288 with 1 Axes>"
      ]
     },
     "metadata": {
      "needs_background": "light"
     },
     "output_type": "display_data"
    }
   ],
   "source": [
    "g = sns.regplot(df['ind_412'],df['50_target'], ci=None, scatter_kws={'color':'red','s':9})\n",
    "g.set_ylabel('50_target')\n",
    "g.set_xlabel('ind_412')\n",
    "fig = g.get_figure()\n",
    "fig.savefig(\"output.png\")"
   ]
  },
  {
   "cell_type": "code",
   "execution_count": 108,
   "metadata": {},
   "outputs": [],
   "source": [
    "from sklearn.linear_model import LinearRegression"
   ]
  },
  {
   "cell_type": "code",
   "execution_count": 109,
   "metadata": {},
   "outputs": [],
   "source": [
    "X = df[['ind_412']]\n",
    "y= df['50_target']\n"
   ]
  },
  {
   "cell_type": "code",
   "execution_count": 110,
   "metadata": {},
   "outputs": [],
   "source": [
    "reg = LinearRegression()\n",
    "model= reg.fit(X,y)"
   ]
  },
  {
   "cell_type": "code",
   "execution_count": 111,
   "metadata": {},
   "outputs": [
    {
     "data": {
      "text/plain": [
       "-3.0802611305832257"
      ]
     },
     "execution_count": 111,
     "metadata": {},
     "output_type": "execute_result"
    }
   ],
   "source": [
    "model.intercept_"
   ]
  },
  {
   "cell_type": "code",
   "execution_count": 112,
   "metadata": {},
   "outputs": [
    {
     "data": {
      "text/plain": [
       "776.9121351827604"
      ]
     },
     "execution_count": 112,
     "metadata": {},
     "output_type": "execute_result"
    }
   ],
   "source": [
    "model.coef_[0]"
   ]
  },
  {
   "cell_type": "code",
   "execution_count": 113,
   "metadata": {},
   "outputs": [
    {
     "data": {
      "text/plain": [
       "0.016188589237305262"
      ]
     },
     "execution_count": 113,
     "metadata": {},
     "output_type": "execute_result"
    }
   ],
   "source": [
    "model.score(X,y)"
   ]
  },
  {
   "cell_type": "code",
   "execution_count": 114,
   "metadata": {},
   "outputs": [
    {
     "data": {
      "text/plain": [
       "array([-1.23785673, -0.69172091, -0.31340743,  0.31184136,  0.18120669,\n",
       "        1.11100659,  1.38596356,  0.8907419 ,  0.13230473,  0.10143568])"
      ]
     },
     "execution_count": 114,
     "metadata": {},
     "output_type": "execute_result"
    }
   ],
   "source": [
    "prediction=model.predict(X)\n",
    "prediction[0:10]"
   ]
  },
  {
   "cell_type": "code",
   "execution_count": 115,
   "metadata": {},
   "outputs": [],
   "source": [
    "error_df=prediction-y"
   ]
  },
  {
   "cell_type": "code",
   "execution_count": 116,
   "metadata": {},
   "outputs": [],
   "source": [
    "error_arr=error_df.values"
   ]
  },
  {
   "cell_type": "code",
   "execution_count": 117,
   "metadata": {},
   "outputs": [
    {
     "data": {
      "text/plain": [
       "1175.0429350508957"
      ]
     },
     "execution_count": 117,
     "metadata": {},
     "output_type": "execute_result"
    }
   ],
   "source": [
    "error_df.var()"
   ]
  },
  {
   "cell_type": "code",
   "execution_count": 118,
   "metadata": {},
   "outputs": [
    {
     "data": {
      "text/plain": [
       "33.103797261077915"
      ]
     },
     "execution_count": 118,
     "metadata": {},
     "output_type": "execute_result"
    }
   ],
   "source": [
    "error_df.abs().mean()"
   ]
  },
  {
   "cell_type": "code",
   "execution_count": 135,
   "metadata": {},
   "outputs": [],
   "source": [
    "import statsmodels.formula.api as smf\n",
    "from statsmodels.stats.outliers_influence import variance_inflation_factor\n",
    "from scipy.stats import shapiro\n",
    "from patsy import dmatrices\n",
    "\n",
    "from sklearn.linear_model import LinearRegression\n",
    "from sklearn.metrics import mean_squared_error,r2_score\n",
    "from sklearn.decomposition import PCA\n",
    "from sklearn.preprocessing import scale\n",
    "from sklearn.model_selection import train_test_split, cross_val_score, cross_val_predict\n",
    "import numpy as np\n",
    "import pandas as pd"
   ]
  },
  {
   "cell_type": "code",
   "execution_count": 136,
   "metadata": {},
   "outputs": [],
   "source": [
    "k_t = pd.DataFrame({'gercek_y':y[0:10],'tahmin_y':reg.predict(X)[0:10]})"
   ]
  },
  {
   "cell_type": "code",
   "execution_count": 137,
   "metadata": {},
   "outputs": [
    {
     "data": {
      "text/html": [
       "<div>\n",
       "<style scoped>\n",
       "    .dataframe tbody tr th:only-of-type {\n",
       "        vertical-align: middle;\n",
       "    }\n",
       "\n",
       "    .dataframe tbody tr th {\n",
       "        vertical-align: top;\n",
       "    }\n",
       "\n",
       "    .dataframe thead th {\n",
       "        text-align: right;\n",
       "    }\n",
       "</style>\n",
       "<table border=\"1\" class=\"dataframe\">\n",
       "  <thead>\n",
       "    <tr style=\"text-align: right;\">\n",
       "      <th></th>\n",
       "      <th>gercek_y</th>\n",
       "      <th>tahmin_y</th>\n",
       "      <th>hata</th>\n",
       "    </tr>\n",
       "  </thead>\n",
       "  <tbody>\n",
       "    <tr>\n",
       "      <th>0</th>\n",
       "      <td>35.625252</td>\n",
       "      <td>-1.237857</td>\n",
       "      <td>36.863109</td>\n",
       "    </tr>\n",
       "    <tr>\n",
       "      <th>1</th>\n",
       "      <td>35.643013</td>\n",
       "      <td>-0.691721</td>\n",
       "      <td>36.334734</td>\n",
       "    </tr>\n",
       "    <tr>\n",
       "      <th>2</th>\n",
       "      <td>35.651301</td>\n",
       "      <td>-0.313407</td>\n",
       "      <td>35.964708</td>\n",
       "    </tr>\n",
       "    <tr>\n",
       "      <th>3</th>\n",
       "      <td>0.000000</td>\n",
       "      <td>0.311841</td>\n",
       "      <td>-0.311841</td>\n",
       "    </tr>\n",
       "    <tr>\n",
       "      <th>4</th>\n",
       "      <td>-35.727079</td>\n",
       "      <td>0.181207</td>\n",
       "      <td>-35.908286</td>\n",
       "    </tr>\n",
       "    <tr>\n",
       "      <th>5</th>\n",
       "      <td>-35.722047</td>\n",
       "      <td>1.111007</td>\n",
       "      <td>-36.833054</td>\n",
       "    </tr>\n",
       "    <tr>\n",
       "      <th>6</th>\n",
       "      <td>-35.720567</td>\n",
       "      <td>1.385964</td>\n",
       "      <td>-37.106531</td>\n",
       "    </tr>\n",
       "    <tr>\n",
       "      <th>7</th>\n",
       "      <td>-35.712575</td>\n",
       "      <td>0.890742</td>\n",
       "      <td>-36.603317</td>\n",
       "    </tr>\n",
       "    <tr>\n",
       "      <th>8</th>\n",
       "      <td>-35.693926</td>\n",
       "      <td>0.132305</td>\n",
       "      <td>-35.826231</td>\n",
       "    </tr>\n",
       "    <tr>\n",
       "      <th>9</th>\n",
       "      <td>-35.699550</td>\n",
       "      <td>0.101436</td>\n",
       "      <td>-35.800986</td>\n",
       "    </tr>\n",
       "  </tbody>\n",
       "</table>\n",
       "</div>"
      ],
      "text/plain": [
       "    gercek_y  tahmin_y       hata\n",
       "0  35.625252 -1.237857  36.863109\n",
       "1  35.643013 -0.691721  36.334734\n",
       "2  35.651301 -0.313407  35.964708\n",
       "3   0.000000  0.311841  -0.311841\n",
       "4 -35.727079  0.181207 -35.908286\n",
       "5 -35.722047  1.111007 -36.833054\n",
       "6 -35.720567  1.385964 -37.106531\n",
       "7 -35.712575  0.890742 -36.603317\n",
       "8 -35.693926  0.132305 -35.826231\n",
       "9 -35.699550  0.101436 -35.800986"
      ]
     },
     "execution_count": 137,
     "metadata": {},
     "output_type": "execute_result"
    }
   ],
   "source": [
    "k_t[\"hata\"] = k_t[\"gercek_y\"] - k_t[\"tahmin_y\"]\n",
    "k_t"
   ]
  },
  {
   "cell_type": "code",
   "execution_count": 139,
   "metadata": {},
   "outputs": [
    {
     "data": {
      "text/html": [
       "<div>\n",
       "<style scoped>\n",
       "    .dataframe tbody tr th:only-of-type {\n",
       "        vertical-align: middle;\n",
       "    }\n",
       "\n",
       "    .dataframe tbody tr th {\n",
       "        vertical-align: top;\n",
       "    }\n",
       "\n",
       "    .dataframe thead th {\n",
       "        text-align: right;\n",
       "    }\n",
       "</style>\n",
       "<table border=\"1\" class=\"dataframe\">\n",
       "  <thead>\n",
       "    <tr style=\"text-align: right;\">\n",
       "      <th></th>\n",
       "      <th>gercek_y</th>\n",
       "      <th>tahmin_y</th>\n",
       "      <th>hata</th>\n",
       "      <th>hata_kare</th>\n",
       "    </tr>\n",
       "  </thead>\n",
       "  <tbody>\n",
       "    <tr>\n",
       "      <th>0</th>\n",
       "      <td>35.625252</td>\n",
       "      <td>-1.237857</td>\n",
       "      <td>36.863109</td>\n",
       "      <td>1358.888798</td>\n",
       "    </tr>\n",
       "    <tr>\n",
       "      <th>1</th>\n",
       "      <td>35.643013</td>\n",
       "      <td>-0.691721</td>\n",
       "      <td>36.334734</td>\n",
       "      <td>1320.212866</td>\n",
       "    </tr>\n",
       "    <tr>\n",
       "      <th>2</th>\n",
       "      <td>35.651301</td>\n",
       "      <td>-0.313407</td>\n",
       "      <td>35.964708</td>\n",
       "      <td>1293.460248</td>\n",
       "    </tr>\n",
       "    <tr>\n",
       "      <th>3</th>\n",
       "      <td>0.000000</td>\n",
       "      <td>0.311841</td>\n",
       "      <td>-0.311841</td>\n",
       "      <td>0.097245</td>\n",
       "    </tr>\n",
       "    <tr>\n",
       "      <th>4</th>\n",
       "      <td>-35.727079</td>\n",
       "      <td>0.181207</td>\n",
       "      <td>-35.908286</td>\n",
       "      <td>1289.404996</td>\n",
       "    </tr>\n",
       "    <tr>\n",
       "      <th>5</th>\n",
       "      <td>-35.722047</td>\n",
       "      <td>1.111007</td>\n",
       "      <td>-36.833054</td>\n",
       "      <td>1356.673840</td>\n",
       "    </tr>\n",
       "    <tr>\n",
       "      <th>6</th>\n",
       "      <td>-35.720567</td>\n",
       "      <td>1.385964</td>\n",
       "      <td>-37.106531</td>\n",
       "      <td>1376.894610</td>\n",
       "    </tr>\n",
       "    <tr>\n",
       "      <th>7</th>\n",
       "      <td>-35.712575</td>\n",
       "      <td>0.890742</td>\n",
       "      <td>-36.603317</td>\n",
       "      <td>1339.802790</td>\n",
       "    </tr>\n",
       "    <tr>\n",
       "      <th>8</th>\n",
       "      <td>-35.693926</td>\n",
       "      <td>0.132305</td>\n",
       "      <td>-35.826231</td>\n",
       "      <td>1283.518824</td>\n",
       "    </tr>\n",
       "    <tr>\n",
       "      <th>9</th>\n",
       "      <td>-35.699550</td>\n",
       "      <td>0.101436</td>\n",
       "      <td>-35.800986</td>\n",
       "      <td>1281.710603</td>\n",
       "    </tr>\n",
       "  </tbody>\n",
       "</table>\n",
       "</div>"
      ],
      "text/plain": [
       "    gercek_y  tahmin_y       hata    hata_kare\n",
       "0  35.625252 -1.237857  36.863109  1358.888798\n",
       "1  35.643013 -0.691721  36.334734  1320.212866\n",
       "2  35.651301 -0.313407  35.964708  1293.460248\n",
       "3   0.000000  0.311841  -0.311841     0.097245\n",
       "4 -35.727079  0.181207 -35.908286  1289.404996\n",
       "5 -35.722047  1.111007 -36.833054  1356.673840\n",
       "6 -35.720567  1.385964 -37.106531  1376.894610\n",
       "7 -35.712575  0.890742 -36.603317  1339.802790\n",
       "8 -35.693926  0.132305 -35.826231  1283.518824\n",
       "9 -35.699550  0.101436 -35.800986  1281.710603"
      ]
     },
     "execution_count": 139,
     "metadata": {},
     "output_type": "execute_result"
    }
   ],
   "source": [
    "k_t[\"hata_kare\"] = k_t[\"hata\"]**2\n",
    "k_t"
   ]
  },
  {
   "cell_type": "code",
   "execution_count": 140,
   "metadata": {},
   "outputs": [
    {
     "data": {
      "text/plain": [
       "11900.664819668971"
      ]
     },
     "execution_count": 140,
     "metadata": {},
     "output_type": "execute_result"
    }
   ],
   "source": [
    "np.sum(k_t[\"hata_kare\"])"
   ]
  },
  {
   "cell_type": "code",
   "execution_count": 150,
   "metadata": {},
   "outputs": [],
   "source": [
    "lm= sm.OLS(y,X) \n",
    "model = lm.fit()"
   ]
  },
  {
   "cell_type": "code",
   "execution_count": 151,
   "metadata": {},
   "outputs": [
    {
     "data": {
      "text/plain": [
       "<statsmodels.stats.outliers_influence.OLSInfluence at 0x172115b2b08>"
      ]
     },
     "execution_count": 151,
     "metadata": {},
     "output_type": "execute_result"
    }
   ],
   "source": [
    "influence = model.get_influence()\n",
    "influence"
   ]
  },
  {
   "cell_type": "code",
   "execution_count": 152,
   "metadata": {},
   "outputs": [],
   "source": [
    "import seaborn as sns"
   ]
  },
  {
   "cell_type": "code",
   "execution_count": 155,
   "metadata": {},
   "outputs": [
    {
     "data": {
      "text/plain": [
       "<matplotlib.axes._subplots.AxesSubplot at 0x172112234c8>"
      ]
     },
     "execution_count": 155,
     "metadata": {},
     "output_type": "execute_result"
    },
    {
     "data": {
      "image/png": "[encoded data removed]",
      "text/plain": [
       "<Figure size 432x288 with 1 Axes>"
      ]
     },
     "metadata": {
      "needs_background": "light"
     },
     "output_type": "display_data"
    }
   ],
   "source": [
    "### Residual yani artık değerler için normalite testlerinin yapılması.\n",
    "#Model residuallarından tahmin ettiklerimizi getirmesini istedik.\n",
    "advres = pd.concat([df, pd.Series (model.resid, name= 'resid'), pd.Series (model.predict() , name= \"predict\")] ,axis=1)\n",
    "sns.kdeplot (np.array (advres.resid), bw=10)\n"
   ]
  },
  {
   "cell_type": "code",
   "execution_count": 156,
   "metadata": {},
   "outputs": [
    {
     "data": {
      "text/plain": [
       "0       33.833818\n",
       "1       33.320552\n",
       "2       32.960993\n",
       "3       -3.298259\n",
       "4      -38.898318\n",
       "          ...    \n",
       "6162   -38.036324\n",
       "6163   -40.967215\n",
       "6164   -41.247373\n",
       "6165   -41.351345\n",
       "6166   -41.144332\n",
       "Length: 6167, dtype: float64"
      ]
     },
     "execution_count": 156,
     "metadata": {},
     "output_type": "execute_result"
    }
   ],
   "source": [
    "model.resid"
   ]
  },
  {
   "cell_type": "code",
   "execution_count": 157,
   "metadata": {},
   "outputs": [
    {
     "data": {
      "text/plain": [
       "[<matplotlib.lines.Line2D at 0x172117809c8>]"
      ]
     },
     "execution_count": 157,
     "metadata": {},
     "output_type": "execute_result"
    },
    {
     "data": {
      "image/png": "[encoded data removed]",
      "text/plain": [
       "<Figure size 432x288 with 1 Axes>"
      ]
     },
     "metadata": {
      "needs_background": "light"
     },
     "output_type": "display_data"
    }
   ],
   "source": [
    "plt.plot(model.resid)"
   ]
  },
  {
   "cell_type": "code",
   "execution_count": 158,
   "metadata": {},
   "outputs": [
    {
     "name": "stdout",
     "output_type": "stream",
     "text": [
      "11900.664819668971\n",
      "1190.066481966897\n",
      "32.75527959777645\n",
      "34.49734021583254\n"
     ]
    }
   ],
   "source": [
    "print (np.sum(k_t['hata_kare']))\n",
    "print (np.mean(k_t['hata_kare']))\n",
    "print (np.average(((k_t['hata']).abs())))\n",
    "print (np.sqrt(np.mean(k_t['hata_kare'])))"
   ]
  },
  {
   "cell_type": "markdown",
   "metadata": {},
   "source": [
    "# Çoklu Regresyon"
   ]
  },
  {
   "cell_type": "code",
   "execution_count": 202,
   "metadata": {},
   "outputs": [],
   "source": [
    "import pandas as pd\n",
    "import statsmodels.api as sm\n",
    "import numpy as np\n",
    "ad = pd.read_excel(\"data.xlsx\" )\n",
    "df = ad.copy()"
   ]
  },
  {
   "cell_type": "code",
   "execution_count": 203,
   "metadata": {},
   "outputs": [],
   "source": [
    "from sklearn.model_selection import train_test_split , cross_val_score, cross_val_predict\n",
    "X = df.drop(\"20_target\" , axis=1 )\n",
    "y = df[\"50_target\"]\n",
    "\n",
    "X_train, X_test , y_train , y_test = train_test_split(X, y , test_size = 0.20 , random_state = 42)"
   ]
  },
  {
   "cell_type": "code",
   "execution_count": 210,
   "metadata": {},
   "outputs": [
    {
     "name": "stdout",
     "output_type": "stream",
     "text": [
      "(4933, 135)\n",
      "(1234, 135)\n",
      "(4933,)\n",
      "(1234,)\n",
      "(6167, 136)\n"
     ]
    }
   ],
   "source": [
    "X = df.drop('20_target', axis=1)\n",
    "y = df['50_target']\n",
    "X_train, X_test, y_train, y_test =train_test_split(X,y,test_size=0.20, random_state=42)\n",
    "print(X_train.shape)\n",
    "print(X_test.shape)\n",
    "print(y_train.shape)\n",
    "print(y_test.shape)\n",
    "training = df.copy()\n",
    "print(training.shape)"
   ]
  },
  {
   "cell_type": "code",
   "execution_count": 204,
   "metadata": {},
   "outputs": [
    {
     "data": {
      "text/plain": [
       "(4933, 135)"
      ]
     },
     "execution_count": 204,
     "metadata": {},
     "output_type": "execute_result"
    }
   ],
   "source": [
    "X_train.shape"
   ]
  },
  {
   "cell_type": "code",
   "execution_count": 205,
   "metadata": {},
   "outputs": [
    {
     "data": {
      "text/plain": [
       "(1234, 135)"
      ]
     },
     "execution_count": 205,
     "metadata": {},
     "output_type": "execute_result"
    }
   ],
   "source": [
    "X_test.shape"
   ]
  },
  {
   "cell_type": "code",
   "execution_count": 206,
   "metadata": {},
   "outputs": [
    {
     "data": {
      "text/plain": [
       "(4933,)"
      ]
     },
     "execution_count": 206,
     "metadata": {},
     "output_type": "execute_result"
    }
   ],
   "source": [
    "y_train.shape"
   ]
  },
  {
   "cell_type": "code",
   "execution_count": 207,
   "metadata": {},
   "outputs": [
    {
     "data": {
      "text/plain": [
       "(1234,)"
      ]
     },
     "execution_count": 207,
     "metadata": {},
     "output_type": "execute_result"
    }
   ],
   "source": [
    "y_test.shape"
   ]
  },
  {
   "cell_type": "code",
   "execution_count": null,
   "metadata": {},
   "outputs": [],
   "source": []
  }
 ],
 "metadata": {
  "kernelspec": {
   "display_name": "Python 3",
   "language": "python",
   "name": "python3"
  },
  "language_info": {
   "codemirror_mode": {
    "name": "ipython",
    "version": 3
   },
   "file_extension": ".py",
   "mimetype": "text/x-python",
   "name": "python",
   "nbconvert_exporter": "python",
   "pygments_lexer": "ipython3",
   "version": "3.7.6"
  }
 },
 "nbformat": 4,
 "nbformat_minor": 4
}
