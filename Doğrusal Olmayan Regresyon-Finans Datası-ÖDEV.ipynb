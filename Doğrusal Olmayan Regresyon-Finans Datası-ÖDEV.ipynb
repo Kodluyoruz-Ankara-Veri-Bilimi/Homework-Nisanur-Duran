{
 "cells": [
  {
   "cell_type": "markdown",
   "metadata": {},
   "source": [
    "# Doğrusal Olmayan Regresyon-Finans Datası"
   ]
  },
  {
   "cell_type": "code",
   "execution_count": 1,
   "metadata": {},
   "outputs": [],
   "source": [
    "import numpy as np\n",
    "import pandas as pd \n",
    "from sklearn.model_selection import train_test_split, GridSearchCV,cross_val_score\n",
    "from sklearn.metrics import mean_squared_error, r2_score\n",
    "import matplotlib.pyplot as plt\n",
    "from sklearn.preprocessing import scale \n",
    "from sklearn import model_selection\n",
    "from sklearn.tree import DecisionTreeRegressor, DecisionTreeClassifier\n",
    "from sklearn.neighbors import KNeighborsRegressor\n",
    "from sklearn.ensemble import BaggingRegressor\n",
    "\n",
    "from warnings import filterwarnings\n",
    "filterwarnings('ignore')"
   ]
  },
  {
   "cell_type": "markdown",
   "metadata": {},
   "source": [
    "# KNN "
   ]
  },
  {
   "cell_type": "markdown",
   "metadata": {},
   "source": [
    "*** EN YAKIN KOMŞU(KNN): Tahminler gözlemler benzerliğine göre yapılır.Sınıflandırma ve regresyon problemlerinde kullanılan bir algoritmadır.\n",
    "\n",
    "***Bağımlı değişken değerini,kendisine en benzer gözlemlerine bakarak tahmin etmeye çalışılır."
   ]
  },
  {
   "cell_type": "code",
   "execution_count": 2,
   "metadata": {},
   "outputs": [],
   "source": [
    "data= pd.read_excel(\"data.xlsx\")\n",
    "df = data.copy()\n",
    "df = df.dropna()\n",
    "dms = pd.get_dummies(df[['ind_109', 'ind_420', 'ind_422']])\n",
    "y = df[\"50_target\"]\n",
    "X= df.drop(['50_target', 'ind_109', 'ind_420', 'ind_422'], axis=1).astype('float64')\n",
    "\n"
   ]
  },
  {
   "cell_type": "code",
   "execution_count": 3,
   "metadata": {},
   "outputs": [],
   "source": [
    "X_train, X_test, y_train, y_test = train_test_split(X, y, \n",
    "                                                    test_size=0.25, \n",
    "                                                    random_state=42)"
   ]
  },
  {
   "cell_type": "code",
   "execution_count": 4,
   "metadata": {},
   "outputs": [],
   "source": [
    "knn_model = KNeighborsRegressor().fit(X_train, y_train)"
   ]
  },
  {
   "cell_type": "code",
   "execution_count": 6,
   "metadata": {},
   "outputs": [
    {
     "data": {
      "text/plain": [
       "KNeighborsRegressor(algorithm='auto', leaf_size=30, metric='minkowski',\n",
       "                    metric_params=None, n_jobs=None, n_neighbors=5, p=2,\n",
       "                    weights='uniform')"
      ]
     },
     "execution_count": 6,
     "metadata": {},
     "output_type": "execute_result"
    }
   ],
   "source": [
    "knn_model"
   ]
  },
  {
   "cell_type": "markdown",
   "metadata": {},
   "source": [
    "Burada bazı parametreler verilmiştir.Komşuluk parametresi değeri=5, farklı komşuluk sayılarına farklı değerler elde edilecektir.\n",
    "\n"
   ]
  },
  {
   "cell_type": "code",
   "execution_count": 7,
   "metadata": {},
   "outputs": [
    {
     "data": {
      "text/plain": [
       "5"
      ]
     },
     "execution_count": 7,
     "metadata": {},
     "output_type": "execute_result"
    }
   ],
   "source": [
    "knn_model.n_neighbors"
   ]
  },
  {
   "cell_type": "code",
   "execution_count": 8,
   "metadata": {},
   "outputs": [
    {
     "data": {
      "text/plain": [
       "'euclidean'"
      ]
     },
     "execution_count": 8,
     "metadata": {},
     "output_type": "execute_result"
    }
   ],
   "source": [
    "knn_model.effective_metric_"
   ]
  },
  {
   "cell_type": "markdown",
   "metadata": {},
   "source": [
    "# TAHMİN"
   ]
  },
  {
   "cell_type": "code",
   "execution_count": 9,
   "metadata": {},
   "outputs": [],
   "source": [
    "y_pred = knn_model.predict(X_test) \n",
    "#X test setine yönelik olarak y tahmin değerlerini gösterir."
   ]
  },
  {
   "cell_type": "code",
   "execution_count": 10,
   "metadata": {},
   "outputs": [
    {
     "data": {
      "text/plain": [
       "21.341319517736117"
      ]
     },
     "execution_count": 10,
     "metadata": {},
     "output_type": "execute_result"
    }
   ],
   "source": [
    "np.sqrt(mean_squared_error(y_test, y_pred))  #Test hatası"
   ]
  },
  {
   "cell_type": "code",
   "execution_count": 11,
   "metadata": {},
   "outputs": [
    {
     "name": "stdout",
     "output_type": "stream",
     "text": [
      "k = 1 için RMSE değeri:  0.0\n",
      "k = 2 için RMSE değeri:  10.576655411093668\n",
      "k = 3 için RMSE değeri:  13.236326617796417\n",
      "k = 4 için RMSE değeri:  14.914983204514881\n",
      "k = 5 için RMSE değeri:  16.06547949859019\n",
      "k = 6 için RMSE değeri:  17.115122761747287\n",
      "k = 7 için RMSE değeri:  17.834609278634616\n",
      "k = 8 için RMSE değeri:  18.36383651330056\n",
      "k = 9 için RMSE değeri:  18.864628334465873\n",
      "k = 10 için RMSE değeri:  19.294600110162516\n"
     ]
    }
   ],
   "source": [
    "RMSE = []       #Farklı k değerlerine karşılık tahmin değerimin nasıl değiştiğini gözlemliyorum.\n",
    "\n",
    "for k in range(10):\n",
    "    k = k+1\n",
    "    knn_model = KNeighborsRegressor(n_neighbors = k).fit(X_train, y_train)\n",
    "    y_pred = knn_model.predict(X_train) \n",
    "    rmse = np.sqrt(mean_squared_error(y_train,y_pred)) \n",
    "    RMSE.append(rmse) \n",
    "    print(\"k =\" , k , \"için RMSE değeri: \", rmse)\n",
    "\n",
    "    #Eğitim datası üzerinde hata gözlemleme işlemi yaptık."
   ]
  },
  {
   "cell_type": "markdown",
   "metadata": {},
   "source": [
    "# MODEL TUNING"
   ]
  },
  {
   "cell_type": "markdown",
   "metadata": {},
   "source": [
    "GridSearch CV yöntemiyle optimum k sayısını belirlemeye çalıştığımız bölüm. \n",
    "\n",
    "Bir olası veri seti verilip,tüm olası kombinasyonlarının denenmesi anlamındadır.İki parametre olursa birbiriyle çarpıştırılarak (cross validation) kombinasyonlar bulunur."
   ]
  },
  {
   "cell_type": "code",
   "execution_count": 12,
   "metadata": {},
   "outputs": [],
   "source": [
    "from sklearn.model_selection import GridSearchCV"
   ]
  },
  {
   "cell_type": "code",
   "execution_count": 13,
   "metadata": {},
   "outputs": [],
   "source": [
    "knn_params = {'n_neighbors': np.arange(1,30,1)}"
   ]
  },
  {
   "cell_type": "code",
   "execution_count": 14,
   "metadata": {},
   "outputs": [
    {
     "data": {
      "text/plain": [
       "array([ 1,  2,  3,  4,  5,  6,  7,  8,  9, 10, 11, 12, 13, 14, 15, 16, 17,\n",
       "       18, 19, 20, 21, 22, 23, 24, 25, 26, 27, 28, 29])"
      ]
     },
     "execution_count": 14,
     "metadata": {},
     "output_type": "execute_result"
    }
   ],
   "source": [
    "np.arange(1,30,1)  #1'den 30'a kadar k değerleri ürettik."
   ]
  },
  {
   "cell_type": "code",
   "execution_count": 15,
   "metadata": {},
   "outputs": [],
   "source": [
    "knn = KNeighborsRegressor()"
   ]
  },
  {
   "cell_type": "code",
   "execution_count": 16,
   "metadata": {},
   "outputs": [],
   "source": [
    "knn_cv_model = GridSearchCV(knn, knn_params, cv = 10)\n",
    "#KNN cross validation modelinin nesnesini tanımlamış olduk."
   ]
  },
  {
   "cell_type": "code",
   "execution_count": 17,
   "metadata": {},
   "outputs": [
    {
     "data": {
      "text/plain": [
       "GridSearchCV(cv=10, error_score=nan,\n",
       "             estimator=KNeighborsRegressor(algorithm='auto', leaf_size=30,\n",
       "                                           metric='minkowski',\n",
       "                                           metric_params=None, n_jobs=None,\n",
       "                                           n_neighbors=5, p=2,\n",
       "                                           weights='uniform'),\n",
       "             iid='deprecated', n_jobs=None,\n",
       "             param_grid={'n_neighbors': array([ 1,  2,  3,  4,  5,  6,  7,  8,  9, 10, 11, 12, 13, 14, 15, 16, 17,\n",
       "       18, 19, 20, 21, 22, 23, 24, 25, 26, 27, 28, 29])},\n",
       "             pre_dispatch='2*n_jobs', refit=True, return_train_score=False,\n",
       "             scoring=None, verbose=0)"
      ]
     },
     "execution_count": 17,
     "metadata": {},
     "output_type": "execute_result"
    }
   ],
   "source": [
    "knn_cv_model.fit(X_train, y_train)\n",
    "#Modeli fit ettik. Uygun olan parametreler denendi."
   ]
  },
  {
   "cell_type": "code",
   "execution_count": 23,
   "metadata": {},
   "outputs": [
    {
     "data": {
      "text/plain": [
       "3"
      ]
     },
     "execution_count": 23,
     "metadata": {},
     "output_type": "execute_result"
    }
   ],
   "source": [
    "knn_cv_model.best_params_[\"n_neighbors\"] #En uygun parametre değeri 3."
   ]
  },
  {
   "cell_type": "code",
   "execution_count": 24,
   "metadata": {},
   "outputs": [
    {
     "name": "stdout",
     "output_type": "stream",
     "text": [
      "k = 1 için RMSE değeri:  0.0 RMSE_CV değeri:  21.605578153710848\n",
      "k = 2 için RMSE değeri:  10.576655411093668 RMSE_CV değeri:  20.508389728933956\n",
      "k = 3 için RMSE değeri:  13.236326617796417 RMSE_CV değeri:  20.354295392665236\n",
      "k = 4 için RMSE değeri:  14.914983204514881 RMSE_CV değeri:  20.67323245878391\n",
      "k = 5 için RMSE değeri:  16.06547949859019 RMSE_CV değeri:  21.083571156210244\n",
      "k = 6 için RMSE değeri:  17.115122761747287 RMSE_CV değeri:  21.170756180627567\n",
      "k = 7 için RMSE değeri:  17.834609278634616 RMSE_CV değeri:  21.380402206148933\n",
      "k = 8 için RMSE değeri:  18.36383651330056 RMSE_CV değeri:  21.665331982967565\n",
      "k = 9 için RMSE değeri:  18.864628334465873 RMSE_CV değeri:  21.960144262556618\n",
      "k = 10 için RMSE değeri:  19.294600110162516 RMSE_CV değeri:  22.174975176199457\n"
     ]
    }
   ],
   "source": [
    "RMSE = [] \n",
    "RMSE_CV = []\n",
    "for k in range(10):\n",
    "    k = k+1\n",
    "    knn_model = KNeighborsRegressor(n_neighbors = k).fit(X_train, y_train)\n",
    "    y_pred = knn_model.predict(X_train) \n",
    "    rmse = np.sqrt(mean_squared_error(y_train,y_pred)) \n",
    "    rmse_cv = np.sqrt(-1*cross_val_score(knn_model, X_train, y_train, cv=10, \n",
    "                                         scoring = \"neg_mean_squared_error\").mean())\n",
    "    RMSE.append(rmse) \n",
    "    RMSE_CV.append(rmse_cv)\n",
    "    print(\"k =\" , k , \"için RMSE değeri: \", rmse, \"RMSE_CV değeri: \", rmse_cv )\n"
   ]
  },
  {
   "cell_type": "markdown",
   "metadata": {},
   "source": [
    "*Burada RMSE değeri bize test ve train üzerinden yapılan hata karelerinin ortalamasını gösterir.10-19 arasında dağılır.\n",
    "\n",
    "*RMSE_CV değeri ise ,Valide edilmiş model üzerinden elde edilen hatalar.Eğitim üzerinedir. Bu değer 20-22 arasında dağılmıştır. Daha doğru değerleri gösterir çünkü aralık daha dardır."
   ]
  },
  {
   "cell_type": "code",
   "execution_count": 25,
   "metadata": {},
   "outputs": [],
   "source": [
    "knn_tuned = KNeighborsRegressor(n_neighbors = knn_cv_model.best_params_[\"n_neighbors\"])"
   ]
  },
  {
   "cell_type": "code",
   "execution_count": 26,
   "metadata": {},
   "outputs": [
    {
     "data": {
      "text/plain": [
       "KNeighborsRegressor(algorithm='auto', leaf_size=30, metric='minkowski',\n",
       "                    metric_params=None, n_jobs=None, n_neighbors=3, p=2,\n",
       "                    weights='uniform')"
      ]
     },
     "execution_count": 26,
     "metadata": {},
     "output_type": "execute_result"
    }
   ],
   "source": [
    "knn_tuned.fit(X_train, y_train)"
   ]
  },
  {
   "cell_type": "code",
   "execution_count": 27,
   "metadata": {},
   "outputs": [
    {
     "data": {
      "text/plain": [
       "20.684951569847392"
      ]
     },
     "execution_count": 27,
     "metadata": {},
     "output_type": "execute_result"
    }
   ],
   "source": [
    "np.sqrt(mean_squared_error(y_test, knn_tuned.predict(X_test)))"
   ]
  },
  {
   "cell_type": "markdown",
   "metadata": {},
   "source": [
    "***Tuned edilmiş final KNN modeliyle elde edilen test hatası 20 çıktı."
   ]
  },
  {
   "cell_type": "markdown",
   "metadata": {},
   "source": [
    "# Support Vector Regression (SVR)"
   ]
  },
  {
   "cell_type": "markdown",
   "metadata": {},
   "source": [
    "Destek vektör regresyonu: \n",
    "Amaç burada bir marjin aralığına maksimum noktayı en küçük hata ile alabilecek şekilde doğru veya eğriyi belirlemek.\n",
    "\n",
    "***Sınıflandırma prob ve regresyon problemlerine. Güçlü ve esnek bir model."
   ]
  },
  {
   "cell_type": "markdown",
   "metadata": {},
   "source": [
    "Doğrusal SVR "
   ]
  },
  {
   "cell_type": "code",
   "execution_count": 22,
   "metadata": {},
   "outputs": [],
   "source": [
    "data= pd.read_excel(\"data.xlsx\")\n",
    "df = data.copy()\n",
    "df = df.dropna()\n",
    "dms = pd.get_dummies(df[['ind_109', 'ind_420', 'ind_422']])\n",
    "y = df[\"50_target\"]\n",
    "X= df.drop(['50_target', 'ind_109', 'ind_420', 'ind_422'], axis=1).astype('float64')\n",
    "\n"
   ]
  },
  {
   "cell_type": "code",
   "execution_count": 23,
   "metadata": {},
   "outputs": [],
   "source": [
    "X_train, X_test, y_train, y_test = train_test_split(X, y, \n",
    "                                                    test_size=0.25, \n",
    "                                                    random_state=42)"
   ]
  },
  {
   "cell_type": "code",
   "execution_count": 24,
   "metadata": {},
   "outputs": [],
   "source": [
    "X_train = pd.DataFrame(X_train[\"ind_412\"])\n",
    "X_test = pd.DataFrame(X_test[\"ind_412\"])\n",
    "\n",
    "#Gedef değişkenim 50_target,onunla ind_412 değişkeni arasında bir değerlendirme yapacağım."
   ]
  },
  {
   "cell_type": "code",
   "execution_count": 25,
   "metadata": {},
   "outputs": [],
   "source": [
    "from sklearn.svm import SVR"
   ]
  },
  {
   "cell_type": "code",
   "execution_count": 26,
   "metadata": {},
   "outputs": [],
   "source": [
    "svr_model = SVR(\"linear\").fit(X_train, y_train) #Doğrusal SVR modeli fit ettik."
   ]
  },
  {
   "cell_type": "code",
   "execution_count": 27,
   "metadata": {},
   "outputs": [
    {
     "data": {
      "text/plain": [
       "array([-34.24065586, -34.23605663, -34.2368698 , -34.2342238 ,\n",
       "       -34.21994807])"
      ]
     },
     "execution_count": 27,
     "metadata": {},
     "output_type": "execute_result"
    }
   ],
   "source": [
    "svr_model.predict(X_train)[0:5]  #X train için tahmin değerleri oluşturuldu."
   ]
  },
  {
   "cell_type": "code",
   "execution_count": 28,
   "metadata": {},
   "outputs": [
    {
     "name": "stdout",
     "output_type": "stream",
     "text": [
      "y = -34.225854851292276 + 2.3921461080000004 x\n"
     ]
    }
   ],
   "source": [
    "print (\"y = {0} + {1} x\".format(svr_model.intercept_[0], \n",
    "                                svr_model.coef_[0][0])) "
   ]
  },
  {
   "cell_type": "code",
   "execution_count": 29,
   "metadata": {},
   "outputs": [
    {
     "data": {
      "text/plain": [
       "5059   -0.006187\n",
       "Name: ind_412, dtype: float64"
      ]
     },
     "execution_count": 29,
     "metadata": {},
     "output_type": "execute_result"
    }
   ],
   "source": [
    "X_train[\"ind_412\"][0:1]"
   ]
  },
  {
   "cell_type": "code",
   "execution_count": 30,
   "metadata": {},
   "outputs": [
    {
     "data": {
      "text/plain": [
       "-34.24065505926247"
      ]
     },
     "execution_count": 30,
     "metadata": {},
     "output_type": "execute_result"
    }
   ],
   "source": [
    "-34.225854851292276 + 2.3921461080000004 * -0.006187   # Bu değerin in27 deki ilk değere eşit olması gerekiyor.Çünkü tahmin edilen değer."
   ]
  },
  {
   "cell_type": "markdown",
   "metadata": {},
   "source": [
    "Bu SVR modelinin bize sağladığı tahmini değer."
   ]
  },
  {
   "cell_type": "code",
   "execution_count": 31,
   "metadata": {},
   "outputs": [],
   "source": [
    "y_pred = svr_model.predict(X_train)"
   ]
  },
  {
   "cell_type": "code",
   "execution_count": 32,
   "metadata": {},
   "outputs": [
    {
     "data": {
      "text/plain": [
       "[<matplotlib.lines.Line2D at 0x204f7d64d48>]"
      ]
     },
     "execution_count": 32,
     "metadata": {},
     "output_type": "execute_result"
    },
    {
     "data": {
      "image/png": "[encoded data removed]",
      "text/plain": [
       "<Figure size 432x288 with 1 Axes>"
      ]
     },
     "metadata": {
      "needs_background": "light"
     },
     "output_type": "display_data"
    }
   ],
   "source": [
    "plt.scatter(X_train, y_train)\n",
    "plt.plot(X_train,y_pred, color = \"r\")"
   ]
  },
  {
   "cell_type": "code",
   "execution_count": 33,
   "metadata": {},
   "outputs": [
    {
     "name": "stdout",
     "output_type": "stream",
     "text": [
      "y = -3.0785993964955427 + 844.8212812947367 x\n"
     ]
    }
   ],
   "source": [
    "from sklearn.linear_model import LinearRegression\n",
    "lm_model = LinearRegression().fit(X_train, y_train)\n",
    "lm_pred  = lm_model.predict(X_train)\n",
    "print(\"y = {0} + {1} x\".format(lm_model.intercept_, lm_model.coef_[0]))"
   ]
  },
  {
   "cell_type": "code",
   "execution_count": 34,
   "metadata": {},
   "outputs": [
    {
     "data": {
      "text/plain": [
       "-8.305508663866078"
      ]
     },
     "execution_count": 34,
     "metadata": {},
     "output_type": "execute_result"
    }
   ],
   "source": [
    "-3.0785993964955427 + 844.8212812947367* -0.006187"
   ]
  },
  {
   "cell_type": "markdown",
   "metadata": {},
   "source": [
    "Bu bize lineer regresyonun verdiği tahmin değeri.Üstte SVR modeliyle tahmin ettiğimizde değer 34 çıktı burada 8 çıktı.Buradaki fark önem taşır.\n",
    "\n",
    "Bu fark için iki denklemi üst üste koyarak aralarındaki ilişkiye bakabiliriz."
   ]
  },
  {
   "cell_type": "code",
   "execution_count": 35,
   "metadata": {},
   "outputs": [
    {
     "data": {
      "text/plain": [
       "Text(0, 0.5, '50_target')"
      ]
     },
     "execution_count": 35,
     "metadata": {},
     "output_type": "execute_result"
    },
    {
     "data": {
      "image/png": "[encoded data removed]",
      "text/plain": [
       "<Figure size 432x288 with 1 Axes>"
      ]
     },
     "metadata": {
      "needs_background": "light"
     },
     "output_type": "display_data"
    }
   ],
   "source": [
    "plt.scatter(X_train, y_train, alpha=0.5, s=23)\n",
    "plt.plot(X_train, lm_pred, 'g')\n",
    "plt.plot(X_train, y_pred, color='r')\n",
    "\n",
    "plt.xlabel(\"ind_412\")\n",
    "plt.ylabel(\"50_target\")"
   ]
  },
  {
   "cell_type": "markdown",
   "metadata": {},
   "source": [
    "***Kırmızı ve yeşil çizgileri yorumlarsak,doğrusal model yani lineer olan yeşil, SVR modeli kırmızıdır.Regresyon modeli daha yukarıdadır.Sebebi:SVR da aykırı gözlemler eğriyi yukarı doğru çeker.(En küçük kareler yönteminden dolayı.)"
   ]
  },
  {
   "cell_type": "markdown",
   "metadata": {},
   "source": [
    "# TAHMİN"
   ]
  },
  {
   "cell_type": "code",
   "execution_count": 36,
   "metadata": {},
   "outputs": [
    {
     "name": "stdout",
     "output_type": "stream",
     "text": [
      "y = -34.225854851292276 + 2.3921461080000004 x\n"
     ]
    }
   ],
   "source": [
    "print (\"y = {0} + {1} x\".format(svr_model.intercept_[0], svr_model.coef_[0][0])) "
   ]
  },
  {
   "cell_type": "code",
   "execution_count": 37,
   "metadata": {},
   "outputs": [
    {
     "data": {
      "text/plain": [
       "array([-34.24065506])"
      ]
     },
     "execution_count": 37,
     "metadata": {},
     "output_type": "execute_result"
    }
   ],
   "source": [
    "svr_model.predict([[-0.006187]])\n",
    "\n",
    "#Üstteki SVR modeli tahmin edildi."
   ]
  },
  {
   "cell_type": "code",
   "execution_count": 38,
   "metadata": {},
   "outputs": [],
   "source": [
    "y_pred = svr_model.predict(X_test)"
   ]
  },
  {
   "cell_type": "code",
   "execution_count": 39,
   "metadata": {},
   "outputs": [
    {
     "data": {
      "text/plain": [
       "46.62429069622837"
      ]
     },
     "execution_count": 39,
     "metadata": {},
     "output_type": "execute_result"
    }
   ],
   "source": [
    "np.sqrt(mean_squared_error(y_test, y_pred))"
   ]
  },
  {
   "cell_type": "markdown",
   "metadata": {},
   "source": [
    "*Tuned edilmemiş bir modelde test hatası 46 bulundu.KNN yönteminde bu değer 20 idi."
   ]
  },
  {
   "cell_type": "code",
   "execution_count": 40,
   "metadata": {},
   "outputs": [
    {
     "data": {
      "text/plain": [
       "SVR(C=1.0, cache_size=200, coef0=0.0, degree=3, epsilon=0.1, gamma='scale',\n",
       "    kernel='linear', max_iter=-1, shrinking=True, tol=0.001, verbose=False)"
      ]
     },
     "execution_count": 40,
     "metadata": {},
     "output_type": "execute_result"
    }
   ],
   "source": [
    "svr_model"
   ]
  },
  {
   "cell_type": "markdown",
   "metadata": {},
   "source": [
    "# MODEL TUNING"
   ]
  },
  {
   "cell_type": "code",
   "execution_count": 41,
   "metadata": {},
   "outputs": [
    {
     "data": {
      "text/plain": [
       "SVR(C=1.0, cache_size=200, coef0=0.0, degree=3, epsilon=0.1, gamma='scale',\n",
       "    kernel='linear', max_iter=-1, shrinking=True, tol=0.001, verbose=False)"
      ]
     },
     "execution_count": 41,
     "metadata": {},
     "output_type": "execute_result"
    }
   ],
   "source": [
    "svr_model"
   ]
  },
  {
   "cell_type": "code",
   "execution_count": 43,
   "metadata": {},
   "outputs": [],
   "source": [
    "svr_params = {\"C\": np.arange(0.1,2,0.1)}\n",
    "svr_cv_model = GridSearchCV(svr_model, svr_params, cv = 10).fit(X_train,y_train)"
   ]
  },
  {
   "cell_type": "code",
   "execution_count": 44,
   "metadata": {},
   "outputs": [
    {
     "data": {
      "text/plain": [
       "1.9000000000000001"
      ]
     },
     "execution_count": 44,
     "metadata": {},
     "output_type": "execute_result"
    }
   ],
   "source": [
    "pd.Series(svr_cv_model.best_params_)[0]"
   ]
  },
  {
   "cell_type": "code",
   "execution_count": 45,
   "metadata": {},
   "outputs": [],
   "source": [
    "svr_tuned = SVR(\"linear\", \n",
    "                C = pd.Series(svr_cv_model.best_params_)[0]).fit(X_train, y_train)\n"
   ]
  },
  {
   "cell_type": "code",
   "execution_count": 46,
   "metadata": {},
   "outputs": [],
   "source": [
    "y_pred = svr_tuned.predict(X_test)"
   ]
  },
  {
   "cell_type": "code",
   "execution_count": 47,
   "metadata": {},
   "outputs": [
    {
     "data": {
      "text/plain": [
       "46.63301075415382"
      ]
     },
     "execution_count": 47,
     "metadata": {},
     "output_type": "execute_result"
    }
   ],
   "source": [
    "np.sqrt(mean_squared_error(y_test, y_pred))"
   ]
  },
  {
   "cell_type": "markdown",
   "metadata": {},
   "source": [
    "#Burada tek bir değişken ile bağımlı değişkeni yanı burada 50_target değişkenini tahmin ediyoruz.Aşağıda ise daha fazla değişken ile bu tahmini yapıyoruz.Çok değişken ile açıklarsak hataların karesi düşer."
   ]
  },
  {
   "cell_type": "code",
   "execution_count": 30,
   "metadata": {},
   "outputs": [
    {
     "data": {
      "text/plain": [
       "23.82506517370464"
      ]
     },
     "execution_count": 30,
     "metadata": {},
     "output_type": "execute_result"
    }
   ],
   "source": [
    "np.sqrt(mean_squared_error(y_test, y_pred))"
   ]
  },
  {
   "cell_type": "markdown",
   "metadata": {},
   "source": [
    "# Doğrusal Olmayan SVR"
   ]
  },
  {
   "cell_type": "code",
   "execution_count": 5,
   "metadata": {},
   "outputs": [],
   "source": [
    "np.random.seed(3)\n",
    "\n",
    "x_sim = np.random.uniform(2, 10, 145)\n",
    "y_sim = np.sin(x_sim) + np.random.normal(0, 0.4, 145)\n",
    "\n",
    "x_outliers = np.arange(2.5, 5, 0.5)\n",
    "y_outliers = -5*np.ones(5)\n",
    "\n",
    "x_sim_idx = np.argsort(np.concatenate([x_sim, x_outliers]))\n",
    "x_sim = np.concatenate([x_sim, x_outliers])[x_sim_idx]\n",
    "y_sim = np.concatenate([y_sim, y_outliers])[x_sim_idx]"
   ]
  },
  {
   "cell_type": "code",
   "execution_count": 6,
   "metadata": {},
   "outputs": [],
   "source": [
    "from sklearn.linear_model import LinearRegression\n",
    "ols = LinearRegression()\n",
    "ols.fit(np.sin(x_sim[:, np.newaxis]), y_sim)\n",
    "ols_pred = ols.predict(np.sin(x_sim[:, np.newaxis]))\n",
    "\n",
    "from sklearn.svm import SVR\n",
    "eps = 0.1\n",
    "svr = SVR('rbf', epsilon = eps)\n",
    "svr.fit(x_sim[:, np.newaxis], y_sim)\n",
    "svr_pred = svr.predict(x_sim[:, np.newaxis])"
   ]
  },
  {
   "cell_type": "code",
   "execution_count": 20,
   "metadata": {},
   "outputs": [
    {
     "data": {
      "image/png": "[encoded data removed]",
      "text/plain": [
       "<Figure size 432x288 with 1 Axes>"
      ]
     },
     "metadata": {
      "needs_background": "light"
     },
     "output_type": "display_data"
    }
   ],
   "source": [
    "plt.scatter(x_sim, y_sim, alpha=0.5, s=26)\n",
    "plt_ols, = plt.plot(x_sim, ols_pred, 'g')\n",
    "plt_svr, = plt.plot(x_sim, svr_pred, color='r')\n",
    "plt.xlabel(\"ind_412\")\n",
    "plt.ylabel(\"50_target\")\n",
    "plt.ylim(-5.2, 2.2)\n",
    "plt.legend([plt_ols, plt_svr], ['EKK', 'SVR'], loc = 4);"
   ]
  },
  {
   "cell_type": "markdown",
   "metadata": {},
   "source": [
    "***Doğrusal olmayan SVR ve lineer regresyonu karşılaştırmak için bu grafik çizildi.Suni bir veriseti oluşturduk aykırı gözlemleri ekledik.EKK ve SVR eğrisel bir formdadır.Aşağıdaki aykırı gözlemler EKK eğrisini aşağıya doğru çekmiştir."
   ]
  },
  {
   "cell_type": "code",
   "execution_count": 21,
   "metadata": {},
   "outputs": [],
   "source": [
    "data= pd.read_excel(\"data.xlsx\")\n",
    "df = data.copy()\n",
    "df = df.dropna()\n",
    "dms = pd.get_dummies(df[['ind_109', 'ind_420', 'ind_422']])\n",
    "y = df[\"50_target\"]\n",
    "X= df.drop(['50_target', 'ind_109', 'ind_420', 'ind_422'], axis=1).astype('float64')\n",
    "\n"
   ]
  },
  {
   "cell_type": "code",
   "execution_count": 34,
   "metadata": {},
   "outputs": [],
   "source": [
    "X_train, X_test, y_train, y_test = train_test_split(X, y, \n",
    "                                                    test_size=0.25, \n",
    "                                                    random_state=42)"
   ]
  },
  {
   "cell_type": "code",
   "execution_count": 23,
   "metadata": {},
   "outputs": [],
   "source": [
    "svr_rbf = SVR(\"rbf\").fit(X_train, y_train)\n",
    "#SVR 'ı doğrusal olmayan bir formda kurduk."
   ]
  },
  {
   "cell_type": "markdown",
   "metadata": {},
   "source": [
    "# Tahmin"
   ]
  },
  {
   "cell_type": "code",
   "execution_count": 24,
   "metadata": {},
   "outputs": [],
   "source": [
    "y_pred = svr_rbf.predict(X_test)"
   ]
  },
  {
   "cell_type": "code",
   "execution_count": 25,
   "metadata": {},
   "outputs": [
    {
     "data": {
      "text/plain": [
       "23.82506517370464"
      ]
     },
     "execution_count": 25,
     "metadata": {},
     "output_type": "execute_result"
    }
   ],
   "source": [
    "np.sqrt(mean_squared_error(y_test, y_pred))   \n",
    "#Tüm değişkenleri kullanarak doğrusal olmayan formda model kurduk ve test hatası hesapladık."
   ]
  },
  {
   "cell_type": "markdown",
   "metadata": {},
   "source": [
    "# Model Tuning"
   ]
  },
  {
   "cell_type": "code",
   "execution_count": 26,
   "metadata": {},
   "outputs": [
    {
     "data": {
      "text/plain": [
       "SVR(C=1.0, cache_size=200, coef0=0.0, degree=3, epsilon=0.1, gamma='scale',\n",
       "    kernel='rbf', max_iter=-1, shrinking=True, tol=0.001, verbose=False)"
      ]
     },
     "execution_count": 26,
     "metadata": {},
     "output_type": "execute_result"
    }
   ],
   "source": [
    "svr_rbf"
   ]
  },
  {
   "cell_type": "code",
   "execution_count": 27,
   "metadata": {},
   "outputs": [
    {
     "data": {
      "text/plain": [
       "GridSearchCV(cv=10, error_score=nan,\n",
       "             estimator=SVR(C=1.0, cache_size=200, coef0=0.0, degree=3,\n",
       "                           epsilon=0.1, gamma='scale', kernel='rbf',\n",
       "                           max_iter=-1, shrinking=True, tol=0.001,\n",
       "                           verbose=False),\n",
       "             iid='deprecated', n_jobs=None,\n",
       "             param_grid={'C': [0.01, 0.1, 0.4, 5, 10, 20, 30, 40, 50]},\n",
       "             pre_dispatch='2*n_jobs', refit=True, return_train_score=False,\n",
       "             scoring=None, verbose=0)"
      ]
     },
     "execution_count": 27,
     "metadata": {},
     "output_type": "execute_result"
    }
   ],
   "source": [
    "svr_params = {\"C\": [0.01, 0.1,0.4,5,10,20,30,40,50]}\n",
    "svr_cv_model = GridSearchCV(svr_rbf,svr_params, cv = 10)  \n",
    "#svr_rbf modelini kullanarak optimum parametre değerlerini 10 katlı cross validation ile bulmasını söyledik.\n",
    "svr_cv_model.fit(X_train, y_train)"
   ]
  },
  {
   "cell_type": "code",
   "execution_count": 33,
   "metadata": {},
   "outputs": [
    {
     "data": {
      "text/plain": [
       "{'C': 50}"
      ]
     },
     "execution_count": 33,
     "metadata": {},
     "output_type": "execute_result"
    }
   ],
   "source": [
    "svr_cv_model.best_params_\n",
    "#C değerinin 50 olduğu durumda optimum değere ulaşılır.Final modelini bunun üzerinden oluşturacağız."
   ]
  },
  {
   "cell_type": "code",
   "execution_count": 28,
   "metadata": {},
   "outputs": [
    {
     "data": {
      "text/plain": [
       "50"
      ]
     },
     "execution_count": 28,
     "metadata": {},
     "output_type": "execute_result"
    }
   ],
   "source": [
    "pd.Series(svr_cv_model.best_params_)[0]"
   ]
  },
  {
   "cell_type": "code",
   "execution_count": 31,
   "metadata": {},
   "outputs": [],
   "source": [
    "svr_tuned = SVR(\"rbf\", C = pd.Series(svr_cv_model.best_params_)[0]).fit(X_train, \n",
    "                                                                        y_train)\n",
    "#Train üzerinden tuned edilmiş modeli kurduk."
   ]
  },
  {
   "cell_type": "code",
   "execution_count": 32,
   "metadata": {},
   "outputs": [
    {
     "data": {
      "text/plain": [
       "12.283123854447737"
      ]
     },
     "execution_count": 32,
     "metadata": {},
     "output_type": "execute_result"
    }
   ],
   "source": [
    "y_pred = svr_tuned.predict(X_test)\n",
    "\n",
    "np.sqrt(mean_squared_error(y_test, y_pred))\n"
   ]
  },
  {
   "cell_type": "markdown",
   "metadata": {},
   "source": [
    "*En son aldığımız test hatası 23 idi. Şimdi hata 12'ye düştü.Tüm cross vaidation değerleri içinde en küçük hata terimine ulaşıldı.\n",
    "\n",
    "*Bu şu anlama gelir:Eğer bu büyük gelseydi parametre setini değiştirip düzeltebilirdik.KNN değerinden iyi çıkmalıdır.Burada da daha düşük çıktı."
   ]
  },
  {
   "cell_type": "markdown",
   "metadata": {},
   "source": [
    "# Çok Katmanlı Algılayıcı"
   ]
  },
  {
   "cell_type": "markdown",
   "metadata": {},
   "source": [
    "Yapay Sinir Ağları(YSA):\n",
    "    İnsan beyninin bilgi işleme sistemini referans alan sınıflandırma ve regresyon problemleri için kullanılabilen yöntemlerdir."
   ]
  },
  {
   "cell_type": "code",
   "execution_count": 3,
   "metadata": {},
   "outputs": [],
   "source": [
    "import pandas as pd\n",
    "data= pd.read_excel(\"data.xlsx\")\n",
    "df = data.copy()\n",
    "df = df.dropna()\n",
    "dms = pd.get_dummies(df[['ind_109', 'ind_420', 'ind_422']])\n",
    "y = df[\"50_target\"]\n",
    "X= df.drop(['50_target', 'ind_109', 'ind_420', 'ind_422'], axis=1).astype('float64')\n",
    "\n"
   ]
  },
  {
   "cell_type": "code",
   "execution_count": 6,
   "metadata": {},
   "outputs": [],
   "source": [
    "X_train, X_test, y_train, y_test = train_test_split(X, y, \n",
    "                                                    test_size=0.25, \n",
    "                                                    random_state=42)"
   ]
  },
  {
   "cell_type": "code",
   "execution_count": 7,
   "metadata": {},
   "outputs": [],
   "source": [
    "from sklearn.preprocessing import StandardScaler"
   ]
  },
  {
   "cell_type": "code",
   "execution_count": 8,
   "metadata": {},
   "outputs": [
    {
     "data": {
      "text/plain": [
       "StandardScaler(copy=True, with_mean=True, with_std=True)"
      ]
     },
     "execution_count": 8,
     "metadata": {},
     "output_type": "execute_result"
    }
   ],
   "source": [
    "scaler = StandardScaler()\n",
    "scaler.fit(X_train)\n",
    "\n",
    "#Burada dönüştürme işlemine başladık."
   ]
  },
  {
   "cell_type": "code",
   "execution_count": 9,
   "metadata": {},
   "outputs": [],
   "source": [
    "X_train_scaled = scaler.transform(X_train)"
   ]
  },
  {
   "cell_type": "code",
   "execution_count": 10,
   "metadata": {},
   "outputs": [],
   "source": [
    "X_test_scaled = scaler.transform(X_test)"
   ]
  },
  {
   "cell_type": "code",
   "execution_count": 11,
   "metadata": {},
   "outputs": [],
   "source": [
    "from sklearn.neural_network import MLPRegressor"
   ]
  },
  {
   "cell_type": "code",
   "execution_count": 12,
   "metadata": {},
   "outputs": [],
   "source": [
    "mlp_model = MLPRegressor(hidden_layer_sizes = (100,20)).fit(X_train_scaled, y_train)"
   ]
  },
  {
   "cell_type": "code",
   "execution_count": 13,
   "metadata": {},
   "outputs": [
    {
     "data": {
      "text/plain": [
       "MLPRegressor(activation='relu', alpha=0.0001, batch_size='auto', beta_1=0.9,\n",
       "             beta_2=0.999, early_stopping=False, epsilon=1e-08,\n",
       "             hidden_layer_sizes=(100, 20), learning_rate='constant',\n",
       "             learning_rate_init=0.001, max_fun=15000, max_iter=200,\n",
       "             momentum=0.9, n_iter_no_change=10, nesterovs_momentum=True,\n",
       "             power_t=0.5, random_state=None, shuffle=True, solver='adam',\n",
       "             tol=0.0001, validation_fraction=0.1, verbose=False,\n",
       "             warm_start=False)"
      ]
     },
     "execution_count": 13,
     "metadata": {},
     "output_type": "execute_result"
    }
   ],
   "source": [
    "mlp_model\n",
    "#Multi-linear perceptual"
   ]
  },
  {
   "cell_type": "markdown",
   "metadata": {},
   "source": [
    "Modele bakarsak daha fazla parametreye sahibiz.Gizli katman sayısı=100, Bu model içerisinden bazı değerlere ulaşmak istediğimizde aşağıdaki kodları kullanırız."
   ]
  },
  {
   "cell_type": "code",
   "execution_count": 14,
   "metadata": {},
   "outputs": [
    {
     "data": {
      "text/plain": [
       "4"
      ]
     },
     "execution_count": 14,
     "metadata": {},
     "output_type": "execute_result"
    }
   ],
   "source": [
    "mlp_model.n_layers_  #Genel framework"
   ]
  },
  {
   "cell_type": "code",
   "execution_count": 15,
   "metadata": {},
   "outputs": [
    {
     "data": {
      "text/plain": [
       "(100, 20)"
      ]
     },
     "execution_count": 15,
     "metadata": {},
     "output_type": "execute_result"
    }
   ],
   "source": [
    "mlp_model.hidden_layer_sizes #Genel framework'ün gizli katmanlarının içindeki nöron sayıları(elemanları) gösterir."
   ]
  },
  {
   "cell_type": "markdown",
   "metadata": {},
   "source": [
    "# Tahmin"
   ]
  },
  {
   "cell_type": "code",
   "execution_count": 16,
   "metadata": {},
   "outputs": [
    {
     "data": {
      "text/plain": [
       "array([ 33.48467213,  36.79088152,  34.59975427,  34.17382388,\n",
       "       -39.14508872])"
      ]
     },
     "execution_count": 16,
     "metadata": {},
     "output_type": "execute_result"
    }
   ],
   "source": [
    "mlp_model.predict(X_train_scaled)[0:5]"
   ]
  },
  {
   "cell_type": "code",
   "execution_count": 17,
   "metadata": {},
   "outputs": [],
   "source": [
    "y_pred = mlp_model.predict(X_test_scaled)"
   ]
  },
  {
   "cell_type": "code",
   "execution_count": 18,
   "metadata": {},
   "outputs": [
    {
     "data": {
      "text/plain": [
       "11.153306261515374"
      ]
     },
     "execution_count": 18,
     "metadata": {},
     "output_type": "execute_result"
    }
   ],
   "source": [
    "np.sqrt(mean_squared_error(y_test, y_pred))"
   ]
  },
  {
   "cell_type": "markdown",
   "metadata": {},
   "source": [
    "Burada doğrusal olmayan SVR modelindeki hata terimlerine bakarsak 12 çıkmıştı.Şimdi 11 'e düştü.\n"
   ]
  },
  {
   "cell_type": "markdown",
   "metadata": {},
   "source": [
    "# Model Tuning"
   ]
  },
  {
   "cell_type": "code",
   "execution_count": 19,
   "metadata": {},
   "outputs": [
    {
     "data": {
      "text/plain": [
       "MLPRegressor(activation='relu', alpha=0.0001, batch_size='auto', beta_1=0.9,\n",
       "             beta_2=0.999, early_stopping=False, epsilon=1e-08,\n",
       "             hidden_layer_sizes=(100, 20), learning_rate='constant',\n",
       "             learning_rate_init=0.001, max_fun=15000, max_iter=200,\n",
       "             momentum=0.9, n_iter_no_change=10, nesterovs_momentum=True,\n",
       "             power_t=0.5, random_state=None, shuffle=True, solver='adam',\n",
       "             tol=0.0001, validation_fraction=0.1, verbose=False,\n",
       "             warm_start=False)"
      ]
     },
     "execution_count": 19,
     "metadata": {},
     "output_type": "execute_result"
    }
   ],
   "source": [
    "mlp_model\n",
    "\n",
    "#Gizli katman sayısına bakarsak mesela 1.katman 100,2.katman 20 nörondan oluşuyor.Bunlar arttırılabilir."
   ]
  },
  {
   "cell_type": "code",
   "execution_count": 20,
   "metadata": {},
   "outputs": [],
   "source": [
    "mlp_params = {'alpha': [0.1, 0.01,0.02,0.005],\n",
    "             'hidden_layer_sizes': [(20,20),(100,50,150),(10,20,50)],  #Burada başka değerler de denenebilir.\n",
    "             'activation': ['relu','logistic']}"
   ]
  },
  {
   "cell_type": "code",
   "execution_count": 21,
   "metadata": {},
   "outputs": [],
   "source": [
    "mlp_cv_model = GridSearchCV(mlp_model, mlp_params, cv = 10)"
   ]
  },
  {
   "cell_type": "code",
   "execution_count": null,
   "metadata": {},
   "outputs": [],
   "source": [
    "mlp_cv_model.fit(X_train_scaled, y_train)"
   ]
  },
  {
   "cell_type": "code",
   "execution_count": null,
   "metadata": {},
   "outputs": [],
   "source": [
    "mlp_cv_model.best_params_"
   ]
  },
  {
   "cell_type": "code",
   "execution_count": null,
   "metadata": {},
   "outputs": [],
   "source": [
    "mlp_tuned = MLPRegressor(alpha = 0.02, hidden_layer_sizes = (100,50,150))"
   ]
  },
  {
   "cell_type": "code",
   "execution_count": null,
   "metadata": {},
   "outputs": [],
   "source": [
    "mlp_tuned.fit(X_train_scaled, y_train)"
   ]
  },
  {
   "cell_type": "code",
   "execution_count": null,
   "metadata": {},
   "outputs": [],
   "source": [
    "np.sqrt(mean_squared_error(y_test, y_pred))"
   ]
  },
  {
   "cell_type": "markdown",
   "metadata": {},
   "source": [
    "# CART(KARAR AĞACI MODELİ)"
   ]
  },
  {
   "cell_type": "markdown",
   "metadata": {},
   "source": [
    "** Amacı karmaşık modelleri basit yapılara dönüştürmektir.Heterojen veri setleri de homojen bir şekilde gruplara ayrılır."
   ]
  },
  {
   "cell_type": "code",
   "execution_count": 2,
   "metadata": {},
   "outputs": [],
   "source": [
    "import pandas as pd\n",
    "data= pd.read_excel(\"data.xlsx\")\n",
    "df = data.copy()\n",
    "df = df.dropna()\n",
    "dms = pd.get_dummies(df[['ind_109', 'ind_420', 'ind_422']])\n",
    "y = df[\"50_target\"]\n",
    "X= df.drop(['50_target', 'ind_109', 'ind_420', 'ind_422'], axis=1).astype('float64')\n",
    "\n"
   ]
  },
  {
   "cell_type": "code",
   "execution_count": 3,
   "metadata": {},
   "outputs": [],
   "source": [
    "X_train, X_test, y_train, y_test = train_test_split(X, y, \n",
    "                                                    test_size=0.25, \n",
    "                                                    random_state=42)\n"
   ]
  },
  {
   "cell_type": "code",
   "execution_count": 4,
   "metadata": {},
   "outputs": [],
   "source": [
    "X_train = pd.DataFrame(X_train[\"ind_412\"])\n",
    "X_test = pd.DataFrame(X_test[\"ind_412\"])\n",
    "\n",
    "#ind_412 değişkeninin 50_target değişkeniyle ilişkisine bakacağız."
   ]
  },
  {
   "cell_type": "code",
   "execution_count": 5,
   "metadata": {},
   "outputs": [],
   "source": [
    "cart_model = DecisionTreeRegressor(min_samples_split = 2)"
   ]
  },
  {
   "cell_type": "code",
   "execution_count": 6,
   "metadata": {},
   "outputs": [],
   "source": [
    "?cart_model"
   ]
  },
  {
   "cell_type": "code",
   "execution_count": 7,
   "metadata": {},
   "outputs": [
    {
     "data": {
      "text/plain": [
       "DecisionTreeRegressor(ccp_alpha=0.0, criterion='mse', max_depth=None,\n",
       "                      max_features=None, max_leaf_nodes=None,\n",
       "                      min_impurity_decrease=0.0, min_impurity_split=None,\n",
       "                      min_samples_leaf=1, min_samples_split=2,\n",
       "                      min_weight_fraction_leaf=0.0, presort='deprecated',\n",
       "                      random_state=None, splitter='best')"
      ]
     },
     "execution_count": 7,
     "metadata": {},
     "output_type": "execute_result"
    }
   ],
   "source": [
    "cart_model.fit(X_train, y_train)"
   ]
  },
  {
   "cell_type": "code",
   "execution_count": 8,
   "metadata": {},
   "outputs": [
    {
     "data": {
      "image/png": "[encoded data removed]",
      "text/plain": [
       "<Figure size 432x288 with 1 Axes>"
      ]
     },
     "metadata": {
      "needs_background": "light"
     },
     "output_type": "display_data"
    }
   ],
   "source": [
    "X_grid = np.arange(min(np.array(X_train)),max(np.array(X_train)), 0.01) \n",
    "X_grid = X_grid.reshape((len(X_grid), 1))  \n",
    "plt.scatter(X_train, y_train, color = 'purple') \n",
    "plt.plot(X_grid, cart_model.predict(X_grid), color = 'green')  \n",
    "plt.title('CART REGRESYON AĞACI')  \n",
    "plt.xlabel('ind_412') \n",
    "plt.ylabel('50_target') ;"
   ]
  },
  {
   "cell_type": "markdown",
   "metadata": {},
   "source": [
    "**Burada bir regresyon problemini değişkenler bazında inceleyeceğiz.Burada bir parametre değişirse ağacın yapısının nasıl değiştiğini ele alacağız."
   ]
  },
  {
   "cell_type": "code",
   "execution_count": 26,
   "metadata": {},
   "outputs": [],
   "source": [
    "cart_model = DecisionTreeRegressor(max_leaf_nodes = 100)"
   ]
  },
  {
   "cell_type": "code",
   "execution_count": 27,
   "metadata": {},
   "outputs": [
    {
     "data": {
      "text/plain": [
       "DecisionTreeRegressor(ccp_alpha=0.0, criterion='mse', max_depth=None,\n",
       "                      max_features=None, max_leaf_nodes=100,\n",
       "                      min_impurity_decrease=0.0, min_impurity_split=None,\n",
       "                      min_samples_leaf=1, min_samples_split=2,\n",
       "                      min_weight_fraction_leaf=0.0, presort='deprecated',\n",
       "                      random_state=None, splitter='best')"
      ]
     },
     "execution_count": 27,
     "metadata": {},
     "output_type": "execute_result"
    }
   ],
   "source": [
    "cart_model.fit(X_train, y_train)"
   ]
  },
  {
   "cell_type": "code",
   "execution_count": 28,
   "metadata": {},
   "outputs": [
    {
     "data": {
      "image/png": "[encoded data removed]",
      "text/plain": [
       "<Figure size 432x288 with 1 Axes>"
      ]
     },
     "metadata": {
      "needs_background": "light"
     },
     "output_type": "display_data"
    }
   ],
   "source": [
    "X_grid = np.arange(min(np.array(X_train)),max(np.array(X_train)), 0.01) \n",
    "X_grid = X_grid.reshape((len(X_grid), 1))  \n",
    "plt.scatter(X_train, y_train, color = 'purple') \n",
    "plt.plot(X_grid, cart_model.predict(X_grid), color = 'green')  \n",
    "plt.title('CART REGRESYON AĞACI')  \n",
    "plt.xlabel('ind_412') \n",
    "plt.ylabel('50_target') ;"
   ]
  },
  {
   "cell_type": "markdown",
   "metadata": {},
   "source": [
    "Algoritmanın parametrelerini değiştirerek,optimum parametreleri bulmaya çalışıyoruz."
   ]
  },
  {
   "cell_type": "code",
   "execution_count": null,
   "metadata": {},
   "outputs": [],
   "source": [
    "# plt.figure(figsize=(5,10))\n",
    "tree.plot_tree(cart_model);"
   ]
  },
  {
   "cell_type": "code",
   "execution_count": null,
   "metadata": {},
   "outputs": [],
   "source": []
  },
  {
   "cell_type": "code",
   "execution_count": null,
   "metadata": {},
   "outputs": [],
   "source": [
    "#!pip install skompiler"
   ]
  },
  {
   "cell_type": "code",
   "execution_count": null,
   "metadata": {},
   "outputs": [],
   "source": [
    "from skompiler import skompile"
   ]
  },
  {
   "cell_type": "code",
   "execution_count": null,
   "metadata": {},
   "outputs": [],
   "source": [
    "print(skompile(cart_model.predict).to('python/code'))"
   ]
  },
  {
   "cell_type": "markdown",
   "metadata": {},
   "source": [
    "# Tahmin "
   ]
  },
  {
   "cell_type": "code",
   "execution_count": 29,
   "metadata": {},
   "outputs": [],
   "source": [
    "x = [-0.006187]"
   ]
  },
  {
   "cell_type": "code",
   "execution_count": 30,
   "metadata": {},
   "outputs": [
    {
     "data": {
      "text/plain": [
       "345.2011551724138"
      ]
     },
     "execution_count": 30,
     "metadata": {},
     "output_type": "execute_result"
    }
   ],
   "source": [
    "(345.2011551724138 if x[0] <= 117.5 else ((((1300.0 if x[0] <= 118.5 else \n",
    "    641.0) if x[0] <= 122.5 else 1468.5236666666667) if x[0] <= 125.5 else \n",
    "    621.9679230769232) if x[0] <= 143.0 else (958.6111111111111 if x[0] <= \n",
    "    150.5 else 2460.0) if x[0] <= 151.5 else 499.1666666666667 if x[0] <= \n",
    "    157.5 else 892.5402413793104) if x[0] <= 225.5 else 1975.0)"
   ]
  },
  {
   "cell_type": "code",
   "execution_count": 31,
   "metadata": {},
   "outputs": [
    {
     "data": {
      "text/plain": [
       "array([  4.16796538, -35.09739446,  -2.55824725,   0.16162196,\n",
       "        -3.23470869])"
      ]
     },
     "execution_count": 31,
     "metadata": {},
     "output_type": "execute_result"
    }
   ],
   "source": [
    "cart_model.predict(X_test)[0:5]"
   ]
  },
  {
   "cell_type": "code",
   "execution_count": 32,
   "metadata": {},
   "outputs": [
    {
     "data": {
      "text/plain": [
       "array([-4.69261782])"
      ]
     },
     "execution_count": 32,
     "metadata": {},
     "output_type": "execute_result"
    }
   ],
   "source": [
    "cart_model.predict([[-0.006187]])"
   ]
  },
  {
   "cell_type": "code",
   "execution_count": 33,
   "metadata": {},
   "outputs": [],
   "source": [
    "y_pred =cart_model.predict(X_test)"
   ]
  },
  {
   "cell_type": "code",
   "execution_count": 34,
   "metadata": {},
   "outputs": [
    {
     "data": {
      "text/plain": [
       "35.44668949689822"
      ]
     },
     "execution_count": 34,
     "metadata": {},
     "output_type": "execute_result"
    }
   ],
   "source": [
    "np.sqrt(mean_squared_error(y_test, y_pred))"
   ]
  },
  {
   "cell_type": "markdown",
   "metadata": {},
   "source": [
    "# Model Tuning"
   ]
  },
  {
   "cell_type": "markdown",
   "metadata": {},
   "source": [
    "Üstte kurduğumuz CART modelinde bazı parametreleri değiştireceğiz."
   ]
  },
  {
   "cell_type": "code",
   "execution_count": 107,
   "metadata": {},
   "outputs": [],
   "source": [
    "cart_model = DecisionTreeRegressor(max_leaf_nodes= 2)\n",
    "cart_model.fit(X_train, y_train)\n",
    "y_pred = cart_model.predict(X_test)"
   ]
  },
  {
   "cell_type": "code",
   "execution_count": 108,
   "metadata": {},
   "outputs": [
    {
     "data": {
      "text/plain": [
       "34.12377351270486"
      ]
     },
     "execution_count": 108,
     "metadata": {},
     "output_type": "execute_result"
    }
   ],
   "source": [
    "np.sqrt(mean_squared_error(y_test, y_pred))"
   ]
  },
  {
   "cell_type": "code",
   "execution_count": 113,
   "metadata": {},
   "outputs": [],
   "source": [
    "cart_params = {\"min_samples_split\": range(3,50),\n",
    "               \"max_leaf_nodes\": range(2,10)}"
   ]
  },
  {
   "cell_type": "code",
   "execution_count": 114,
   "metadata": {},
   "outputs": [],
   "source": [
    "cart_cv_model = GridSearchCV(cart_model, cart_params, cv = 10)"
   ]
  },
  {
   "cell_type": "code",
   "execution_count": 115,
   "metadata": {},
   "outputs": [
    {
     "data": {
      "text/plain": [
       "GridSearchCV(cv=10, error_score=nan,\n",
       "             estimator=DecisionTreeRegressor(ccp_alpha=0.0, criterion='mse',\n",
       "                                             max_depth=None, max_features=None,\n",
       "                                             max_leaf_nodes=2,\n",
       "                                             min_impurity_decrease=0.0,\n",
       "                                             min_impurity_split=None,\n",
       "                                             min_samples_leaf=1,\n",
       "                                             min_samples_split=2,\n",
       "                                             min_weight_fraction_leaf=0.0,\n",
       "                                             presort='deprecated',\n",
       "                                             random_state=None,\n",
       "                                             splitter='best'),\n",
       "             iid='deprecated', n_jobs=None,\n",
       "             param_grid={'max_leaf_nodes': range(2, 10),\n",
       "                         'min_samples_split': range(3, 50)},\n",
       "             pre_dispatch='2*n_jobs', refit=True, return_train_score=False,\n",
       "             scoring=None, verbose=0)"
      ]
     },
     "execution_count": 115,
     "metadata": {},
     "output_type": "execute_result"
    }
   ],
   "source": [
    "cart_cv_model.fit(X_train, y_train)"
   ]
  },
  {
   "cell_type": "code",
   "execution_count": 116,
   "metadata": {},
   "outputs": [
    {
     "data": {
      "text/plain": [
       "{'max_leaf_nodes': 2, 'min_samples_split': 3}"
      ]
     },
     "execution_count": 116,
     "metadata": {},
     "output_type": "execute_result"
    }
   ],
   "source": [
    "cart_cv_model.best_params_"
   ]
  },
  {
   "cell_type": "code",
   "execution_count": 121,
   "metadata": {},
   "outputs": [],
   "source": [
    "cart_tuned = DecisionTreeRegressor(max_leaf_nodes = 2, min_samples_split = 3)"
   ]
  },
  {
   "cell_type": "code",
   "execution_count": 122,
   "metadata": {},
   "outputs": [
    {
     "data": {
      "text/plain": [
       "DecisionTreeRegressor(ccp_alpha=0.0, criterion='mse', max_depth=None,\n",
       "                      max_features=None, max_leaf_nodes=2,\n",
       "                      min_impurity_decrease=0.0, min_impurity_split=None,\n",
       "                      min_samples_leaf=1, min_samples_split=3,\n",
       "                      min_weight_fraction_leaf=0.0, presort='deprecated',\n",
       "                      random_state=None, splitter='best')"
      ]
     },
     "execution_count": 122,
     "metadata": {},
     "output_type": "execute_result"
    }
   ],
   "source": [
    "cart_tuned.fit(X_train, y_train)"
   ]
  },
  {
   "cell_type": "code",
   "execution_count": 123,
   "metadata": {},
   "outputs": [],
   "source": [
    "y_pred = cart_tuned.predict(X_test)"
   ]
  },
  {
   "cell_type": "code",
   "execution_count": 124,
   "metadata": {},
   "outputs": [
    {
     "data": {
      "text/plain": [
       "34.12377351270486"
      ]
     },
     "execution_count": 124,
     "metadata": {},
     "output_type": "execute_result"
    }
   ],
   "source": [
    "np.sqrt(mean_squared_error(y_test, y_pred))"
   ]
  },
  {
   "cell_type": "markdown",
   "metadata": {},
   "source": [
    "**Burada tüm değişkenler ile model tahmini yaptık ve test hatasını 34 bulduk.Önceki değeri 46 idi. \n",
    "\n",
    "**Veri setine birden fazla değişken eklendiğinde bağımlı değişkendeki değişim açıklanabiliyorsa hata teriminin düştüğünü gözlemleriz."
   ]
  },
  {
   "cell_type": "code",
   "execution_count": null,
   "metadata": {},
   "outputs": [],
   "source": [
    "plt.figure(figsize=(30,15))\n",
    "tree.plot_tree(cart_tuned);"
   ]
  },
  {
   "cell_type": "markdown",
   "metadata": {},
   "source": [
    "# Bagged Trees Regresyon"
   ]
  },
  {
   "cell_type": "markdown",
   "metadata": {},
   "source": [
    "Temeli boostrap yöntemiyle oluşturulan birden fazla karar ağacının ürettiği tahminlerin bir araya getirilerek değerlendirilmesidir."
   ]
  },
  {
   "cell_type": "markdown",
   "metadata": {},
   "source": [
    "** Bagged modeliyle veri setinin içerisinde birden fazla ağacı aynı anda oluşturarak tahmin sergiler."
   ]
  },
  {
   "cell_type": "code",
   "execution_count": 2,
   "metadata": {},
   "outputs": [],
   "source": [
    "import pandas as pd\n",
    "data= pd.read_excel(\"data.xlsx\")\n",
    "df = data.copy()\n",
    "df = df.dropna()\n",
    "dms = pd.get_dummies(df[['ind_109', 'ind_420', 'ind_422']])\n",
    "y = df[\"50_target\"]\n",
    "X= df.drop(['50_target', 'ind_109', 'ind_420', 'ind_422'], axis=1).astype('float64')\n",
    "\n"
   ]
  },
  {
   "cell_type": "code",
   "execution_count": 3,
   "metadata": {},
   "outputs": [],
   "source": [
    "X_train, X_test, y_train, y_test = train_test_split(X, y, \n",
    "                                                    test_size=0.25, \n",
    "                                                    random_state=42)\n"
   ]
  },
  {
   "cell_type": "code",
   "execution_count": 4,
   "metadata": {},
   "outputs": [
    {
     "data": {
      "text/plain": [
       "BaggingRegressor(base_estimator=None, bootstrap=True, bootstrap_features=True,\n",
       "                 max_features=1.0, max_samples=1.0, n_estimators=10,\n",
       "                 n_jobs=None, oob_score=False, random_state=None, verbose=0,\n",
       "                 warm_start=False)"
      ]
     },
     "execution_count": 4,
     "metadata": {},
     "output_type": "execute_result"
    }
   ],
   "source": [
    "bag_model = BaggingRegressor(bootstrap_features = True)\n",
    "bag_model.fit(X_train, y_train)\n",
    "\n",
    "#bag_model adında yeni bir model kurduk.\n",
    "#n_estimators= 10 tane ağaç oluşturulacak demektir."
   ]
  },
  {
   "cell_type": "code",
   "execution_count": 5,
   "metadata": {},
   "outputs": [
    {
     "data": {
      "text/plain": [
       "10"
      ]
     },
     "execution_count": 5,
     "metadata": {},
     "output_type": "execute_result"
    }
   ],
   "source": [
    "bag_model.n_estimators"
   ]
  },
  {
   "cell_type": "code",
   "execution_count": 6,
   "metadata": {},
   "outputs": [
    {
     "data": {
      "text/plain": [
       "[DecisionTreeRegressor(ccp_alpha=0.0, criterion='mse', max_depth=None,\n",
       "                       max_features=None, max_leaf_nodes=None,\n",
       "                       min_impurity_decrease=0.0, min_impurity_split=None,\n",
       "                       min_samples_leaf=1, min_samples_split=2,\n",
       "                       min_weight_fraction_leaf=0.0, presort='deprecated',\n",
       "                       random_state=492213219, splitter='best'),\n",
       " DecisionTreeRegressor(ccp_alpha=0.0, criterion='mse', max_depth=None,\n",
       "                       max_features=None, max_leaf_nodes=None,\n",
       "                       min_impurity_decrease=0.0, min_impurity_split=None,\n",
       "                       min_samples_leaf=1, min_samples_split=2,\n",
       "                       min_weight_fraction_leaf=0.0, presort='deprecated',\n",
       "                       random_state=1640772457, splitter='best'),\n",
       " DecisionTreeRegressor(ccp_alpha=0.0, criterion='mse', max_depth=None,\n",
       "                       max_features=None, max_leaf_nodes=None,\n",
       "                       min_impurity_decrease=0.0, min_impurity_split=None,\n",
       "                       min_samples_leaf=1, min_samples_split=2,\n",
       "                       min_weight_fraction_leaf=0.0, presort='deprecated',\n",
       "                       random_state=19679936, splitter='best'),\n",
       " DecisionTreeRegressor(ccp_alpha=0.0, criterion='mse', max_depth=None,\n",
       "                       max_features=None, max_leaf_nodes=None,\n",
       "                       min_impurity_decrease=0.0, min_impurity_split=None,\n",
       "                       min_samples_leaf=1, min_samples_split=2,\n",
       "                       min_weight_fraction_leaf=0.0, presort='deprecated',\n",
       "                       random_state=1958823337, splitter='best'),\n",
       " DecisionTreeRegressor(ccp_alpha=0.0, criterion='mse', max_depth=None,\n",
       "                       max_features=None, max_leaf_nodes=None,\n",
       "                       min_impurity_decrease=0.0, min_impurity_split=None,\n",
       "                       min_samples_leaf=1, min_samples_split=2,\n",
       "                       min_weight_fraction_leaf=0.0, presort='deprecated',\n",
       "                       random_state=788011974, splitter='best'),\n",
       " DecisionTreeRegressor(ccp_alpha=0.0, criterion='mse', max_depth=None,\n",
       "                       max_features=None, max_leaf_nodes=None,\n",
       "                       min_impurity_decrease=0.0, min_impurity_split=None,\n",
       "                       min_samples_leaf=1, min_samples_split=2,\n",
       "                       min_weight_fraction_leaf=0.0, presort='deprecated',\n",
       "                       random_state=1812916249, splitter='best'),\n",
       " DecisionTreeRegressor(ccp_alpha=0.0, criterion='mse', max_depth=None,\n",
       "                       max_features=None, max_leaf_nodes=None,\n",
       "                       min_impurity_decrease=0.0, min_impurity_split=None,\n",
       "                       min_samples_leaf=1, min_samples_split=2,\n",
       "                       min_weight_fraction_leaf=0.0, presort='deprecated',\n",
       "                       random_state=338592840, splitter='best'),\n",
       " DecisionTreeRegressor(ccp_alpha=0.0, criterion='mse', max_depth=None,\n",
       "                       max_features=None, max_leaf_nodes=None,\n",
       "                       min_impurity_decrease=0.0, min_impurity_split=None,\n",
       "                       min_samples_leaf=1, min_samples_split=2,\n",
       "                       min_weight_fraction_leaf=0.0, presort='deprecated',\n",
       "                       random_state=1678718405, splitter='best'),\n",
       " DecisionTreeRegressor(ccp_alpha=0.0, criterion='mse', max_depth=None,\n",
       "                       max_features=None, max_leaf_nodes=None,\n",
       "                       min_impurity_decrease=0.0, min_impurity_split=None,\n",
       "                       min_samples_leaf=1, min_samples_split=2,\n",
       "                       min_weight_fraction_leaf=0.0, presort='deprecated',\n",
       "                       random_state=985489385, splitter='best'),\n",
       " DecisionTreeRegressor(ccp_alpha=0.0, criterion='mse', max_depth=None,\n",
       "                       max_features=None, max_leaf_nodes=None,\n",
       "                       min_impurity_decrease=0.0, min_impurity_split=None,\n",
       "                       min_samples_leaf=1, min_samples_split=2,\n",
       "                       min_weight_fraction_leaf=0.0, presort='deprecated',\n",
       "                       random_state=965497093, splitter='best')]"
      ]
     },
     "execution_count": 6,
     "metadata": {},
     "output_type": "execute_result"
    }
   ],
   "source": [
    "bag_model.estimators_\n",
    "\n",
    "#Burada bulduklarımızın her birisi birbirinden farklı ağaçlardır."
   ]
  },
  {
   "cell_type": "code",
   "execution_count": 7,
   "metadata": {},
   "outputs": [
    {
     "data": {
      "text/plain": [
       "[array([4115,  617,  161, ..., 2878,  603, 4267]),\n",
       " array([ 387, 4403, 2675, ..., 4390, 2039, 3844]),\n",
       " array([1428, 4425,  325, ..., 2995, 1732,  613]),\n",
       " array([4469, 3054,  244, ..., 2559, 2948, 4586]),\n",
       " array([1476,  960, 2082, ..., 4103, 1250, 3726]),\n",
       " array([3056, 2824, 2837, ...,  892,  969, 2533]),\n",
       " array([2733, 4053, 1116, ..., 4051, 4103, 2948]),\n",
       " array([2177,  629,  276, ..., 1447,  888,   55]),\n",
       " array([2845, 3674, 2312, ..., 2889, 1706, 3190]),\n",
       " array([4251, 3939,  169, ...,  339, 1476,  120])]"
      ]
     },
     "execution_count": 7,
     "metadata": {},
     "output_type": "execute_result"
    }
   ],
   "source": [
    "bag_model.estimators_samples_\n",
    "\n",
    "#Her bir ağaçta kaç tane örnek vardır bunu gösteriyor."
   ]
  },
  {
   "cell_type": "code",
   "execution_count": 8,
   "metadata": {},
   "outputs": [
    {
     "data": {
      "text/plain": [
       "[array([ 47,  90,  64,  74,  72, 116,  19,  63,  49,  20,  42, 126,  91,\n",
       "         67, 130,  70,  68,  39,  71,  83, 109, 123,  40,  36,  82,  44,\n",
       "         54,  41,  98,  50,  47,  12, 105,  73, 110,  85, 129,  91,  55,\n",
       "         80,  49,  53, 109,  81, 116, 127, 119, 109,   4,  65,  84, 101,\n",
       "         71,  81, 110,  53, 129,  41,  69,  50,  69, 125, 112, 119, 124,\n",
       "          4, 115,  68,  70,  77,  53,  46,  13, 119, 131,  26,  82,  87,\n",
       "        106,  70,  83,  30,  76, 119,  74, 111,  25,  15,  21,  88,   2,\n",
       "          1,  81,  11,  75,  63,  26,  78,  40, 119,  97,  88, 114,  24,\n",
       "        101,  99,  32,  33, 123,  58,  36,  15,  86,   3,  57,  37,  37,\n",
       "         64,  34, 131,  37, 120,  90, 111,  32,  47,  45,  62,  19,  41,\n",
       "         70, 130]),\n",
       " array([  0, 100,  61,  34,   7,  17,  43,   5,   6,  93, 116, 119, 120,\n",
       "         61, 114, 104, 117, 122,  31,   3, 111,  75,  15, 130,  45, 111,\n",
       "         94,  12,  61,   6,  46, 111,  13,  31,  98,  90,   7,  87,  21,\n",
       "         25,  67,  83,  14,  22,  12, 125,  90,  42,  87,   0,  45,  18,\n",
       "          6,  98,  68,  21,  84, 119,  97,  82, 100,  78,  78,  89, 110,\n",
       "         76,  87, 112,  14,  35,   6,  99, 120, 104,  86, 104,  25,  56,\n",
       "         94,  43, 131,  34,  61,  63, 113,  70,  11,  96, 128,  87,   3,\n",
       "         59,  87,  69,  88, 110,  33,  84,  10,  50, 118,  70,  99,  57,\n",
       "         81, 116,  89,   6,  19,  87,  95,  93, 127, 111, 120,  68,  81,\n",
       "         47,  60,  74, 103,  41,  40,  42,  26,  91,  65,  77, 103,  49,\n",
       "         82, 131]),\n",
       " array([ 28,  30, 120,  54,   7,  41, 125,  21, 124, 108,  34, 109,  95,\n",
       "         40, 102,  33,  27, 124,  58, 110,  43,  19,  28,  95,  59,  74,\n",
       "        122,  76,  82, 108,  75,  30,  46,   0,  14,  53,  24,  18,  97,\n",
       "         99,   7,  93,  67,  61,  49, 106,  55,  95,  64,  50,  33,  80,\n",
       "        121,  80,  40,  69, 128,  34, 114,  30,  95, 127,  28,  45,  26,\n",
       "         69,  63,  29,  68,  84, 129,  31,  39,  89,  77,  74, 107, 121,\n",
       "        118,  81,  32,  79,   5,   0,  82, 115,  27,  78,  43,   2,  43,\n",
       "        124,  18, 110,   7,  59, 110,  41,  33,  62, 128,  85,  46,  37,\n",
       "         83,   4,  52,  94, 127, 128,  66,  17,  65,  50, 100,  25,  10,\n",
       "        117,  58,  34, 131,  76,  34,  83,  14,  73,  79,  78,  96,   4,\n",
       "         95,  82]),\n",
       " array([ 15,  20,   6, 111,  36,  75, 110, 128,  80,  51, 117,  28,  89,\n",
       "        102,  69,  36,  65,  79,  35,  95,  85, 114,  42, 130,  75,   3,\n",
       "         60,  55,   5, 114,  48, 113,  33, 101,  18,  29, 124,  98,  33,\n",
       "         28,  88,  28,  22,  25, 117, 108,  39,  54,  72,  22,  32,  51,\n",
       "         72,  95, 129,   3, 121,  21, 128,  80,   3, 130,   6,   2,  32,\n",
       "         19, 109,   4,  95,  91,  85,  37,  70,  43,  16, 119,  37,  32,\n",
       "         33, 119, 113,  23,  47,  25,  62, 109,  21,  81,  93, 102,  17,\n",
       "        122,  65, 111,  36, 105,  60,  59,  30, 126,  79,  93, 108,  57,\n",
       "         56,  10,   9, 101,  54,  49, 128,   1, 125,  30,  69,   4,  56,\n",
       "        122,   7,  16,  69, 120,  88,  47,  31, 116,  92, 101,  79, 128,\n",
       "         54,  59]),\n",
       " array([ 66,  75, 118,  79,  15,  13, 123,  41, 127, 130,  39,  17,   2,\n",
       "         83,  58, 108, 122,  97,  39,  95, 123,   2, 118,  42,  96,  19,\n",
       "         84,   7,  87,  65,  19,  18, 128,  52, 129,  33, 119,  32,  23,\n",
       "         38,  82,   5,  27,  23, 113,  89, 106,  26,  22,  49,  33,  56,\n",
       "         29,  13,  27,  99,   0,  83,  75,  39,   0,  81,  19,  98, 118,\n",
       "         68,  21,  51,   1, 106,  52,  32,  33,  77,  61,  44,  55,  28,\n",
       "         72,  29,  21, 109, 123,  82,  90,  27,  55,  58,  46,  55, 113,\n",
       "          3,   0,  37,  15,  24,  21, 113, 124,   8,  69,  59, 117,  84,\n",
       "         53,  99,  84,  92, 115,  67,  89,  33,  62,  82,  67,  25,  89,\n",
       "          2,  71,  41,  88,  38,  13, 106,  17,  63, 114, 103,  86,  30,\n",
       "         45,  95]),\n",
       " array([ 10,  83,   2,  44, 129,  29,  73,  20,  54, 114,  25,  16, 105,\n",
       "        102,  79, 115,  45,   1,  25,  44,  87,   5,  56, 121,  84,  29,\n",
       "          8, 103,  85,  32, 114,  32,  12,  61,  43,  80,  45, 123, 102,\n",
       "         49,  71,  31, 110, 105, 128,  38,  28,  60, 105,  34,  79, 131,\n",
       "         91,   5, 109,  60,  80,  81,  93,  45,   4,  15,   7,  77,  20,\n",
       "        131,  63, 105, 106,  81,  46,  17,  43,  10,   6,  97,  94, 121,\n",
       "         42, 106,  48,  72,   8,  68, 111, 123,  73,  15,  68, 112,   2,\n",
       "         17,  66, 107,  50,  98,  82,  11,  90, 120,  85,  67,  72,  33,\n",
       "         64,   2,  57, 126,  49,  25, 121, 125,  12,  45,  29,  99,  66,\n",
       "        118, 107,   7, 110,  14,  33,  90, 127, 111,  59,  40,  11, 124,\n",
       "        102,   8]),\n",
       " array([130,  93,  10,  15,  47,  83,  63,  84, 107, 124,  95,  46,  37,\n",
       "         47, 129,  35,  75,  60,  18,  86,  53,  52,  66,  12,  13, 119,\n",
       "         44,   3, 122,  18, 110,  81,  78, 101,  21, 122,  90,  43,  89,\n",
       "         81, 119,  57, 128,  78, 130,  63,  45,  83,  81,  99,  81,  46,\n",
       "         67,  28,  19,  31,  35,  86, 108, 128, 110,  92,  11,  35,  71,\n",
       "         78, 100, 119,  67,  66,  67,  32, 102,  38, 119,  43,  19,  83,\n",
       "         23,  38, 124,  15, 117, 103,  83,  66,  17, 128, 100,   1, 125,\n",
       "        106,  85,  77, 106,  50,  94, 121, 104,   7,   9,  12,  50, 116,\n",
       "        111,  66,  50,  13,  38, 131,  64, 130,  48,  97, 116,  31,  81,\n",
       "         70, 104,  37,  42,   3,  11, 100, 122,   7,  10,  10, 109,   3,\n",
       "         14,  63]),\n",
       " array([111,  13, 125,  68,   6,  92,  76,   1,   1,  10,  36,  19, 111,\n",
       "         66,  51,  81,  93,  68, 116,  32,  48,  98,  81, 102,  35,  65,\n",
       "        120, 128,   0,  32, 109,  73,  93, 101,  62, 100,  74,  76,  86,\n",
       "         79,   3,  20,  18,   6,  33, 127,  64,  32, 108,  62,  10, 112,\n",
       "         46,  57,  56,  81,  83,  80,  55, 127,  46,  58,   6,  40,   5,\n",
       "        127,  72,   1,  84,  50, 131,  62,  17,   5,  53,  96,  70,  23,\n",
       "         17, 127,  79,  48, 117,  74,  72, 118,  23,  28, 129,  16,  15,\n",
       "         44,  14,  15,  81,  90, 126,  55, 101,  36,  36,  53,  50, 124,\n",
       "         62,  54,  56, 102,  81,  33,  97,  94,  78, 114,  19,  69, 101,\n",
       "          9,  50,  66,  27, 124,  31,  57, 117,  30,  90,  39,  87,   9,\n",
       "         20,  14]),\n",
       " array([  3, 105,  65,  56, 114, 103, 110,  26,  37,  25, 122, 130,  92,\n",
       "         85,  65,  25,  14,  62,   4,  52,  22,  36, 111, 107,  58, 127,\n",
       "         50, 110,  41,  31,  37, 131,   1,  72,  35,  34,  38,  74,  89,\n",
       "         15,  39, 125, 100,   0,  96,  38, 119,  39, 126,  95,  79,  67,\n",
       "         50,  26,  39,   0,  10,   0,  12,  81, 130, 129,  60,  43,  64,\n",
       "        114,  41, 100,  26,  52,  51,  33,   2, 121,  40,  34,  85, 116,\n",
       "         88,  24,  57,  12,  82,  83, 118,   8,  86, 112, 114,  95, 107,\n",
       "         90,  45,  30,  33,  72,  53,  16,  86, 114, 125,  16,  12,  54,\n",
       "         25,  63, 125,  56, 126,  79,  43, 115, 118,  77,  51, 123,   4,\n",
       "         88,  82, 119,  80,   2, 128,  91, 108,  22, 105,  10,  27,   5,\n",
       "         71,  47]),\n",
       " array([ 64,  52, 102, 113,  19, 103,  85,   6,  57,  58,  39,  90, 127,\n",
       "         39,  16,  23,  48,   6,  31, 103, 121,  38,  94,  12,  47, 127,\n",
       "        101,  58,   7,  18,  21, 127, 115,  22,  50,  60, 121,  86,  99,\n",
       "         41,  38, 108,   7,  16, 110, 128,  72,  72,   8, 106, 103,   9,\n",
       "        108,  79,  80, 102, 129,  89, 127, 104,  83, 118,  15,  67,  35,\n",
       "         13,  50,  96,  28,  38,  11,  66,  87, 108, 127, 101,  44,  46,\n",
       "         20,  28,   4, 106,  51,  60,  63, 119, 116,  84,  18,  16,  40,\n",
       "        114,  99, 100,  94,  72,  44,  71,  44, 122,  32,  22,  71, 107,\n",
       "         45, 128,  21,  62,  93,  70,  42,  72, 101,  97,  76,  48,  80,\n",
       "         32,  95, 106,  47,  28,  27, 122,  23,  75,  17, 112,  87,  66,\n",
       "         21,  11])]"
      ]
     },
     "execution_count": 8,
     "metadata": {},
     "output_type": "execute_result"
    }
   ],
   "source": [
    "bag_model.estimators_features_\n",
    "\n",
    "#Her bir ağacın bağımsız değişkenlerine ulaşmak istersek.Tüm ağaçlarda kullanılan değişken ve indexleeri belirledik."
   ]
  },
  {
   "cell_type": "code",
   "execution_count": 9,
   "metadata": {},
   "outputs": [
    {
     "data": {
      "text/plain": [
       "DecisionTreeRegressor(ccp_alpha=0.0, criterion='mse', max_depth=None,\n",
       "                      max_features=None, max_leaf_nodes=None,\n",
       "                      min_impurity_decrease=0.0, min_impurity_split=None,\n",
       "                      min_samples_leaf=1, min_samples_split=2,\n",
       "                      min_weight_fraction_leaf=0.0, presort='deprecated',\n",
       "                      random_state=492213219, splitter='best')"
      ]
     },
     "execution_count": 9,
     "metadata": {},
     "output_type": "execute_result"
    }
   ],
   "source": [
    "bag_model.estimators_[0]\n",
    "\n",
    "#1.modelin parametrelerine erişmiş olduk."
   ]
  },
  {
   "cell_type": "markdown",
   "metadata": {},
   "source": [
    "# Tahmin-Bagging"
   ]
  },
  {
   "cell_type": "code",
   "execution_count": 10,
   "metadata": {},
   "outputs": [],
   "source": [
    "y_pred = bag_model.predict(X_test)"
   ]
  },
  {
   "cell_type": "code",
   "execution_count": 11,
   "metadata": {},
   "outputs": [
    {
     "data": {
      "text/plain": [
       "10.35245451160923"
      ]
     },
     "execution_count": 11,
     "metadata": {},
     "output_type": "execute_result"
    }
   ],
   "source": [
    "np.sqrt(mean_squared_error(y_test, y_pred))\n",
    "\n",
    "#Topluluğun her birisinin verdiği tahminleri bir araya getirerek oluşturulan tahmin."
   ]
  },
  {
   "cell_type": "code",
   "execution_count": 12,
   "metadata": {},
   "outputs": [],
   "source": [
    "iki_y_pred = bag_model.estimators_[1].fit(X_train, y_train).predict(X_test)\n",
    "\n",
    "#İkinci ağaca gidilerek yapılan tahmin. Bu ağacın bize kurduğu modeldeki test hatasını göreceğiz.Bu ağaç bize kötü bir test hatası verdi."
   ]
  },
  {
   "cell_type": "code",
   "execution_count": 13,
   "metadata": {},
   "outputs": [
    {
     "data": {
      "text/plain": [
       "12.304953208062015"
      ]
     },
     "execution_count": 13,
     "metadata": {},
     "output_type": "execute_result"
    }
   ],
   "source": [
    "np.sqrt(mean_squared_error(y_test, iki_y_pred))"
   ]
  },
  {
   "cell_type": "code",
   "execution_count": 14,
   "metadata": {},
   "outputs": [],
   "source": [
    "yedi_y_pred = bag_model.estimators_[4].fit(X_train, y_train).predict(X_test)\n",
    "\n",
    "#Yedinci ağaç ise ikiye göre daha iyi ama tüm tahminler arasında daha fazla hataya sahiptir."
   ]
  },
  {
   "cell_type": "code",
   "execution_count": 15,
   "metadata": {},
   "outputs": [
    {
     "data": {
      "text/plain": [
       "12.529528599634052"
      ]
     },
     "execution_count": 15,
     "metadata": {},
     "output_type": "execute_result"
    }
   ],
   "source": [
    "np.sqrt(mean_squared_error(y_test, yedi_y_pred))"
   ]
  },
  {
   "cell_type": "markdown",
   "metadata": {},
   "source": [
    "# Model Tuning-Bagging"
   ]
  },
  {
   "cell_type": "code",
   "execution_count": 16,
   "metadata": {},
   "outputs": [
    {
     "data": {
      "text/plain": [
       "BaggingRegressor(base_estimator=None, bootstrap=True, bootstrap_features=True,\n",
       "                 max_features=1.0, max_samples=1.0, n_estimators=10,\n",
       "                 n_jobs=None, oob_score=False, random_state=None, verbose=0,\n",
       "                 warm_start=False)"
      ]
     },
     "execution_count": 16,
     "metadata": {},
     "output_type": "execute_result"
    }
   ],
   "source": [
    "bag_model = BaggingRegressor(bootstrap_features = True)\n",
    "bag_model.fit(X_train, y_train)"
   ]
  },
  {
   "cell_type": "code",
   "execution_count": 20,
   "metadata": {},
   "outputs": [],
   "source": [
    "bag_params = {\"n_estimators\": range(50,200,500)}"
   ]
  },
  {
   "cell_type": "code",
   "execution_count": 21,
   "metadata": {},
   "outputs": [],
   "source": [
    "bag_cv_model = GridSearchCV(bag_model, bag_params, cv = 10)"
   ]
  },
  {
   "cell_type": "code",
   "execution_count": 22,
   "metadata": {},
   "outputs": [
    {
     "data": {
      "text/plain": [
       "GridSearchCV(cv=10, error_score=nan,\n",
       "             estimator=BaggingRegressor(base_estimator=None, bootstrap=True,\n",
       "                                        bootstrap_features=True,\n",
       "                                        max_features=1.0, max_samples=1.0,\n",
       "                                        n_estimators=10, n_jobs=None,\n",
       "                                        oob_score=False, random_state=None,\n",
       "                                        verbose=0, warm_start=False),\n",
       "             iid='deprecated', n_jobs=None,\n",
       "             param_grid={'n_estimators': range(50, 200, 500)},\n",
       "             pre_dispatch='2*n_jobs', refit=True, return_train_score=False,\n",
       "             scoring=None, verbose=0)"
      ]
     },
     "execution_count": 22,
     "metadata": {},
     "output_type": "execute_result"
    }
   ],
   "source": [
    "bag_cv_model.fit(X_train, y_train)"
   ]
  },
  {
   "cell_type": "code",
   "execution_count": null,
   "metadata": {},
   "outputs": [],
   "source": [
    "bag_cv_model.best_params_"
   ]
  },
  {
   "cell_type": "code",
   "execution_count": null,
   "metadata": {},
   "outputs": [],
   "source": [
    "bag_tuned = BaggingRegressor( n_estimators = 14, random_state = 45)"
   ]
  },
  {
   "cell_type": "code",
   "execution_count": null,
   "metadata": {},
   "outputs": [],
   "source": [
    "bag_tuned.fit(X_train, y_train)"
   ]
  },
  {
   "cell_type": "code",
   "execution_count": null,
   "metadata": {},
   "outputs": [],
   "source": [
    "y_pred = bag_tuned.predict(X_test)"
   ]
  },
  {
   "cell_type": "code",
   "execution_count": null,
   "metadata": {},
   "outputs": [],
   "source": [
    "np.sqrt(mean_squared_error(y_test, y_pred))"
   ]
  },
  {
   "cell_type": "markdown",
   "metadata": {},
   "source": [
    "# Random Forests"
   ]
  },
  {
   "cell_type": "markdown",
   "metadata": {},
   "source": [
    "^^ Birden çok karar ağacının tahminlerinin bir araya getirilerek yeni bir ağaç topluluğu oluşması.\n",
    "\n",
    "^^Kullanımı ,uygulanması ve sistem entegrrasyonu kolaydır.Hem regresyon hem classification gerçekleştirebilir.\n",
    "\n",
    "^^Veri setindeki sonuç değişkeni ile ilgili en iyi kararı verebilmek amacıyla diğer bağımsız değişkenler için en iyi kombinasyonları oluşturmaya çalışır.\n",
    "\n",
    "^^Gözlem seçiminde rassallığı sağlar,değişkenler random subspace yöntemi ile seçilir.\n",
    "\n",
    "^^Ağaçlar düğüme ayrılır burada en üstteki değişken en önemli değişkendir.Hangi değişkenlere uygulanacağı bu değişkenlerden rastgele seçilir.(Daha küçük)\n",
    "\n",
    "^^Ağaç oluşturmada veri setinin 2/3'ü kullanılır.Kalanı test için."
   ]
  },
  {
   "cell_type": "code",
   "execution_count": 2,
   "metadata": {},
   "outputs": [],
   "source": [
    "import pandas as pd\n",
    "data= pd.read_excel(\"data.xlsx\")\n",
    "df = data.copy()\n",
    "df = df.dropna()\n",
    "dms = pd.get_dummies(df[['ind_109', 'ind_420', 'ind_422']])\n",
    "y = df[\"50_target\"]\n",
    "X= df.drop(['50_target', 'ind_109', 'ind_420', 'ind_422'], axis=1).astype('float64')\n"
   ]
  },
  {
   "cell_type": "code",
   "execution_count": 3,
   "metadata": {},
   "outputs": [],
   "source": [
    "X_train, X_test, y_train, y_test = train_test_split(X, y, \n",
    "                                                    test_size=0.25, \n",
    "                                                    random_state=42)"
   ]
  },
  {
   "cell_type": "code",
   "execution_count": 4,
   "metadata": {},
   "outputs": [],
   "source": [
    "from sklearn.ensemble import RandomForestRegressor"
   ]
  },
  {
   "cell_type": "code",
   "execution_count": 5,
   "metadata": {},
   "outputs": [],
   "source": [
    "rf_model = RandomForestRegressor(random_state = 42)\n",
    "\n",
    "#Modeli kurduk."
   ]
  },
  {
   "cell_type": "code",
   "execution_count": 6,
   "metadata": {},
   "outputs": [
    {
     "data": {
      "text/plain": [
       "RandomForestRegressor(bootstrap=True, ccp_alpha=0.0, criterion='mse',\n",
       "                      max_depth=None, max_features='auto', max_leaf_nodes=None,\n",
       "                      max_samples=None, min_impurity_decrease=0.0,\n",
       "                      min_impurity_split=None, min_samples_leaf=1,\n",
       "                      min_samples_split=2, min_weight_fraction_leaf=0.0,\n",
       "                      n_estimators=100, n_jobs=None, oob_score=False,\n",
       "                      random_state=42, verbose=0, warm_start=False)"
      ]
     },
     "execution_count": 6,
     "metadata": {},
     "output_type": "execute_result"
    }
   ],
   "source": [
    "rf_model.fit(X_train, y_train)\n",
    "\n",
    "#Burada n_estimators: 100, fit edilecek ağaç sayısı\n",
    "#max_features:Bölünme işlemlerinde göz önünde bulunduralabilecek max değişken sayısını ifade eder."
   ]
  },
  {
   "cell_type": "markdown",
   "metadata": {},
   "source": [
    "# Tahmin-RF"
   ]
  },
  {
   "cell_type": "code",
   "execution_count": 7,
   "metadata": {},
   "outputs": [
    {
     "data": {
      "text/plain": [
       "array([ -8.32380125,  36.0607424 , -35.88967859, -33.17631752,\n",
       "        36.66883464])"
      ]
     },
     "execution_count": 7,
     "metadata": {},
     "output_type": "execute_result"
    }
   ],
   "source": [
    "rf_model.predict(X_test)[0:5]"
   ]
  },
  {
   "cell_type": "code",
   "execution_count": 8,
   "metadata": {},
   "outputs": [],
   "source": [
    "y_pred = rf_model.predict(X_test)"
   ]
  },
  {
   "cell_type": "code",
   "execution_count": 9,
   "metadata": {},
   "outputs": [
    {
     "data": {
      "text/plain": [
       "9.300497912528172"
      ]
     },
     "execution_count": 9,
     "metadata": {},
     "output_type": "execute_result"
    }
   ],
   "source": [
    "np.sqrt(mean_squared_error(y_test, y_pred))"
   ]
  },
  {
   "cell_type": "markdown",
   "metadata": {},
   "source": [
    "Burada test hatası 9.30 çıktı.Şuana kadarki bulunan en az test hatasıdır."
   ]
  },
  {
   "cell_type": "markdown",
   "metadata": {},
   "source": [
    "# Model Tuning-RF"
   ]
  },
  {
   "cell_type": "code",
   "execution_count": 10,
   "metadata": {},
   "outputs": [],
   "source": [
    "rf_params = {'max_depth': list(range(1,10)),\n",
    "            'max_features': [3,5,10,15],\n",
    "            'n_estimators' : [10, 100, 200, 500]}"
   ]
  },
  {
   "cell_type": "code",
   "execution_count": 11,
   "metadata": {},
   "outputs": [],
   "source": [
    "rf_model = RandomForestRegressor(random_state = 42)"
   ]
  },
  {
   "cell_type": "code",
   "execution_count": 12,
   "metadata": {},
   "outputs": [],
   "source": [
    "rf_cv_model = GridSearchCV(rf_model, \n",
    "                           rf_params, \n",
    "                           cv = 10, \n",
    "                            n_jobs = -1)"
   ]
  },
  {
   "cell_type": "code",
   "execution_count": null,
   "metadata": {},
   "outputs": [],
   "source": [
    "rf_cv_model.fit(X_train, y_train)"
   ]
  },
  {
   "cell_type": "code",
   "execution_count": null,
   "metadata": {},
   "outputs": [],
   "source": [
    "rf_cv_model.best_params_"
   ]
  },
  {
   "cell_type": "code",
   "execution_count": null,
   "metadata": {},
   "outputs": [],
   "source": [
    "rf_tuned = RandomForestRegressor(max_depth  = 8, \n",
    "                                 max_features = 3, \n",
    "                                 n_estimators =200)"
   ]
  },
  {
   "cell_type": "code",
   "execution_count": null,
   "metadata": {},
   "outputs": [],
   "source": [
    "rf_tuned.fit(X_train, y_train)"
   ]
  },
  {
   "cell_type": "code",
   "execution_count": null,
   "metadata": {},
   "outputs": [],
   "source": [
    "y_pred = rf_tuned.predict(X_test)"
   ]
  },
  {
   "cell_type": "code",
   "execution_count": null,
   "metadata": {},
   "outputs": [],
   "source": [
    "np.sqrt(mean_squared_error(y_test, y_pred))"
   ]
  },
  {
   "cell_type": "code",
   "execution_count": null,
   "metadata": {},
   "outputs": [],
   "source": [
    "Importance = pd.DataFrame({\"Importance\": rf_tuned.feature_importances_*100},\n",
    "                         index = X_train.columns)"
   ]
  },
  {
   "cell_type": "code",
   "execution_count": null,
   "metadata": {},
   "outputs": [],
   "source": [
    "Importance.sort_values(by = \"Importance\", \n",
    "                       axis = 0, \n",
    "                       ascending = True).plot(kind =\"barh\", color = \"r\")\n",
    "\n",
    "plt.xlabel(\"Değişken Önem Düzeyleri\")"
   ]
  },
  {
   "cell_type": "markdown",
   "metadata": {},
   "source": [
    "# Gradient Boosting Machines"
   ]
  },
  {
   "cell_type": "markdown",
   "metadata": {},
   "source": [
    "Burada artıklar üzerine tek bir tahminsel model formunda olan model serileri kurulur."
   ]
  },
  {
   "cell_type": "markdown",
   "metadata": {},
   "source": [
    "Adaboost: Adaptive Boosting = Zayıf öğrenicileri bir araya getirip güçlü bir sınıflandırıcı çıkabilir mi diye uğraşılır."
   ]
  },
  {
   "cell_type": "markdown",
   "metadata": {},
   "source": [
    "^^Seri içerisindeki bir model , bir önceki modelin tahmin artıklarının residualların üzerine fit edilerek model oluşturulur."
   ]
  },
  {
   "cell_type": "code",
   "execution_count": 5,
   "metadata": {},
   "outputs": [],
   "source": [
    "from sklearn.ensemble import GradientBoostingRegressor"
   ]
  },
  {
   "cell_type": "code",
   "execution_count": 7,
   "metadata": {},
   "outputs": [
    {
     "data": {
      "text/plain": [
       "GradientBoostingRegressor(alpha=0.9, ccp_alpha=0.0, criterion='friedman_mse',\n",
       "                          init=None, learning_rate=0.1, loss='ls', max_depth=3,\n",
       "                          max_features=None, max_leaf_nodes=None,\n",
       "                          min_impurity_decrease=0.0, min_impurity_split=None,\n",
       "                          min_samples_leaf=1, min_samples_split=2,\n",
       "                          min_weight_fraction_leaf=0.0, n_estimators=100,\n",
       "                          n_iter_no_change=None, presort='deprecated',\n",
       "                          random_state=None, subsample=1.0, tol=0.0001,\n",
       "                          validation_fraction=0.1, verbose=0, warm_start=False)"
      ]
     },
     "execution_count": 7,
     "metadata": {},
     "output_type": "execute_result"
    }
   ],
   "source": [
    "gbm_model = GradientBoostingRegressor()\n",
    "gbm_model.fit(X_train, y_train)"
   ]
  },
  {
   "cell_type": "markdown",
   "metadata": {},
   "source": [
    "learning rate, n estimator ve diğer parametreler önemlidir."
   ]
  },
  {
   "cell_type": "markdown",
   "metadata": {},
   "source": [
    "# Tahmin- GBM"
   ]
  },
  {
   "cell_type": "code",
   "execution_count": 8,
   "metadata": {},
   "outputs": [
    {
     "data": {
      "text/plain": [
       "10.285118704204042"
      ]
     },
     "execution_count": 8,
     "metadata": {},
     "output_type": "execute_result"
    }
   ],
   "source": [
    "y_pred = gbm_model.predict(X_test)\n",
    "np.sqrt(mean_squared_error(y_test, y_pred))"
   ]
  },
  {
   "cell_type": "markdown",
   "metadata": {},
   "source": [
    "***Test hatası 10.28, Random forest modelinin ilkel hatasına göre daha yüksek bir oran çıktı."
   ]
  },
  {
   "cell_type": "markdown",
   "metadata": {},
   "source": [
    "# Model Tuning-GBM"
   ]
  },
  {
   "cell_type": "code",
   "execution_count": 9,
   "metadata": {},
   "outputs": [],
   "source": [
    "gbm_params = {\n",
    "    'learning_rate': [0.001, 0.01, 0.1, 0.2],\n",
    "    'max_depth': [3, 5, 8,50,100],\n",
    "    'n_estimators': [200, 500, 1000, 2000],\n",
    "    'subsample': [1,0.5,0.75],\n",
    "}"
   ]
  },
  {
   "cell_type": "code",
   "execution_count": null,
   "metadata": {},
   "outputs": [
    {
     "name": "stdout",
     "output_type": "stream",
     "text": [
      "Fitting 10 folds for each of 240 candidates, totalling 2400 fits\n"
     ]
    },
    {
     "name": "stderr",
     "output_type": "stream",
     "text": [
      "[Parallel(n_jobs=-1)]: Using backend LokyBackend with 4 concurrent workers.\n",
      "[Parallel(n_jobs=-1)]: Done  33 tasks      | elapsed:  6.8min\n"
     ]
    }
   ],
   "source": [
    "gbm = GradientBoostingRegressor()\n",
    "gbm_cv_model = GridSearchCV(gbm, gbm_params, cv = 10, n_jobs = -1, verbose = 2)\n",
    "gbm_cv_model.fit(X_train, y_train)"
   ]
  },
  {
   "cell_type": "code",
   "execution_count": null,
   "metadata": {},
   "outputs": [],
   "source": [
    "gbm_cv_model.best_params_"
   ]
  },
  {
   "cell_type": "code",
   "execution_count": null,
   "metadata": {},
   "outputs": [],
   "source": [
    "gbm_tuned = GradientBoostingRegressor(learning_rate = 0.1,  \n",
    "                                      max_depth = 5, \n",
    "                                      n_estimators = 200, \n",
    "                                      subsample = 0.5)\n",
    "\n",
    "gbm_tuned = gbm_tuned.fit(X_train,y_train)"
   ]
  },
  {
   "cell_type": "code",
   "execution_count": null,
   "metadata": {},
   "outputs": [],
   "source": [
    "y_pred = gbm_tuned.predict(X_test)\n",
    "np.sqrt(mean_squared_error(y_test, y_pred))"
   ]
  },
  {
   "cell_type": "code",
   "execution_count": null,
   "metadata": {},
   "outputs": [],
   "source": [
    "Importance = pd.DataFrame({\"Importance\": gbm_tuned.feature_importances_*100},\n",
    "                         index = X_train.columns)\n",
    "\n",
    "#Değişken önem düzeyi"
   ]
  },
  {
   "cell_type": "code",
   "execution_count": null,
   "metadata": {},
   "outputs": [],
   "source": [
    "Importance.sort_values(by = \"Importance\", \n",
    "                       axis = 0, \n",
    "                       ascending = True).plot(kind =\"barh\", color = \"r\")\n",
    "\n",
    "plt.xlabel(\"Değişken Önem Düzeyleri\")"
   ]
  },
  {
   "cell_type": "code",
   "execution_count": null,
   "metadata": {},
   "outputs": [],
   "source": []
  },
  {
   "cell_type": "markdown",
   "metadata": {},
   "source": [
    "# XG Boost (Extreme Gradient Boosting) "
   ]
  },
  {
   "cell_type": "markdown",
   "metadata": {},
   "source": [
    "Bu model GBM modelinin hız ve tahmin performansını arttırmak üzere optimize edilmiş,ölçeklenebilir,farklı platformlara entegre edilebilir halidir."
   ]
  },
  {
   "cell_type": "code",
   "execution_count": 6,
   "metadata": {},
   "outputs": [
    {
     "name": "stdout",
     "output_type": "stream",
     "text": [
      "Requirement already satisfied: xgboost in c:\\programdata\\anaconda3\\lib\\site-packages (1.1.1)\n",
      "Requirement already satisfied: numpy in c:\\programdata\\anaconda3\\lib\\site-packages (from xgboost) (1.18.1)\n",
      "Requirement already satisfied: scipy in c:\\programdata\\anaconda3\\lib\\site-packages (from xgboost) (1.4.1)\n"
     ]
    }
   ],
   "source": [
    "!pip install xgboost"
   ]
  },
  {
   "cell_type": "code",
   "execution_count": 7,
   "metadata": {},
   "outputs": [],
   "source": [
    "import xgboost as xgb"
   ]
  },
  {
   "cell_type": "code",
   "execution_count": 8,
   "metadata": {},
   "outputs": [],
   "source": [
    "DM_train = xgb.DMatrix(data = X_train, label = y_train)\n",
    "DM_test = xgb.DMatrix(data = X_test, label = y_test)"
   ]
  },
  {
   "cell_type": "code",
   "execution_count": 9,
   "metadata": {},
   "outputs": [],
   "source": [
    "from xgboost import XGBRegressor"
   ]
  },
  {
   "cell_type": "code",
   "execution_count": 10,
   "metadata": {},
   "outputs": [],
   "source": [
    "xgb_model = XGBRegressor().fit(X_train, y_train)"
   ]
  },
  {
   "cell_type": "markdown",
   "metadata": {},
   "source": [
    "# Tahmin-XG Boost"
   ]
  },
  {
   "cell_type": "code",
   "execution_count": 11,
   "metadata": {},
   "outputs": [
    {
     "data": {
      "text/plain": [
       "9.014328929728414"
      ]
     },
     "execution_count": 11,
     "metadata": {},
     "output_type": "execute_result"
    }
   ],
   "source": [
    "y_pred = xgb_model.predict(X_test)\n",
    "np.sqrt(mean_squared_error(y_test, y_pred))"
   ]
  },
  {
   "cell_type": "markdown",
   "metadata": {},
   "source": [
    "***Şimdiye kadar hesaplanan en düşük test hatası !!"
   ]
  },
  {
   "cell_type": "markdown",
   "metadata": {},
   "source": [
    "# Model Tuning-XG Boost"
   ]
  },
  {
   "cell_type": "code",
   "execution_count": 12,
   "metadata": {},
   "outputs": [
    {
     "data": {
      "text/plain": [
       "XGBRegressor(base_score=0.5, booster='gbtree', colsample_bylevel=1,\n",
       "             colsample_bynode=1, colsample_bytree=1, gamma=0, gpu_id=-1,\n",
       "             importance_type='gain', interaction_constraints='',\n",
       "             learning_rate=0.300000012, max_delta_step=0, max_depth=6,\n",
       "             min_child_weight=1, missing=nan, monotone_constraints='()',\n",
       "             n_estimators=100, n_jobs=0, num_parallel_tree=1,\n",
       "             objective='reg:squarederror', random_state=0, reg_alpha=0,\n",
       "             reg_lambda=1, scale_pos_weight=1, subsample=1, tree_method='exact',\n",
       "             validate_parameters=1, verbosity=None)"
      ]
     },
     "execution_count": 12,
     "metadata": {},
     "output_type": "execute_result"
    }
   ],
   "source": [
    "xgb_model"
   ]
  },
  {
   "cell_type": "code",
   "execution_count": 13,
   "metadata": {},
   "outputs": [],
   "source": [
    "xgb_grid = {\n",
    "     'colsample_bytree': [0.4, 0.5,0.6,0.9,1], \n",
    "     'n_estimators':[100, 200, 500, 1000],\n",
    "     'max_depth': [2,3,4,5,6],\n",
    "     'learning_rate': [0.1, 0.01, 0.5]\n",
    "}\n"
   ]
  },
  {
   "cell_type": "code",
   "execution_count": null,
   "metadata": {},
   "outputs": [],
   "source": [
    "xgb = XGBRegressor()\n",
    "\n",
    "xgb_cv = GridSearchCV(xgb, \n",
    "                      param_grid = xgb_grid, \n",
    "                      cv = 10, \n",
    "                      n_jobs = -1,\n",
    "                      verbose = 2)\n",
    "\n",
    "\n",
    "xgb_cv.fit(X_train, y_train)"
   ]
  },
  {
   "cell_type": "code",
   "execution_count": null,
   "metadata": {},
   "outputs": [],
   "source": [
    "xgb_cv.best_params_"
   ]
  },
  {
   "cell_type": "code",
   "execution_count": null,
   "metadata": {},
   "outputs": [],
   "source": [
    "xgb_tuned = XGBRegressor(colsample_bytree = 0.9, \n",
    "                         learning_rate = 0.01, \n",
    "                         max_depth = 5, \n",
    "                         n_estimators = 1000) \n",
    "\n",
    "xgb_tuned = xgb_tuned.fit(X_train,y_train)"
   ]
  },
  {
   "cell_type": "code",
   "execution_count": null,
   "metadata": {},
   "outputs": [],
   "source": [
    "y_pred = xgb_tuned.predict(X_test)\n",
    "np.sqrt(mean_squared_error(y_test, y_pred))"
   ]
  },
  {
   "cell_type": "markdown",
   "metadata": {},
   "source": [
    "# Light GBM"
   ]
  },
  {
   "cell_type": "markdown",
   "metadata": {},
   "source": [
    "XG Boostun eğitim süresi performansını arttırmaya yönelik geliştirilen bir modeldir.\n",
    "^^Daha performanslıdır.\n",
    "^^Level-wise büyüme stratejisi yerine leaf-wise stratejisini izler."
   ]
  },
  {
   "cell_type": "code",
   "execution_count": 14,
   "metadata": {},
   "outputs": [],
   "source": [
    "import pandas as pd\n",
    "data= pd.read_excel(\"data.xlsx\")\n",
    "df = data.copy()\n",
    "df = df.dropna()\n",
    "dms = pd.get_dummies(df[['ind_109', 'ind_420', 'ind_422']])\n",
    "y = df[\"50_target\"]\n",
    "X= df.drop(['50_target', 'ind_109', 'ind_420', 'ind_422'], axis=1).astype('float64')\n"
   ]
  },
  {
   "cell_type": "code",
   "execution_count": 15,
   "metadata": {},
   "outputs": [],
   "source": [
    "X_train, X_test, y_train, y_test = train_test_split(X, y, \n",
    "                                                    test_size=0.25, \n",
    "                                                    random_state=42)"
   ]
  },
  {
   "cell_type": "code",
   "execution_count": 16,
   "metadata": {
    "scrolled": true
   },
   "outputs": [
    {
     "name": "stdout",
     "output_type": "stream",
     "text": [
      "Collecting lightgbm\n",
      "  Downloading lightgbm-2.3.1-py2.py3-none-win_amd64.whl (544 kB)\n",
      "Requirement already satisfied: scikit-learn in c:\\programdata\\anaconda3\\lib\\site-packages (from lightgbm) (0.22.1)\n",
      "Requirement already satisfied: scipy in c:\\programdata\\anaconda3\\lib\\site-packages (from lightgbm) (1.4.1)\n",
      "Requirement already satisfied: numpy in c:\\programdata\\anaconda3\\lib\\site-packages (from lightgbm) (1.18.1)\n",
      "Requirement already satisfied: joblib>=0.11 in c:\\programdata\\anaconda3\\lib\\site-packages (from scikit-learn->lightgbm) (0.14.1)\n",
      "Installing collected packages: lightgbm\n",
      "Successfully installed lightgbm-2.3.1\n"
     ]
    }
   ],
   "source": [
    "!pip install lightgbm"
   ]
  },
  {
   "cell_type": "code",
   "execution_count": 17,
   "metadata": {},
   "outputs": [],
   "source": [
    "from lightgbm import LGBMRegressor"
   ]
  },
  {
   "cell_type": "code",
   "execution_count": 18,
   "metadata": {},
   "outputs": [],
   "source": [
    "lgbm = LGBMRegressor()\n",
    "lgbm_model = lgbm.fit(X_train, y_train)"
   ]
  },
  {
   "cell_type": "markdown",
   "metadata": {},
   "source": [
    "# Tahmin- Light GBM"
   ]
  },
  {
   "cell_type": "code",
   "execution_count": 19,
   "metadata": {},
   "outputs": [],
   "source": [
    "y_pred = lgbm_model.predict(X_test, \n",
    "                            num_iteration = lgbm_model.best_iteration_)"
   ]
  },
  {
   "cell_type": "code",
   "execution_count": 20,
   "metadata": {},
   "outputs": [
    {
     "data": {
      "text/plain": [
       "9.285740798323621"
      ]
     },
     "execution_count": 20,
     "metadata": {},
     "output_type": "execute_result"
    }
   ],
   "source": [
    "np.sqrt(mean_squared_error(y_test, y_pred))"
   ]
  },
  {
   "cell_type": "markdown",
   "metadata": {},
   "source": [
    "# Model Tuning-Light GBM"
   ]
  },
  {
   "cell_type": "code",
   "execution_count": 21,
   "metadata": {},
   "outputs": [
    {
     "data": {
      "text/plain": [
       "LGBMRegressor(boosting_type='gbdt', class_weight=None, colsample_bytree=1.0,\n",
       "              importance_type='split', learning_rate=0.1, max_depth=-1,\n",
       "              min_child_samples=20, min_child_weight=0.001, min_split_gain=0.0,\n",
       "              n_estimators=100, n_jobs=-1, num_leaves=31, objective=None,\n",
       "              random_state=None, reg_alpha=0.0, reg_lambda=0.0, silent=True,\n",
       "              subsample=1.0, subsample_for_bin=200000, subsample_freq=0)"
      ]
     },
     "execution_count": 21,
     "metadata": {},
     "output_type": "execute_result"
    }
   ],
   "source": [
    "lgbm_model"
   ]
  },
  {
   "cell_type": "code",
   "execution_count": 22,
   "metadata": {},
   "outputs": [],
   "source": [
    "lgbm_grid = {\n",
    "    'colsample_bytree': [0.4, 0.5,0.6,0.9,1],\n",
    "    'learning_rate': [0.01, 0.1, 0.5,1],\n",
    "    'n_estimators': [20, 40, 100, 200, 500,1000],\n",
    "    'max_depth': [1,2,3,4,5,6,7,8] }\n",
    "\n",
    "lgbm = LGBMRegressor()\n",
    "lgbm_cv_model = GridSearchCV(lgbm, lgbm_grid, cv=10, n_jobs = -1, verbose = 2)"
   ]
  },
  {
   "cell_type": "code",
   "execution_count": null,
   "metadata": {},
   "outputs": [],
   "source": [
    "lgbm_cv_model.fit(X_train, y_train)"
   ]
  },
  {
   "cell_type": "code",
   "execution_count": null,
   "metadata": {},
   "outputs": [],
   "source": [
    "lgbm_cv_model.best_params_"
   ]
  },
  {
   "cell_type": "code",
   "execution_count": null,
   "metadata": {},
   "outputs": [],
   "source": [
    "lgbm_tuned = LGBMRegressor(learning_rate = 0.1, \n",
    "                           max_depth = 7, \n",
    "                           n_estimators = 40,\n",
    "                          colsample_bytree = 0.6)\n",
    "\n",
    "lgbm_tuned = lgbm_tuned.fit(X_train,y_train)"
   ]
  },
  {
   "cell_type": "code",
   "execution_count": null,
   "metadata": {},
   "outputs": [],
   "source": [
    "y_pred = lgbm_tuned.predict(X_test)"
   ]
  },
  {
   "cell_type": "code",
   "execution_count": null,
   "metadata": {},
   "outputs": [],
   "source": [
    "np.sqrt(mean_squared_error(y_test, y_pred))"
   ]
  },
  {
   "cell_type": "code",
   "execution_count": null,
   "metadata": {},
   "outputs": [],
   "source": []
  },
  {
   "cell_type": "markdown",
   "metadata": {},
   "source": [
    "# CatBoost- Category Boosting"
   ]
  },
  {
   "cell_type": "markdown",
   "metadata": {},
   "source": [
    "*CatBoost: Kategorik değişkenler ile otomatik olarak mücadele eden,hızlı ve başarılı bir GBM türüdür.\n",
    "    \n",
    "    -Daha başarılı tahminler üretir.\n",
    "    -Hızlı train ve hızlı tahmin üretir.\n",
    "    -Hızlı ve ölçeklenebilir GPU desteği vardır."
   ]
  },
  {
   "cell_type": "code",
   "execution_count": 2,
   "metadata": {},
   "outputs": [],
   "source": [
    "import pandas as pd\n",
    "data= pd.read_excel(\"data.xlsx\")\n",
    "df = data.copy()\n",
    "df = df.dropna()\n",
    "dms = pd.get_dummies(df[['ind_109', 'ind_420', 'ind_422']])\n",
    "y = df[\"50_target\"]\n",
    "X= df.drop(['50_target', 'ind_109', 'ind_420', 'ind_422'], axis=1).astype('float64')\n"
   ]
  },
  {
   "cell_type": "code",
   "execution_count": 3,
   "metadata": {},
   "outputs": [],
   "source": [
    "X_train, X_test, y_train, y_test = train_test_split(X, y, \n",
    "                                                    test_size=0.25, \n",
    "                                                    random_state=42)"
   ]
  },
  {
   "cell_type": "code",
   "execution_count": 4,
   "metadata": {},
   "outputs": [
    {
     "name": "stdout",
     "output_type": "stream",
     "text": [
      "Collecting catboost\n",
      "  Using cached catboost-0.24-cp37-none-win_amd64.whl (65.1 MB)\n",
      "Requirement already satisfied: matplotlib in c:\\programdata\\anaconda3\\lib\\site-packages (from catboost) (3.1.3)\n",
      "Requirement already satisfied: numpy>=1.16.0 in c:\\programdata\\anaconda3\\lib\\site-packages (from catboost) (1.18.1)\n",
      "Requirement already satisfied: pandas>=0.24.0 in c:\\programdata\\anaconda3\\lib\\site-packages (from catboost) (1.0.1)\n",
      "Requirement already satisfied: six in c:\\programdata\\anaconda3\\lib\\site-packages (from catboost) (1.14.0)\n",
      "Requirement already satisfied: scipy in c:\\programdata\\anaconda3\\lib\\site-packages (from catboost) (1.4.1)\n",
      "Collecting plotly\n",
      "  Using cached plotly-4.9.0-py2.py3-none-any.whl (12.9 MB)\n",
      "Requirement already satisfied: graphviz in c:\\programdata\\anaconda3\\lib\\site-packages (from catboost) (0.14.1)\n",
      "Requirement already satisfied: kiwisolver>=1.0.1 in c:\\programdata\\anaconda3\\lib\\site-packages (from matplotlib->catboost) (1.1.0)\n",
      "Requirement already satisfied: pyparsing!=2.0.4,!=2.1.2,!=2.1.6,>=2.0.1 in c:\\programdata\\anaconda3\\lib\\site-packages (from matplotlib->catboost) (2.4.6)\n",
      "Requirement already satisfied: python-dateutil>=2.1 in c:\\programdata\\anaconda3\\lib\\site-packages (from matplotlib->catboost) (2.8.1)\n",
      "Requirement already satisfied: cycler>=0.10 in c:\\programdata\\anaconda3\\lib\\site-packages (from matplotlib->catboost) (0.10.0)\n",
      "Requirement already satisfied: pytz>=2017.2 in c:\\programdata\\anaconda3\\lib\\site-packages (from pandas>=0.24.0->catboost) (2019.3)\n",
      "Requirement already satisfied: retrying>=1.3.3 in c:\\programdata\\anaconda3\\lib\\site-packages (from plotly->catboost) (1.3.3)\n",
      "Requirement already satisfied: setuptools in c:\\programdata\\anaconda3\\lib\\site-packages (from kiwisolver>=1.0.1->matplotlib->catboost) (45.2.0.post20200210)\n",
      "Installing collected packages: plotly, catboost\n",
      "Successfully installed catboost-0.24 plotly-4.9.0\n"
     ]
    }
   ],
   "source": [
    "!pip install catboost"
   ]
  },
  {
   "cell_type": "code",
   "execution_count": 6,
   "metadata": {},
   "outputs": [],
   "source": [
    "from catboost import CatBoostRegressor"
   ]
  },
  {
   "cell_type": "code",
   "execution_count": 7,
   "metadata": {},
   "outputs": [
    {
     "name": "stdout",
     "output_type": "stream",
     "text": [
      "Learning rate set to 0.051261\n",
      "0:\tlearn: 33.0511878\ttotal: 71.1ms\tremaining: 1m 11s\n",
      "1:\tlearn: 31.6325735\ttotal: 90.2ms\tremaining: 45s\n",
      "2:\tlearn: 30.2735035\ttotal: 109ms\tremaining: 36.1s\n",
      "3:\tlearn: 28.9796069\ttotal: 127ms\tremaining: 31.6s\n",
      "4:\tlearn: 27.7613871\ttotal: 144ms\tremaining: 28.7s\n",
      "5:\tlearn: 26.6233841\ttotal: 162ms\tremaining: 26.9s\n",
      "6:\tlearn: 25.5381946\ttotal: 182ms\tremaining: 25.8s\n",
      "7:\tlearn: 24.5264285\ttotal: 207ms\tremaining: 25.7s\n",
      "8:\tlearn: 23.6041811\ttotal: 229ms\tremaining: 25.2s\n",
      "9:\tlearn: 22.7178053\ttotal: 249ms\tremaining: 24.7s\n",
      "10:\tlearn: 21.8758018\ttotal: 274ms\tremaining: 24.7s\n",
      "11:\tlearn: 21.0999886\ttotal: 295ms\tremaining: 24.3s\n",
      "12:\tlearn: 20.3714217\ttotal: 316ms\tremaining: 24s\n",
      "13:\tlearn: 19.6755631\ttotal: 335ms\tremaining: 23.6s\n",
      "14:\tlearn: 19.0392335\ttotal: 360ms\tremaining: 23.6s\n",
      "15:\tlearn: 18.4323515\ttotal: 381ms\tremaining: 23.4s\n",
      "16:\tlearn: 17.8821577\ttotal: 400ms\tremaining: 23.1s\n",
      "17:\tlearn: 17.3373485\ttotal: 420ms\tremaining: 22.9s\n",
      "18:\tlearn: 16.8615031\ttotal: 439ms\tremaining: 22.7s\n",
      "19:\tlearn: 16.4142173\ttotal: 462ms\tremaining: 22.6s\n",
      "20:\tlearn: 15.9758484\ttotal: 480ms\tremaining: 22.4s\n",
      "21:\tlearn: 15.5768938\ttotal: 503ms\tremaining: 22.4s\n",
      "22:\tlearn: 15.1962539\ttotal: 525ms\tremaining: 22.3s\n",
      "23:\tlearn: 14.8572653\ttotal: 545ms\tremaining: 22.2s\n",
      "24:\tlearn: 14.5519983\ttotal: 568ms\tremaining: 22.2s\n",
      "25:\tlearn: 14.2591200\ttotal: 590ms\tremaining: 22.1s\n",
      "26:\tlearn: 13.9826926\ttotal: 616ms\tremaining: 22.2s\n",
      "27:\tlearn: 13.7337405\ttotal: 636ms\tremaining: 22.1s\n",
      "28:\tlearn: 13.5098872\ttotal: 657ms\tremaining: 22s\n",
      "29:\tlearn: 13.2836786\ttotal: 677ms\tremaining: 21.9s\n",
      "30:\tlearn: 13.0945959\ttotal: 696ms\tremaining: 21.8s\n",
      "31:\tlearn: 12.9030382\ttotal: 715ms\tremaining: 21.6s\n",
      "32:\tlearn: 12.7235459\ttotal: 734ms\tremaining: 21.5s\n",
      "33:\tlearn: 12.5598587\ttotal: 755ms\tremaining: 21.5s\n",
      "34:\tlearn: 12.4093946\ttotal: 779ms\tremaining: 21.5s\n",
      "35:\tlearn: 12.2818734\ttotal: 798ms\tremaining: 21.4s\n",
      "36:\tlearn: 12.1547843\ttotal: 822ms\tremaining: 21.4s\n",
      "37:\tlearn: 12.0315009\ttotal: 842ms\tremaining: 21.3s\n",
      "38:\tlearn: 11.9114101\ttotal: 863ms\tremaining: 21.3s\n",
      "39:\tlearn: 11.8213045\ttotal: 883ms\tremaining: 21.2s\n",
      "40:\tlearn: 11.6956792\ttotal: 904ms\tremaining: 21.1s\n",
      "41:\tlearn: 11.5758405\ttotal: 924ms\tremaining: 21.1s\n",
      "42:\tlearn: 11.5019143\ttotal: 957ms\tremaining: 21.3s\n",
      "43:\tlearn: 11.4141822\ttotal: 978ms\tremaining: 21.3s\n",
      "44:\tlearn: 11.3230407\ttotal: 1s\tremaining: 21.2s\n",
      "45:\tlearn: 11.2391165\ttotal: 1.02s\tremaining: 21.1s\n",
      "46:\tlearn: 11.1632949\ttotal: 1.04s\tremaining: 21.2s\n",
      "47:\tlearn: 11.1092065\ttotal: 1.06s\tremaining: 21.1s\n",
      "48:\tlearn: 11.0324412\ttotal: 1.09s\tremaining: 21.1s\n",
      "49:\tlearn: 10.9768518\ttotal: 1.11s\tremaining: 21s\n",
      "50:\tlearn: 10.9181770\ttotal: 1.13s\tremaining: 20.9s\n",
      "51:\tlearn: 10.8669664\ttotal: 1.15s\tremaining: 21s\n",
      "52:\tlearn: 10.8079209\ttotal: 1.17s\tremaining: 21s\n",
      "53:\tlearn: 10.7544185\ttotal: 1.19s\tremaining: 20.9s\n",
      "54:\tlearn: 10.7092913\ttotal: 1.22s\tremaining: 20.9s\n",
      "55:\tlearn: 10.6739582\ttotal: 1.24s\tremaining: 21s\n",
      "56:\tlearn: 10.6252263\ttotal: 1.26s\tremaining: 20.9s\n",
      "57:\tlearn: 10.5898294\ttotal: 1.28s\tremaining: 20.8s\n",
      "58:\tlearn: 10.5564033\ttotal: 1.3s\tremaining: 20.8s\n",
      "59:\tlearn: 10.5126572\ttotal: 1.32s\tremaining: 20.8s\n",
      "60:\tlearn: 10.4775343\ttotal: 1.35s\tremaining: 20.7s\n",
      "61:\tlearn: 10.4427002\ttotal: 1.37s\tremaining: 20.7s\n",
      "62:\tlearn: 10.4119660\ttotal: 1.39s\tremaining: 20.7s\n",
      "63:\tlearn: 10.3839349\ttotal: 1.41s\tremaining: 20.6s\n",
      "64:\tlearn: 10.3455628\ttotal: 1.44s\tremaining: 20.7s\n",
      "65:\tlearn: 10.2898927\ttotal: 1.46s\tremaining: 20.7s\n",
      "66:\tlearn: 10.2500390\ttotal: 1.48s\tremaining: 20.6s\n",
      "67:\tlearn: 10.1994814\ttotal: 1.5s\tremaining: 20.6s\n",
      "68:\tlearn: 10.1505034\ttotal: 1.53s\tremaining: 20.6s\n",
      "69:\tlearn: 10.1182511\ttotal: 1.55s\tremaining: 20.6s\n",
      "70:\tlearn: 10.1028684\ttotal: 1.57s\tremaining: 20.5s\n",
      "71:\tlearn: 10.0792490\ttotal: 1.59s\tremaining: 20.5s\n",
      "72:\tlearn: 10.0594911\ttotal: 1.61s\tremaining: 20.4s\n",
      "73:\tlearn: 10.0298618\ttotal: 1.63s\tremaining: 20.3s\n",
      "74:\tlearn: 9.9981881\ttotal: 1.64s\tremaining: 20.3s\n",
      "75:\tlearn: 9.9749731\ttotal: 1.66s\tremaining: 20.2s\n",
      "76:\tlearn: 9.9717545\ttotal: 1.68s\tremaining: 20.2s\n",
      "77:\tlearn: 9.9608438\ttotal: 1.71s\tremaining: 20.2s\n",
      "78:\tlearn: 9.9311320\ttotal: 1.73s\tremaining: 20.2s\n",
      "79:\tlearn: 9.9172833\ttotal: 1.75s\tremaining: 20.1s\n",
      "80:\tlearn: 9.8905988\ttotal: 1.77s\tremaining: 20s\n",
      "81:\tlearn: 9.8883521\ttotal: 1.78s\tremaining: 20s\n",
      "82:\tlearn: 9.8680141\ttotal: 1.8s\tremaining: 19.9s\n",
      "83:\tlearn: 9.8558505\ttotal: 1.82s\tremaining: 19.9s\n",
      "84:\tlearn: 9.8525666\ttotal: 1.84s\tremaining: 19.8s\n",
      "85:\tlearn: 9.8317076\ttotal: 1.86s\tremaining: 19.8s\n",
      "86:\tlearn: 9.8262289\ttotal: 1.87s\tremaining: 19.6s\n",
      "87:\tlearn: 9.8073744\ttotal: 1.89s\tremaining: 19.6s\n",
      "88:\tlearn: 9.8022059\ttotal: 1.91s\tremaining: 19.6s\n",
      "89:\tlearn: 9.7889334\ttotal: 1.94s\tremaining: 19.6s\n",
      "90:\tlearn: 9.7600393\ttotal: 1.96s\tremaining: 19.5s\n",
      "91:\tlearn: 9.7507706\ttotal: 1.97s\tremaining: 19.5s\n",
      "92:\tlearn: 9.7330722\ttotal: 1.99s\tremaining: 19.4s\n",
      "93:\tlearn: 9.7303182\ttotal: 2.01s\tremaining: 19.4s\n",
      "94:\tlearn: 9.7282373\ttotal: 2.03s\tremaining: 19.3s\n",
      "95:\tlearn: 9.7015809\ttotal: 2.05s\tremaining: 19.3s\n",
      "96:\tlearn: 9.6881859\ttotal: 2.07s\tremaining: 19.3s\n",
      "97:\tlearn: 9.6849507\ttotal: 2.09s\tremaining: 19.3s\n",
      "98:\tlearn: 9.6673827\ttotal: 2.12s\tremaining: 19.3s\n",
      "99:\tlearn: 9.6591898\ttotal: 2.13s\tremaining: 19.2s\n",
      "100:\tlearn: 9.6382957\ttotal: 2.15s\tremaining: 19.2s\n",
      "101:\tlearn: 9.6352095\ttotal: 2.17s\tremaining: 19.1s\n",
      "102:\tlearn: 9.6201626\ttotal: 2.19s\tremaining: 19.1s\n",
      "103:\tlearn: 9.6176692\ttotal: 2.21s\tremaining: 19s\n",
      "104:\tlearn: 9.6035857\ttotal: 2.23s\tremaining: 19s\n",
      "105:\tlearn: 9.6008616\ttotal: 2.25s\tremaining: 19s\n",
      "106:\tlearn: 9.5701855\ttotal: 2.27s\tremaining: 19s\n",
      "107:\tlearn: 9.5457771\ttotal: 2.3s\tremaining: 19s\n",
      "108:\tlearn: 9.5387500\ttotal: 2.31s\tremaining: 18.9s\n",
      "109:\tlearn: 9.5270543\ttotal: 2.33s\tremaining: 18.9s\n",
      "110:\tlearn: 9.5242730\ttotal: 2.35s\tremaining: 18.8s\n",
      "111:\tlearn: 9.5206709\ttotal: 2.37s\tremaining: 18.8s\n",
      "112:\tlearn: 9.5170962\ttotal: 2.39s\tremaining: 18.7s\n",
      "113:\tlearn: 9.4979189\ttotal: 2.4s\tremaining: 18.7s\n",
      "114:\tlearn: 9.4948590\ttotal: 2.42s\tremaining: 18.7s\n",
      "115:\tlearn: 9.4840479\ttotal: 2.45s\tremaining: 18.7s\n",
      "116:\tlearn: 9.4810058\ttotal: 2.47s\tremaining: 18.6s\n",
      "117:\tlearn: 9.4664722\ttotal: 2.49s\tremaining: 18.6s\n",
      "118:\tlearn: 9.4563825\ttotal: 2.51s\tremaining: 18.6s\n",
      "119:\tlearn: 9.4473671\ttotal: 2.53s\tremaining: 18.6s\n",
      "120:\tlearn: 9.4300816\ttotal: 2.55s\tremaining: 18.5s\n",
      "121:\tlearn: 9.4213453\ttotal: 2.57s\tremaining: 18.5s\n",
      "122:\tlearn: 9.4075097\ttotal: 2.59s\tremaining: 18.5s\n",
      "123:\tlearn: 9.3942297\ttotal: 2.61s\tremaining: 18.5s\n",
      "124:\tlearn: 9.3910060\ttotal: 2.64s\tremaining: 18.5s\n",
      "125:\tlearn: 9.3673694\ttotal: 2.67s\tremaining: 18.5s\n",
      "126:\tlearn: 9.3620575\ttotal: 2.69s\tremaining: 18.5s\n",
      "127:\tlearn: 9.3597891\ttotal: 2.71s\tremaining: 18.5s\n",
      "128:\tlearn: 9.3424837\ttotal: 2.73s\tremaining: 18.4s\n",
      "129:\tlearn: 9.3289596\ttotal: 2.75s\tremaining: 18.4s\n",
      "130:\tlearn: 9.3091422\ttotal: 2.77s\tremaining: 18.3s\n",
      "131:\tlearn: 9.3065937\ttotal: 2.78s\tremaining: 18.3s\n",
      "132:\tlearn: 9.3011339\ttotal: 2.8s\tremaining: 18.3s\n",
      "133:\tlearn: 9.2982947\ttotal: 2.83s\tremaining: 18.3s\n",
      "134:\tlearn: 9.2855801\ttotal: 2.85s\tremaining: 18.3s\n",
      "135:\tlearn: 9.2792879\ttotal: 2.87s\tremaining: 18.2s\n",
      "136:\tlearn: 9.2497885\ttotal: 2.89s\tremaining: 18.2s\n",
      "137:\tlearn: 9.2406873\ttotal: 2.91s\tremaining: 18.2s\n",
      "138:\tlearn: 9.2351656\ttotal: 2.93s\tremaining: 18.1s\n",
      "139:\tlearn: 9.2235661\ttotal: 2.95s\tremaining: 18.1s\n",
      "140:\tlearn: 9.2097618\ttotal: 2.97s\tremaining: 18.1s\n",
      "141:\tlearn: 9.2068334\ttotal: 2.99s\tremaining: 18s\n",
      "142:\tlearn: 9.1976871\ttotal: 3.01s\tremaining: 18s\n",
      "143:\tlearn: 9.1898889\ttotal: 3.03s\tremaining: 18s\n",
      "144:\tlearn: 9.1847954\ttotal: 3.05s\tremaining: 18s\n",
      "145:\tlearn: 9.1803044\ttotal: 3.07s\tremaining: 18s\n",
      "146:\tlearn: 9.1681034\ttotal: 3.09s\tremaining: 18s\n",
      "147:\tlearn: 9.1666844\ttotal: 3.11s\tremaining: 17.9s\n",
      "148:\tlearn: 9.1556502\ttotal: 3.13s\tremaining: 17.9s\n",
      "149:\tlearn: 9.1467237\ttotal: 3.15s\tremaining: 17.9s\n",
      "150:\tlearn: 9.1309999\ttotal: 3.17s\tremaining: 17.8s\n",
      "151:\tlearn: 9.1218393\ttotal: 3.19s\tremaining: 17.8s\n",
      "152:\tlearn: 9.1135452\ttotal: 3.22s\tremaining: 17.8s\n",
      "153:\tlearn: 9.1119086\ttotal: 3.23s\tremaining: 17.8s\n",
      "154:\tlearn: 9.1019789\ttotal: 3.25s\tremaining: 17.7s\n",
      "155:\tlearn: 9.0949228\ttotal: 3.27s\tremaining: 17.7s\n",
      "156:\tlearn: 9.0530967\ttotal: 3.29s\tremaining: 17.7s\n",
      "157:\tlearn: 9.0351880\ttotal: 3.31s\tremaining: 17.7s\n",
      "158:\tlearn: 9.0282887\ttotal: 3.33s\tremaining: 17.6s\n",
      "159:\tlearn: 9.0206288\ttotal: 3.35s\tremaining: 17.6s\n"
     ]
    },
    {
     "name": "stdout",
     "output_type": "stream",
     "text": [
      "160:\tlearn: 9.0068662\ttotal: 3.37s\tremaining: 17.6s\n",
      "161:\tlearn: 8.9951656\ttotal: 3.4s\tremaining: 17.6s\n",
      "162:\tlearn: 8.9757389\ttotal: 3.42s\tremaining: 17.6s\n",
      "163:\tlearn: 8.9733034\ttotal: 3.44s\tremaining: 17.5s\n",
      "164:\tlearn: 8.9703442\ttotal: 3.46s\tremaining: 17.5s\n",
      "165:\tlearn: 8.9628402\ttotal: 3.48s\tremaining: 17.5s\n",
      "166:\tlearn: 8.9517957\ttotal: 3.5s\tremaining: 17.5s\n",
      "167:\tlearn: 8.9248032\ttotal: 3.52s\tremaining: 17.4s\n",
      "168:\tlearn: 8.9180184\ttotal: 3.54s\tremaining: 17.4s\n",
      "169:\tlearn: 8.9156891\ttotal: 3.56s\tremaining: 17.4s\n",
      "170:\tlearn: 8.9097841\ttotal: 3.59s\tremaining: 17.4s\n",
      "171:\tlearn: 8.9067724\ttotal: 3.61s\tremaining: 17.4s\n",
      "172:\tlearn: 8.9042597\ttotal: 3.62s\tremaining: 17.3s\n",
      "173:\tlearn: 8.8913920\ttotal: 3.64s\tremaining: 17.3s\n",
      "174:\tlearn: 8.8771940\ttotal: 3.66s\tremaining: 17.3s\n",
      "175:\tlearn: 8.8740529\ttotal: 3.68s\tremaining: 17.2s\n",
      "176:\tlearn: 8.8667791\ttotal: 3.69s\tremaining: 17.2s\n",
      "177:\tlearn: 8.8605819\ttotal: 3.71s\tremaining: 17.2s\n",
      "178:\tlearn: 8.8514877\ttotal: 3.74s\tremaining: 17.1s\n",
      "179:\tlearn: 8.8478318\ttotal: 3.76s\tremaining: 17.1s\n",
      "180:\tlearn: 8.8282458\ttotal: 3.78s\tremaining: 17.1s\n",
      "181:\tlearn: 8.8198566\ttotal: 3.8s\tremaining: 17.1s\n",
      "182:\tlearn: 8.8119617\ttotal: 3.82s\tremaining: 17.1s\n",
      "183:\tlearn: 8.8049840\ttotal: 3.84s\tremaining: 17s\n",
      "184:\tlearn: 8.7948151\ttotal: 3.86s\tremaining: 17s\n",
      "185:\tlearn: 8.7775894\ttotal: 3.88s\tremaining: 17s\n",
      "186:\tlearn: 8.7750810\ttotal: 3.9s\tremaining: 17s\n",
      "187:\tlearn: 8.7734744\ttotal: 3.92s\tremaining: 16.9s\n",
      "188:\tlearn: 8.7539401\ttotal: 3.94s\tremaining: 16.9s\n",
      "189:\tlearn: 8.7468224\ttotal: 3.96s\tremaining: 16.9s\n",
      "190:\tlearn: 8.7330897\ttotal: 3.98s\tremaining: 16.9s\n",
      "191:\tlearn: 8.7266477\ttotal: 4s\tremaining: 16.8s\n",
      "192:\tlearn: 8.7082363\ttotal: 4.02s\tremaining: 16.8s\n",
      "193:\tlearn: 8.6808397\ttotal: 4.04s\tremaining: 16.8s\n",
      "194:\tlearn: 8.6786308\ttotal: 4.05s\tremaining: 16.7s\n",
      "195:\tlearn: 8.6680792\ttotal: 4.07s\tremaining: 16.7s\n",
      "196:\tlearn: 8.6573286\ttotal: 4.09s\tremaining: 16.7s\n",
      "197:\tlearn: 8.6539518\ttotal: 4.12s\tremaining: 16.7s\n",
      "198:\tlearn: 8.6481268\ttotal: 4.14s\tremaining: 16.7s\n",
      "199:\tlearn: 8.6288020\ttotal: 4.16s\tremaining: 16.6s\n",
      "200:\tlearn: 8.6231394\ttotal: 4.17s\tremaining: 16.6s\n",
      "201:\tlearn: 8.6147989\ttotal: 4.19s\tremaining: 16.6s\n",
      "202:\tlearn: 8.6104128\ttotal: 4.21s\tremaining: 16.5s\n",
      "203:\tlearn: 8.5739695\ttotal: 4.23s\tremaining: 16.5s\n",
      "204:\tlearn: 8.5671355\ttotal: 4.25s\tremaining: 16.5s\n",
      "205:\tlearn: 8.5586811\ttotal: 4.27s\tremaining: 16.5s\n",
      "206:\tlearn: 8.5550554\ttotal: 4.29s\tremaining: 16.5s\n",
      "207:\tlearn: 8.5529519\ttotal: 4.32s\tremaining: 16.4s\n",
      "208:\tlearn: 8.5508980\ttotal: 4.33s\tremaining: 16.4s\n",
      "209:\tlearn: 8.5332744\ttotal: 4.36s\tremaining: 16.4s\n",
      "210:\tlearn: 8.5297798\ttotal: 4.38s\tremaining: 16.4s\n",
      "211:\tlearn: 8.5096732\ttotal: 4.39s\tremaining: 16.3s\n",
      "212:\tlearn: 8.4945262\ttotal: 4.41s\tremaining: 16.3s\n",
      "213:\tlearn: 8.4888838\ttotal: 4.43s\tremaining: 16.3s\n",
      "214:\tlearn: 8.4702522\ttotal: 4.45s\tremaining: 16.2s\n",
      "215:\tlearn: 8.4684920\ttotal: 4.46s\tremaining: 16.2s\n",
      "216:\tlearn: 8.4666664\ttotal: 4.48s\tremaining: 16.2s\n",
      "217:\tlearn: 8.4520535\ttotal: 4.51s\tremaining: 16.2s\n",
      "218:\tlearn: 8.4492690\ttotal: 4.53s\tremaining: 16.1s\n",
      "219:\tlearn: 8.4323819\ttotal: 4.54s\tremaining: 16.1s\n",
      "220:\tlearn: 8.4258887\ttotal: 4.56s\tremaining: 16.1s\n",
      "221:\tlearn: 8.4127187\ttotal: 4.58s\tremaining: 16.1s\n",
      "222:\tlearn: 8.4049851\ttotal: 4.6s\tremaining: 16s\n",
      "223:\tlearn: 8.3895218\ttotal: 4.62s\tremaining: 16s\n",
      "224:\tlearn: 8.3640939\ttotal: 4.63s\tremaining: 16s\n",
      "225:\tlearn: 8.3523417\ttotal: 4.65s\tremaining: 15.9s\n",
      "226:\tlearn: 8.3431336\ttotal: 4.67s\tremaining: 15.9s\n",
      "227:\tlearn: 8.3403494\ttotal: 4.7s\tremaining: 15.9s\n",
      "228:\tlearn: 8.3309915\ttotal: 4.71s\tremaining: 15.9s\n",
      "229:\tlearn: 8.3196811\ttotal: 4.73s\tremaining: 15.8s\n",
      "230:\tlearn: 8.3147185\ttotal: 4.75s\tremaining: 15.8s\n",
      "231:\tlearn: 8.3083297\ttotal: 4.77s\tremaining: 15.8s\n",
      "232:\tlearn: 8.2881862\ttotal: 4.79s\tremaining: 15.8s\n",
      "233:\tlearn: 8.2668577\ttotal: 4.81s\tremaining: 15.7s\n",
      "234:\tlearn: 8.2578642\ttotal: 4.83s\tremaining: 15.7s\n",
      "235:\tlearn: 8.2368478\ttotal: 4.84s\tremaining: 15.7s\n",
      "236:\tlearn: 8.2353141\ttotal: 4.86s\tremaining: 15.7s\n",
      "237:\tlearn: 8.2293477\ttotal: 4.89s\tremaining: 15.7s\n",
      "238:\tlearn: 8.2264631\ttotal: 4.91s\tremaining: 15.6s\n",
      "239:\tlearn: 8.2124690\ttotal: 4.93s\tremaining: 15.6s\n",
      "240:\tlearn: 8.2097204\ttotal: 4.94s\tremaining: 15.6s\n",
      "241:\tlearn: 8.2054599\ttotal: 4.96s\tremaining: 15.5s\n",
      "242:\tlearn: 8.2023450\ttotal: 4.98s\tremaining: 15.5s\n",
      "243:\tlearn: 8.1879548\ttotal: 5s\tremaining: 15.5s\n",
      "244:\tlearn: 8.1756616\ttotal: 5.02s\tremaining: 15.5s\n",
      "245:\tlearn: 8.1662400\ttotal: 5.04s\tremaining: 15.4s\n",
      "246:\tlearn: 8.1627480\ttotal: 5.05s\tremaining: 15.4s\n",
      "247:\tlearn: 8.1483098\ttotal: 5.08s\tremaining: 15.4s\n",
      "248:\tlearn: 8.1459642\ttotal: 5.1s\tremaining: 15.4s\n",
      "249:\tlearn: 8.1424202\ttotal: 5.13s\tremaining: 15.4s\n",
      "250:\tlearn: 8.1399242\ttotal: 5.14s\tremaining: 15.4s\n",
      "251:\tlearn: 8.1297350\ttotal: 5.16s\tremaining: 15.3s\n",
      "252:\tlearn: 8.1274952\ttotal: 5.18s\tremaining: 15.3s\n",
      "253:\tlearn: 8.1144888\ttotal: 5.21s\tremaining: 15.3s\n",
      "254:\tlearn: 8.1061170\ttotal: 5.23s\tremaining: 15.3s\n",
      "255:\tlearn: 8.0986319\ttotal: 5.26s\tremaining: 15.3s\n",
      "256:\tlearn: 8.0832557\ttotal: 5.29s\tremaining: 15.3s\n",
      "257:\tlearn: 8.0803177\ttotal: 5.3s\tremaining: 15.3s\n",
      "258:\tlearn: 8.0692385\ttotal: 5.32s\tremaining: 15.2s\n",
      "259:\tlearn: 8.0639709\ttotal: 5.34s\tremaining: 15.2s\n",
      "260:\tlearn: 8.0531673\ttotal: 5.36s\tremaining: 15.2s\n",
      "261:\tlearn: 8.0471492\ttotal: 5.38s\tremaining: 15.1s\n",
      "262:\tlearn: 8.0400859\ttotal: 5.4s\tremaining: 15.1s\n",
      "263:\tlearn: 8.0272434\ttotal: 5.42s\tremaining: 15.1s\n",
      "264:\tlearn: 8.0240395\ttotal: 5.45s\tremaining: 15.1s\n",
      "265:\tlearn: 8.0000107\ttotal: 5.47s\tremaining: 15.1s\n",
      "266:\tlearn: 7.9979421\ttotal: 5.49s\tremaining: 15.1s\n",
      "267:\tlearn: 7.9866449\ttotal: 5.51s\tremaining: 15.1s\n",
      "268:\tlearn: 7.9762781\ttotal: 5.53s\tremaining: 15s\n",
      "269:\tlearn: 7.9604005\ttotal: 5.56s\tremaining: 15s\n",
      "270:\tlearn: 7.9575848\ttotal: 5.58s\tremaining: 15s\n",
      "271:\tlearn: 7.9538756\ttotal: 5.6s\tremaining: 15s\n",
      "272:\tlearn: 7.9458523\ttotal: 5.62s\tremaining: 15s\n",
      "273:\tlearn: 7.9421772\ttotal: 5.64s\tremaining: 14.9s\n",
      "274:\tlearn: 7.9108987\ttotal: 5.66s\tremaining: 14.9s\n",
      "275:\tlearn: 7.9073315\ttotal: 5.68s\tremaining: 14.9s\n",
      "276:\tlearn: 7.8992630\ttotal: 5.7s\tremaining: 14.9s\n",
      "277:\tlearn: 7.8870483\ttotal: 5.73s\tremaining: 14.9s\n",
      "278:\tlearn: 7.8756944\ttotal: 5.74s\tremaining: 14.8s\n",
      "279:\tlearn: 7.8700607\ttotal: 5.78s\tremaining: 14.8s\n",
      "280:\tlearn: 7.8610729\ttotal: 5.8s\tremaining: 14.8s\n",
      "281:\tlearn: 7.8442870\ttotal: 5.82s\tremaining: 14.8s\n",
      "282:\tlearn: 7.8378343\ttotal: 5.85s\tremaining: 14.8s\n",
      "283:\tlearn: 7.8345719\ttotal: 5.87s\tremaining: 14.8s\n",
      "284:\tlearn: 7.8233513\ttotal: 5.89s\tremaining: 14.8s\n",
      "285:\tlearn: 7.8205473\ttotal: 5.91s\tremaining: 14.8s\n",
      "286:\tlearn: 7.8152644\ttotal: 5.93s\tremaining: 14.7s\n",
      "287:\tlearn: 7.8044973\ttotal: 5.95s\tremaining: 14.7s\n",
      "288:\tlearn: 7.7906022\ttotal: 5.98s\tremaining: 14.7s\n",
      "289:\tlearn: 7.7888551\ttotal: 6s\tremaining: 14.7s\n",
      "290:\tlearn: 7.7749161\ttotal: 6.02s\tremaining: 14.7s\n",
      "291:\tlearn: 7.7665759\ttotal: 6.04s\tremaining: 14.7s\n",
      "292:\tlearn: 7.7578079\ttotal: 6.08s\tremaining: 14.7s\n",
      "293:\tlearn: 7.7501713\ttotal: 6.09s\tremaining: 14.6s\n",
      "294:\tlearn: 7.7451482\ttotal: 6.12s\tremaining: 14.6s\n",
      "295:\tlearn: 7.7423428\ttotal: 6.14s\tremaining: 14.6s\n",
      "296:\tlearn: 7.7361632\ttotal: 6.18s\tremaining: 14.6s\n",
      "297:\tlearn: 7.7335483\ttotal: 6.22s\tremaining: 14.7s\n",
      "298:\tlearn: 7.7235190\ttotal: 6.24s\tremaining: 14.6s\n",
      "299:\tlearn: 7.7206848\ttotal: 6.26s\tremaining: 14.6s\n",
      "300:\tlearn: 7.7164319\ttotal: 6.28s\tremaining: 14.6s\n",
      "301:\tlearn: 7.7070686\ttotal: 6.3s\tremaining: 14.6s\n",
      "302:\tlearn: 7.6989602\ttotal: 6.32s\tremaining: 14.5s\n",
      "303:\tlearn: 7.6937958\ttotal: 6.34s\tremaining: 14.5s\n",
      "304:\tlearn: 7.6818399\ttotal: 6.37s\tremaining: 14.5s\n",
      "305:\tlearn: 7.6675097\ttotal: 6.39s\tremaining: 14.5s\n",
      "306:\tlearn: 7.6662341\ttotal: 6.41s\tremaining: 14.5s\n",
      "307:\tlearn: 7.6635722\ttotal: 6.43s\tremaining: 14.4s\n",
      "308:\tlearn: 7.6569333\ttotal: 6.46s\tremaining: 14.4s\n",
      "309:\tlearn: 7.6455279\ttotal: 6.48s\tremaining: 14.4s\n",
      "310:\tlearn: 7.6394885\ttotal: 6.5s\tremaining: 14.4s\n",
      "311:\tlearn: 7.6380061\ttotal: 6.52s\tremaining: 14.4s\n",
      "312:\tlearn: 7.6255456\ttotal: 6.54s\tremaining: 14.4s\n",
      "313:\tlearn: 7.6224880\ttotal: 6.56s\tremaining: 14.3s\n",
      "314:\tlearn: 7.6124990\ttotal: 6.59s\tremaining: 14.3s\n",
      "315:\tlearn: 7.6035046\ttotal: 6.61s\tremaining: 14.3s\n",
      "316:\tlearn: 7.5930586\ttotal: 6.63s\tremaining: 14.3s\n",
      "317:\tlearn: 7.5786214\ttotal: 6.65s\tremaining: 14.3s\n",
      "318:\tlearn: 7.5618920\ttotal: 6.67s\tremaining: 14.2s\n",
      "319:\tlearn: 7.5593928\ttotal: 6.69s\tremaining: 14.2s\n",
      "320:\tlearn: 7.5511971\ttotal: 6.71s\tremaining: 14.2s\n",
      "321:\tlearn: 7.5425103\ttotal: 6.74s\tremaining: 14.2s\n"
     ]
    },
    {
     "name": "stdout",
     "output_type": "stream",
     "text": [
      "322:\tlearn: 7.5390505\ttotal: 6.76s\tremaining: 14.2s\n",
      "323:\tlearn: 7.5341366\ttotal: 6.79s\tremaining: 14.2s\n",
      "324:\tlearn: 7.5303094\ttotal: 6.81s\tremaining: 14.1s\n",
      "325:\tlearn: 7.5288908\ttotal: 6.83s\tremaining: 14.1s\n",
      "326:\tlearn: 7.5223894\ttotal: 6.85s\tremaining: 14.1s\n",
      "327:\tlearn: 7.5148947\ttotal: 6.87s\tremaining: 14.1s\n",
      "328:\tlearn: 7.5065295\ttotal: 6.9s\tremaining: 14.1s\n",
      "329:\tlearn: 7.5040671\ttotal: 6.92s\tremaining: 14s\n",
      "330:\tlearn: 7.4936627\ttotal: 6.94s\tremaining: 14s\n",
      "331:\tlearn: 7.4860489\ttotal: 6.96s\tremaining: 14s\n",
      "332:\tlearn: 7.4765272\ttotal: 6.98s\tremaining: 14s\n",
      "333:\tlearn: 7.4702129\ttotal: 7s\tremaining: 14s\n",
      "334:\tlearn: 7.4648352\ttotal: 7.02s\tremaining: 13.9s\n",
      "335:\tlearn: 7.4568828\ttotal: 7.04s\tremaining: 13.9s\n",
      "336:\tlearn: 7.4536048\ttotal: 7.06s\tremaining: 13.9s\n",
      "337:\tlearn: 7.4504187\ttotal: 7.08s\tremaining: 13.9s\n",
      "338:\tlearn: 7.4476745\ttotal: 7.1s\tremaining: 13.8s\n",
      "339:\tlearn: 7.4419858\ttotal: 7.12s\tremaining: 13.8s\n",
      "340:\tlearn: 7.4334063\ttotal: 7.14s\tremaining: 13.8s\n",
      "341:\tlearn: 7.4224434\ttotal: 7.16s\tremaining: 13.8s\n",
      "342:\tlearn: 7.4200847\ttotal: 7.18s\tremaining: 13.8s\n",
      "343:\tlearn: 7.4117583\ttotal: 7.2s\tremaining: 13.7s\n",
      "344:\tlearn: 7.4048198\ttotal: 7.22s\tremaining: 13.7s\n",
      "345:\tlearn: 7.4005590\ttotal: 7.24s\tremaining: 13.7s\n",
      "346:\tlearn: 7.3917454\ttotal: 7.26s\tremaining: 13.7s\n",
      "347:\tlearn: 7.3864652\ttotal: 7.28s\tremaining: 13.6s\n",
      "348:\tlearn: 7.3787180\ttotal: 7.3s\tremaining: 13.6s\n",
      "349:\tlearn: 7.3762992\ttotal: 7.32s\tremaining: 13.6s\n",
      "350:\tlearn: 7.3732596\ttotal: 7.34s\tremaining: 13.6s\n",
      "351:\tlearn: 7.3541608\ttotal: 7.36s\tremaining: 13.5s\n",
      "352:\tlearn: 7.3487738\ttotal: 7.38s\tremaining: 13.5s\n",
      "353:\tlearn: 7.3461469\ttotal: 7.39s\tremaining: 13.5s\n",
      "354:\tlearn: 7.3430085\ttotal: 7.41s\tremaining: 13.5s\n",
      "355:\tlearn: 7.3367723\ttotal: 7.43s\tremaining: 13.4s\n",
      "356:\tlearn: 7.3273623\ttotal: 7.45s\tremaining: 13.4s\n",
      "357:\tlearn: 7.3200123\ttotal: 7.47s\tremaining: 13.4s\n",
      "358:\tlearn: 7.3148812\ttotal: 7.49s\tremaining: 13.4s\n",
      "359:\tlearn: 7.3026245\ttotal: 7.51s\tremaining: 13.4s\n",
      "360:\tlearn: 7.2771152\ttotal: 7.53s\tremaining: 13.3s\n",
      "361:\tlearn: 7.2762508\ttotal: 7.55s\tremaining: 13.3s\n",
      "362:\tlearn: 7.2710335\ttotal: 7.57s\tremaining: 13.3s\n",
      "363:\tlearn: 7.2686526\ttotal: 7.58s\tremaining: 13.3s\n",
      "364:\tlearn: 7.2638241\ttotal: 7.6s\tremaining: 13.2s\n",
      "365:\tlearn: 7.2575306\ttotal: 7.62s\tremaining: 13.2s\n",
      "366:\tlearn: 7.2543066\ttotal: 7.64s\tremaining: 13.2s\n",
      "367:\tlearn: 7.2514771\ttotal: 7.66s\tremaining: 13.1s\n",
      "368:\tlearn: 7.2420081\ttotal: 7.68s\tremaining: 13.1s\n",
      "369:\tlearn: 7.2281443\ttotal: 7.7s\tremaining: 13.1s\n",
      "370:\tlearn: 7.2134684\ttotal: 7.72s\tremaining: 13.1s\n",
      "371:\tlearn: 7.2096675\ttotal: 7.74s\tremaining: 13.1s\n",
      "372:\tlearn: 7.1952459\ttotal: 7.75s\tremaining: 13s\n",
      "373:\tlearn: 7.1927708\ttotal: 7.77s\tremaining: 13s\n",
      "374:\tlearn: 7.1834509\ttotal: 7.79s\tremaining: 13s\n",
      "375:\tlearn: 7.1807133\ttotal: 7.81s\tremaining: 13s\n",
      "376:\tlearn: 7.1769451\ttotal: 7.83s\tremaining: 12.9s\n",
      "377:\tlearn: 7.1656641\ttotal: 7.84s\tremaining: 12.9s\n",
      "378:\tlearn: 7.1609171\ttotal: 7.87s\tremaining: 12.9s\n",
      "379:\tlearn: 7.1583776\ttotal: 7.89s\tremaining: 12.9s\n",
      "380:\tlearn: 7.1437309\ttotal: 7.91s\tremaining: 12.8s\n",
      "381:\tlearn: 7.1340530\ttotal: 7.93s\tremaining: 12.8s\n",
      "382:\tlearn: 7.1190782\ttotal: 7.95s\tremaining: 12.8s\n",
      "383:\tlearn: 7.1135963\ttotal: 7.97s\tremaining: 12.8s\n",
      "384:\tlearn: 7.1093009\ttotal: 7.98s\tremaining: 12.8s\n",
      "385:\tlearn: 7.0997754\ttotal: 8s\tremaining: 12.7s\n",
      "386:\tlearn: 7.0971323\ttotal: 8.02s\tremaining: 12.7s\n",
      "387:\tlearn: 7.0940855\ttotal: 8.04s\tremaining: 12.7s\n",
      "388:\tlearn: 7.0919913\ttotal: 8.06s\tremaining: 12.7s\n",
      "389:\tlearn: 7.0848236\ttotal: 8.08s\tremaining: 12.6s\n",
      "390:\tlearn: 7.0818238\ttotal: 8.1s\tremaining: 12.6s\n",
      "391:\tlearn: 7.0766999\ttotal: 8.12s\tremaining: 12.6s\n",
      "392:\tlearn: 7.0619762\ttotal: 8.14s\tremaining: 12.6s\n",
      "393:\tlearn: 7.0567589\ttotal: 8.15s\tremaining: 12.5s\n",
      "394:\tlearn: 7.0507080\ttotal: 8.17s\tremaining: 12.5s\n",
      "395:\tlearn: 7.0459678\ttotal: 8.19s\tremaining: 12.5s\n",
      "396:\tlearn: 7.0382281\ttotal: 8.21s\tremaining: 12.5s\n",
      "397:\tlearn: 7.0356573\ttotal: 8.23s\tremaining: 12.4s\n",
      "398:\tlearn: 7.0323249\ttotal: 8.25s\tremaining: 12.4s\n",
      "399:\tlearn: 7.0290076\ttotal: 8.27s\tremaining: 12.4s\n",
      "400:\tlearn: 7.0176864\ttotal: 8.3s\tremaining: 12.4s\n",
      "401:\tlearn: 7.0071516\ttotal: 8.32s\tremaining: 12.4s\n",
      "402:\tlearn: 6.9989646\ttotal: 8.34s\tremaining: 12.3s\n",
      "403:\tlearn: 6.9876780\ttotal: 8.35s\tremaining: 12.3s\n",
      "404:\tlearn: 6.9774150\ttotal: 8.37s\tremaining: 12.3s\n",
      "405:\tlearn: 6.9692742\ttotal: 8.39s\tremaining: 12.3s\n",
      "406:\tlearn: 6.9668160\ttotal: 8.41s\tremaining: 12.3s\n",
      "407:\tlearn: 6.9532237\ttotal: 8.43s\tremaining: 12.2s\n",
      "408:\tlearn: 6.9445238\ttotal: 8.45s\tremaining: 12.2s\n",
      "409:\tlearn: 6.9326950\ttotal: 8.47s\tremaining: 12.2s\n",
      "410:\tlearn: 6.9318242\ttotal: 8.49s\tremaining: 12.2s\n",
      "411:\tlearn: 6.9265335\ttotal: 8.51s\tremaining: 12.1s\n",
      "412:\tlearn: 6.9161144\ttotal: 8.53s\tremaining: 12.1s\n",
      "413:\tlearn: 6.9088926\ttotal: 8.55s\tremaining: 12.1s\n",
      "414:\tlearn: 6.9056565\ttotal: 8.57s\tremaining: 12.1s\n",
      "415:\tlearn: 6.8977576\ttotal: 8.59s\tremaining: 12.1s\n",
      "416:\tlearn: 6.8935107\ttotal: 8.61s\tremaining: 12s\n",
      "417:\tlearn: 6.8891153\ttotal: 8.63s\tremaining: 12s\n",
      "418:\tlearn: 6.8764407\ttotal: 8.65s\tremaining: 12s\n",
      "419:\tlearn: 6.8745112\ttotal: 8.68s\tremaining: 12s\n",
      "420:\tlearn: 6.8693040\ttotal: 8.7s\tremaining: 12s\n",
      "421:\tlearn: 6.8580060\ttotal: 8.72s\tremaining: 11.9s\n",
      "422:\tlearn: 6.8556947\ttotal: 8.74s\tremaining: 11.9s\n",
      "423:\tlearn: 6.8418655\ttotal: 8.76s\tremaining: 11.9s\n",
      "424:\tlearn: 6.8396409\ttotal: 8.78s\tremaining: 11.9s\n",
      "425:\tlearn: 6.8373081\ttotal: 8.81s\tremaining: 11.9s\n",
      "426:\tlearn: 6.8234949\ttotal: 8.83s\tremaining: 11.8s\n",
      "427:\tlearn: 6.8166878\ttotal: 8.85s\tremaining: 11.8s\n",
      "428:\tlearn: 6.8121498\ttotal: 8.88s\tremaining: 11.8s\n",
      "429:\tlearn: 6.8081651\ttotal: 8.9s\tremaining: 11.8s\n",
      "430:\tlearn: 6.7976631\ttotal: 8.92s\tremaining: 11.8s\n",
      "431:\tlearn: 6.7932801\ttotal: 8.94s\tremaining: 11.8s\n",
      "432:\tlearn: 6.7876608\ttotal: 8.97s\tremaining: 11.7s\n",
      "433:\tlearn: 6.7826162\ttotal: 9s\tremaining: 11.7s\n",
      "434:\tlearn: 6.7764076\ttotal: 9.02s\tremaining: 11.7s\n",
      "435:\tlearn: 6.7678538\ttotal: 9.04s\tremaining: 11.7s\n",
      "436:\tlearn: 6.7639500\ttotal: 9.06s\tremaining: 11.7s\n",
      "437:\tlearn: 6.7547859\ttotal: 9.09s\tremaining: 11.7s\n",
      "438:\tlearn: 6.7504427\ttotal: 9.11s\tremaining: 11.6s\n",
      "439:\tlearn: 6.7480354\ttotal: 9.13s\tremaining: 11.6s\n",
      "440:\tlearn: 6.7416604\ttotal: 9.15s\tremaining: 11.6s\n",
      "441:\tlearn: 6.7337670\ttotal: 9.17s\tremaining: 11.6s\n",
      "442:\tlearn: 6.7236159\ttotal: 9.2s\tremaining: 11.6s\n",
      "443:\tlearn: 6.7154524\ttotal: 9.22s\tremaining: 11.5s\n",
      "444:\tlearn: 6.7092601\ttotal: 9.24s\tremaining: 11.5s\n",
      "445:\tlearn: 6.6959750\ttotal: 9.26s\tremaining: 11.5s\n",
      "446:\tlearn: 6.6931607\ttotal: 9.28s\tremaining: 11.5s\n",
      "447:\tlearn: 6.6865088\ttotal: 9.3s\tremaining: 11.5s\n",
      "448:\tlearn: 6.6752030\ttotal: 9.32s\tremaining: 11.4s\n",
      "449:\tlearn: 6.6725575\ttotal: 9.34s\tremaining: 11.4s\n",
      "450:\tlearn: 6.6683880\ttotal: 9.36s\tremaining: 11.4s\n",
      "451:\tlearn: 6.6602306\ttotal: 9.39s\tremaining: 11.4s\n",
      "452:\tlearn: 6.6552901\ttotal: 9.41s\tremaining: 11.4s\n",
      "453:\tlearn: 6.6530197\ttotal: 9.43s\tremaining: 11.3s\n",
      "454:\tlearn: 6.6477727\ttotal: 9.46s\tremaining: 11.3s\n",
      "455:\tlearn: 6.6394446\ttotal: 9.49s\tremaining: 11.3s\n",
      "456:\tlearn: 6.6341243\ttotal: 9.52s\tremaining: 11.3s\n",
      "457:\tlearn: 6.6298424\ttotal: 9.55s\tremaining: 11.3s\n",
      "458:\tlearn: 6.6253137\ttotal: 9.57s\tremaining: 11.3s\n",
      "459:\tlearn: 6.6178625\ttotal: 9.6s\tremaining: 11.3s\n",
      "460:\tlearn: 6.6120608\ttotal: 9.62s\tremaining: 11.3s\n",
      "461:\tlearn: 6.6082605\ttotal: 9.65s\tremaining: 11.2s\n",
      "462:\tlearn: 6.5973210\ttotal: 9.67s\tremaining: 11.2s\n",
      "463:\tlearn: 6.5900885\ttotal: 9.69s\tremaining: 11.2s\n",
      "464:\tlearn: 6.5885555\ttotal: 9.71s\tremaining: 11.2s\n",
      "465:\tlearn: 6.5858856\ttotal: 9.73s\tremaining: 11.2s\n",
      "466:\tlearn: 6.5818818\ttotal: 9.76s\tremaining: 11.1s\n",
      "467:\tlearn: 6.5786235\ttotal: 9.78s\tremaining: 11.1s\n",
      "468:\tlearn: 6.5740261\ttotal: 9.8s\tremaining: 11.1s\n",
      "469:\tlearn: 6.5644107\ttotal: 9.83s\tremaining: 11.1s\n",
      "470:\tlearn: 6.5564983\ttotal: 9.85s\tremaining: 11.1s\n",
      "471:\tlearn: 6.5500888\ttotal: 9.88s\tremaining: 11.1s\n",
      "472:\tlearn: 6.5454579\ttotal: 9.9s\tremaining: 11s\n",
      "473:\tlearn: 6.5373853\ttotal: 9.93s\tremaining: 11s\n",
      "474:\tlearn: 6.5314318\ttotal: 9.95s\tremaining: 11s\n",
      "475:\tlearn: 6.5296470\ttotal: 9.97s\tremaining: 11s\n",
      "476:\tlearn: 6.5187871\ttotal: 10s\tremaining: 11s\n",
      "477:\tlearn: 6.5160102\ttotal: 10s\tremaining: 10.9s\n",
      "478:\tlearn: 6.5069486\ttotal: 10s\tremaining: 10.9s\n",
      "479:\tlearn: 6.5047689\ttotal: 10.1s\tremaining: 10.9s\n",
      "480:\tlearn: 6.4983213\ttotal: 10.1s\tremaining: 10.9s\n",
      "481:\tlearn: 6.4942106\ttotal: 10.1s\tremaining: 10.9s\n"
     ]
    },
    {
     "name": "stdout",
     "output_type": "stream",
     "text": [
      "482:\tlearn: 6.4890078\ttotal: 10.1s\tremaining: 10.9s\n",
      "483:\tlearn: 6.4846030\ttotal: 10.2s\tremaining: 10.8s\n",
      "484:\tlearn: 6.4760193\ttotal: 10.2s\tremaining: 10.8s\n",
      "485:\tlearn: 6.4642838\ttotal: 10.2s\tremaining: 10.8s\n",
      "486:\tlearn: 6.4582971\ttotal: 10.2s\tremaining: 10.8s\n",
      "487:\tlearn: 6.4557603\ttotal: 10.3s\tremaining: 10.8s\n",
      "488:\tlearn: 6.4533372\ttotal: 10.3s\tremaining: 10.7s\n",
      "489:\tlearn: 6.4450761\ttotal: 10.3s\tremaining: 10.7s\n",
      "490:\tlearn: 6.4416070\ttotal: 10.3s\tremaining: 10.7s\n",
      "491:\tlearn: 6.4401045\ttotal: 10.4s\tremaining: 10.7s\n",
      "492:\tlearn: 6.4354117\ttotal: 10.4s\tremaining: 10.7s\n",
      "493:\tlearn: 6.4267043\ttotal: 10.4s\tremaining: 10.7s\n",
      "494:\tlearn: 6.4204997\ttotal: 10.4s\tremaining: 10.6s\n",
      "495:\tlearn: 6.4187026\ttotal: 10.4s\tremaining: 10.6s\n",
      "496:\tlearn: 6.4104582\ttotal: 10.5s\tremaining: 10.6s\n",
      "497:\tlearn: 6.3975420\ttotal: 10.5s\tremaining: 10.6s\n",
      "498:\tlearn: 6.3944560\ttotal: 10.5s\tremaining: 10.6s\n",
      "499:\tlearn: 6.3850532\ttotal: 10.6s\tremaining: 10.6s\n",
      "500:\tlearn: 6.3834068\ttotal: 10.6s\tremaining: 10.5s\n",
      "501:\tlearn: 6.3718694\ttotal: 10.6s\tremaining: 10.5s\n",
      "502:\tlearn: 6.3574174\ttotal: 10.6s\tremaining: 10.5s\n",
      "503:\tlearn: 6.3537488\ttotal: 10.7s\tremaining: 10.5s\n",
      "504:\tlearn: 6.3479424\ttotal: 10.7s\tremaining: 10.5s\n",
      "505:\tlearn: 6.3374050\ttotal: 10.7s\tremaining: 10.5s\n",
      "506:\tlearn: 6.3308467\ttotal: 10.7s\tremaining: 10.4s\n",
      "507:\tlearn: 6.3284587\ttotal: 10.8s\tremaining: 10.4s\n",
      "508:\tlearn: 6.3165886\ttotal: 10.8s\tremaining: 10.4s\n",
      "509:\tlearn: 6.3154612\ttotal: 10.8s\tremaining: 10.4s\n",
      "510:\tlearn: 6.3118663\ttotal: 10.8s\tremaining: 10.4s\n",
      "511:\tlearn: 6.3108985\ttotal: 10.8s\tremaining: 10.3s\n",
      "512:\tlearn: 6.3033147\ttotal: 10.9s\tremaining: 10.3s\n",
      "513:\tlearn: 6.2968757\ttotal: 10.9s\tremaining: 10.3s\n",
      "514:\tlearn: 6.2935649\ttotal: 10.9s\tremaining: 10.3s\n",
      "515:\tlearn: 6.2928643\ttotal: 10.9s\tremaining: 10.3s\n",
      "516:\tlearn: 6.2816114\ttotal: 11s\tremaining: 10.2s\n",
      "517:\tlearn: 6.2802629\ttotal: 11s\tremaining: 10.2s\n",
      "518:\tlearn: 6.2776125\ttotal: 11s\tremaining: 10.2s\n",
      "519:\tlearn: 6.2731650\ttotal: 11s\tremaining: 10.2s\n",
      "520:\tlearn: 6.2654115\ttotal: 11s\tremaining: 10.1s\n",
      "521:\tlearn: 6.2571853\ttotal: 11.1s\tremaining: 10.1s\n",
      "522:\tlearn: 6.2489684\ttotal: 11.1s\tremaining: 10.1s\n",
      "523:\tlearn: 6.2445932\ttotal: 11.1s\tremaining: 10.1s\n",
      "524:\tlearn: 6.2391478\ttotal: 11.1s\tremaining: 10.1s\n",
      "525:\tlearn: 6.2338180\ttotal: 11.1s\tremaining: 10s\n",
      "526:\tlearn: 6.2305907\ttotal: 11.2s\tremaining: 10s\n",
      "527:\tlearn: 6.2258521\ttotal: 11.2s\tremaining: 9.99s\n",
      "528:\tlearn: 6.2226726\ttotal: 11.2s\tremaining: 9.97s\n",
      "529:\tlearn: 6.2166802\ttotal: 11.2s\tremaining: 9.95s\n",
      "530:\tlearn: 6.2148655\ttotal: 11.2s\tremaining: 9.93s\n",
      "531:\tlearn: 6.2050169\ttotal: 11.3s\tremaining: 9.91s\n",
      "532:\tlearn: 6.1977767\ttotal: 11.3s\tremaining: 9.89s\n",
      "533:\tlearn: 6.1946571\ttotal: 11.3s\tremaining: 9.87s\n",
      "534:\tlearn: 6.1900982\ttotal: 11.3s\tremaining: 9.84s\n",
      "535:\tlearn: 6.1825598\ttotal: 11.3s\tremaining: 9.82s\n",
      "536:\tlearn: 6.1659330\ttotal: 11.4s\tremaining: 9.8s\n",
      "537:\tlearn: 6.1595663\ttotal: 11.4s\tremaining: 9.78s\n",
      "538:\tlearn: 6.1534909\ttotal: 11.4s\tremaining: 9.76s\n",
      "539:\tlearn: 6.1455361\ttotal: 11.4s\tremaining: 9.73s\n",
      "540:\tlearn: 6.1386693\ttotal: 11.5s\tremaining: 9.72s\n",
      "541:\tlearn: 6.1351374\ttotal: 11.5s\tremaining: 9.7s\n",
      "542:\tlearn: 6.1230834\ttotal: 11.5s\tremaining: 9.68s\n",
      "543:\tlearn: 6.1193552\ttotal: 11.5s\tremaining: 9.65s\n",
      "544:\tlearn: 6.1169124\ttotal: 11.5s\tremaining: 9.63s\n",
      "545:\tlearn: 6.1065908\ttotal: 11.6s\tremaining: 9.61s\n",
      "546:\tlearn: 6.1034477\ttotal: 11.6s\tremaining: 9.59s\n",
      "547:\tlearn: 6.0946391\ttotal: 11.6s\tremaining: 9.56s\n",
      "548:\tlearn: 6.0927800\ttotal: 11.6s\tremaining: 9.54s\n",
      "549:\tlearn: 6.0863448\ttotal: 11.6s\tremaining: 9.53s\n",
      "550:\tlearn: 6.0842359\ttotal: 11.7s\tremaining: 9.5s\n",
      "551:\tlearn: 6.0787978\ttotal: 11.7s\tremaining: 9.48s\n",
      "552:\tlearn: 6.0658288\ttotal: 11.7s\tremaining: 9.46s\n",
      "553:\tlearn: 6.0637156\ttotal: 11.7s\tremaining: 9.44s\n",
      "554:\tlearn: 6.0588746\ttotal: 11.7s\tremaining: 9.41s\n",
      "555:\tlearn: 6.0558409\ttotal: 11.8s\tremaining: 9.39s\n",
      "556:\tlearn: 6.0536387\ttotal: 11.8s\tremaining: 9.37s\n",
      "557:\tlearn: 6.0514235\ttotal: 11.8s\tremaining: 9.35s\n",
      "558:\tlearn: 6.0476240\ttotal: 11.8s\tremaining: 9.33s\n",
      "559:\tlearn: 6.0455332\ttotal: 11.9s\tremaining: 9.31s\n",
      "560:\tlearn: 6.0377513\ttotal: 11.9s\tremaining: 9.29s\n",
      "561:\tlearn: 6.0322565\ttotal: 11.9s\tremaining: 9.27s\n",
      "562:\tlearn: 6.0279025\ttotal: 11.9s\tremaining: 9.25s\n",
      "563:\tlearn: 6.0204988\ttotal: 11.9s\tremaining: 9.23s\n",
      "564:\tlearn: 6.0161768\ttotal: 12s\tremaining: 9.21s\n",
      "565:\tlearn: 6.0136015\ttotal: 12s\tremaining: 9.18s\n",
      "566:\tlearn: 6.0087580\ttotal: 12s\tremaining: 9.16s\n",
      "567:\tlearn: 6.0058556\ttotal: 12s\tremaining: 9.14s\n",
      "568:\tlearn: 5.9992545\ttotal: 12s\tremaining: 9.12s\n",
      "569:\tlearn: 5.9915764\ttotal: 12.1s\tremaining: 9.1s\n",
      "570:\tlearn: 5.9879566\ttotal: 12.1s\tremaining: 9.08s\n",
      "571:\tlearn: 5.9793883\ttotal: 12.1s\tremaining: 9.06s\n",
      "572:\tlearn: 5.9723502\ttotal: 12.1s\tremaining: 9.04s\n",
      "573:\tlearn: 5.9601320\ttotal: 12.2s\tremaining: 9.02s\n",
      "574:\tlearn: 5.9551570\ttotal: 12.2s\tremaining: 9s\n",
      "575:\tlearn: 5.9500376\ttotal: 12.2s\tremaining: 8.98s\n",
      "576:\tlearn: 5.9419506\ttotal: 12.2s\tremaining: 8.96s\n",
      "577:\tlearn: 5.9386468\ttotal: 12.2s\tremaining: 8.94s\n",
      "578:\tlearn: 5.9380222\ttotal: 12.3s\tremaining: 8.92s\n",
      "579:\tlearn: 5.9357282\ttotal: 12.3s\tremaining: 8.9s\n",
      "580:\tlearn: 5.9338389\ttotal: 12.3s\tremaining: 8.88s\n",
      "581:\tlearn: 5.9295326\ttotal: 12.3s\tremaining: 8.85s\n",
      "582:\tlearn: 5.9255382\ttotal: 12.3s\tremaining: 8.83s\n",
      "583:\tlearn: 5.9205664\ttotal: 12.4s\tremaining: 8.81s\n",
      "584:\tlearn: 5.9153838\ttotal: 12.4s\tremaining: 8.79s\n",
      "585:\tlearn: 5.9078345\ttotal: 12.4s\tremaining: 8.77s\n",
      "586:\tlearn: 5.9003931\ttotal: 12.4s\tremaining: 8.75s\n",
      "587:\tlearn: 5.8883018\ttotal: 12.5s\tremaining: 8.73s\n",
      "588:\tlearn: 5.8862573\ttotal: 12.5s\tremaining: 8.7s\n",
      "589:\tlearn: 5.8819357\ttotal: 12.5s\tremaining: 8.68s\n",
      "590:\tlearn: 5.8813279\ttotal: 12.5s\tremaining: 8.66s\n",
      "591:\tlearn: 5.8766158\ttotal: 12.5s\tremaining: 8.64s\n",
      "592:\tlearn: 5.8744313\ttotal: 12.6s\tremaining: 8.61s\n",
      "593:\tlearn: 5.8704509\ttotal: 12.6s\tremaining: 8.6s\n",
      "594:\tlearn: 5.8636406\ttotal: 12.6s\tremaining: 8.58s\n",
      "595:\tlearn: 5.8516981\ttotal: 12.6s\tremaining: 8.56s\n",
      "596:\tlearn: 5.8502208\ttotal: 12.7s\tremaining: 8.54s\n",
      "597:\tlearn: 5.8472744\ttotal: 12.7s\tremaining: 8.52s\n",
      "598:\tlearn: 5.8440914\ttotal: 12.7s\tremaining: 8.5s\n",
      "599:\tlearn: 5.8403028\ttotal: 12.7s\tremaining: 8.47s\n",
      "600:\tlearn: 5.8397228\ttotal: 12.7s\tremaining: 8.45s\n",
      "601:\tlearn: 5.8339210\ttotal: 12.8s\tremaining: 8.43s\n",
      "602:\tlearn: 5.8306640\ttotal: 12.8s\tremaining: 8.41s\n",
      "603:\tlearn: 5.8268843\ttotal: 12.8s\tremaining: 8.39s\n",
      "604:\tlearn: 5.8231012\ttotal: 12.8s\tremaining: 8.37s\n",
      "605:\tlearn: 5.8167715\ttotal: 12.8s\tremaining: 8.35s\n",
      "606:\tlearn: 5.8120212\ttotal: 12.9s\tremaining: 8.33s\n",
      "607:\tlearn: 5.8085484\ttotal: 12.9s\tremaining: 8.3s\n",
      "608:\tlearn: 5.8016449\ttotal: 12.9s\tremaining: 8.28s\n",
      "609:\tlearn: 5.7992783\ttotal: 12.9s\tremaining: 8.26s\n",
      "610:\tlearn: 5.7857989\ttotal: 12.9s\tremaining: 8.24s\n",
      "611:\tlearn: 5.7812307\ttotal: 13s\tremaining: 8.22s\n",
      "612:\tlearn: 5.7762299\ttotal: 13s\tremaining: 8.2s\n",
      "613:\tlearn: 5.7745586\ttotal: 13s\tremaining: 8.18s\n",
      "614:\tlearn: 5.7687355\ttotal: 13s\tremaining: 8.15s\n",
      "615:\tlearn: 5.7652748\ttotal: 13s\tremaining: 8.13s\n",
      "616:\tlearn: 5.7590158\ttotal: 13.1s\tremaining: 8.11s\n",
      "617:\tlearn: 5.7545225\ttotal: 13.1s\tremaining: 8.09s\n",
      "618:\tlearn: 5.7458863\ttotal: 13.1s\tremaining: 8.06s\n",
      "619:\tlearn: 5.7438950\ttotal: 13.1s\tremaining: 8.05s\n",
      "620:\tlearn: 5.7409915\ttotal: 13.2s\tremaining: 8.03s\n",
      "621:\tlearn: 5.7354547\ttotal: 13.2s\tremaining: 8.01s\n",
      "622:\tlearn: 5.7346877\ttotal: 13.2s\tremaining: 7.98s\n",
      "623:\tlearn: 5.7302759\ttotal: 13.2s\tremaining: 7.96s\n",
      "624:\tlearn: 5.7297292\ttotal: 13.2s\tremaining: 7.94s\n",
      "625:\tlearn: 5.7289629\ttotal: 13.2s\tremaining: 7.92s\n",
      "626:\tlearn: 5.7230046\ttotal: 13.3s\tremaining: 7.89s\n",
      "627:\tlearn: 5.7167245\ttotal: 13.3s\tremaining: 7.87s\n",
      "628:\tlearn: 5.7134262\ttotal: 13.3s\tremaining: 7.85s\n",
      "629:\tlearn: 5.7076303\ttotal: 13.3s\tremaining: 7.83s\n",
      "630:\tlearn: 5.7024856\ttotal: 13.4s\tremaining: 7.81s\n",
      "631:\tlearn: 5.6992612\ttotal: 13.4s\tremaining: 7.79s\n",
      "632:\tlearn: 5.6963812\ttotal: 13.4s\tremaining: 7.77s\n",
      "633:\tlearn: 5.6952727\ttotal: 13.4s\tremaining: 7.74s\n",
      "634:\tlearn: 5.6880048\ttotal: 13.4s\tremaining: 7.72s\n",
      "635:\tlearn: 5.6820287\ttotal: 13.5s\tremaining: 7.7s\n",
      "636:\tlearn: 5.6773620\ttotal: 13.5s\tremaining: 7.68s\n",
      "637:\tlearn: 5.6758543\ttotal: 13.5s\tremaining: 7.67s\n",
      "638:\tlearn: 5.6693942\ttotal: 13.5s\tremaining: 7.65s\n",
      "639:\tlearn: 5.6673204\ttotal: 13.6s\tremaining: 7.63s\n",
      "640:\tlearn: 5.6657778\ttotal: 13.6s\tremaining: 7.61s\n",
      "641:\tlearn: 5.6599049\ttotal: 13.6s\tremaining: 7.6s\n",
      "642:\tlearn: 5.6535262\ttotal: 13.6s\tremaining: 7.58s\n",
      "643:\tlearn: 5.6494619\ttotal: 13.7s\tremaining: 7.56s\n"
     ]
    },
    {
     "name": "stdout",
     "output_type": "stream",
     "text": [
      "644:\tlearn: 5.6431999\ttotal: 13.7s\tremaining: 7.54s\n",
      "645:\tlearn: 5.6371254\ttotal: 13.7s\tremaining: 7.52s\n",
      "646:\tlearn: 5.6352083\ttotal: 13.7s\tremaining: 7.5s\n",
      "647:\tlearn: 5.6265906\ttotal: 13.8s\tremaining: 7.48s\n",
      "648:\tlearn: 5.6207113\ttotal: 13.8s\tremaining: 7.45s\n",
      "649:\tlearn: 5.6132025\ttotal: 13.8s\tremaining: 7.43s\n",
      "650:\tlearn: 5.6094808\ttotal: 13.8s\tremaining: 7.41s\n",
      "651:\tlearn: 5.6057797\ttotal: 13.9s\tremaining: 7.39s\n",
      "652:\tlearn: 5.6018160\ttotal: 13.9s\tremaining: 7.38s\n",
      "653:\tlearn: 5.5959602\ttotal: 13.9s\tremaining: 7.36s\n",
      "654:\tlearn: 5.5911185\ttotal: 13.9s\tremaining: 7.34s\n",
      "655:\tlearn: 5.5848683\ttotal: 14s\tremaining: 7.32s\n",
      "656:\tlearn: 5.5748632\ttotal: 14s\tremaining: 7.3s\n",
      "657:\tlearn: 5.5692072\ttotal: 14s\tremaining: 7.28s\n",
      "658:\tlearn: 5.5648796\ttotal: 14s\tremaining: 7.26s\n",
      "659:\tlearn: 5.5608179\ttotal: 14.1s\tremaining: 7.24s\n",
      "660:\tlearn: 5.5567244\ttotal: 14.1s\tremaining: 7.22s\n",
      "661:\tlearn: 5.5527396\ttotal: 14.1s\tremaining: 7.21s\n",
      "662:\tlearn: 5.5503884\ttotal: 14.1s\tremaining: 7.19s\n",
      "663:\tlearn: 5.5434427\ttotal: 14.2s\tremaining: 7.17s\n",
      "664:\tlearn: 5.5397613\ttotal: 14.2s\tremaining: 7.15s\n",
      "665:\tlearn: 5.5379061\ttotal: 14.2s\tremaining: 7.13s\n",
      "666:\tlearn: 5.5315995\ttotal: 14.2s\tremaining: 7.11s\n",
      "667:\tlearn: 5.5285500\ttotal: 14.3s\tremaining: 7.09s\n",
      "668:\tlearn: 5.5259693\ttotal: 14.3s\tremaining: 7.07s\n",
      "669:\tlearn: 5.5227266\ttotal: 14.3s\tremaining: 7.05s\n",
      "670:\tlearn: 5.5129587\ttotal: 14.3s\tremaining: 7.03s\n",
      "671:\tlearn: 5.5104061\ttotal: 14.4s\tremaining: 7.01s\n",
      "672:\tlearn: 5.5057470\ttotal: 14.4s\tremaining: 6.99s\n",
      "673:\tlearn: 5.5009882\ttotal: 14.4s\tremaining: 6.97s\n",
      "674:\tlearn: 5.4967483\ttotal: 14.4s\tremaining: 6.94s\n",
      "675:\tlearn: 5.4901592\ttotal: 14.4s\tremaining: 6.92s\n",
      "676:\tlearn: 5.4849959\ttotal: 14.5s\tremaining: 6.9s\n",
      "677:\tlearn: 5.4823693\ttotal: 14.5s\tremaining: 6.88s\n",
      "678:\tlearn: 5.4798153\ttotal: 14.5s\tremaining: 6.86s\n",
      "679:\tlearn: 5.4780311\ttotal: 14.5s\tremaining: 6.84s\n",
      "680:\tlearn: 5.4757989\ttotal: 14.5s\tremaining: 6.82s\n",
      "681:\tlearn: 5.4658751\ttotal: 14.6s\tremaining: 6.79s\n",
      "682:\tlearn: 5.4603729\ttotal: 14.6s\tremaining: 6.77s\n",
      "683:\tlearn: 5.4524939\ttotal: 14.6s\tremaining: 6.75s\n",
      "684:\tlearn: 5.4507088\ttotal: 14.6s\tremaining: 6.73s\n",
      "685:\tlearn: 5.4474054\ttotal: 14.7s\tremaining: 6.71s\n",
      "686:\tlearn: 5.4424076\ttotal: 14.7s\tremaining: 6.69s\n",
      "687:\tlearn: 5.4393987\ttotal: 14.7s\tremaining: 6.66s\n",
      "688:\tlearn: 5.4366384\ttotal: 14.7s\tremaining: 6.64s\n",
      "689:\tlearn: 5.4304234\ttotal: 14.7s\tremaining: 6.62s\n",
      "690:\tlearn: 5.4240663\ttotal: 14.8s\tremaining: 6.6s\n",
      "691:\tlearn: 5.4224144\ttotal: 14.8s\tremaining: 6.58s\n",
      "692:\tlearn: 5.4203031\ttotal: 14.8s\tremaining: 6.55s\n",
      "693:\tlearn: 5.4167130\ttotal: 14.8s\tremaining: 6.54s\n",
      "694:\tlearn: 5.4078756\ttotal: 14.8s\tremaining: 6.51s\n",
      "695:\tlearn: 5.4029169\ttotal: 14.9s\tremaining: 6.49s\n",
      "696:\tlearn: 5.3988898\ttotal: 14.9s\tremaining: 6.47s\n",
      "697:\tlearn: 5.3885421\ttotal: 14.9s\tremaining: 6.45s\n",
      "698:\tlearn: 5.3870181\ttotal: 14.9s\tremaining: 6.42s\n",
      "699:\tlearn: 5.3855928\ttotal: 14.9s\tremaining: 6.4s\n",
      "700:\tlearn: 5.3816998\ttotal: 15s\tremaining: 6.38s\n",
      "701:\tlearn: 5.3751343\ttotal: 15s\tremaining: 6.36s\n",
      "702:\tlearn: 5.3684059\ttotal: 15s\tremaining: 6.34s\n",
      "703:\tlearn: 5.3635238\ttotal: 15s\tremaining: 6.32s\n",
      "704:\tlearn: 5.3604556\ttotal: 15s\tremaining: 6.3s\n",
      "705:\tlearn: 5.3570997\ttotal: 15.1s\tremaining: 6.27s\n",
      "706:\tlearn: 5.3509835\ttotal: 15.1s\tremaining: 6.25s\n",
      "707:\tlearn: 5.3435389\ttotal: 15.1s\tremaining: 6.23s\n",
      "708:\tlearn: 5.3404641\ttotal: 15.1s\tremaining: 6.21s\n",
      "709:\tlearn: 5.3355321\ttotal: 15.2s\tremaining: 6.19s\n",
      "710:\tlearn: 5.3310849\ttotal: 15.2s\tremaining: 6.17s\n",
      "711:\tlearn: 5.3267998\ttotal: 15.2s\tremaining: 6.15s\n",
      "712:\tlearn: 5.3206704\ttotal: 15.2s\tremaining: 6.13s\n",
      "713:\tlearn: 5.3136126\ttotal: 15.2s\tremaining: 6.11s\n",
      "714:\tlearn: 5.3019687\ttotal: 15.3s\tremaining: 6.08s\n",
      "715:\tlearn: 5.2985012\ttotal: 15.3s\tremaining: 6.06s\n",
      "716:\tlearn: 5.2939190\ttotal: 15.3s\tremaining: 6.04s\n",
      "717:\tlearn: 5.2844547\ttotal: 15.3s\tremaining: 6.02s\n",
      "718:\tlearn: 5.2816920\ttotal: 15.3s\tremaining: 6s\n",
      "719:\tlearn: 5.2781413\ttotal: 15.4s\tremaining: 5.98s\n",
      "720:\tlearn: 5.2775842\ttotal: 15.4s\tremaining: 5.96s\n",
      "721:\tlearn: 5.2746062\ttotal: 15.4s\tremaining: 5.94s\n",
      "722:\tlearn: 5.2685707\ttotal: 15.4s\tremaining: 5.91s\n",
      "723:\tlearn: 5.2666621\ttotal: 15.5s\tremaining: 5.89s\n",
      "724:\tlearn: 5.2625809\ttotal: 15.5s\tremaining: 5.87s\n",
      "725:\tlearn: 5.2568655\ttotal: 15.5s\tremaining: 5.85s\n",
      "726:\tlearn: 5.2536533\ttotal: 15.5s\tremaining: 5.83s\n",
      "727:\tlearn: 5.2502979\ttotal: 15.5s\tremaining: 5.81s\n",
      "728:\tlearn: 5.2441695\ttotal: 15.6s\tremaining: 5.79s\n",
      "729:\tlearn: 5.2408317\ttotal: 15.6s\tremaining: 5.77s\n",
      "730:\tlearn: 5.2332209\ttotal: 15.6s\tremaining: 5.74s\n",
      "731:\tlearn: 5.2310895\ttotal: 15.6s\tremaining: 5.72s\n",
      "732:\tlearn: 5.2269395\ttotal: 15.6s\tremaining: 5.7s\n",
      "733:\tlearn: 5.2233031\ttotal: 15.7s\tremaining: 5.68s\n",
      "734:\tlearn: 5.2226517\ttotal: 15.7s\tremaining: 5.66s\n",
      "735:\tlearn: 5.2212920\ttotal: 15.7s\tremaining: 5.63s\n",
      "736:\tlearn: 5.2121432\ttotal: 15.7s\tremaining: 5.61s\n",
      "737:\tlearn: 5.2071669\ttotal: 15.8s\tremaining: 5.59s\n",
      "738:\tlearn: 5.2047383\ttotal: 15.8s\tremaining: 5.57s\n",
      "739:\tlearn: 5.2028066\ttotal: 15.8s\tremaining: 5.55s\n",
      "740:\tlearn: 5.2007958\ttotal: 15.8s\tremaining: 5.53s\n",
      "741:\tlearn: 5.1936611\ttotal: 15.8s\tremaining: 5.51s\n",
      "742:\tlearn: 5.1903256\ttotal: 15.9s\tremaining: 5.49s\n",
      "743:\tlearn: 5.1857750\ttotal: 15.9s\tremaining: 5.46s\n",
      "744:\tlearn: 5.1819129\ttotal: 15.9s\tremaining: 5.44s\n",
      "745:\tlearn: 5.1793486\ttotal: 15.9s\tremaining: 5.42s\n",
      "746:\tlearn: 5.1775830\ttotal: 15.9s\tremaining: 5.4s\n",
      "747:\tlearn: 5.1769396\ttotal: 16s\tremaining: 5.38s\n",
      "748:\tlearn: 5.1751113\ttotal: 16s\tremaining: 5.36s\n",
      "749:\tlearn: 5.1719577\ttotal: 16s\tremaining: 5.34s\n",
      "750:\tlearn: 5.1685690\ttotal: 16s\tremaining: 5.31s\n",
      "751:\tlearn: 5.1611603\ttotal: 16s\tremaining: 5.29s\n",
      "752:\tlearn: 5.1559524\ttotal: 16.1s\tremaining: 5.27s\n",
      "753:\tlearn: 5.1525442\ttotal: 16.1s\tremaining: 5.25s\n",
      "754:\tlearn: 5.1489601\ttotal: 16.1s\tremaining: 5.23s\n",
      "755:\tlearn: 5.1470054\ttotal: 16.1s\tremaining: 5.21s\n",
      "756:\tlearn: 5.1402794\ttotal: 16.2s\tremaining: 5.19s\n",
      "757:\tlearn: 5.1356583\ttotal: 16.2s\tremaining: 5.16s\n",
      "758:\tlearn: 5.1297815\ttotal: 16.2s\tremaining: 5.14s\n",
      "759:\tlearn: 5.1280554\ttotal: 16.2s\tremaining: 5.12s\n",
      "760:\tlearn: 5.1205392\ttotal: 16.2s\tremaining: 5.1s\n",
      "761:\tlearn: 5.1162212\ttotal: 16.3s\tremaining: 5.08s\n",
      "762:\tlearn: 5.1147126\ttotal: 16.3s\tremaining: 5.06s\n",
      "763:\tlearn: 5.1057175\ttotal: 16.3s\tremaining: 5.03s\n",
      "764:\tlearn: 5.1002206\ttotal: 16.3s\tremaining: 5.01s\n",
      "765:\tlearn: 5.0945078\ttotal: 16.3s\tremaining: 4.99s\n",
      "766:\tlearn: 5.0906302\ttotal: 16.4s\tremaining: 4.97s\n",
      "767:\tlearn: 5.0857099\ttotal: 16.4s\tremaining: 4.95s\n",
      "768:\tlearn: 5.0794383\ttotal: 16.4s\tremaining: 4.93s\n",
      "769:\tlearn: 5.0758797\ttotal: 16.4s\tremaining: 4.91s\n",
      "770:\tlearn: 5.0721893\ttotal: 16.4s\tremaining: 4.88s\n",
      "771:\tlearn: 5.0708153\ttotal: 16.5s\tremaining: 4.86s\n",
      "772:\tlearn: 5.0677382\ttotal: 16.5s\tremaining: 4.84s\n",
      "773:\tlearn: 5.0651182\ttotal: 16.5s\tremaining: 4.82s\n",
      "774:\tlearn: 5.0628226\ttotal: 16.5s\tremaining: 4.8s\n",
      "775:\tlearn: 5.0582275\ttotal: 16.6s\tremaining: 4.78s\n",
      "776:\tlearn: 5.0577248\ttotal: 16.6s\tremaining: 4.76s\n",
      "777:\tlearn: 5.0495487\ttotal: 16.6s\tremaining: 4.74s\n",
      "778:\tlearn: 5.0474418\ttotal: 16.6s\tremaining: 4.71s\n",
      "779:\tlearn: 5.0406269\ttotal: 16.6s\tremaining: 4.69s\n",
      "780:\tlearn: 5.0375575\ttotal: 16.7s\tremaining: 4.67s\n",
      "781:\tlearn: 5.0272321\ttotal: 16.7s\tremaining: 4.66s\n",
      "782:\tlearn: 5.0218215\ttotal: 16.7s\tremaining: 4.63s\n",
      "783:\tlearn: 5.0198978\ttotal: 16.7s\tremaining: 4.61s\n",
      "784:\tlearn: 5.0134197\ttotal: 16.8s\tremaining: 4.59s\n",
      "785:\tlearn: 5.0117613\ttotal: 16.8s\tremaining: 4.57s\n",
      "786:\tlearn: 5.0101090\ttotal: 16.8s\tremaining: 4.55s\n",
      "787:\tlearn: 5.0067772\ttotal: 16.8s\tremaining: 4.53s\n",
      "788:\tlearn: 5.0015432\ttotal: 16.9s\tremaining: 4.51s\n",
      "789:\tlearn: 4.9972385\ttotal: 16.9s\tremaining: 4.49s\n",
      "790:\tlearn: 4.9930665\ttotal: 16.9s\tremaining: 4.47s\n",
      "791:\tlearn: 4.9900312\ttotal: 17s\tremaining: 4.45s\n",
      "792:\tlearn: 4.9854819\ttotal: 17s\tremaining: 4.43s\n",
      "793:\tlearn: 4.9830919\ttotal: 17s\tremaining: 4.41s\n",
      "794:\tlearn: 4.9823606\ttotal: 17s\tremaining: 4.39s\n",
      "795:\tlearn: 4.9756662\ttotal: 17.1s\tremaining: 4.37s\n",
      "796:\tlearn: 4.9646130\ttotal: 17.1s\tremaining: 4.35s\n",
      "797:\tlearn: 4.9618714\ttotal: 17.1s\tremaining: 4.33s\n",
      "798:\tlearn: 4.9580393\ttotal: 17.1s\tremaining: 4.31s\n",
      "799:\tlearn: 4.9532124\ttotal: 17.1s\tremaining: 4.29s\n",
      "800:\tlearn: 4.9499030\ttotal: 17.2s\tremaining: 4.26s\n",
      "801:\tlearn: 4.9484039\ttotal: 17.2s\tremaining: 4.24s\n",
      "802:\tlearn: 4.9455082\ttotal: 17.2s\tremaining: 4.22s\n",
      "803:\tlearn: 4.9427191\ttotal: 17.2s\tremaining: 4.2s\n"
     ]
    },
    {
     "name": "stdout",
     "output_type": "stream",
     "text": [
      "804:\tlearn: 4.9376941\ttotal: 17.2s\tremaining: 4.18s\n",
      "805:\tlearn: 4.9344691\ttotal: 17.3s\tremaining: 4.16s\n",
      "806:\tlearn: 4.9306292\ttotal: 17.3s\tremaining: 4.14s\n",
      "807:\tlearn: 4.9268382\ttotal: 17.3s\tremaining: 4.11s\n",
      "808:\tlearn: 4.9245256\ttotal: 17.3s\tremaining: 4.09s\n",
      "809:\tlearn: 4.9215074\ttotal: 17.4s\tremaining: 4.07s\n",
      "810:\tlearn: 4.9152313\ttotal: 17.4s\tremaining: 4.05s\n",
      "811:\tlearn: 4.9146561\ttotal: 17.4s\tremaining: 4.03s\n",
      "812:\tlearn: 4.9116515\ttotal: 17.4s\tremaining: 4s\n",
      "813:\tlearn: 4.9052686\ttotal: 17.4s\tremaining: 3.98s\n",
      "814:\tlearn: 4.9014525\ttotal: 17.5s\tremaining: 3.96s\n",
      "815:\tlearn: 4.8975092\ttotal: 17.5s\tremaining: 3.94s\n",
      "816:\tlearn: 4.8939886\ttotal: 17.5s\tremaining: 3.92s\n",
      "817:\tlearn: 4.8904782\ttotal: 17.5s\tremaining: 3.9s\n",
      "818:\tlearn: 4.8871701\ttotal: 17.5s\tremaining: 3.88s\n",
      "819:\tlearn: 4.8834387\ttotal: 17.6s\tremaining: 3.85s\n",
      "820:\tlearn: 4.8817367\ttotal: 17.6s\tremaining: 3.83s\n",
      "821:\tlearn: 4.8803539\ttotal: 17.6s\tremaining: 3.81s\n",
      "822:\tlearn: 4.8752116\ttotal: 17.6s\tremaining: 3.79s\n",
      "823:\tlearn: 4.8730131\ttotal: 17.7s\tremaining: 3.77s\n",
      "824:\tlearn: 4.8706595\ttotal: 17.7s\tremaining: 3.75s\n",
      "825:\tlearn: 4.8610990\ttotal: 17.7s\tremaining: 3.73s\n",
      "826:\tlearn: 4.8572350\ttotal: 17.7s\tremaining: 3.71s\n",
      "827:\tlearn: 4.8529267\ttotal: 17.7s\tremaining: 3.68s\n",
      "828:\tlearn: 4.8510403\ttotal: 17.8s\tremaining: 3.66s\n",
      "829:\tlearn: 4.8443027\ttotal: 17.8s\tremaining: 3.64s\n",
      "830:\tlearn: 4.8400517\ttotal: 17.8s\tremaining: 3.62s\n",
      "831:\tlearn: 4.8348656\ttotal: 17.8s\tremaining: 3.6s\n",
      "832:\tlearn: 4.8283869\ttotal: 17.8s\tremaining: 3.58s\n",
      "833:\tlearn: 4.8232762\ttotal: 17.9s\tremaining: 3.56s\n",
      "834:\tlearn: 4.8196123\ttotal: 17.9s\tremaining: 3.53s\n",
      "835:\tlearn: 4.8120360\ttotal: 17.9s\tremaining: 3.51s\n",
      "836:\tlearn: 4.8042556\ttotal: 17.9s\tremaining: 3.49s\n",
      "837:\tlearn: 4.8021729\ttotal: 17.9s\tremaining: 3.47s\n",
      "838:\tlearn: 4.7993541\ttotal: 18s\tremaining: 3.45s\n",
      "839:\tlearn: 4.7973832\ttotal: 18s\tremaining: 3.42s\n",
      "840:\tlearn: 4.7962052\ttotal: 18s\tremaining: 3.4s\n",
      "841:\tlearn: 4.7903298\ttotal: 18s\tremaining: 3.38s\n",
      "842:\tlearn: 4.7841310\ttotal: 18.1s\tremaining: 3.36s\n",
      "843:\tlearn: 4.7835865\ttotal: 18.1s\tremaining: 3.34s\n",
      "844:\tlearn: 4.7791023\ttotal: 18.1s\tremaining: 3.32s\n",
      "845:\tlearn: 4.7774400\ttotal: 18.1s\tremaining: 3.3s\n",
      "846:\tlearn: 4.7758223\ttotal: 18.1s\tremaining: 3.28s\n",
      "847:\tlearn: 4.7696323\ttotal: 18.2s\tremaining: 3.25s\n",
      "848:\tlearn: 4.7665731\ttotal: 18.2s\tremaining: 3.23s\n",
      "849:\tlearn: 4.7613762\ttotal: 18.2s\tremaining: 3.21s\n",
      "850:\tlearn: 4.7595254\ttotal: 18.2s\tremaining: 3.19s\n",
      "851:\tlearn: 4.7550304\ttotal: 18.3s\tremaining: 3.17s\n",
      "852:\tlearn: 4.7515587\ttotal: 18.3s\tremaining: 3.15s\n",
      "853:\tlearn: 4.7468286\ttotal: 18.3s\tremaining: 3.13s\n",
      "854:\tlearn: 4.7440866\ttotal: 18.3s\tremaining: 3.1s\n",
      "855:\tlearn: 4.7417295\ttotal: 18.3s\tremaining: 3.08s\n",
      "856:\tlearn: 4.7404272\ttotal: 18.3s\tremaining: 3.06s\n",
      "857:\tlearn: 4.7383833\ttotal: 18.4s\tremaining: 3.04s\n",
      "858:\tlearn: 4.7357848\ttotal: 18.4s\tremaining: 3.02s\n",
      "859:\tlearn: 4.7264217\ttotal: 18.4s\tremaining: 3s\n",
      "860:\tlearn: 4.7253836\ttotal: 18.4s\tremaining: 2.98s\n",
      "861:\tlearn: 4.7232544\ttotal: 18.5s\tremaining: 2.95s\n",
      "862:\tlearn: 4.7202521\ttotal: 18.5s\tremaining: 2.93s\n",
      "863:\tlearn: 4.7174945\ttotal: 18.5s\tremaining: 2.91s\n",
      "864:\tlearn: 4.7149179\ttotal: 18.5s\tremaining: 2.89s\n",
      "865:\tlearn: 4.7130214\ttotal: 18.5s\tremaining: 2.87s\n",
      "866:\tlearn: 4.7113172\ttotal: 18.6s\tremaining: 2.85s\n",
      "867:\tlearn: 4.7102283\ttotal: 18.6s\tremaining: 2.83s\n",
      "868:\tlearn: 4.7077293\ttotal: 18.6s\tremaining: 2.8s\n",
      "869:\tlearn: 4.7058862\ttotal: 18.6s\tremaining: 2.78s\n",
      "870:\tlearn: 4.7026163\ttotal: 18.6s\tremaining: 2.76s\n",
      "871:\tlearn: 4.7014315\ttotal: 18.7s\tremaining: 2.74s\n",
      "872:\tlearn: 4.6971143\ttotal: 18.7s\tremaining: 2.72s\n",
      "873:\tlearn: 4.6935390\ttotal: 18.7s\tremaining: 2.7s\n",
      "874:\tlearn: 4.6917085\ttotal: 18.7s\tremaining: 2.67s\n",
      "875:\tlearn: 4.6900161\ttotal: 18.8s\tremaining: 2.65s\n",
      "876:\tlearn: 4.6820057\ttotal: 18.8s\tremaining: 2.63s\n",
      "877:\tlearn: 4.6771938\ttotal: 18.8s\tremaining: 2.61s\n",
      "878:\tlearn: 4.6755580\ttotal: 18.8s\tremaining: 2.59s\n",
      "879:\tlearn: 4.6704078\ttotal: 18.8s\tremaining: 2.57s\n",
      "880:\tlearn: 4.6671556\ttotal: 18.9s\tremaining: 2.55s\n",
      "881:\tlearn: 4.6635449\ttotal: 18.9s\tremaining: 2.52s\n",
      "882:\tlearn: 4.6609200\ttotal: 18.9s\tremaining: 2.5s\n",
      "883:\tlearn: 4.6532626\ttotal: 18.9s\tremaining: 2.48s\n",
      "884:\tlearn: 4.6459527\ttotal: 18.9s\tremaining: 2.46s\n",
      "885:\tlearn: 4.6435388\ttotal: 19s\tremaining: 2.44s\n",
      "886:\tlearn: 4.6415697\ttotal: 19s\tremaining: 2.42s\n",
      "887:\tlearn: 4.6363721\ttotal: 19s\tremaining: 2.4s\n",
      "888:\tlearn: 4.6335532\ttotal: 19s\tremaining: 2.38s\n",
      "889:\tlearn: 4.6310774\ttotal: 19s\tremaining: 2.35s\n",
      "890:\tlearn: 4.6297447\ttotal: 19.1s\tremaining: 2.33s\n",
      "891:\tlearn: 4.6265481\ttotal: 19.1s\tremaining: 2.31s\n",
      "892:\tlearn: 4.6262508\ttotal: 19.1s\tremaining: 2.29s\n",
      "893:\tlearn: 4.6198358\ttotal: 19.1s\tremaining: 2.27s\n",
      "894:\tlearn: 4.6161554\ttotal: 19.2s\tremaining: 2.25s\n",
      "895:\tlearn: 4.6158459\ttotal: 19.2s\tremaining: 2.23s\n",
      "896:\tlearn: 4.6137231\ttotal: 19.2s\tremaining: 2.2s\n",
      "897:\tlearn: 4.6117739\ttotal: 19.2s\tremaining: 2.18s\n",
      "898:\tlearn: 4.6051579\ttotal: 19.2s\tremaining: 2.16s\n",
      "899:\tlearn: 4.6022905\ttotal: 19.3s\tremaining: 2.14s\n",
      "900:\tlearn: 4.5938753\ttotal: 19.3s\tremaining: 2.12s\n",
      "901:\tlearn: 4.5897152\ttotal: 19.3s\tremaining: 2.1s\n",
      "902:\tlearn: 4.5871574\ttotal: 19.3s\tremaining: 2.08s\n",
      "903:\tlearn: 4.5852358\ttotal: 19.3s\tremaining: 2.05s\n",
      "904:\tlearn: 4.5815461\ttotal: 19.4s\tremaining: 2.03s\n",
      "905:\tlearn: 4.5787017\ttotal: 19.4s\tremaining: 2.01s\n",
      "906:\tlearn: 4.5763352\ttotal: 19.4s\tremaining: 1.99s\n",
      "907:\tlearn: 4.5746130\ttotal: 19.4s\tremaining: 1.97s\n",
      "908:\tlearn: 4.5703953\ttotal: 19.4s\tremaining: 1.95s\n",
      "909:\tlearn: 4.5655292\ttotal: 19.5s\tremaining: 1.92s\n",
      "910:\tlearn: 4.5631802\ttotal: 19.5s\tremaining: 1.9s\n",
      "911:\tlearn: 4.5594845\ttotal: 19.5s\tremaining: 1.88s\n",
      "912:\tlearn: 4.5581907\ttotal: 19.5s\tremaining: 1.86s\n",
      "913:\tlearn: 4.5530842\ttotal: 19.6s\tremaining: 1.84s\n",
      "914:\tlearn: 4.5511745\ttotal: 19.6s\tremaining: 1.82s\n",
      "915:\tlearn: 4.5496099\ttotal: 19.6s\tremaining: 1.8s\n",
      "916:\tlearn: 4.5476725\ttotal: 19.6s\tremaining: 1.77s\n",
      "917:\tlearn: 4.5445918\ttotal: 19.6s\tremaining: 1.75s\n",
      "918:\tlearn: 4.5406916\ttotal: 19.6s\tremaining: 1.73s\n",
      "919:\tlearn: 4.5389846\ttotal: 19.7s\tremaining: 1.71s\n",
      "920:\tlearn: 4.5364307\ttotal: 19.7s\tremaining: 1.69s\n",
      "921:\tlearn: 4.5319118\ttotal: 19.7s\tremaining: 1.67s\n",
      "922:\tlearn: 4.5278384\ttotal: 19.7s\tremaining: 1.65s\n",
      "923:\tlearn: 4.5253713\ttotal: 19.8s\tremaining: 1.62s\n",
      "924:\tlearn: 4.5187835\ttotal: 19.8s\tremaining: 1.6s\n",
      "925:\tlearn: 4.5140664\ttotal: 19.8s\tremaining: 1.58s\n",
      "926:\tlearn: 4.5095323\ttotal: 19.8s\tremaining: 1.56s\n",
      "927:\tlearn: 4.5079527\ttotal: 19.8s\tremaining: 1.54s\n",
      "928:\tlearn: 4.5048566\ttotal: 19.9s\tremaining: 1.52s\n",
      "929:\tlearn: 4.5038438\ttotal: 19.9s\tremaining: 1.5s\n",
      "930:\tlearn: 4.4988075\ttotal: 19.9s\tremaining: 1.48s\n",
      "931:\tlearn: 4.4925042\ttotal: 19.9s\tremaining: 1.45s\n",
      "932:\tlearn: 4.4872523\ttotal: 19.9s\tremaining: 1.43s\n",
      "933:\tlearn: 4.4870295\ttotal: 20s\tremaining: 1.41s\n",
      "934:\tlearn: 4.4837363\ttotal: 20s\tremaining: 1.39s\n",
      "935:\tlearn: 4.4780860\ttotal: 20s\tremaining: 1.37s\n",
      "936:\tlearn: 4.4757249\ttotal: 20s\tremaining: 1.35s\n",
      "937:\tlearn: 4.4718484\ttotal: 20s\tremaining: 1.32s\n",
      "938:\tlearn: 4.4693611\ttotal: 20.1s\tremaining: 1.3s\n",
      "939:\tlearn: 4.4656328\ttotal: 20.1s\tremaining: 1.28s\n",
      "940:\tlearn: 4.4638010\ttotal: 20.1s\tremaining: 1.26s\n",
      "941:\tlearn: 4.4625522\ttotal: 20.1s\tremaining: 1.24s\n",
      "942:\tlearn: 4.4589972\ttotal: 20.1s\tremaining: 1.22s\n",
      "943:\tlearn: 4.4530243\ttotal: 20.2s\tremaining: 1.2s\n",
      "944:\tlearn: 4.4507749\ttotal: 20.2s\tremaining: 1.18s\n",
      "945:\tlearn: 4.4466973\ttotal: 20.2s\tremaining: 1.15s\n",
      "946:\tlearn: 4.4419600\ttotal: 20.2s\tremaining: 1.13s\n",
      "947:\tlearn: 4.4372429\ttotal: 20.3s\tremaining: 1.11s\n",
      "948:\tlearn: 4.4360495\ttotal: 20.3s\tremaining: 1.09s\n",
      "949:\tlearn: 4.4325482\ttotal: 20.3s\tremaining: 1.07s\n",
      "950:\tlearn: 4.4306088\ttotal: 20.3s\tremaining: 1.05s\n",
      "951:\tlearn: 4.4283397\ttotal: 20.3s\tremaining: 1.02s\n",
      "952:\tlearn: 4.4249228\ttotal: 20.4s\tremaining: 1s\n",
      "953:\tlearn: 4.4207568\ttotal: 20.4s\tremaining: 983ms\n",
      "954:\tlearn: 4.4157037\ttotal: 20.4s\tremaining: 961ms\n",
      "955:\tlearn: 4.4124075\ttotal: 20.4s\tremaining: 940ms\n",
      "956:\tlearn: 4.4080548\ttotal: 20.4s\tremaining: 919ms\n",
      "957:\tlearn: 4.4065524\ttotal: 20.5s\tremaining: 897ms\n",
      "958:\tlearn: 4.4055624\ttotal: 20.5s\tremaining: 876ms\n",
      "959:\tlearn: 4.4035932\ttotal: 20.5s\tremaining: 854ms\n",
      "960:\tlearn: 4.4015934\ttotal: 20.5s\tremaining: 833ms\n",
      "961:\tlearn: 4.3984186\ttotal: 20.5s\tremaining: 812ms\n",
      "962:\tlearn: 4.3950766\ttotal: 20.6s\tremaining: 790ms\n",
      "963:\tlearn: 4.3934517\ttotal: 20.6s\tremaining: 769ms\n"
     ]
    },
    {
     "name": "stdout",
     "output_type": "stream",
     "text": [
      "964:\tlearn: 4.3898171\ttotal: 20.6s\tremaining: 747ms\n",
      "965:\tlearn: 4.3872632\ttotal: 20.6s\tremaining: 726ms\n",
      "966:\tlearn: 4.3847216\ttotal: 20.7s\tremaining: 705ms\n",
      "967:\tlearn: 4.3833095\ttotal: 20.7s\tremaining: 683ms\n",
      "968:\tlearn: 4.3823821\ttotal: 20.7s\tremaining: 662ms\n",
      "969:\tlearn: 4.3808194\ttotal: 20.7s\tremaining: 640ms\n",
      "970:\tlearn: 4.3754572\ttotal: 20.7s\tremaining: 619ms\n",
      "971:\tlearn: 4.3744408\ttotal: 20.7s\tremaining: 598ms\n",
      "972:\tlearn: 4.3683580\ttotal: 20.8s\tremaining: 576ms\n",
      "973:\tlearn: 4.3660022\ttotal: 20.8s\tremaining: 555ms\n",
      "974:\tlearn: 4.3605831\ttotal: 20.8s\tremaining: 534ms\n",
      "975:\tlearn: 4.3581161\ttotal: 20.8s\tremaining: 513ms\n",
      "976:\tlearn: 4.3560846\ttotal: 20.9s\tremaining: 491ms\n",
      "977:\tlearn: 4.3517447\ttotal: 20.9s\tremaining: 470ms\n",
      "978:\tlearn: 4.3485196\ttotal: 20.9s\tremaining: 448ms\n",
      "979:\tlearn: 4.3459797\ttotal: 20.9s\tremaining: 427ms\n",
      "980:\tlearn: 4.3437288\ttotal: 20.9s\tremaining: 406ms\n",
      "981:\tlearn: 4.3371805\ttotal: 21s\tremaining: 384ms\n",
      "982:\tlearn: 4.3324236\ttotal: 21s\tremaining: 363ms\n",
      "983:\tlearn: 4.3312250\ttotal: 21s\tremaining: 342ms\n",
      "984:\tlearn: 4.3288818\ttotal: 21s\tremaining: 320ms\n",
      "985:\tlearn: 4.3231268\ttotal: 21s\tremaining: 299ms\n",
      "986:\tlearn: 4.3184779\ttotal: 21.1s\tremaining: 277ms\n",
      "987:\tlearn: 4.3133188\ttotal: 21.1s\tremaining: 256ms\n",
      "988:\tlearn: 4.3114417\ttotal: 21.1s\tremaining: 235ms\n",
      "989:\tlearn: 4.3091621\ttotal: 21.1s\tremaining: 213ms\n",
      "990:\tlearn: 4.3055205\ttotal: 21.1s\tremaining: 192ms\n",
      "991:\tlearn: 4.2963888\ttotal: 21.2s\tremaining: 171ms\n",
      "992:\tlearn: 4.2924428\ttotal: 21.2s\tremaining: 149ms\n",
      "993:\tlearn: 4.2905314\ttotal: 21.2s\tremaining: 128ms\n",
      "994:\tlearn: 4.2862515\ttotal: 21.2s\tremaining: 107ms\n",
      "995:\tlearn: 4.2858418\ttotal: 21.2s\tremaining: 85.3ms\n",
      "996:\tlearn: 4.2842195\ttotal: 21.3s\tremaining: 64ms\n",
      "997:\tlearn: 4.2815045\ttotal: 21.3s\tremaining: 42.7ms\n",
      "998:\tlearn: 4.2798175\ttotal: 21.3s\tremaining: 21.3ms\n",
      "999:\tlearn: 4.2767977\ttotal: 21.3s\tremaining: 0us\n"
     ]
    }
   ],
   "source": [
    "catb = CatBoostRegressor()\n",
    "catb_model = catb.fit(X_train, y_train)"
   ]
  },
  {
   "cell_type": "markdown",
   "metadata": {},
   "source": [
    "# Tahmin-CatBoost"
   ]
  },
  {
   "cell_type": "code",
   "execution_count": 8,
   "metadata": {},
   "outputs": [
    {
     "data": {
      "text/plain": [
       "9.485395781479296"
      ]
     },
     "execution_count": 8,
     "metadata": {},
     "output_type": "execute_result"
    }
   ],
   "source": [
    "y_pred = catb_model.predict(X_test)\n",
    "np.sqrt(mean_squared_error(y_test, y_pred))"
   ]
  },
  {
   "cell_type": "markdown",
   "metadata": {},
   "source": [
    "# Model Tuning-CatBoost"
   ]
  },
  {
   "cell_type": "code",
   "execution_count": 9,
   "metadata": {},
   "outputs": [],
   "source": [
    "catb_grid = {\n",
    "    'iterations': [200,500,1000,2000],\n",
    "    'learning_rate': [0.01, 0.03, 0.05, 0.1],\n",
    "    'depth': [3,4,5,6,7,8] }"
   ]
  },
  {
   "cell_type": "code",
   "execution_count": 10,
   "metadata": {},
   "outputs": [],
   "source": [
    "catb = CatBoostRegressor()\n",
    "catb_cv_model = GridSearchCV(catb, catb_grid, cv=5, n_jobs = -1, verbose = 2)"
   ]
  },
  {
   "cell_type": "code",
   "execution_count": null,
   "metadata": {},
   "outputs": [
    {
     "name": "stdout",
     "output_type": "stream",
     "text": [
      "Fitting 5 folds for each of 96 candidates, totalling 480 fits\n"
     ]
    },
    {
     "name": "stderr",
     "output_type": "stream",
     "text": [
      "[Parallel(n_jobs=-1)]: Using backend LokyBackend with 4 concurrent workers.\n",
      "[Parallel(n_jobs=-1)]: Done  33 tasks      | elapsed:  1.1min\n"
     ]
    }
   ],
   "source": [
    "catb_cv_model.fit(X_train, y_train)"
   ]
  },
  {
   "cell_type": "code",
   "execution_count": null,
   "metadata": {},
   "outputs": [],
   "source": [
    "catb_cv_model.best_params_"
   ]
  },
  {
   "cell_type": "code",
   "execution_count": null,
   "metadata": {},
   "outputs": [],
   "source": [
    "catb_tuned = CatBoostRegressor(iterations = 200, \n",
    "                               learning_rate = 0.01, \n",
    "                               depth = 8)\n",
    "\n",
    "catb_tuned = catb_tuned.fit(X_train,y_train)"
   ]
  },
  {
   "cell_type": "code",
   "execution_count": null,
   "metadata": {},
   "outputs": [],
   "source": [
    "y_pred = catb_tuned.predict(X_test)\n",
    "np.sqrt(mean_squared_error(y_test, y_pred))"
   ]
  },
  {
   "cell_type": "code",
   "execution_count": null,
   "metadata": {},
   "outputs": [],
   "source": []
  }
 ],
 "metadata": {
  "kernelspec": {
   "display_name": "Python 3",
   "language": "python",
   "name": "python3"
  },
  "language_info": {
   "codemirror_mode": {
    "name": "ipython",
    "version": 3
   },
   "file_extension": ".py",
   "mimetype": "text/x-python",
   "name": "python",
   "nbconvert_exporter": "python",
   "pygments_lexer": "ipython3",
   "version": "3.7.6"
  }
 },
 "nbformat": 4,
 "nbformat_minor": 4
}
