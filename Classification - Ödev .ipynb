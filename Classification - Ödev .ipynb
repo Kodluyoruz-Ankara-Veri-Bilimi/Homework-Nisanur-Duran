{
 "cells": [
  {
   "cell_type": "markdown",
   "metadata": {},
   "source": [
    "# Sınıflandırma"
   ]
  },
  {
   "cell_type": "code",
   "execution_count": 1,
   "metadata": {},
   "outputs": [],
   "source": [
    "import numpy as np\n",
    "import pandas as pd \n",
    "import statsmodels.api as sm\n",
    "import statsmodels.formula.api as smf\n",
    "import seaborn as sns\n",
    "from sklearn.preprocessing import scale \n",
    "from sklearn.model_selection import train_test_split, GridSearchCV, cross_val_score\n",
    "from sklearn.metrics import confusion_matrix, accuracy_score, classification_report\n",
    "from sklearn.metrics import roc_auc_score,roc_curve\n",
    "import statsmodels.formula.api as smf\n",
    "import matplotlib.pyplot as plt\n",
    "from sklearn.neighbors import KNeighborsClassifier\n",
    "from sklearn.discriminant_analysis import LinearDiscriminantAnalysis\n",
    "from sklearn.linear_model import LogisticRegression\n",
    "from sklearn.svm import SVC\n",
    "from sklearn.naive_bayes import GaussianNB\n",
    "from sklearn import tree\n",
    "from sklearn.ensemble import RandomForestClassifier\n",
    "from sklearn.ensemble import GradientBoostingClassifier\n",
    "from xgboost import XGBClassifier\n",
    "from lightgbm import LGBMClassifier\n",
    "from catboost import CatBoostClassifier\n",
    "\n",
    "from warnings import filterwarnings\n",
    "filterwarnings('ignore')"
   ]
  },
  {
   "cell_type": "markdown",
   "metadata": {},
   "source": [
    "# Lojistik Regresyon"
   ]
  },
  {
   "cell_type": "markdown",
   "metadata": {},
   "source": [
    "^^Amacımız sınıflandırma problemleri için bağımlı ve bağımsız değişkenler arasındaki ilişkiyi tanımlayan doğrusal bir model kurmaktır."
   ]
  },
  {
   "cell_type": "markdown",
   "metadata": {},
   "source": [
    "^^ Bağımlı değişken kategoriktir.\n",
    "\n",
    "^^Adını bağımlı değişkene uygulanan logit değişkenden alır.\n",
    "\n",
    "^^Doğrusal regresyonda aranan varsayımlar burada aranmaz daha esnektir.\n",
    "\n",
    "^^Üretilen değerler 0-1 arasında olur."
   ]
  },
  {
   "cell_type": "markdown",
   "metadata": {},
   "source": [
    "# Model"
   ]
  },
  {
   "cell_type": "code",
   "execution_count": 2,
   "metadata": {},
   "outputs": [
    {
     "data": {
      "text/html": [
       "<div>\n",
       "<style scoped>\n",
       "    .dataframe tbody tr th:only-of-type {\n",
       "        vertical-align: middle;\n",
       "    }\n",
       "\n",
       "    .dataframe tbody tr th {\n",
       "        vertical-align: top;\n",
       "    }\n",
       "\n",
       "    .dataframe thead th {\n",
       "        text-align: right;\n",
       "    }\n",
       "</style>\n",
       "<table border=\"1\" class=\"dataframe\">\n",
       "  <thead>\n",
       "    <tr style=\"text-align: right;\">\n",
       "      <th></th>\n",
       "      <th>bad</th>\n",
       "      <th>loan</th>\n",
       "      <th>mortdue</th>\n",
       "      <th>value</th>\n",
       "      <th>reason</th>\n",
       "      <th>job</th>\n",
       "      <th>yoj</th>\n",
       "      <th>derog</th>\n",
       "      <th>delinq</th>\n",
       "      <th>clage</th>\n",
       "      <th>ninq</th>\n",
       "      <th>clno</th>\n",
       "      <th>debtinc</th>\n",
       "    </tr>\n",
       "  </thead>\n",
       "  <tbody>\n",
       "    <tr>\n",
       "      <th>153</th>\n",
       "      <td>0</td>\n",
       "      <td>18200</td>\n",
       "      <td>94727.0</td>\n",
       "      <td>136877.0</td>\n",
       "      <td>DebtCon</td>\n",
       "      <td>Mgr</td>\n",
       "      <td>15.0</td>\n",
       "      <td>0.0</td>\n",
       "      <td>0.0</td>\n",
       "      <td>168.96</td>\n",
       "      <td>2.0</td>\n",
       "      <td>26.0</td>\n",
       "      <td>36.056</td>\n",
       "    </tr>\n",
       "    <tr>\n",
       "      <th>154</th>\n",
       "      <td>0</td>\n",
       "      <td>21700</td>\n",
       "      <td>79240.0</td>\n",
       "      <td>96784.0</td>\n",
       "      <td>DebtCon</td>\n",
       "      <td>Mgr</td>\n",
       "      <td>5.0</td>\n",
       "      <td>0.0</td>\n",
       "      <td>0.0</td>\n",
       "      <td>64.51</td>\n",
       "      <td>6.0</td>\n",
       "      <td>24.0</td>\n",
       "      <td>38.079</td>\n",
       "    </tr>\n",
       "    <tr>\n",
       "      <th>155</th>\n",
       "      <td>0</td>\n",
       "      <td>34100</td>\n",
       "      <td>241931.0</td>\n",
       "      <td>36486.0</td>\n",
       "      <td>DebtCon</td>\n",
       "      <td>Mgr</td>\n",
       "      <td>1.0</td>\n",
       "      <td>0.0</td>\n",
       "      <td>2.0</td>\n",
       "      <td>196.01</td>\n",
       "      <td>3.0</td>\n",
       "      <td>50.0</td>\n",
       "      <td>42.459</td>\n",
       "    </tr>\n",
       "    <tr>\n",
       "      <th>156</th>\n",
       "      <td>0</td>\n",
       "      <td>8400</td>\n",
       "      <td>62989.0</td>\n",
       "      <td>76718.0</td>\n",
       "      <td>HomeImp</td>\n",
       "      <td>Mgr</td>\n",
       "      <td>3.0</td>\n",
       "      <td>0.0</td>\n",
       "      <td>2.0</td>\n",
       "      <td>131.47</td>\n",
       "      <td>0.0</td>\n",
       "      <td>22.0</td>\n",
       "      <td>29.200</td>\n",
       "    </tr>\n",
       "    <tr>\n",
       "      <th>157</th>\n",
       "      <td>0</td>\n",
       "      <td>17400</td>\n",
       "      <td>25859.0</td>\n",
       "      <td>43684.0</td>\n",
       "      <td>DebtCon</td>\n",
       "      <td>Mgr</td>\n",
       "      <td>16.0</td>\n",
       "      <td>1.0</td>\n",
       "      <td>0.0</td>\n",
       "      <td>95.36</td>\n",
       "      <td>1.0</td>\n",
       "      <td>17.0</td>\n",
       "      <td>27.108</td>\n",
       "    </tr>\n",
       "  </tbody>\n",
       "</table>\n",
       "</div>"
      ],
      "text/plain": [
       "     bad   loan   mortdue     value   reason  job   yoj  derog  delinq  \\\n",
       "153    0  18200   94727.0  136877.0  DebtCon  Mgr  15.0    0.0     0.0   \n",
       "154    0  21700   79240.0   96784.0  DebtCon  Mgr   5.0    0.0     0.0   \n",
       "155    0  34100  241931.0   36486.0  DebtCon  Mgr   1.0    0.0     2.0   \n",
       "156    0   8400   62989.0   76718.0  HomeImp  Mgr   3.0    0.0     2.0   \n",
       "157    0  17400   25859.0   43684.0  DebtCon  Mgr  16.0    1.0     0.0   \n",
       "\n",
       "      clage  ninq  clno  debtinc  \n",
       "153  168.96   2.0  26.0   36.056  \n",
       "154   64.51   6.0  24.0   38.079  \n",
       "155  196.01   3.0  50.0   42.459  \n",
       "156  131.47   0.0  22.0   29.200  \n",
       "157   95.36   1.0  17.0   27.108  "
      ]
     },
     "execution_count": 2,
     "metadata": {},
     "output_type": "execute_result"
    }
   ],
   "source": [
    "data = pd.read_csv(\"bankdata.csv\")\n",
    "df = data.copy()\n",
    "df = df.dropna()\n",
    "df.head()"
   ]
  },
  {
   "cell_type": "code",
   "execution_count": 3,
   "metadata": {},
   "outputs": [
    {
     "name": "stdout",
     "output_type": "stream",
     "text": [
      "<class 'pandas.core.frame.DataFrame'>\n",
      "Int64Index: 2018 entries, 153 to 3549\n",
      "Data columns (total 13 columns):\n",
      " #   Column   Non-Null Count  Dtype  \n",
      "---  ------   --------------  -----  \n",
      " 0   bad      2018 non-null   int64  \n",
      " 1   loan     2018 non-null   int64  \n",
      " 2   mortdue  2018 non-null   float64\n",
      " 3   value    2018 non-null   float64\n",
      " 4   reason   2018 non-null   object \n",
      " 5   job      2018 non-null   object \n",
      " 6   yoj      2018 non-null   float64\n",
      " 7   derog    2018 non-null   float64\n",
      " 8   delinq   2018 non-null   float64\n",
      " 9   clage    2018 non-null   float64\n",
      " 10  ninq     2018 non-null   float64\n",
      " 11  clno     2018 non-null   float64\n",
      " 12  debtinc  2018 non-null   float64\n",
      "dtypes: float64(9), int64(2), object(2)\n",
      "memory usage: 220.7+ KB\n"
     ]
    }
   ],
   "source": [
    "df.info()"
   ]
  },
  {
   "cell_type": "code",
   "execution_count": 4,
   "metadata": {},
   "outputs": [
    {
     "data": {
      "text/plain": [
       "0    1840\n",
       "1     178\n",
       "Name: bad, dtype: int64"
      ]
     },
     "execution_count": 4,
     "metadata": {},
     "output_type": "execute_result"
    }
   ],
   "source": [
    "df[\"bad\"].value_counts()"
   ]
  },
  {
   "cell_type": "code",
   "execution_count": 5,
   "metadata": {},
   "outputs": [
    {
     "data": {
      "image/png": "[encoded data removed]",
      "text/plain": [
       "<Figure size 432x288 with 1 Axes>"
      ]
     },
     "metadata": {
      "needs_background": "light"
     },
     "output_type": "display_data"
    }
   ],
   "source": [
    "df[\"bad\"].value_counts().plot.barh();"
   ]
  },
  {
   "cell_type": "markdown",
   "metadata": {},
   "source": [
    "Burada aradaki fark çok fazladır bu yüzden yapılacak olan testler büyük önem taşımaktadır.\n",
    "\n",
    "Dengesiz bir veriseti oluşturur.Test ve train için ayrılmış olan setin içerisindeki bağımlı değişken sınıfı incelenmelidir."
   ]
  },
  {
   "cell_type": "code",
   "execution_count": 7,
   "metadata": {},
   "outputs": [
    {
     "data": {
      "text/html": [
       "<div>\n",
       "<style scoped>\n",
       "    .dataframe tbody tr th:only-of-type {\n",
       "        vertical-align: middle;\n",
       "    }\n",
       "\n",
       "    .dataframe tbody tr th {\n",
       "        vertical-align: top;\n",
       "    }\n",
       "\n",
       "    .dataframe thead th {\n",
       "        text-align: right;\n",
       "    }\n",
       "</style>\n",
       "<table border=\"1\" class=\"dataframe\">\n",
       "  <thead>\n",
       "    <tr style=\"text-align: right;\">\n",
       "      <th></th>\n",
       "      <th>count</th>\n",
       "      <th>mean</th>\n",
       "      <th>std</th>\n",
       "      <th>min</th>\n",
       "      <th>25%</th>\n",
       "      <th>50%</th>\n",
       "      <th>75%</th>\n",
       "      <th>max</th>\n",
       "    </tr>\n",
       "  </thead>\n",
       "  <tbody>\n",
       "    <tr>\n",
       "      <th>bad</th>\n",
       "      <td>2018.0</td>\n",
       "      <td>0.088206</td>\n",
       "      <td>0.283665</td>\n",
       "      <td>0.00</td>\n",
       "      <td>0.0000</td>\n",
       "      <td>0.000</td>\n",
       "      <td>0.0000</td>\n",
       "      <td>1.000</td>\n",
       "    </tr>\n",
       "    <tr>\n",
       "      <th>loan</th>\n",
       "      <td>2018.0</td>\n",
       "      <td>19010.257681</td>\n",
       "      <td>10768.607345</td>\n",
       "      <td>1700.00</td>\n",
       "      <td>12000.0000</td>\n",
       "      <td>16900.000</td>\n",
       "      <td>23600.0000</td>\n",
       "      <td>89900.000</td>\n",
       "    </tr>\n",
       "    <tr>\n",
       "      <th>mortdue</th>\n",
       "      <td>2018.0</td>\n",
       "      <td>76337.035183</td>\n",
       "      <td>44476.368189</td>\n",
       "      <td>5076.00</td>\n",
       "      <td>49577.2500</td>\n",
       "      <td>67595.000</td>\n",
       "      <td>92922.7500</td>\n",
       "      <td>399412.000</td>\n",
       "    </tr>\n",
       "    <tr>\n",
       "      <th>value</th>\n",
       "      <td>2018.0</td>\n",
       "      <td>106899.244797</td>\n",
       "      <td>54026.707096</td>\n",
       "      <td>23031.00</td>\n",
       "      <td>71287.2500</td>\n",
       "      <td>94514.000</td>\n",
       "      <td>121220.7500</td>\n",
       "      <td>512650.000</td>\n",
       "    </tr>\n",
       "    <tr>\n",
       "      <th>yoj</th>\n",
       "      <td>2018.0</td>\n",
       "      <td>9.003964</td>\n",
       "      <td>7.573012</td>\n",
       "      <td>0.00</td>\n",
       "      <td>3.0000</td>\n",
       "      <td>7.000</td>\n",
       "      <td>13.0000</td>\n",
       "      <td>41.000</td>\n",
       "    </tr>\n",
       "    <tr>\n",
       "      <th>derog</th>\n",
       "      <td>2018.0</td>\n",
       "      <td>0.150149</td>\n",
       "      <td>0.580421</td>\n",
       "      <td>0.00</td>\n",
       "      <td>0.0000</td>\n",
       "      <td>0.000</td>\n",
       "      <td>0.0000</td>\n",
       "      <td>10.000</td>\n",
       "    </tr>\n",
       "    <tr>\n",
       "      <th>delinq</th>\n",
       "      <td>2018.0</td>\n",
       "      <td>0.264123</td>\n",
       "      <td>0.789816</td>\n",
       "      <td>0.00</td>\n",
       "      <td>0.0000</td>\n",
       "      <td>0.000</td>\n",
       "      <td>0.0000</td>\n",
       "      <td>10.000</td>\n",
       "    </tr>\n",
       "    <tr>\n",
       "      <th>clage</th>\n",
       "      <td>2018.0</td>\n",
       "      <td>180.645020</td>\n",
       "      <td>84.420116</td>\n",
       "      <td>0.49</td>\n",
       "      <td>118.2050</td>\n",
       "      <td>176.670</td>\n",
       "      <td>229.6925</td>\n",
       "      <td>1168.230</td>\n",
       "    </tr>\n",
       "    <tr>\n",
       "      <th>ninq</th>\n",
       "      <td>2018.0</td>\n",
       "      <td>1.037661</td>\n",
       "      <td>1.578414</td>\n",
       "      <td>0.00</td>\n",
       "      <td>0.0000</td>\n",
       "      <td>0.000</td>\n",
       "      <td>2.0000</td>\n",
       "      <td>13.000</td>\n",
       "    </tr>\n",
       "    <tr>\n",
       "      <th>clno</th>\n",
       "      <td>2018.0</td>\n",
       "      <td>22.265114</td>\n",
       "      <td>9.457238</td>\n",
       "      <td>0.00</td>\n",
       "      <td>16.0000</td>\n",
       "      <td>21.000</td>\n",
       "      <td>27.0000</td>\n",
       "      <td>64.000</td>\n",
       "    </tr>\n",
       "    <tr>\n",
       "      <th>debtinc</th>\n",
       "      <td>2018.0</td>\n",
       "      <td>34.105829</td>\n",
       "      <td>8.438411</td>\n",
       "      <td>4.03</td>\n",
       "      <td>29.2955</td>\n",
       "      <td>34.949</td>\n",
       "      <td>38.9520</td>\n",
       "      <td>144.189</td>\n",
       "    </tr>\n",
       "  </tbody>\n",
       "</table>\n",
       "</div>"
      ],
      "text/plain": [
       "          count           mean           std       min         25%        50%  \\\n",
       "bad      2018.0       0.088206      0.283665      0.00      0.0000      0.000   \n",
       "loan     2018.0   19010.257681  10768.607345   1700.00  12000.0000  16900.000   \n",
       "mortdue  2018.0   76337.035183  44476.368189   5076.00  49577.2500  67595.000   \n",
       "value    2018.0  106899.244797  54026.707096  23031.00  71287.2500  94514.000   \n",
       "yoj      2018.0       9.003964      7.573012      0.00      3.0000      7.000   \n",
       "derog    2018.0       0.150149      0.580421      0.00      0.0000      0.000   \n",
       "delinq   2018.0       0.264123      0.789816      0.00      0.0000      0.000   \n",
       "clage    2018.0     180.645020     84.420116      0.49    118.2050    176.670   \n",
       "ninq     2018.0       1.037661      1.578414      0.00      0.0000      0.000   \n",
       "clno     2018.0      22.265114      9.457238      0.00     16.0000     21.000   \n",
       "debtinc  2018.0      34.105829      8.438411      4.03     29.2955     34.949   \n",
       "\n",
       "                 75%         max  \n",
       "bad           0.0000       1.000  \n",
       "loan      23600.0000   89900.000  \n",
       "mortdue   92922.7500  399412.000  \n",
       "value    121220.7500  512650.000  \n",
       "yoj          13.0000      41.000  \n",
       "derog         0.0000      10.000  \n",
       "delinq        0.0000      10.000  \n",
       "clage       229.6925    1168.230  \n",
       "ninq          2.0000      13.000  \n",
       "clno         27.0000      64.000  \n",
       "debtinc      38.9520     144.189  "
      ]
     },
     "execution_count": 7,
     "metadata": {},
     "output_type": "execute_result"
    }
   ],
   "source": [
    "df.describe().T"
   ]
  },
  {
   "cell_type": "code",
   "execution_count": 8,
   "metadata": {},
   "outputs": [],
   "source": [
    "y = df[\"bad\"]\n",
    "X = df.drop([\"bad\"], axis=1)"
   ]
  },
  {
   "cell_type": "markdown",
   "metadata": {},
   "source": [
    "#statsmodels"
   ]
  },
  {
   "cell_type": "code",
   "execution_count": 9,
   "metadata": {},
   "outputs": [],
   "source": [
    "dummy_data = pd.get_dummies(data[[\"job\",\"reason\"]])"
   ]
  },
  {
   "cell_type": "code",
   "execution_count": 16,
   "metadata": {},
   "outputs": [],
   "source": [
    "y = df[\"bad\"]\n",
    "X =df.drop([\"job\",\"reason\",\"bad\"],axis=1)\n"
   ]
  },
  {
   "cell_type": "code",
   "execution_count": 17,
   "metadata": {},
   "outputs": [],
   "source": [
    "import statsmodels.api as sm\n",
    "from sklearn.linear_model import LogisticRegression"
   ]
  },
  {
   "cell_type": "code",
   "execution_count": 18,
   "metadata": {},
   "outputs": [
    {
     "name": "stdout",
     "output_type": "stream",
     "text": [
      "Optimization terminated successfully.\n",
      "         Current function value: 0.261768\n",
      "         Iterations 7\n"
     ]
    },
    {
     "data": {
      "text/html": [
       "<table class=\"simpletable\">\n",
       "<caption>Logit Regression Results</caption>\n",
       "<tr>\n",
       "  <th>Dep. Variable:</th>          <td>bad</td>       <th>  No. Observations:  </th>  <td>  2018</td>  \n",
       "</tr>\n",
       "<tr>\n",
       "  <th>Model:</th>                 <td>Logit</td>      <th>  Df Residuals:      </th>  <td>  2008</td>  \n",
       "</tr>\n",
       "<tr>\n",
       "  <th>Method:</th>                 <td>MLE</td>       <th>  Df Model:          </th>  <td>     9</td>  \n",
       "</tr>\n",
       "<tr>\n",
       "  <th>Date:</th>            <td>Thu, 13 Aug 2020</td> <th>  Pseudo R-squ.:     </th>  <td>0.1227</td>  \n",
       "</tr>\n",
       "<tr>\n",
       "  <th>Time:</th>                <td>18:18:16</td>     <th>  Log-Likelihood:    </th> <td> -528.25</td> \n",
       "</tr>\n",
       "<tr>\n",
       "  <th>converged:</th>             <td>True</td>       <th>  LL-Null:           </th> <td> -602.11</td> \n",
       "</tr>\n",
       "<tr>\n",
       "  <th>Covariance Type:</th>     <td>nonrobust</td>    <th>  LLR p-value:       </th> <td>2.621e-27</td>\n",
       "</tr>\n",
       "</table>\n",
       "<table class=\"simpletable\">\n",
       "<tr>\n",
       "     <td></td>        <th>coef</th>     <th>std err</th>      <th>z</th>      <th>P>|z|</th>  <th>[0.025</th>    <th>0.975]</th>  \n",
       "</tr>\n",
       "<tr>\n",
       "  <th>loan</th>    <td>-2.706e-05</td> <td> 1.04e-05</td> <td>   -2.600</td> <td> 0.009</td> <td>-4.74e-05</td> <td>-6.66e-06</td>\n",
       "</tr>\n",
       "<tr>\n",
       "  <th>mortdue</th> <td>-3.409e-07</td> <td> 5.22e-06</td> <td>   -0.065</td> <td> 0.948</td> <td>-1.06e-05</td> <td>  9.9e-06</td>\n",
       "</tr>\n",
       "<tr>\n",
       "  <th>value</th>   <td>-3.173e-06</td> <td> 4.29e-06</td> <td>   -0.739</td> <td> 0.460</td> <td>-1.16e-05</td> <td> 5.24e-06</td>\n",
       "</tr>\n",
       "<tr>\n",
       "  <th>yoj</th>     <td>   -0.0342</td> <td>    0.013</td> <td>   -2.727</td> <td> 0.006</td> <td>   -0.059</td> <td>   -0.010</td>\n",
       "</tr>\n",
       "<tr>\n",
       "  <th>derog</th>   <td>    0.5800</td> <td>    0.122</td> <td>    4.758</td> <td> 0.000</td> <td>    0.341</td> <td>    0.819</td>\n",
       "</tr>\n",
       "<tr>\n",
       "  <th>delinq</th>  <td>    0.7398</td> <td>    0.086</td> <td>    8.610</td> <td> 0.000</td> <td>    0.571</td> <td>    0.908</td>\n",
       "</tr>\n",
       "<tr>\n",
       "  <th>clage</th>   <td>   -0.0084</td> <td>    0.001</td> <td>   -6.358</td> <td> 0.000</td> <td>   -0.011</td> <td>   -0.006</td>\n",
       "</tr>\n",
       "<tr>\n",
       "  <th>ninq</th>    <td>    0.0266</td> <td>    0.047</td> <td>    0.571</td> <td> 0.568</td> <td>   -0.065</td> <td>    0.118</td>\n",
       "</tr>\n",
       "<tr>\n",
       "  <th>clno</th>    <td>   -0.0505</td> <td>    0.011</td> <td>   -4.635</td> <td> 0.000</td> <td>   -0.072</td> <td>   -0.029</td>\n",
       "</tr>\n",
       "<tr>\n",
       "  <th>debtinc</th> <td>    0.0222</td> <td>    0.007</td> <td>    3.126</td> <td> 0.002</td> <td>    0.008</td> <td>    0.036</td>\n",
       "</tr>\n",
       "</table>"
      ],
      "text/plain": [
       "<class 'statsmodels.iolib.summary.Summary'>\n",
       "\"\"\"\n",
       "                           Logit Regression Results                           \n",
       "==============================================================================\n",
       "Dep. Variable:                    bad   No. Observations:                 2018\n",
       "Model:                          Logit   Df Residuals:                     2008\n",
       "Method:                           MLE   Df Model:                            9\n",
       "Date:                Thu, 13 Aug 2020   Pseudo R-squ.:                  0.1227\n",
       "Time:                        18:18:16   Log-Likelihood:                -528.25\n",
       "converged:                       True   LL-Null:                       -602.11\n",
       "Covariance Type:            nonrobust   LLR p-value:                 2.621e-27\n",
       "==============================================================================\n",
       "                 coef    std err          z      P>|z|      [0.025      0.975]\n",
       "------------------------------------------------------------------------------\n",
       "loan       -2.706e-05   1.04e-05     -2.600      0.009   -4.74e-05   -6.66e-06\n",
       "mortdue    -3.409e-07   5.22e-06     -0.065      0.948   -1.06e-05     9.9e-06\n",
       "value      -3.173e-06   4.29e-06     -0.739      0.460   -1.16e-05    5.24e-06\n",
       "yoj           -0.0342      0.013     -2.727      0.006      -0.059      -0.010\n",
       "derog          0.5800      0.122      4.758      0.000       0.341       0.819\n",
       "delinq         0.7398      0.086      8.610      0.000       0.571       0.908\n",
       "clage         -0.0084      0.001     -6.358      0.000      -0.011      -0.006\n",
       "ninq           0.0266      0.047      0.571      0.568      -0.065       0.118\n",
       "clno          -0.0505      0.011     -4.635      0.000      -0.072      -0.029\n",
       "debtinc        0.0222      0.007      3.126      0.002       0.008       0.036\n",
       "==============================================================================\n",
       "\"\"\""
      ]
     },
     "execution_count": 18,
     "metadata": {},
     "output_type": "execute_result"
    }
   ],
   "source": [
    "loj = sm.Logit(y, X)\n",
    "loj_model= loj.fit()\n",
    "loj_model.summary()"
   ]
  },
  {
   "cell_type": "markdown",
   "metadata": {},
   "source": [
    "Lineer Regression modelindeki gibi R-square karşılaştırıp yüksek olanı seçme durumu yok.Çünkü bir classification problem var.Burada hatalarımın nasıl dağıldığına dair bir bilgim yok.Burada gerçek ve tahminsel değerlere bakacağız.(Contingency Table)\n",
    "Coefficient değerleri ve z değerlerini karşılaştırıp,\"yoj,clage,ninq,clno,debtinc\" gibi bazı değişkenleri modelden atarak daha iyi bir model kurulabilir."
   ]
  },
  {
   "cell_type": "markdown",
   "metadata": {},
   "source": [
    "#scikit-learn"
   ]
  },
  {
   "cell_type": "code",
   "execution_count": 19,
   "metadata": {},
   "outputs": [
    {
     "data": {
      "text/plain": [
       "LogisticRegression(C=1.0, class_weight=None, dual=False, fit_intercept=True,\n",
       "                   intercept_scaling=1, l1_ratio=None, max_iter=100,\n",
       "                   multi_class='auto', n_jobs=None, penalty='l2',\n",
       "                   random_state=None, solver='liblinear', tol=0.0001, verbose=0,\n",
       "                   warm_start=False)"
      ]
     },
     "execution_count": 19,
     "metadata": {},
     "output_type": "execute_result"
    }
   ],
   "source": [
    "from sklearn.linear_model import LogisticRegression\n",
    "loj = LogisticRegression(solver = \"liblinear\")\n",
    "loj_model = loj.fit(X,y)\n",
    "loj_model"
   ]
  },
  {
   "cell_type": "code",
   "execution_count": 20,
   "metadata": {},
   "outputs": [
    {
     "data": {
      "text/plain": [
       "array([-0.00256361])"
      ]
     },
     "execution_count": 20,
     "metadata": {},
     "output_type": "execute_result"
    }
   ],
   "source": [
    "loj_model.intercept_"
   ]
  },
  {
   "cell_type": "code",
   "execution_count": 21,
   "metadata": {},
   "outputs": [
    {
     "data": {
      "text/plain": [
       "array([[-3.45744369e-05, -6.99561375e-06, -1.60344396e-06,\n",
       "        -1.76926822e-02,  6.56856812e-03,  1.17615246e-02,\n",
       "        -8.77179764e-03,  4.17663965e-03, -1.69201255e-02,\n",
       "         2.71202775e-02]])"
      ]
     },
     "execution_count": 21,
     "metadata": {},
     "output_type": "execute_result"
    }
   ],
   "source": [
    "loj_model.coef_"
   ]
  },
  {
   "cell_type": "markdown",
   "metadata": {},
   "source": [
    "# Tahmin & Model Tuning\n"
   ]
  },
  {
   "cell_type": "markdown",
   "metadata": {},
   "source": [
    "**Üstte modeli,değişkenleri tanımladık.Asıl classification'daki olay bunu tahmin etmekteki gücümüz.Gerçek değerlerini biliyorum bir de tahmin etmeliyiz. Kredisini ödüyor dediklerimizin kaçı öyle çıktı bunu belirlemeliyiz. * Confusion matrix çizeceğiz.Datayı test ve train diye ayırmalıyız.Ama öncesinde x değerlerimle tekrar prediction yapmam gerekiyor."
   ]
  },
  {
   "cell_type": "code",
   "execution_count": 53,
   "metadata": {},
   "outputs": [],
   "source": [
    "y_pred = loj_model.predict(X)"
   ]
  },
  {
   "cell_type": "code",
   "execution_count": 17,
   "metadata": {},
   "outputs": [
    {
     "data": {
      "text/plain": [
       "array([[1835,    5],\n",
       "       [ 178,    0]], dtype=int64)"
      ]
     },
     "execution_count": 17,
     "metadata": {},
     "output_type": "execute_result"
    }
   ],
   "source": [
    "confusion_matrix(y, y_pred)"
   ]
  },
  {
   "cell_type": "markdown",
   "metadata": {},
   "source": [
    "#Üstteki satır(1835,5) bize kredi borcunu ödeme eğiliminde olanları gösteriyor.\n",
    "\n",
    "#Alttaki satır (178,0) bize borcunu ödemeyenleri gösteriyor.\n",
    "\n",
    "*1835 kişi doğru bulduğunu söylüyor.Borcunu ödemeyenlere ödedi dediğim yer.\n",
    "\n",
    "*Borcunu ödeyenlerin 5'ine ödemiyor dedim.\n",
    "\n",
    "*Borcunu ödememesine rağmen 178 kişiye ödedi dediğim yer.\n",
    "\n",
    "*Kredi borcunu ödeyen ve gerçekte benim bildiğim 0 kişi vardır."
   ]
  },
  {
   "cell_type": "code",
   "execution_count": 18,
   "metadata": {},
   "outputs": [
    {
     "data": {
      "text/plain": [
       "0.9093161546085233"
      ]
     },
     "execution_count": 18,
     "metadata": {},
     "output_type": "execute_result"
    }
   ],
   "source": [
    "accuracy_score(y, y_pred)"
   ]
  },
  {
   "cell_type": "code",
   "execution_count": 19,
   "metadata": {},
   "outputs": [
    {
     "name": "stdout",
     "output_type": "stream",
     "text": [
      "              precision    recall  f1-score   support\n",
      "\n",
      "           0       0.91      1.00      0.95      1840\n",
      "           1       0.00      0.00      0.00       178\n",
      "\n",
      "    accuracy                           0.91      2018\n",
      "   macro avg       0.46      0.50      0.48      2018\n",
      "weighted avg       0.83      0.91      0.87      2018\n",
      "\n"
     ]
    }
   ],
   "source": [
    "print(classification_report(y, y_pred))"
   ]
  },
  {
   "cell_type": "markdown",
   "metadata": {},
   "source": [
    "#Modelde neyi ne kadar doğru yaptığımı gösteriyor.\n",
    "\n",
    "#Farklı modelleri kontrol ederken ilk olarak \"overall accuracy \"değerine bakacağız.\n",
    "\n",
    "#Burada recall değeri modeldeki 1 değerlerimi ne kadar doğru tahmin ediyoruz bunu gösterir.Gerçekten kredisini ödeyen insanların tamamını doğru tahmin etmişiz.Gerçekte kredisini ödemeyen insanların ise hiçbirini tahmin edememişsiz.Yani model kredisini ödeyen insanları tahmin etmekte başarılı iken,ödemeyenleri tahmin etmekte başarısızdır.\n",
    "\n",
    "#Burada f1-score değeri precision ve recall değerlerinin ağırlıklı ortalamasını gösteriyor.Burada 0 değerini ne kadar düzgün öğrendiğime bakabilmek için bu değere bakarım( %95)"
   ]
  },
  {
   "cell_type": "code",
   "execution_count": 20,
   "metadata": {},
   "outputs": [
    {
     "data": {
      "text/plain": [
       "array([0, 0, 0, 0, 0, 0, 0, 0, 0, 0], dtype=int64)"
      ]
     },
     "execution_count": 20,
     "metadata": {},
     "output_type": "execute_result"
    }
   ],
   "source": [
    "loj_model.predict(X)[0:10]"
   ]
  },
  {
   "cell_type": "code",
   "execution_count": 21,
   "metadata": {},
   "outputs": [
    {
     "data": {
      "text/plain": [
       "array([[0.93791535, 0.06208465],\n",
       "       [0.81229489, 0.18770511],\n",
       "       [0.98697812, 0.01302188],\n",
       "       [0.83476237, 0.16523763],\n",
       "       [0.82000557, 0.17999443],\n",
       "       [0.98423197, 0.01576803],\n",
       "       [0.85334995, 0.14665005],\n",
       "       [0.96480699, 0.03519301],\n",
       "       [0.75102422, 0.24897578],\n",
       "       [0.96060046, 0.03939954]])"
      ]
     },
     "execution_count": 21,
     "metadata": {},
     "output_type": "execute_result"
    }
   ],
   "source": [
    "loj_model.predict_proba(X)[0:10][:,0:2]"
   ]
  },
  {
   "cell_type": "markdown",
   "metadata": {},
   "source": [
    "#İlk sütun 0 olma olasılığını, ikinci sütun 1 olma olasılığını verir ve ikisinin toplamı 1 olmalıdır.\n",
    "\n",
    "#İlk satır için kredi borcumu ödeme olasılığım %94 , ödememe olasılığım ise %6'tir.\n",
    "\n",
    "#0.95 değeri 0.5'ten büyük olduğu için üstteki kodda 0 olarak assign ettik."
   ]
  },
  {
   "cell_type": "code",
   "execution_count": 22,
   "metadata": {},
   "outputs": [
    {
     "data": {
      "text/plain": [
       "153    0\n",
       "154    0\n",
       "155    0\n",
       "156    0\n",
       "157    0\n",
       "158    0\n",
       "159    0\n",
       "160    0\n",
       "161    0\n",
       "162    0\n",
       "Name: bad, dtype: int64"
      ]
     },
     "execution_count": 22,
     "metadata": {},
     "output_type": "execute_result"
    }
   ],
   "source": [
    "y[0:10]         #Gerçek y (bad) değerleri"
   ]
  },
  {
   "cell_type": "code",
   "execution_count": 23,
   "metadata": {},
   "outputs": [],
   "source": [
    "y_probs = loj_model.predict_proba(X)\n",
    "y_probs = y_probs[:,1]"
   ]
  },
  {
   "cell_type": "code",
   "execution_count": 24,
   "metadata": {},
   "outputs": [
    {
     "data": {
      "text/plain": [
       "array([0.06208465, 0.18770511, 0.01302188, 0.16523763, 0.17999443,\n",
       "       0.01576803, 0.14665005, 0.03519301, 0.24897578, 0.03939954])"
      ]
     },
     "execution_count": 24,
     "metadata": {},
     "output_type": "execute_result"
    }
   ],
   "source": [
    "y_probs[0:10]    #Üstteki 1 olma değerlerinin aynısı.Sadece bunlar da gösterilebilir."
   ]
  },
  {
   "cell_type": "code",
   "execution_count": 25,
   "metadata": {},
   "outputs": [],
   "source": [
    "y_pred = [1 if i > 0.16 else 0 for i in y_probs]"
   ]
  },
  {
   "cell_type": "code",
   "execution_count": 26,
   "metadata": {},
   "outputs": [
    {
     "data": {
      "text/plain": [
       "[0, 1, 0, 1, 1, 0, 0, 0, 1, 0]"
      ]
     },
     "execution_count": 26,
     "metadata": {},
     "output_type": "execute_result"
    }
   ],
   "source": [
    "y_pred[0:10]"
   ]
  },
  {
   "cell_type": "code",
   "execution_count": 27,
   "metadata": {},
   "outputs": [
    {
     "data": {
      "text/plain": [
       "array([[1494,  346],\n",
       "       [  94,   84]], dtype=int64)"
      ]
     },
     "execution_count": 27,
     "metadata": {},
     "output_type": "execute_result"
    }
   ],
   "source": [
    "confusion_matrix(y, y_pred)"
   ]
  },
  {
   "cell_type": "code",
   "execution_count": 28,
   "metadata": {},
   "outputs": [
    {
     "data": {
      "text/plain": [
       "0.7819623389494549"
      ]
     },
     "execution_count": 28,
     "metadata": {},
     "output_type": "execute_result"
    }
   ],
   "source": [
    "accuracy_score(y, y_pred)"
   ]
  },
  {
   "cell_type": "code",
   "execution_count": 29,
   "metadata": {},
   "outputs": [
    {
     "name": "stdout",
     "output_type": "stream",
     "text": [
      "              precision    recall  f1-score   support\n",
      "\n",
      "           0       0.94      0.81      0.87      1840\n",
      "           1       0.20      0.47      0.28       178\n",
      "\n",
      "    accuracy                           0.78      2018\n",
      "   macro avg       0.57      0.64      0.57      2018\n",
      "weighted avg       0.88      0.78      0.82      2018\n",
      "\n"
     ]
    }
   ],
   "source": [
    "print(classification_report(y, y_pred))"
   ]
  },
  {
   "cell_type": "markdown",
   "metadata": {},
   "source": [
    "* Model üsttekine göre artık daha kötü bir 1 tahmini yaptı.Ama 0 tahmini değeri arttı. *Gerçekten borcunu ödemeyenlerin %47'u tahmin edildi. Yani eski modele göre artık neredeyse yarısı tahmin edilebiliyor."
   ]
  },
  {
   "cell_type": "code",
   "execution_count": 30,
   "metadata": {},
   "outputs": [
    {
     "data": {
      "text/plain": [
       "array([0.06208465, 0.18770511, 0.01302188, 0.16523763, 0.17999443])"
      ]
     },
     "execution_count": 30,
     "metadata": {},
     "output_type": "execute_result"
    }
   ],
   "source": [
    "loj_model.predict_proba(X)[:,1][0:5]"
   ]
  },
  {
   "cell_type": "markdown",
   "metadata": {},
   "source": [
    "#ROC eğrisi, ikili sınıflandırma sistemlerinde ayrım eşik değerinin farklılık gösterdiği durumlarda, hassasiyetin kesinliliğe olan oranıyla ortaya çıkmaktadır.\n",
    "\n",
    "*Datanın asıl gücünü gösterir.Datamın ne kadarına gittiğimde ne kadarını buluyorum.Düz ve yüksekte bir alan görmek her zaman daha iyidir.Hedefleme yaparak hastaların hepsine gitmek yerine doğru orana gidilebilir."
   ]
  },
  {
   "cell_type": "code",
   "execution_count": 31,
   "metadata": {},
   "outputs": [
    {
     "data": {
      "image/png": "[encoded data removed]",
      "text/plain": [
       "<Figure size 432x288 with 1 Axes>"
      ]
     },
     "metadata": {
      "needs_background": "light"
     },
     "output_type": "display_data"
    }
   ],
   "source": [
    "logit_roc_auc = roc_auc_score(y, loj_model.predict(X))\n",
    "\n",
    "fpr, tpr, thresholds = roc_curve(y, loj_model.predict_proba(X)[:,1])\n",
    "plt.figure()\n",
    "plt.plot(fpr, tpr, label='AUC (area = %0.2f)' % logit_roc_auc)\n",
    "plt.plot([0, 1], [0, 1],'r--')\n",
    "plt.xlim([0.0, 1.0])\n",
    "plt.ylim([0.0, 1.05])\n",
    "plt.xlabel('False Positive Oranı')\n",
    "plt.ylabel('True Positive Oranı')\n",
    "plt.title('ROC')\n",
    "plt.show()"
   ]
  },
  {
   "cell_type": "code",
   "execution_count": 32,
   "metadata": {},
   "outputs": [
    {
     "data": {
      "text/plain": [
       "0.4986413043478261"
      ]
     },
     "execution_count": 32,
     "metadata": {},
     "output_type": "execute_result"
    }
   ],
   "source": [
    "logit_roc_auc   #ROC Curve altında kalan alan."
   ]
  },
  {
   "cell_type": "markdown",
   "metadata": {},
   "source": [
    "#Tahmin ettiğim ve gerçek x değerlerimi karşılaştırarak alanımı buldum. Alanın 1 olduğunu düşünürsek 0.49 ortalamaya yakındır.\n",
    "\n",
    "***Grafiğe bakarsak, datamın yüzde 20'sine gittiğimde yaklaşık %50'sini doğru tahmin ediyorum.Bir hedefleme yaparken herkese gitmek yerine random yüzde 20yi seçsem bile %50 doğruluk yakalıyorum.\n",
    "\n",
    "***Mavı eğri ne kadar yukarı çıkıp sonradan düzleşirse benim için o kadar iyidir."
   ]
  },
  {
   "cell_type": "code",
   "execution_count": 33,
   "metadata": {},
   "outputs": [],
   "source": [
    "#x ve y leri ayırırım.X değerlerinin ve y değerlerinin %20'sini test için ayıracağım.\n",
    "\n",
    "#Önce %80iyle model kuracağım kalan %20 ile de doğru yapıp yapmadığımı test edeceğim."
   ]
  },
  {
   "cell_type": "code",
   "execution_count": 34,
   "metadata": {},
   "outputs": [],
   "source": [
    "X_train, X_test, y_train, y_test = train_test_split(X, y, \n",
    "                                                    test_size = 0.20, \n",
    "                                                    random_state = 42)\n"
   ]
  },
  {
   "cell_type": "code",
   "execution_count": 35,
   "metadata": {},
   "outputs": [
    {
     "data": {
      "text/plain": [
       "LogisticRegression(C=1.0, class_weight=None, dual=False, fit_intercept=True,\n",
       "                   intercept_scaling=1, l1_ratio=None, max_iter=100,\n",
       "                   multi_class='auto', n_jobs=None, penalty='l2',\n",
       "                   random_state=None, solver='liblinear', tol=0.0001, verbose=0,\n",
       "                   warm_start=False)"
      ]
     },
     "execution_count": 35,
     "metadata": {},
     "output_type": "execute_result"
    }
   ],
   "source": [
    "loj = LogisticRegression(solver = \"liblinear\")\n",
    "loj_model = loj.fit(X_train,y_train)\n",
    "loj_model"
   ]
  },
  {
   "cell_type": "code",
   "execution_count": 36,
   "metadata": {},
   "outputs": [
    {
     "data": {
      "text/plain": [
       "0.9133663366336634"
      ]
     },
     "execution_count": 36,
     "metadata": {},
     "output_type": "execute_result"
    }
   ],
   "source": [
    "accuracy_score(y_test, loj_model.predict(X_test))"
   ]
  },
  {
   "cell_type": "code",
   "execution_count": 37,
   "metadata": {},
   "outputs": [
    {
     "data": {
      "text/plain": [
       "0.9158536585365855"
      ]
     },
     "execution_count": 37,
     "metadata": {},
     "output_type": "execute_result"
    }
   ],
   "source": [
    "cross_val_score(loj_model, X_test, y_test, cv = 10).mean()"
   ]
  },
  {
   "cell_type": "markdown",
   "metadata": {},
   "source": [
    "#Uygun x ve y setlerini seçti.Accuracy değeri %91 çıktı.Buna göre üstte gerçekleştirdiğimiz regresyon kabul edilebilir.\n",
    "\n",
    "#Eğer bu değer accuracy değerlerinden daha düşük çıksaydı ,randomlıktan gelen bir açıklayıcılık yok diyebilirdik.Tekrar model kurmak gerekecekti."
   ]
  },
  {
   "cell_type": "markdown",
   "metadata": {},
   "source": [
    "# Gaussian Naive Bayes"
   ]
  },
  {
   "cell_type": "markdown",
   "metadata": {},
   "source": [
    "Olasılık temellidir.Amacı: belirli bir örneğin her bir sınıfa ait olma olasılığının koşullu olasılık temelli hesaplanmasıdır.\n",
    "    \n",
    "** Çok sınıflı senaryolarda veya verisetinde kategorik değişken sayısı sürekli değişken sayısı kadar olduğunda iyi çalışır."
   ]
  },
  {
   "cell_type": "code",
   "execution_count": 34,
   "metadata": {},
   "outputs": [],
   "source": [
    "data = pd.read_csv(\"bankdata.csv\")\n",
    "df = data.copy()\n",
    "df = df.dropna()\n",
    "\n",
    "\n",
    "dummy_data = pd.get_dummies(data[[\"job\",\"reason\"]])\n",
    "y = df[\"bad\"]\n",
    "X =df.drop([\"job\",\"reason\",\"bad\"],axis=1)\n",
    "\n",
    "X_train, X_test, y_train, y_test = train_test_split(X, y, \n",
    "                                                    test_size=0.20, \n",
    "                                                    random_state=42)\n"
   ]
  },
  {
   "cell_type": "code",
   "execution_count": 35,
   "metadata": {},
   "outputs": [],
   "source": [
    "from sklearn.naive_bayes import GaussianNB"
   ]
  },
  {
   "cell_type": "code",
   "execution_count": 36,
   "metadata": {},
   "outputs": [
    {
     "data": {
      "text/plain": [
       "GaussianNB(priors=None, var_smoothing=1e-09)"
      ]
     },
     "execution_count": 36,
     "metadata": {},
     "output_type": "execute_result"
    }
   ],
   "source": [
    "nb = GaussianNB()\n",
    "nb_model = nb.fit(X_train, y_train)\n",
    "nb_model"
   ]
  },
  {
   "cell_type": "code",
   "execution_count": 37,
   "metadata": {},
   "outputs": [
    {
     "data": {
      "text/plain": [
       "array([0, 0, 0, 0, 0, 0, 0, 0, 1, 0], dtype=int64)"
      ]
     },
     "execution_count": 37,
     "metadata": {},
     "output_type": "execute_result"
    }
   ],
   "source": [
    "nb_model.predict(X_test)[0:10]"
   ]
  },
  {
   "cell_type": "code",
   "execution_count": 38,
   "metadata": {},
   "outputs": [
    {
     "data": {
      "text/plain": [
       "array([[0.98928136, 0.01071864],\n",
       "       [0.9597811 , 0.0402189 ],\n",
       "       [0.98780831, 0.01219169],\n",
       "       [0.98648937, 0.01351063],\n",
       "       [0.99486944, 0.00513056],\n",
       "       [0.97528611, 0.02471389],\n",
       "       [0.98631831, 0.01368169],\n",
       "       [0.97593666, 0.02406334],\n",
       "       [0.4379753 , 0.5620247 ],\n",
       "       [0.99478556, 0.00521444]])"
      ]
     },
     "execution_count": 38,
     "metadata": {},
     "output_type": "execute_result"
    }
   ],
   "source": [
    "nb_model.predict_proba(X_test)[0:10]"
   ]
  },
  {
   "cell_type": "code",
   "execution_count": 39,
   "metadata": {},
   "outputs": [],
   "source": [
    "y_pred = nb_model.predict(X_test)"
   ]
  },
  {
   "cell_type": "code",
   "execution_count": 40,
   "metadata": {},
   "outputs": [
    {
     "data": {
      "text/plain": [
       "0.8960396039603961"
      ]
     },
     "execution_count": 40,
     "metadata": {},
     "output_type": "execute_result"
    }
   ],
   "source": [
    "accuracy_score(y_test, y_pred)"
   ]
  },
  {
   "cell_type": "code",
   "execution_count": 41,
   "metadata": {},
   "outputs": [
    {
     "data": {
      "text/plain": [
       "0.9232926829268292"
      ]
     },
     "execution_count": 41,
     "metadata": {},
     "output_type": "execute_result"
    }
   ],
   "source": [
    "cross_val_score(nb_model, X_test, y_test, cv = 10).mean()\n",
    "\n",
    "#Valide edilmiş değer , yukarıdaki regresyon sonucu olan test datasına göre accuracy olarak daha fazladır."
   ]
  },
  {
   "cell_type": "markdown",
   "metadata": {},
   "source": [
    "# KNN"
   ]
  },
  {
   "cell_type": "markdown",
   "metadata": {},
   "source": [
    "Tahminler gözlem benzerliğine göre yapılır.\n",
    "\n",
    "Dışsal parametre olarak komşu sayısı belirlenir."
   ]
  },
  {
   "cell_type": "markdown",
   "metadata": {},
   "source": [
    "# Model & Tahmin"
   ]
  },
  {
   "cell_type": "code",
   "execution_count": 7,
   "metadata": {},
   "outputs": [],
   "source": [
    "data = pd.read_csv(\"bankdata.csv\")\n",
    "df = data.copy()\n",
    "df = df.dropna()\n",
    "\n",
    "\n",
    "dummy_data = pd.get_dummies(data[[\"job\",\"reason\"]])\n",
    "y = df[\"bad\"]\n",
    "X =df.drop([\"job\",\"reason\",\"bad\"],axis=1)\n",
    "\n",
    "X_train, X_test, y_train, y_test = train_test_split(X, y, \n",
    "                                                    test_size=0.20, \n",
    "                                                    random_state=42)\n"
   ]
  },
  {
   "cell_type": "code",
   "execution_count": 8,
   "metadata": {},
   "outputs": [
    {
     "data": {
      "text/plain": [
       "KNeighborsClassifier(algorithm='auto', leaf_size=30, metric='minkowski',\n",
       "                     metric_params=None, n_jobs=None, n_neighbors=5, p=2,\n",
       "                     weights='uniform')"
      ]
     },
     "execution_count": 8,
     "metadata": {},
     "output_type": "execute_result"
    }
   ],
   "source": [
    "knn = KNeighborsClassifier()\n",
    "knn_model = knn.fit(X_train, y_train)\n",
    "knn_model"
   ]
  },
  {
   "cell_type": "code",
   "execution_count": 9,
   "metadata": {},
   "outputs": [],
   "source": [
    "y_pred = knn_model.predict(X_test)"
   ]
  },
  {
   "cell_type": "code",
   "execution_count": 10,
   "metadata": {},
   "outputs": [
    {
     "data": {
      "text/plain": [
       "0.9158415841584159"
      ]
     },
     "execution_count": 10,
     "metadata": {},
     "output_type": "execute_result"
    }
   ],
   "source": [
    "accuracy_score(y_test, y_pred)"
   ]
  },
  {
   "cell_type": "code",
   "execution_count": 11,
   "metadata": {},
   "outputs": [
    {
     "name": "stdout",
     "output_type": "stream",
     "text": [
      "              precision    recall  f1-score   support\n",
      "\n",
      "           0       0.92      0.99      0.96       369\n",
      "           1       0.57      0.11      0.19        35\n",
      "\n",
      "    accuracy                           0.92       404\n",
      "   macro avg       0.75      0.55      0.57       404\n",
      "weighted avg       0.89      0.92      0.89       404\n",
      "\n"
     ]
    }
   ],
   "source": [
    "print(classification_report(y_test, y_pred))"
   ]
  },
  {
   "cell_type": "markdown",
   "metadata": {},
   "source": [
    "Tahmin edilen KNN modelinde accuracy score modelin iyi açıklandığını gösterir ama 1 olma oranı yüzde 11.Bu bize düşük bir 1 tahmin etme gücü olduğunu gösterir."
   ]
  },
  {
   "cell_type": "markdown",
   "metadata": {},
   "source": [
    "# MODEL TUNING"
   ]
  },
  {
   "cell_type": "code",
   "execution_count": 12,
   "metadata": {},
   "outputs": [],
   "source": [
    "knn_params = {\"n_neighbors\": np.arange(1,50)}"
   ]
  },
  {
   "cell_type": "code",
   "execution_count": 5,
   "metadata": {},
   "outputs": [
    {
     "data": {
      "text/plain": [
       "GridSearchCV(cv=10, error_score=nan,\n",
       "             estimator=KNeighborsClassifier(algorithm='auto', leaf_size=30,\n",
       "                                            metric='minkowski',\n",
       "                                            metric_params=None, n_jobs=None,\n",
       "                                            n_neighbors=5, p=2,\n",
       "                                            weights='uniform'),\n",
       "             iid='deprecated', n_jobs=None,\n",
       "             param_grid={'n_neighbors': array([ 1,  2,  3,  4,  5,  6,  7,  8,  9, 10, 11, 12, 13, 14, 15, 16, 17,\n",
       "       18, 19, 20, 21, 22, 23, 24, 25, 26, 27, 28, 29, 30, 31, 32, 33, 34,\n",
       "       35, 36, 37, 38, 39, 40, 41, 42, 43, 44, 45, 46, 47, 48, 49])},\n",
       "             pre_dispatch='2*n_jobs', refit=True, return_train_score=False,\n",
       "             scoring=None, verbose=0)"
      ]
     },
     "execution_count": 5,
     "metadata": {},
     "output_type": "execute_result"
    }
   ],
   "source": [
    "knn = KNeighborsClassifier()\n",
    "knn_cv = GridSearchCV(knn, knn_params, cv=10)\n",
    "knn_cv.fit(X_train, y_train)"
   ]
  },
  {
   "cell_type": "code",
   "execution_count": 110,
   "metadata": {},
   "outputs": [
    {
     "name": "stdout",
     "output_type": "stream",
     "text": [
      "En iyi skor:0.9132620197837589\n",
      "En iyi parametreler: {'n_neighbors': 17}\n"
     ]
    }
   ],
   "source": [
    "print(\"En iyi skor:\" + str(knn_cv.best_score_))\n",
    "print(\"En iyi parametreler: \" + str(knn_cv.best_params_))"
   ]
  },
  {
   "cell_type": "markdown",
   "metadata": {},
   "source": [
    "17 sayısı en optimum olması gereken komşu sayımızdır."
   ]
  },
  {
   "cell_type": "code",
   "execution_count": 13,
   "metadata": {},
   "outputs": [],
   "source": [
    "knn = KNeighborsClassifier(17)\n",
    "knn_tuned = knn.fit(X_train, y_train)"
   ]
  },
  {
   "cell_type": "code",
   "execution_count": 14,
   "metadata": {},
   "outputs": [
    {
     "data": {
      "text/plain": [
       "0.9183168316831684"
      ]
     },
     "execution_count": 14,
     "metadata": {},
     "output_type": "execute_result"
    }
   ],
   "source": [
    "knn_tuned.score(X_test, y_test)"
   ]
  },
  {
   "cell_type": "code",
   "execution_count": 43,
   "metadata": {},
   "outputs": [],
   "source": [
    "y_pred = knn_tuned.predict(X_test)"
   ]
  },
  {
   "cell_type": "code",
   "execution_count": 44,
   "metadata": {},
   "outputs": [
    {
     "data": {
      "text/plain": [
       "0.9183168316831684"
      ]
     },
     "execution_count": 44,
     "metadata": {},
     "output_type": "execute_result"
    }
   ],
   "source": [
    "accuracy_score(y_test, y_pred)"
   ]
  },
  {
   "cell_type": "code",
   "execution_count": 45,
   "metadata": {},
   "outputs": [
    {
     "name": "stdout",
     "output_type": "stream",
     "text": [
      "              precision    recall  f1-score   support\n",
      "\n",
      "           0       0.92      1.00      0.96       369\n",
      "           1       1.00      0.06      0.11        35\n",
      "\n",
      "    accuracy                           0.92       404\n",
      "   macro avg       0.96      0.53      0.53       404\n",
      "weighted avg       0.93      0.92      0.88       404\n",
      "\n"
     ]
    }
   ],
   "source": [
    "print(classification_report(y_test, y_pred))"
   ]
  },
  {
   "cell_type": "markdown",
   "metadata": {},
   "source": [
    "Burada bulunan accuracy score çok iyidir.Ama testin gücünü ifade eden classification reporta bakarsak modelin borcunu ödemeyen insanları tahmin etmekte başarısız olduğunu görüyoruz.(%6)"
   ]
  },
  {
   "cell_type": "markdown",
   "metadata": {},
   "source": [
    "# SVC"
   ]
  },
  {
   "cell_type": "markdown",
   "metadata": {},
   "source": [
    "Support Vector Classification: Amaç iki sınıf arasındaki ayrımın optiumum olmasını sağlayacak hiper-düzlemi bulmaktır.En az hatayla maksimum noktayı bulmuştuk regresyonda burada ise içerisinde mümkün olduğunca az gözlem ayrıştırabilen marjin bulacağız."
   ]
  },
  {
   "cell_type": "markdown",
   "metadata": {},
   "source": [
    "# Model & Tahmin"
   ]
  },
  {
   "cell_type": "code",
   "execution_count": 55,
   "metadata": {},
   "outputs": [],
   "source": [
    "data = pd.read_csv(\"bankdata.csv\")\n",
    "df = data.copy()\n",
    "df = df.dropna()\n",
    "\n",
    "\n",
    "dummy_data = pd.get_dummies(data[[\"job\",\"reason\"]])\n",
    "y = df[\"bad\"]\n",
    "X =df.drop([\"job\",\"reason\",\"bad\"],axis=1)\n",
    "\n",
    "X_train, X_test, y_train, y_test = train_test_split(X, y, \n",
    "                                                    test_size=0.20, \n",
    "                                                    random_state=42)"
   ]
  },
  {
   "cell_type": "code",
   "execution_count": null,
   "metadata": {},
   "outputs": [],
   "source": [
    "svm_model = SVC(kernel = \"linear\").fit(X_train, y_train)"
   ]
  },
  {
   "cell_type": "code",
   "execution_count": null,
   "metadata": {},
   "outputs": [],
   "source": [
    "svm_model"
   ]
  },
  {
   "cell_type": "code",
   "execution_count": 119,
   "metadata": {},
   "outputs": [],
   "source": [
    "y_pred = svm_model.predict(X_test)"
   ]
  },
  {
   "cell_type": "code",
   "execution_count": 120,
   "metadata": {},
   "outputs": [
    {
     "data": {
      "text/plain": [
       "0.9207920792079208"
      ]
     },
     "execution_count": 120,
     "metadata": {},
     "output_type": "execute_result"
    }
   ],
   "source": [
    "accuracy_score(y_test, y_pred)"
   ]
  },
  {
   "cell_type": "markdown",
   "metadata": {},
   "source": [
    "# Model Tuning"
   ]
  },
  {
   "cell_type": "code",
   "execution_count": null,
   "metadata": {},
   "outputs": [
    {
     "name": "stdout",
     "output_type": "stream",
     "text": [
      "Fitting 10 folds for each of 9 candidates, totalling 90 fits\n"
     ]
    },
    {
     "name": "stderr",
     "output_type": "stream",
     "text": [
      "[Parallel(n_jobs=-1)]: Using backend LokyBackend with 4 concurrent workers.\n"
     ]
    }
   ],
   "source": [
    "svc_params = {\"C\": np.arange(1,10)}\n",
    "\n",
    "svc = SVC(kernel = \"linear\")\n",
    "\n",
    "svc_cv_model = GridSearchCV(svc,svc_params, \n",
    "                            cv = 10, \n",
    "                            n_jobs = -1, \n",
    "                            verbose = 2 )\n",
    "\n",
    "svc_cv_model.fit(X_train, y_train)"
   ]
  },
  {
   "cell_type": "code",
   "execution_count": null,
   "metadata": {},
   "outputs": [],
   "source": [
    "print(\"En iyi parametreler: \" + str(svc_cv_model.best_params_))"
   ]
  },
  {
   "cell_type": "code",
   "execution_count": null,
   "metadata": {},
   "outputs": [],
   "source": [
    "svc_tuned = SVC(kernel = \"linear\", C = 5).fit(X_train, y_train)"
   ]
  },
  {
   "cell_type": "code",
   "execution_count": null,
   "metadata": {},
   "outputs": [],
   "source": [
    "y_pred = svc_tuned.predict(X_test)\n",
    "accuracy_score(y_test, y_pred)"
   ]
  },
  {
   "cell_type": "markdown",
   "metadata": {},
   "source": [
    "# RBF SVC - Doğrusal Olmayan SVM"
   ]
  },
  {
   "cell_type": "markdown",
   "metadata": {},
   "source": [
    "# Model & Tahmin"
   ]
  },
  {
   "cell_type": "code",
   "execution_count": 55,
   "metadata": {},
   "outputs": [],
   "source": [
    "data = pd.read_csv(\"bankdata.csv\")\n",
    "df = data.copy()\n",
    "df = df.dropna()\n",
    "\n",
    "\n",
    "dummy_data = pd.get_dummies(data[[\"job\",\"reason\"]])\n",
    "y = df[\"bad\"]\n",
    "X =df.drop([\"job\",\"reason\",\"bad\"],axis=1)\n",
    "\n",
    "X_train, X_test, y_train, y_test = train_test_split(X, y, \n",
    "                                                    test_size=0.20, \n",
    "                                                    random_state=42)"
   ]
  },
  {
   "cell_type": "code",
   "execution_count": 56,
   "metadata": {},
   "outputs": [],
   "source": [
    "svc_model = SVC(kernel = \"rbf\").fit(X_train, y_train)"
   ]
  },
  {
   "cell_type": "code",
   "execution_count": 57,
   "metadata": {},
   "outputs": [
    {
     "data": {
      "text/plain": [
       "SVC(C=1.0, break_ties=False, cache_size=200, class_weight=None, coef0=0.0,\n",
       "    decision_function_shape='ovr', degree=3, gamma='scale', kernel='rbf',\n",
       "    max_iter=-1, probability=False, random_state=None, shrinking=True,\n",
       "    tol=0.001, verbose=False)"
      ]
     },
     "execution_count": 57,
     "metadata": {},
     "output_type": "execute_result"
    }
   ],
   "source": [
    "svc_model"
   ]
  },
  {
   "cell_type": "code",
   "execution_count": 58,
   "metadata": {},
   "outputs": [
    {
     "data": {
      "text/plain": [
       "0.9133663366336634"
      ]
     },
     "execution_count": 58,
     "metadata": {},
     "output_type": "execute_result"
    }
   ],
   "source": [
    "y_pred = svc_model.predict(X_test)\n",
    "accuracy_score(y_test, y_pred)"
   ]
  },
  {
   "cell_type": "markdown",
   "metadata": {},
   "source": [
    "# Model Tuning"
   ]
  },
  {
   "cell_type": "code",
   "execution_count": 59,
   "metadata": {},
   "outputs": [],
   "source": [
    "svc_params = {\"C\": [0.0001, 0.001, 0.1, 1, 5, 10 ,50 ,100],\n",
    "             \"gamma\": [0.0001, 0.001, 0.1, 1, 5, 10 ,50 ,100]}"
   ]
  },
  {
   "cell_type": "code",
   "execution_count": 182,
   "metadata": {},
   "outputs": [
    {
     "name": "stdout",
     "output_type": "stream",
     "text": [
      "Fitting 10 folds for each of 64 candidates, totalling 640 fits\n"
     ]
    },
    {
     "name": "stderr",
     "output_type": "stream",
     "text": [
      "[Parallel(n_jobs=-1)]: Using backend LokyBackend with 4 concurrent workers.\n",
      "[Parallel(n_jobs=-1)]: Done  58 tasks      | elapsed:    1.1s\n",
      "[Parallel(n_jobs=-1)]: Done 300 tasks      | elapsed:   17.3s\n",
      "[Parallel(n_jobs=-1)]: Done 525 tasks      | elapsed:   42.1s\n",
      "[Parallel(n_jobs=-1)]: Done 640 out of 640 | elapsed:   51.8s finished\n"
     ]
    },
    {
     "data": {
      "text/plain": [
       "GridSearchCV(cv=10, error_score=nan,\n",
       "             estimator=SVC(C=1.0, break_ties=False, cache_size=200,\n",
       "                           class_weight=None, coef0=0.0,\n",
       "                           decision_function_shape='ovr', degree=3,\n",
       "                           gamma='scale', kernel='rbf', max_iter=-1,\n",
       "                           probability=False, random_state=None, shrinking=True,\n",
       "                           tol=0.001, verbose=False),\n",
       "             iid='deprecated', n_jobs=-1,\n",
       "             param_grid={'C': [0.0001, 0.001, 0.1, 1, 5, 10, 50, 100],\n",
       "                         'gamma': [0.0001, 0.001, 0.1, 1, 5, 10, 50, 100]},\n",
       "             pre_dispatch='2*n_jobs', refit=True, return_train_score=False,\n",
       "             scoring=None, verbose=2)"
      ]
     },
     "execution_count": 182,
     "metadata": {},
     "output_type": "execute_result"
    }
   ],
   "source": [
    "svc = SVC()\n",
    "svc_cv_model = GridSearchCV(svc, svc_params, \n",
    "                         cv = 10, \n",
    "                         n_jobs = -1,\n",
    "                         verbose = 2)\n",
    "\n",
    "svc_cv_model.fit(X_train, y_train)"
   ]
  },
  {
   "cell_type": "code",
   "execution_count": 183,
   "metadata": {},
   "outputs": [
    {
     "name": "stdout",
     "output_type": "stream",
     "text": [
      "En iyi parametreler: {'C': 0.0001, 'gamma': 0.0001}\n"
     ]
    }
   ],
   "source": [
    "print(\"En iyi parametreler: \" + str(svc_cv_model.best_params_))"
   ]
  },
  {
   "cell_type": "code",
   "execution_count": 184,
   "metadata": {},
   "outputs": [],
   "source": [
    "svc_tuned = SVC(C = 10, gamma = 0.0001).fit(X_train, y_train)"
   ]
  },
  {
   "cell_type": "code",
   "execution_count": 185,
   "metadata": {},
   "outputs": [
    {
     "data": {
      "text/plain": [
       "0.9133663366336634"
      ]
     },
     "execution_count": 185,
     "metadata": {},
     "output_type": "execute_result"
    }
   ],
   "source": [
    "y_pred = svc_tuned.predict(X_test)\n",
    "accuracy_score(y_test, y_pred)"
   ]
  },
  {
   "cell_type": "markdown",
   "metadata": {},
   "source": [
    "^^Buradaki C parametresi, aykırı gözlemlerin göreceli olarak etkilerini kontrol altında tutup oluşacak olan düzlemin oluşmasını kontrol edecek sistemdir.\n",
    "\n",
    "^^Gama Kernelde kullanılan bir parametredir."
   ]
  },
  {
   "cell_type": "raw",
   "metadata": {},
   "source": [
    "Doğrusal ve doğrusal olmayan svc lerdeki accuracy score karşılaştırılacak."
   ]
  },
  {
   "cell_type": "markdown",
   "metadata": {},
   "source": [
    "# Yapay Sinir Ağları"
   ]
  },
  {
   "cell_type": "markdown",
   "metadata": {},
   "source": [
    "Yapay Sinir Ağları(YSA): İnsan beyninin bilgi işleme sistemini referans alan sınıflandırma ve regresyon problemleri için kullanılabilen yöntemlerdir."
   ]
  },
  {
   "cell_type": "markdown",
   "metadata": {},
   "source": [
    "# Model & Tahmin"
   ]
  },
  {
   "cell_type": "code",
   "execution_count": 43,
   "metadata": {},
   "outputs": [],
   "source": [
    "data = pd.read_csv(\"bankdata.csv\")\n",
    "df = data.copy()\n",
    "df = df.dropna()\n",
    "\n",
    "\n",
    "dummy_data = pd.get_dummies(data[[\"job\",\"reason\"]])\n",
    "y = df[\"bad\"]\n",
    "X =df.drop([\"job\",\"reason\",\"bad\"],axis=1)\n",
    "\n",
    "X_train, X_test, y_train, y_test = train_test_split(X, y, \n",
    "                                                    test_size=0.20, \n",
    "                                                    random_state=42)"
   ]
  },
  {
   "cell_type": "code",
   "execution_count": 44,
   "metadata": {},
   "outputs": [],
   "source": [
    "from sklearn.preprocessing import StandardScaler  "
   ]
  },
  {
   "cell_type": "code",
   "execution_count": 45,
   "metadata": {},
   "outputs": [],
   "source": [
    "scaler = StandardScaler()"
   ]
  },
  {
   "cell_type": "code",
   "execution_count": 46,
   "metadata": {},
   "outputs": [],
   "source": [
    "scaler.fit(X_train)\n",
    "X_train_scaled = scaler.transform(X_train)\n",
    "X_test_scaled = scaler.transform(X_test)"
   ]
  },
  {
   "cell_type": "code",
   "execution_count": 47,
   "metadata": {},
   "outputs": [
    {
     "data": {
      "text/plain": [
       "array([[ 0.68941255,  0.43085191,  0.47278238, -1.19625189,  1.56477931,\n",
       "        -0.33077825,  0.08497539,  0.54812556,  1.54776915,  0.12368953],\n",
       "       [ 0.22402982,  0.78514133,  1.32140428, -0.40593238, -0.27466265,\n",
       "        -0.33077825,  0.38291777,  1.7509463 ,  0.1817688 ,  1.05157074],\n",
       "       [-0.17747685,  1.07182394,  0.99841583, -0.66937222, -0.27466265,\n",
       "        -0.33077825, -0.28762812, -0.65469518, -0.13346205, -0.98016717],\n",
       "       [-0.25047806, -1.2014695 ,  1.08722937, -0.01077263, -0.27466265,\n",
       "        -0.33077825,  1.45637631, -0.65469518,  0.49699965, -0.76576556],\n",
       "       [-1.08086685,  0.51487143,  0.17545567,  1.70158629, -0.27466265,\n",
       "        -0.33077825, -0.72412658, -0.65469518, -1.18423155,  0.40640423]])"
      ]
     },
     "execution_count": 47,
     "metadata": {},
     "output_type": "execute_result"
    }
   ],
   "source": [
    "X_test_scaled[0:5]"
   ]
  },
  {
   "cell_type": "code",
   "execution_count": 48,
   "metadata": {},
   "outputs": [],
   "source": [
    "from sklearn.neural_network import MLPClassifier"
   ]
  },
  {
   "cell_type": "code",
   "execution_count": 49,
   "metadata": {},
   "outputs": [],
   "source": [
    "mlpc = MLPClassifier().fit(X_train_scaled, y_train)"
   ]
  },
  {
   "cell_type": "code",
   "execution_count": 50,
   "metadata": {},
   "outputs": [
    {
     "data": {
      "text/plain": [
       "0.948019801980198"
      ]
     },
     "execution_count": 50,
     "metadata": {},
     "output_type": "execute_result"
    }
   ],
   "source": [
    "y_pred = mlpc.predict(X_test_scaled)\n",
    "accuracy_score(y_test, y_pred)"
   ]
  },
  {
   "cell_type": "markdown",
   "metadata": {},
   "source": [
    "Parametre girmeden modeli bir fonksiyon şeklinde kurduk."
   ]
  },
  {
   "cell_type": "markdown",
   "metadata": {},
   "source": [
    "# Model Tuning"
   ]
  },
  {
   "cell_type": "code",
   "execution_count": 51,
   "metadata": {},
   "outputs": [
    {
     "data": {
      "text/plain": [
       "MLPClassifier(activation='relu', alpha=0.0001, batch_size='auto', beta_1=0.9,\n",
       "              beta_2=0.999, early_stopping=False, epsilon=1e-08,\n",
       "              hidden_layer_sizes=(100,), learning_rate='constant',\n",
       "              learning_rate_init=0.001, max_fun=15000, max_iter=200,\n",
       "              momentum=0.9, n_iter_no_change=10, nesterovs_momentum=True,\n",
       "              power_t=0.5, random_state=None, shuffle=True, solver='adam',\n",
       "              tol=0.0001, validation_fraction=0.1, verbose=False,\n",
       "              warm_start=False)"
      ]
     },
     "execution_count": 51,
     "metadata": {},
     "output_type": "execute_result"
    }
   ],
   "source": [
    "mlpc"
   ]
  },
  {
   "cell_type": "code",
   "execution_count": 52,
   "metadata": {},
   "outputs": [],
   "source": [
    "mlpc_params = {\"alpha\": [0.1, 0.01, 0.02, 0.005, 0.0001,0.00001],\n",
    "              \"hidden_layer_sizes\": [(10,10,10),\n",
    "                                     (100,100,100),\n",
    "                                     (100,100),\n",
    "                                     (3,5), \n",
    "                                     (5, 3)],\n",
    "              \"solver\" : [\"lbfgs\",\"adam\",\"sgd\"],\n",
    "              \"activation\": [\"relu\",\"logistic\"]}\n"
   ]
  },
  {
   "cell_type": "code",
   "execution_count": 19,
   "metadata": {},
   "outputs": [
    {
     "name": "stdout",
     "output_type": "stream",
     "text": [
      "Fitting 10 folds for each of 180 candidates, totalling 1800 fits\n"
     ]
    },
    {
     "name": "stderr",
     "output_type": "stream",
     "text": [
      "[Parallel(n_jobs=-1)]: Using backend LokyBackend with 4 concurrent workers.\n",
      "[Parallel(n_jobs=-1)]: Done  33 tasks      | elapsed:  1.1min\n",
      "[Parallel(n_jobs=-1)]: Done 154 tasks      | elapsed:  7.0min\n",
      "[Parallel(n_jobs=-1)]: Done 357 tasks      | elapsed: 14.4min\n",
      "[Parallel(n_jobs=-1)]: Done 640 tasks      | elapsed: 19.8min\n",
      "[Parallel(n_jobs=-1)]: Done 1005 tasks      | elapsed: 26.8min\n",
      "[Parallel(n_jobs=-1)]: Done 1450 tasks      | elapsed: 32.7min\n",
      "[Parallel(n_jobs=-1)]: Done 1800 out of 1800 | elapsed: 37.0min finished\n"
     ]
    },
    {
     "data": {
      "text/plain": [
       "GridSearchCV(cv=10, error_score=nan,\n",
       "             estimator=MLPClassifier(activation='relu', alpha=0.0001,\n",
       "                                     batch_size='auto', beta_1=0.9,\n",
       "                                     beta_2=0.999, early_stopping=False,\n",
       "                                     epsilon=1e-08, hidden_layer_sizes=(100,),\n",
       "                                     learning_rate='constant',\n",
       "                                     learning_rate_init=0.001, max_fun=15000,\n",
       "                                     max_iter=200, momentum=0.9,\n",
       "                                     n_iter_no_change=10,\n",
       "                                     nesterovs_momentum=True, power_t=0.5,\n",
       "                                     random_stat...\n",
       "                                     validation_fraction=0.1, verbose=False,\n",
       "                                     warm_start=False),\n",
       "             iid='deprecated', n_jobs=-1,\n",
       "             param_grid={'activation': ['relu', 'logistic'],\n",
       "                         'alpha': [0.1, 0.01, 0.02, 0.005, 0.0001, 1e-05],\n",
       "                         'hidden_layer_sizes': [(10, 10, 10), (100, 100, 100),\n",
       "                                                (100, 100), (3, 5), (5, 3)],\n",
       "                         'solver': ['lbfgs', 'adam', 'sgd']},\n",
       "             pre_dispatch='2*n_jobs', refit=True, return_train_score=False,\n",
       "             scoring=None, verbose=2)"
      ]
     },
     "execution_count": 19,
     "metadata": {},
     "output_type": "execute_result"
    }
   ],
   "source": [
    "mlpc = MLPClassifier()\n",
    "mlpc_cv_model = GridSearchCV(mlpc, mlpc_params, \n",
    "                         cv = 10, \n",
    "                         n_jobs = -1,\n",
    "                         verbose = 2)\n",
    "\n",
    "mlpc_cv_model.fit(X_train_scaled, y_train)"
   ]
  },
  {
   "cell_type": "code",
   "execution_count": 20,
   "metadata": {},
   "outputs": [
    {
     "name": "stdout",
     "output_type": "stream",
     "text": [
      "En iyi parametreler: {'activation': 'relu', 'alpha': 0.01, 'hidden_layer_sizes': (100, 100, 100), 'solver': 'adam'}\n"
     ]
    }
   ],
   "source": [
    "print(\"En iyi parametreler: \" + str(mlpc_cv_model.best_params_))"
   ]
  },
  {
   "cell_type": "code",
   "execution_count": 53,
   "metadata": {},
   "outputs": [],
   "source": [
    "mlpc_tuned = MLPClassifier(activation = \"relu\", \n",
    "                           alpha = 0.0001, \n",
    "                           hidden_layer_sizes = (100, 100, 100),\n",
    "                          solver = \"adam\")"
   ]
  },
  {
   "cell_type": "code",
   "execution_count": 54,
   "metadata": {},
   "outputs": [
    {
     "data": {
      "text/plain": [
       "MLPClassifier(activation='relu', alpha=0.0001, batch_size='auto', beta_1=0.9,\n",
       "              beta_2=0.999, early_stopping=False, epsilon=1e-08,\n",
       "              hidden_layer_sizes=(100, 100, 100), learning_rate='constant',\n",
       "              learning_rate_init=0.001, max_fun=15000, max_iter=200,\n",
       "              momentum=0.9, n_iter_no_change=10, nesterovs_momentum=True,\n",
       "              power_t=0.5, random_state=None, shuffle=True, solver='adam',\n",
       "              tol=0.0001, validation_fraction=0.1, verbose=False,\n",
       "              warm_start=False)"
      ]
     },
     "execution_count": 54,
     "metadata": {},
     "output_type": "execute_result"
    }
   ],
   "source": [
    "mlpc_tuned.fit(X_train_scaled, y_train)"
   ]
  },
  {
   "cell_type": "code",
   "execution_count": 55,
   "metadata": {},
   "outputs": [
    {
     "data": {
      "text/plain": [
       "0.9529702970297029"
      ]
     },
     "execution_count": 55,
     "metadata": {},
     "output_type": "execute_result"
    }
   ],
   "source": [
    "y_pred = mlpc_tuned.predict(X_test_scaled)\n",
    "accuracy_score(y_test, y_pred)"
   ]
  },
  {
   "cell_type": "markdown",
   "metadata": {},
   "source": [
    "# CART"
   ]
  },
  {
   "cell_type": "markdown",
   "metadata": {},
   "source": [
    "# Model & Tahmin"
   ]
  },
  {
   "cell_type": "code",
   "execution_count": 57,
   "metadata": {},
   "outputs": [],
   "source": [
    "data = pd.read_csv(\"bankdata.csv\")\n",
    "df = data.copy()\n",
    "df = df.dropna()\n",
    "\n",
    "\n",
    "dummy_data = pd.get_dummies(data[[\"job\",\"reason\"]])\n",
    "y = df[\"bad\"]\n",
    "X =df.drop([\"job\",\"reason\",\"bad\"],axis=1)\n",
    "\n",
    "X_train, X_test, y_train, y_test = train_test_split(X, y, \n",
    "                                                    test_size=0.20, \n",
    "                                                    random_state=42)"
   ]
  },
  {
   "cell_type": "code",
   "execution_count": 58,
   "metadata": {},
   "outputs": [],
   "source": [
    "from sklearn.tree import DecisionTreeClassifier"
   ]
  },
  {
   "cell_type": "code",
   "execution_count": 59,
   "metadata": {},
   "outputs": [],
   "source": [
    "cart = DecisionTreeClassifier()\n",
    "cart_model = cart.fit(X_train, y_train)"
   ]
  },
  {
   "cell_type": "code",
   "execution_count": 60,
   "metadata": {},
   "outputs": [
    {
     "data": {
      "text/plain": [
       "DecisionTreeClassifier(ccp_alpha=0.0, class_weight=None, criterion='gini',\n",
       "                       max_depth=None, max_features=None, max_leaf_nodes=None,\n",
       "                       min_impurity_decrease=0.0, min_impurity_split=None,\n",
       "                       min_samples_leaf=1, min_samples_split=2,\n",
       "                       min_weight_fraction_leaf=0.0, presort='deprecated',\n",
       "                       random_state=None, splitter='best')"
      ]
     },
     "execution_count": 60,
     "metadata": {},
     "output_type": "execute_result"
    }
   ],
   "source": [
    "cart_model"
   ]
  },
  {
   "cell_type": "code",
   "execution_count": 98,
   "metadata": {},
   "outputs": [
    {
     "name": "stdout",
     "output_type": "stream",
     "text": [
      "Collecting skompiler\n",
      "  Downloading SKompiler-0.5.5.tar.gz (48 kB)\n",
      "Requirement already satisfied: scikit-learn in c:\\programdata\\anaconda3\\lib\\site-packages (from skompiler) (0.22.1)\n",
      "Requirement already satisfied: numpy>=1.11.0 in c:\\programdata\\anaconda3\\lib\\site-packages (from scikit-learn->skompiler) (1.18.1)\n",
      "Requirement already satisfied: joblib>=0.11 in c:\\programdata\\anaconda3\\lib\\site-packages (from scikit-learn->skompiler) (0.14.1)\n",
      "Requirement already satisfied: scipy>=0.17.0 in c:\\programdata\\anaconda3\\lib\\site-packages (from scikit-learn->skompiler) (1.4.1)\n",
      "Building wheels for collected packages: skompiler\n",
      "  Building wheel for skompiler (setup.py): started\n",
      "  Building wheel for skompiler (setup.py): finished with status 'done'\n",
      "  Created wheel for skompiler: filename=SKompiler-0.5.5-py3-none-any.whl size=57151 sha256=185ab33f61297a1046b13148f458c17c948119659b01246ba38af10f9a8dd04b\n",
      "  Stored in directory: c:\\users\\dell®­\\appdata\\local\\pip\\cache\\wheels\\1f\\f6\\09\\b8aec43d39ab30463488d91526f29ba56155a6a6d61cf69986\n",
      "Successfully built skompiler\n",
      "Installing collected packages: skompiler\n",
      "Successfully installed skompiler-0.5.5\n"
     ]
    }
   ],
   "source": [
    "!pip install skompiler"
   ]
  },
  {
   "cell_type": "code",
   "execution_count": 99,
   "metadata": {},
   "outputs": [],
   "source": [
    "from skompiler import skompile\n"
   ]
  },
  {
   "cell_type": "code",
   "execution_count": null,
   "metadata": {},
   "outputs": [],
   "source": [
    "print(skompile(cart_model.predict).to(\"python/code\"))"
   ]
  },
  {
   "cell_type": "code",
   "execution_count": 110,
   "metadata": {},
   "outputs": [],
   "source": [
    "x = [9]"
   ]
  },
  {
   "cell_type": "code",
   "execution_count": 111,
   "metadata": {},
   "outputs": [
    {
     "data": {
      "text/plain": [
       "1"
      ]
     },
     "execution_count": 111,
     "metadata": {},
     "output_type": "execute_result"
    }
   ],
   "source": [
    "((0 if x[0] <= 2.5 else 0) if x[0] <= 6.5 else 1 if x[0] <= 13.5 else 1)"
   ]
  },
  {
   "cell_type": "code",
   "execution_count": 112,
   "metadata": {},
   "outputs": [
    {
     "data": {
      "text/plain": [
       "0.9257425742574258"
      ]
     },
     "execution_count": 112,
     "metadata": {},
     "output_type": "execute_result"
    }
   ],
   "source": [
    "y_pred = cart_model.predict(X_test)\n",
    "accuracy_score(y_test, y_pred)"
   ]
  },
  {
   "cell_type": "markdown",
   "metadata": {},
   "source": [
    "# Model Tuning"
   ]
  },
  {
   "cell_type": "code",
   "execution_count": 61,
   "metadata": {},
   "outputs": [
    {
     "data": {
      "text/plain": [
       "DecisionTreeClassifier(ccp_alpha=0.0, class_weight=None, criterion='gini',\n",
       "                       max_depth=None, max_features=None, max_leaf_nodes=None,\n",
       "                       min_impurity_decrease=0.0, min_impurity_split=None,\n",
       "                       min_samples_leaf=1, min_samples_split=2,\n",
       "                       min_weight_fraction_leaf=0.0, presort='deprecated',\n",
       "                       random_state=None, splitter='best')"
      ]
     },
     "execution_count": 61,
     "metadata": {},
     "output_type": "execute_result"
    }
   ],
   "source": [
    "cart_model"
   ]
  },
  {
   "cell_type": "code",
   "execution_count": 62,
   "metadata": {},
   "outputs": [],
   "source": [
    "cart_grid = {\"max_depth\": range(1,10),\n",
    "            \"min_samples_split\" : list(range(2,50)) }"
   ]
  },
  {
   "cell_type": "code",
   "execution_count": 63,
   "metadata": {},
   "outputs": [
    {
     "name": "stdout",
     "output_type": "stream",
     "text": [
      "Fitting 10 folds for each of 432 candidates, totalling 4320 fits\n"
     ]
    },
    {
     "name": "stderr",
     "output_type": "stream",
     "text": [
      "[Parallel(n_jobs=-1)]: Using backend LokyBackend with 4 concurrent workers.\n",
      "[Parallel(n_jobs=-1)]: Done  34 tasks      | elapsed:    2.2s\n",
      "[Parallel(n_jobs=-1)]: Done 1712 tasks      | elapsed:    8.4s\n",
      "[Parallel(n_jobs=-1)]: Done 4320 out of 4320 | elapsed:   23.9s finished\n"
     ]
    }
   ],
   "source": [
    "cart = tree.DecisionTreeClassifier()\n",
    "cart_cv = GridSearchCV(cart, cart_grid, cv = 10, n_jobs = -1, verbose = 2)\n",
    "cart_cv_model = cart_cv.fit(X_train, y_train)"
   ]
  },
  {
   "cell_type": "code",
   "execution_count": 64,
   "metadata": {},
   "outputs": [
    {
     "name": "stdout",
     "output_type": "stream",
     "text": [
      "En iyi parametreler: {'max_depth': 9, 'min_samples_split': 2}\n"
     ]
    }
   ],
   "source": [
    "print(\"En iyi parametreler: \" + str(cart_cv_model.best_params_))"
   ]
  },
  {
   "cell_type": "markdown",
   "metadata": {},
   "source": [
    "#final"
   ]
  },
  {
   "cell_type": "code",
   "execution_count": 65,
   "metadata": {},
   "outputs": [],
   "source": [
    "cart = tree.DecisionTreeClassifier(max_depth = 7, min_samples_split = 22)\n",
    "cart_tuned = cart.fit(X_train, y_train)"
   ]
  },
  {
   "cell_type": "code",
   "execution_count": 66,
   "metadata": {},
   "outputs": [
    {
     "data": {
      "text/plain": [
       "0.9381188118811881"
      ]
     },
     "execution_count": 66,
     "metadata": {},
     "output_type": "execute_result"
    }
   ],
   "source": [
    "y_pred = cart_tuned.predict(X_test)\n",
    "accuracy_score(y_test, y_pred)"
   ]
  },
  {
   "cell_type": "markdown",
   "metadata": {},
   "source": [
    "# Random Forests"
   ]
  },
  {
   "cell_type": "markdown",
   "metadata": {},
   "source": [
    "^^ Birden çok karar ağacının tahminlerinin bir araya getirilerek yeni bir ağaç topluluğu oluşması.\n",
    "\n",
    "^^Kullanımı ,uygulanması ve sistem entegrrasyonu kolaydır.Hem regresyon hem classification gerçekleştirebilir.\n",
    "\n",
    "^^Veri setindeki sonuç değişkeni ile ilgili en iyi kararı verebilmek amacıyla diğer bağımsız değişkenler için en iyi kombinasyonları oluşturmaya çalışır.\n",
    "\n",
    "^^Gözlem seçiminde rassallığı sağlar,değişkenler random subspace yöntemi ile seçilir.\n",
    "\n",
    "^^Ağaçlar düğüme ayrılır burada en üstteki değişken en önemli değişkendir.Hangi değişkenlere uygulanacağı bu değişkenlerden rastgele seçilir.(Daha küçük)\n",
    "\n",
    "^^Ağaç oluşturmada veri setinin 2/3'ü kullanılır.Kalanı test için."
   ]
  },
  {
   "cell_type": "code",
   "execution_count": 68,
   "metadata": {},
   "outputs": [],
   "source": [
    "data = pd.read_csv(\"bankdata.csv\")\n",
    "df = data.copy()\n",
    "df = df.dropna()\n",
    "\n",
    "\n",
    "dummy_data = pd.get_dummies(data[[\"job\",\"reason\"]])\n",
    "y = df[\"bad\"]\n",
    "X =df.drop([\"job\",\"reason\",\"bad\"],axis=1)\n",
    "\n",
    "X_train, X_test, y_train, y_test = train_test_split(X, y, \n",
    "                                                    test_size=0.20, \n",
    "                                                    random_state=42)"
   ]
  },
  {
   "cell_type": "code",
   "execution_count": 69,
   "metadata": {},
   "outputs": [],
   "source": [
    "from sklearn.ensemble import RandomForestClassifier"
   ]
  },
  {
   "cell_type": "code",
   "execution_count": 70,
   "metadata": {},
   "outputs": [],
   "source": [
    "rf_model = RandomForestClassifier().fit(X_train, y_train)"
   ]
  },
  {
   "cell_type": "code",
   "execution_count": 71,
   "metadata": {},
   "outputs": [
    {
     "data": {
      "text/plain": [
       "RandomForestClassifier(bootstrap=True, ccp_alpha=0.0, class_weight=None,\n",
       "                       criterion='gini', max_depth=None, max_features='auto',\n",
       "                       max_leaf_nodes=None, max_samples=None,\n",
       "                       min_impurity_decrease=0.0, min_impurity_split=None,\n",
       "                       min_samples_leaf=1, min_samples_split=2,\n",
       "                       min_weight_fraction_leaf=0.0, n_estimators=100,\n",
       "                       n_jobs=None, oob_score=False, random_state=None,\n",
       "                       verbose=0, warm_start=False)"
      ]
     },
     "execution_count": 71,
     "metadata": {},
     "output_type": "execute_result"
    }
   ],
   "source": [
    "rf_model"
   ]
  },
  {
   "cell_type": "code",
   "execution_count": 72,
   "metadata": {},
   "outputs": [
    {
     "data": {
      "text/plain": [
       "0.948019801980198"
      ]
     },
     "execution_count": 72,
     "metadata": {},
     "output_type": "execute_result"
    }
   ],
   "source": [
    "y_pred = rf_model.predict(X_test)\n",
    "accuracy_score(y_test, y_pred)"
   ]
  },
  {
   "cell_type": "markdown",
   "metadata": {},
   "source": [
    "# Model Tuning"
   ]
  },
  {
   "cell_type": "code",
   "execution_count": 73,
   "metadata": {},
   "outputs": [
    {
     "data": {
      "text/plain": [
       "RandomForestClassifier(bootstrap=True, ccp_alpha=0.0, class_weight=None,\n",
       "                       criterion='gini', max_depth=None, max_features='auto',\n",
       "                       max_leaf_nodes=None, max_samples=None,\n",
       "                       min_impurity_decrease=0.0, min_impurity_split=None,\n",
       "                       min_samples_leaf=1, min_samples_split=2,\n",
       "                       min_weight_fraction_leaf=0.0, n_estimators=100,\n",
       "                       n_jobs=None, oob_score=False, random_state=None,\n",
       "                       verbose=0, warm_start=False)"
      ]
     },
     "execution_count": 73,
     "metadata": {},
     "output_type": "execute_result"
    }
   ],
   "source": [
    "rf_model"
   ]
  },
  {
   "cell_type": "code",
   "execution_count": 74,
   "metadata": {},
   "outputs": [],
   "source": [
    "rf_params = {\"max_depth\": [2,5,8,10],\n",
    "            \"max_features\": [2,5,8],\n",
    "            \"n_estimators\": [10,500,1000],\n",
    "            \"min_samples_split\": [2,5,10]}"
   ]
  },
  {
   "cell_type": "code",
   "execution_count": 75,
   "metadata": {},
   "outputs": [],
   "source": [
    "rf_model = RandomForestClassifier()\n",
    "\n",
    "rf_cv_model = GridSearchCV(rf_model, \n",
    "                           rf_params, \n",
    "                           cv = 10, \n",
    "                           n_jobs = -1, \n",
    "                           verbose = 2) "
   ]
  },
  {
   "cell_type": "code",
   "execution_count": 127,
   "metadata": {},
   "outputs": [
    {
     "name": "stdout",
     "output_type": "stream",
     "text": [
      "Fitting 10 folds for each of 108 candidates, totalling 1080 fits\n"
     ]
    },
    {
     "name": "stderr",
     "output_type": "stream",
     "text": [
      "[Parallel(n_jobs=-1)]: Using backend LokyBackend with 4 concurrent workers.\n",
      "[Parallel(n_jobs=-1)]: Done  49 tasks      | elapsed:   13.8s\n",
      "[Parallel(n_jobs=-1)]: Done 170 tasks      | elapsed:  1.0min\n",
      "[Parallel(n_jobs=-1)]: Done 373 tasks      | elapsed:  2.5min\n",
      "[Parallel(n_jobs=-1)]: Done 656 tasks      | elapsed:  5.3min\n",
      "[Parallel(n_jobs=-1)]: Done 1021 tasks      | elapsed: 10.1min\n",
      "[Parallel(n_jobs=-1)]: Done 1080 out of 1080 | elapsed: 11.3min finished\n"
     ]
    },
    {
     "data": {
      "text/plain": [
       "GridSearchCV(cv=10, error_score=nan,\n",
       "             estimator=RandomForestClassifier(bootstrap=True, ccp_alpha=0.0,\n",
       "                                              class_weight=None,\n",
       "                                              criterion='gini', max_depth=None,\n",
       "                                              max_features='auto',\n",
       "                                              max_leaf_nodes=None,\n",
       "                                              max_samples=None,\n",
       "                                              min_impurity_decrease=0.0,\n",
       "                                              min_impurity_split=None,\n",
       "                                              min_samples_leaf=1,\n",
       "                                              min_samples_split=2,\n",
       "                                              min_weight_fraction_leaf=0.0,\n",
       "                                              n_estimators=100, n_jobs=None,\n",
       "                                              oob_score=False,\n",
       "                                              random_state=None, verbose=0,\n",
       "                                              warm_start=False),\n",
       "             iid='deprecated', n_jobs=-1,\n",
       "             param_grid={'max_depth': [2, 5, 8, 10], 'max_features': [2, 5, 8],\n",
       "                         'min_samples_split': [2, 5, 10],\n",
       "                         'n_estimators': [10, 500, 1000]},\n",
       "             pre_dispatch='2*n_jobs', refit=True, return_train_score=False,\n",
       "             scoring=None, verbose=2)"
      ]
     },
     "execution_count": 127,
     "metadata": {},
     "output_type": "execute_result"
    }
   ],
   "source": [
    "rf_cv_model.fit(X_train, y_train)"
   ]
  },
  {
   "cell_type": "code",
   "execution_count": 128,
   "metadata": {},
   "outputs": [
    {
     "name": "stdout",
     "output_type": "stream",
     "text": [
      "En iyi parametreler: {'max_depth': 10, 'max_features': 5, 'min_samples_split': 2, 'n_estimators': 1000}\n"
     ]
    }
   ],
   "source": [
    "print(\"En iyi parametreler: \" + str(rf_cv_model.best_params_))"
   ]
  },
  {
   "cell_type": "markdown",
   "metadata": {},
   "source": [
    "#final"
   ]
  },
  {
   "cell_type": "code",
   "execution_count": 78,
   "metadata": {},
   "outputs": [
    {
     "data": {
      "text/plain": [
       "RandomForestClassifier(bootstrap=True, ccp_alpha=0.0, class_weight=None,\n",
       "                       criterion='gini', max_depth=10, max_features=5,\n",
       "                       max_leaf_nodes=None, max_samples=None,\n",
       "                       min_impurity_decrease=0.0, min_impurity_split=None,\n",
       "                       min_samples_leaf=1, min_samples_split=2,\n",
       "                       min_weight_fraction_leaf=0.0, n_estimators=1000,\n",
       "                       n_jobs=None, oob_score=False, random_state=None,\n",
       "                       verbose=0, warm_start=False)"
      ]
     },
     "execution_count": 78,
     "metadata": {},
     "output_type": "execute_result"
    }
   ],
   "source": [
    "rf_tuned = RandomForestClassifier(max_depth = 10, \n",
    "                                  max_features = 5, \n",
    "                                  min_samples_split = 2,\n",
    "                                  n_estimators = 1000)\n",
    "\n",
    "rf_tuned.fit(X_train, y_train)"
   ]
  },
  {
   "cell_type": "code",
   "execution_count": 79,
   "metadata": {},
   "outputs": [
    {
     "data": {
      "text/plain": [
       "0.9455445544554455"
      ]
     },
     "execution_count": 79,
     "metadata": {},
     "output_type": "execute_result"
    }
   ],
   "source": [
    "y_pred = rf_tuned.predict(X_test)\n",
    "accuracy_score(y_test, y_pred)"
   ]
  },
  {
   "cell_type": "code",
   "execution_count": 131,
   "metadata": {},
   "outputs": [],
   "source": [
    "Importance = pd.DataFrame({\"Importance\": rf_tuned.feature_importances_*100},\n",
    "                         index = X_train.columns)"
   ]
  },
  {
   "cell_type": "markdown",
   "metadata": {},
   "source": [
    "**Değişken önem düzeyi bulma işlemi yaptık.\n",
    "\n",
    "**Yapılan bu modelde kredi borcunu ödeyip ödememe durumunu etkileyen diğer değişkenlere baktığımızda debtinc,derog value değişkenleri ilk 3 sırada önem taşımaktadır.\n",
    "\n",
    "***DEBTINC : Debt-to-income ratio #borç-gelir oranı , DEROG : Number of major derogatory reports #uygunsuz davranis raporlarinin sayısı , *VALUE : Value of current property #value: bulunan mal değeri\n",
    "    \n",
    "**Buradaki yorum şu şekilde olabilir: Kişini krediyi ödeyip ödememe durumu güncel mal varlığına (value), borç-gelir oranına(debtinc)bağlıdır. "
   ]
  },
  {
   "cell_type": "code",
   "execution_count": 132,
   "metadata": {},
   "outputs": [
    {
     "data": {
      "text/plain": [
       "Text(0.5, 0, 'Değişken Önem Düzeyleri')"
      ]
     },
     "execution_count": 132,
     "metadata": {},
     "output_type": "execute_result"
    },
    {
     "data": {
      "image/png": "[encoded data removed]",
      "text/plain": [
       "<Figure size 432x288 with 1 Axes>"
      ]
     },
     "metadata": {
      "needs_background": "light"
     },
     "output_type": "display_data"
    }
   ],
   "source": [
    "Importance.sort_values(by = \"Importance\", \n",
    "                       axis = 0, \n",
    "                       ascending = True).plot(kind =\"barh\", color = \"r\")\n",
    "\n",
    "plt.xlabel(\"Değişken Önem Düzeyleri\")"
   ]
  },
  {
   "cell_type": "markdown",
   "metadata": {},
   "source": [
    "# Gradient Boosting Machines"
   ]
  },
  {
   "cell_type": "markdown",
   "metadata": {},
   "source": [
    "Burada artıklar üzerine tek bir tahminsel model formunda olan model serileri kurulur.\n",
    "\n",
    "Adaboost: Adaptive Boosting = Zayıf öğrenicileri bir araya getirip güçlü bir sınıflandırıcı çıkabilir mi diye uğraşılır.\n",
    "\n",
    "^^Seri içerisindeki bir model , bir önceki modelin tahmin artıklarının residualların üzerine fit edilerek model oluşturulur."
   ]
  },
  {
   "cell_type": "code",
   "execution_count": 80,
   "metadata": {},
   "outputs": [],
   "source": [
    "data = pd.read_csv(\"bankdata.csv\")\n",
    "df = data.copy()\n",
    "df = df.dropna()\n",
    "\n",
    "\n",
    "dummy_data = pd.get_dummies(data[[\"job\",\"reason\"]])\n",
    "y = df[\"bad\"]\n",
    "X =df.drop([\"job\",\"reason\",\"bad\"],axis=1)\n",
    "\n",
    "X_train, X_test, y_train, y_test = train_test_split(X, y, \n",
    "                                                    test_size=0.20, \n",
    "                                                    random_state=42)"
   ]
  },
  {
   "cell_type": "code",
   "execution_count": 81,
   "metadata": {},
   "outputs": [],
   "source": [
    "from sklearn.ensemble import GradientBoostingClassifier"
   ]
  },
  {
   "cell_type": "code",
   "execution_count": 82,
   "metadata": {},
   "outputs": [],
   "source": [
    "gbm_model = GradientBoostingClassifier().fit(X_train, y_train)"
   ]
  },
  {
   "cell_type": "code",
   "execution_count": 83,
   "metadata": {},
   "outputs": [
    {
     "data": {
      "text/plain": [
       "0.9529702970297029"
      ]
     },
     "execution_count": 83,
     "metadata": {},
     "output_type": "execute_result"
    }
   ],
   "source": [
    "y_pred = gbm_model.predict(X_test)\n",
    "accuracy_score(y_test, y_pred)"
   ]
  },
  {
   "cell_type": "markdown",
   "metadata": {},
   "source": [
    "# Model Tuning"
   ]
  },
  {
   "cell_type": "code",
   "execution_count": 84,
   "metadata": {},
   "outputs": [
    {
     "data": {
      "text/plain": [
       "GradientBoostingClassifier(ccp_alpha=0.0, criterion='friedman_mse', init=None,\n",
       "                           learning_rate=0.1, loss='deviance', max_depth=3,\n",
       "                           max_features=None, max_leaf_nodes=None,\n",
       "                           min_impurity_decrease=0.0, min_impurity_split=None,\n",
       "                           min_samples_leaf=1, min_samples_split=2,\n",
       "                           min_weight_fraction_leaf=0.0, n_estimators=100,\n",
       "                           n_iter_no_change=None, presort='deprecated',\n",
       "                           random_state=None, subsample=1.0, tol=0.0001,\n",
       "                           validation_fraction=0.1, verbose=0,\n",
       "                           warm_start=False)"
      ]
     },
     "execution_count": 84,
     "metadata": {},
     "output_type": "execute_result"
    }
   ],
   "source": [
    "gbm_model"
   ]
  },
  {
   "cell_type": "code",
   "execution_count": 85,
   "metadata": {},
   "outputs": [],
   "source": [
    "gbm_params = {\"learning_rate\" : [0.001, 0.01, 0.1, 0.05],\n",
    "             \"n_estimators\": [100,500,100],\n",
    "             \"max_depth\": [3,5,10],\n",
    "             \"min_samples_split\": [2,5,10]}"
   ]
  },
  {
   "cell_type": "code",
   "execution_count": 86,
   "metadata": {},
   "outputs": [],
   "source": [
    "gbm = GradientBoostingClassifier()\n",
    "\n",
    "gbm_cv = GridSearchCV(gbm, gbm_params, cv = 10, n_jobs = -1, verbose = 2)"
   ]
  },
  {
   "cell_type": "code",
   "execution_count": 33,
   "metadata": {},
   "outputs": [
    {
     "name": "stdout",
     "output_type": "stream",
     "text": [
      "Fitting 10 folds for each of 108 candidates, totalling 1080 fits\n"
     ]
    },
    {
     "name": "stderr",
     "output_type": "stream",
     "text": [
      "[Parallel(n_jobs=-1)]: Using backend LokyBackend with 4 concurrent workers.\n",
      "[Parallel(n_jobs=-1)]: Done  33 tasks      | elapsed:   15.4s\n",
      "[Parallel(n_jobs=-1)]: Done 154 tasks      | elapsed:  1.5min\n",
      "[Parallel(n_jobs=-1)]: Done 357 tasks      | elapsed:  4.8min\n",
      "[Parallel(n_jobs=-1)]: Done 640 tasks      | elapsed:  9.3min\n",
      "[Parallel(n_jobs=-1)]: Done 1005 tasks      | elapsed: 14.1min\n",
      "[Parallel(n_jobs=-1)]: Done 1080 out of 1080 | elapsed: 15.4min finished\n"
     ]
    },
    {
     "data": {
      "text/plain": [
       "GridSearchCV(cv=10, error_score=nan,\n",
       "             estimator=GradientBoostingClassifier(ccp_alpha=0.0,\n",
       "                                                  criterion='friedman_mse',\n",
       "                                                  init=None, learning_rate=0.1,\n",
       "                                                  loss='deviance', max_depth=3,\n",
       "                                                  max_features=None,\n",
       "                                                  max_leaf_nodes=None,\n",
       "                                                  min_impurity_decrease=0.0,\n",
       "                                                  min_impurity_split=None,\n",
       "                                                  min_samples_leaf=1,\n",
       "                                                  min_samples_split=2,\n",
       "                                                  min_weight_fraction_leaf=0.0,\n",
       "                                                  n_estimators=100,\n",
       "                                                  n_iter_no_...\n",
       "                                                  presort='deprecated',\n",
       "                                                  random_state=None,\n",
       "                                                  subsample=1.0, tol=0.0001,\n",
       "                                                  validation_fraction=0.1,\n",
       "                                                  verbose=0, warm_start=False),\n",
       "             iid='deprecated', n_jobs=-1,\n",
       "             param_grid={'learning_rate': [0.001, 0.01, 0.1, 0.05],\n",
       "                         'max_depth': [3, 5, 10],\n",
       "                         'min_samples_split': [2, 5, 10],\n",
       "                         'n_estimators': [100, 500, 100]},\n",
       "             pre_dispatch='2*n_jobs', refit=True, return_train_score=False,\n",
       "             scoring=None, verbose=2)"
      ]
     },
     "execution_count": 33,
     "metadata": {},
     "output_type": "execute_result"
    }
   ],
   "source": [
    "gbm_cv.fit(X_train, y_train)"
   ]
  },
  {
   "cell_type": "code",
   "execution_count": 34,
   "metadata": {},
   "outputs": [
    {
     "name": "stdout",
     "output_type": "stream",
     "text": [
      "En iyi parametreler: {'learning_rate': 0.05, 'max_depth': 10, 'min_samples_split': 10, 'n_estimators': 100}\n"
     ]
    }
   ],
   "source": [
    "print(\"En iyi parametreler: \" + str(gbm_cv.best_params_))"
   ]
  },
  {
   "cell_type": "code",
   "execution_count": 87,
   "metadata": {},
   "outputs": [],
   "source": [
    "gbm = GradientBoostingClassifier(learning_rate = 0.01, \n",
    "                                 max_depth = 10,\n",
    "                                min_samples_split = 10,\n",
    "                                n_estimators = 100)"
   ]
  },
  {
   "cell_type": "code",
   "execution_count": 88,
   "metadata": {},
   "outputs": [],
   "source": [
    "gbm_tuned =  gbm.fit(X_train,y_train)"
   ]
  },
  {
   "cell_type": "code",
   "execution_count": 89,
   "metadata": {},
   "outputs": [
    {
     "data": {
      "text/plain": [
       "0.9455445544554455"
      ]
     },
     "execution_count": 89,
     "metadata": {},
     "output_type": "execute_result"
    }
   ],
   "source": [
    "y_pred = gbm_tuned.predict(X_test)\n",
    "accuracy_score(y_test, y_pred)"
   ]
  },
  {
   "cell_type": "markdown",
   "metadata": {},
   "source": [
    "# XGBoost"
   ]
  },
  {
   "cell_type": "markdown",
   "metadata": {},
   "source": [
    "Bu model GBM modelinin hız ve tahmin performansını arttırmak üzere optimize edilmiş,ölçeklenebilir,farklı platformlara entegre edilebilir halidir."
   ]
  },
  {
   "cell_type": "code",
   "execution_count": 90,
   "metadata": {},
   "outputs": [],
   "source": [
    "data = pd.read_csv(\"bankdata.csv\")\n",
    "df = data.copy()\n",
    "df = df.dropna()\n",
    "\n",
    "\n",
    "dummy_data = pd.get_dummies(data[[\"job\",\"reason\"]])\n",
    "y = df[\"bad\"]\n",
    "X =df.drop([\"job\",\"reason\",\"bad\"],axis=1)\n",
    "\n",
    "X_train, X_test, y_train, y_test = train_test_split(X, y, \n",
    "                                                    test_size=0.20, \n",
    "                                                    random_state=42)"
   ]
  },
  {
   "cell_type": "code",
   "execution_count": 91,
   "metadata": {},
   "outputs": [
    {
     "name": "stdout",
     "output_type": "stream",
     "text": [
      "Requirement already satisfied: xgboost in c:\\programdata\\anaconda3\\lib\\site-packages (1.1.1)\n",
      "Requirement already satisfied: scipy in c:\\programdata\\anaconda3\\lib\\site-packages (from xgboost) (1.4.1)\n",
      "Requirement already satisfied: numpy in c:\\programdata\\anaconda3\\lib\\site-packages (from xgboost) (1.18.1)\n"
     ]
    }
   ],
   "source": [
    "!pip install xgboost"
   ]
  },
  {
   "cell_type": "code",
   "execution_count": 92,
   "metadata": {},
   "outputs": [],
   "source": [
    "from xgboost import XGBClassifier"
   ]
  },
  {
   "cell_type": "code",
   "execution_count": 93,
   "metadata": {},
   "outputs": [],
   "source": [
    "xgb_model = XGBClassifier().fit(X_train, y_train)"
   ]
  },
  {
   "cell_type": "code",
   "execution_count": 94,
   "metadata": {},
   "outputs": [
    {
     "data": {
      "text/plain": [
       "XGBClassifier(base_score=0.5, booster='gbtree', colsample_bylevel=1,\n",
       "              colsample_bynode=1, colsample_bytree=1, gamma=0, gpu_id=-1,\n",
       "              importance_type='gain', interaction_constraints='',\n",
       "              learning_rate=0.300000012, max_delta_step=0, max_depth=6,\n",
       "              min_child_weight=1, missing=nan, monotone_constraints='()',\n",
       "              n_estimators=100, n_jobs=0, num_parallel_tree=1,\n",
       "              objective='binary:logistic', random_state=0, reg_alpha=0,\n",
       "              reg_lambda=1, scale_pos_weight=1, subsample=1,\n",
       "              tree_method='exact', validate_parameters=1, verbosity=None)"
      ]
     },
     "execution_count": 94,
     "metadata": {},
     "output_type": "execute_result"
    }
   ],
   "source": [
    "xgb_model"
   ]
  },
  {
   "cell_type": "code",
   "execution_count": 95,
   "metadata": {},
   "outputs": [
    {
     "data": {
      "text/plain": [
       "0.9603960396039604"
      ]
     },
     "execution_count": 95,
     "metadata": {},
     "output_type": "execute_result"
    }
   ],
   "source": [
    "y_pred = xgb_model.predict(X_test)\n",
    "accuracy_score(y_test, y_pred)"
   ]
  },
  {
   "cell_type": "markdown",
   "metadata": {},
   "source": [
    "# Model Tuning"
   ]
  },
  {
   "cell_type": "code",
   "execution_count": 96,
   "metadata": {},
   "outputs": [
    {
     "data": {
      "text/plain": [
       "XGBClassifier(base_score=0.5, booster='gbtree', colsample_bylevel=1,\n",
       "              colsample_bynode=1, colsample_bytree=1, gamma=0, gpu_id=-1,\n",
       "              importance_type='gain', interaction_constraints='',\n",
       "              learning_rate=0.300000012, max_delta_step=0, max_depth=6,\n",
       "              min_child_weight=1, missing=nan, monotone_constraints='()',\n",
       "              n_estimators=100, n_jobs=0, num_parallel_tree=1,\n",
       "              objective='binary:logistic', random_state=0, reg_alpha=0,\n",
       "              reg_lambda=1, scale_pos_weight=1, subsample=1,\n",
       "              tree_method='exact', validate_parameters=1, verbosity=None)"
      ]
     },
     "execution_count": 96,
     "metadata": {},
     "output_type": "execute_result"
    }
   ],
   "source": [
    "xgb_model"
   ]
  },
  {
   "cell_type": "code",
   "execution_count": 97,
   "metadata": {},
   "outputs": [],
   "source": [
    "xgb_params = {\n",
    "        'n_estimators': [100, 500, 1000, 2000],\n",
    "        'subsample': [0.6, 0.8, 1.0],\n",
    "        'max_depth': [3, 4, 5,6],\n",
    "        'learning_rate': [0.1,0.01,0.02,0.05],\n",
    "        \"min_samples_split\": [2,5,10]}"
   ]
  },
  {
   "cell_type": "code",
   "execution_count": 98,
   "metadata": {},
   "outputs": [],
   "source": [
    "xgb = XGBClassifier()\n",
    "\n",
    "xgb_cv_model = GridSearchCV(xgb, xgb_params, cv = 10, n_jobs = -1, verbose = 2)"
   ]
  },
  {
   "cell_type": "code",
   "execution_count": 47,
   "metadata": {},
   "outputs": [
    {
     "name": "stdout",
     "output_type": "stream",
     "text": [
      "Fitting 10 folds for each of 576 candidates, totalling 5760 fits\n"
     ]
    },
    {
     "name": "stderr",
     "output_type": "stream",
     "text": [
      "[Parallel(n_jobs=-1)]: Using backend LokyBackend with 4 concurrent workers.\n",
      "[Parallel(n_jobs=-1)]: Done  33 tasks      | elapsed:    3.1s\n",
      "[Parallel(n_jobs=-1)]: Done 154 tasks      | elapsed:   51.4s\n",
      "[Parallel(n_jobs=-1)]: Done 357 tasks      | elapsed:  2.6min\n",
      "[Parallel(n_jobs=-1)]: Done 640 tasks      | elapsed:  5.0min\n",
      "[Parallel(n_jobs=-1)]: Done 1005 tasks      | elapsed:  8.2min\n",
      "[Parallel(n_jobs=-1)]: Done 1450 tasks      | elapsed: 12.3min\n",
      "[Parallel(n_jobs=-1)]: Done 1977 tasks      | elapsed: 16.7min\n",
      "[Parallel(n_jobs=-1)]: Done 2584 tasks      | elapsed: 23.3min\n",
      "[Parallel(n_jobs=-1)]: Done 3273 tasks      | elapsed: 30.1min\n",
      "[Parallel(n_jobs=-1)]: Done 4042 tasks      | elapsed: 38.0min\n",
      "[Parallel(n_jobs=-1)]: Done 4893 tasks      | elapsed: 45.7min\n",
      "[Parallel(n_jobs=-1)]: Done 5760 out of 5760 | elapsed: 53.9min finished\n"
     ]
    },
    {
     "name": "stdout",
     "output_type": "stream",
     "text": [
      "[15:48:56] WARNING: C:\\Users\\Administrator\\workspace\\xgboost-win64_release_1.1.0\\src\\learner.cc:480: \n",
      "Parameters: { min_samples_split } might not be used.\n",
      "\n",
      "  This may not be accurate due to some parameters are only used in language bindings but\n",
      "  passed down to XGBoost core.  Or some parameters are not used but slip through this\n",
      "  verification. Please open an issue if you find above cases.\n",
      "\n",
      "\n"
     ]
    },
    {
     "data": {
      "text/plain": [
       "GridSearchCV(cv=10, error_score=nan,\n",
       "             estimator=XGBClassifier(base_score=None, booster=None,\n",
       "                                     colsample_bylevel=None,\n",
       "                                     colsample_bynode=None,\n",
       "                                     colsample_bytree=None, gamma=None,\n",
       "                                     gpu_id=None, importance_type='gain',\n",
       "                                     interaction_constraints=None,\n",
       "                                     learning_rate=None, max_delta_step=None,\n",
       "                                     max_depth=None, min_child_weight=None,\n",
       "                                     missing=nan, monotone_constraints=None,\n",
       "                                     n_esti...\n",
       "                                     reg_lambda=None, scale_pos_weight=None,\n",
       "                                     subsample=None, tree_method=None,\n",
       "                                     validate_parameters=None, verbosity=None),\n",
       "             iid='deprecated', n_jobs=-1,\n",
       "             param_grid={'learning_rate': [0.1, 0.01, 0.02, 0.05],\n",
       "                         'max_depth': [3, 4, 5, 6],\n",
       "                         'min_samples_split': [2, 5, 10],\n",
       "                         'n_estimators': [100, 500, 1000, 2000],\n",
       "                         'subsample': [0.6, 0.8, 1.0]},\n",
       "             pre_dispatch='2*n_jobs', refit=True, return_train_score=False,\n",
       "             scoring=None, verbose=2)"
      ]
     },
     "execution_count": 47,
     "metadata": {},
     "output_type": "execute_result"
    }
   ],
   "source": [
    "xgb_cv_model.fit(X_train, y_train)"
   ]
  },
  {
   "cell_type": "code",
   "execution_count": 48,
   "metadata": {},
   "outputs": [
    {
     "data": {
      "text/plain": [
       "{'learning_rate': 0.05,\n",
       " 'max_depth': 6,\n",
       " 'min_samples_split': 2,\n",
       " 'n_estimators': 1000,\n",
       " 'subsample': 0.8}"
      ]
     },
     "execution_count": 48,
     "metadata": {},
     "output_type": "execute_result"
    }
   ],
   "source": [
    "xgb_cv_model.best_params_"
   ]
  },
  {
   "cell_type": "code",
   "execution_count": 99,
   "metadata": {},
   "outputs": [],
   "source": [
    "xgb = XGBClassifier(learning_rate = 0.05, \n",
    "                    max_depth = 6,\n",
    "                    min_samples_split = 2,\n",
    "                    n_estimators = 1000,\n",
    "                    subsample = 0.8)"
   ]
  },
  {
   "cell_type": "code",
   "execution_count": 100,
   "metadata": {},
   "outputs": [
    {
     "name": "stdout",
     "output_type": "stream",
     "text": [
      "[18:25:02] WARNING: C:\\Users\\Administrator\\workspace\\xgboost-win64_release_1.1.0\\src\\learner.cc:480: \n",
      "Parameters: { min_samples_split } might not be used.\n",
      "\n",
      "  This may not be accurate due to some parameters are only used in language bindings but\n",
      "  passed down to XGBoost core.  Or some parameters are not used but slip through this\n",
      "  verification. Please open an issue if you find above cases.\n",
      "\n",
      "\n"
     ]
    }
   ],
   "source": [
    "xgb_tuned =  xgb.fit(X_train,y_train)"
   ]
  },
  {
   "cell_type": "code",
   "execution_count": 101,
   "metadata": {},
   "outputs": [
    {
     "data": {
      "text/plain": [
       "0.9579207920792079"
      ]
     },
     "execution_count": 101,
     "metadata": {},
     "output_type": "execute_result"
    }
   ],
   "source": [
    "y_pred = xgb_tuned.predict(X_test)\n",
    "accuracy_score(y_test, y_pred)"
   ]
  },
  {
   "cell_type": "markdown",
   "metadata": {},
   "source": [
    "# LightGBM"
   ]
  },
  {
   "cell_type": "markdown",
   "metadata": {},
   "source": [
    "XG Boostun eğitim süresi performansını arttırmaya yönelik geliştirilen bir modeldir. ^^Daha performanslıdır. ^^Level-wise büyüme stratejisi yerine leaf-wise stratejisini izler."
   ]
  },
  {
   "cell_type": "code",
   "execution_count": 102,
   "metadata": {},
   "outputs": [],
   "source": [
    "data = pd.read_csv(\"bankdata.csv\")\n",
    "df = data.copy()\n",
    "df = df.dropna()\n",
    "\n",
    "\n",
    "dummy_data = pd.get_dummies(data[[\"job\",\"reason\"]])\n",
    "y = df[\"bad\"]\n",
    "X =df.drop([\"job\",\"reason\",\"bad\"],axis=1)\n",
    "\n",
    "X_train, X_test, y_train, y_test = train_test_split(X, y, \n",
    "                                                    test_size=0.20, \n",
    "                                                    random_state=42)"
   ]
  },
  {
   "cell_type": "code",
   "execution_count": 103,
   "metadata": {},
   "outputs": [],
   "source": [
    "from lightgbm import LGBMClassifier"
   ]
  },
  {
   "cell_type": "code",
   "execution_count": 104,
   "metadata": {},
   "outputs": [],
   "source": [
    "lgbm_model = LGBMClassifier().fit(X_train, y_train)"
   ]
  },
  {
   "cell_type": "code",
   "execution_count": 105,
   "metadata": {},
   "outputs": [
    {
     "data": {
      "text/plain": [
       "0.9603960396039604"
      ]
     },
     "execution_count": 105,
     "metadata": {},
     "output_type": "execute_result"
    }
   ],
   "source": [
    "y_pred = lgbm_model.predict(X_test)\n",
    "accuracy_score(y_test, y_pred)"
   ]
  },
  {
   "cell_type": "markdown",
   "metadata": {},
   "source": [
    "# Model Tuning"
   ]
  },
  {
   "cell_type": "code",
   "execution_count": 106,
   "metadata": {},
   "outputs": [
    {
     "data": {
      "text/plain": [
       "LGBMClassifier(boosting_type='gbdt', class_weight=None, colsample_bytree=1.0,\n",
       "               importance_type='split', learning_rate=0.1, max_depth=-1,\n",
       "               min_child_samples=20, min_child_weight=0.001, min_split_gain=0.0,\n",
       "               n_estimators=100, n_jobs=-1, num_leaves=31, objective=None,\n",
       "               random_state=None, reg_alpha=0.0, reg_lambda=0.0, silent=True,\n",
       "               subsample=1.0, subsample_for_bin=200000, subsample_freq=0)"
      ]
     },
     "execution_count": 106,
     "metadata": {},
     "output_type": "execute_result"
    }
   ],
   "source": [
    "lgbm_model"
   ]
  },
  {
   "cell_type": "code",
   "execution_count": 107,
   "metadata": {},
   "outputs": [],
   "source": [
    "lgbm_params = {\n",
    "        'n_estimators': [100, 500, 1000, 2000],\n",
    "        'subsample': [0.6, 0.8, 1.0],\n",
    "        'max_depth': [3, 4, 5,6],\n",
    "        'learning_rate': [0.1,0.01,0.02,0.05],\n",
    "        \"min_child_samples\": [5,10,20]}"
   ]
  },
  {
   "cell_type": "code",
   "execution_count": 108,
   "metadata": {},
   "outputs": [],
   "source": [
    "lgbm = LGBMClassifier()\n",
    "\n",
    "lgbm_cv_model = GridSearchCV(lgbm, lgbm_params, \n",
    "                             cv = 10, \n",
    "                             n_jobs = -1, \n",
    "                             verbose = 2)\n"
   ]
  },
  {
   "cell_type": "code",
   "execution_count": 59,
   "metadata": {},
   "outputs": [
    {
     "name": "stdout",
     "output_type": "stream",
     "text": [
      "Fitting 10 folds for each of 576 candidates, totalling 5760 fits\n"
     ]
    },
    {
     "name": "stderr",
     "output_type": "stream",
     "text": [
      "[Parallel(n_jobs=-1)]: Using backend LokyBackend with 4 concurrent workers.\n",
      "[Parallel(n_jobs=-1)]: Done  58 tasks      | elapsed:    3.0s\n",
      "[Parallel(n_jobs=-1)]: Done 226 tasks      | elapsed:   31.2s\n",
      "[Parallel(n_jobs=-1)]: Done 457 tasks      | elapsed:  1.2min\n",
      "[Parallel(n_jobs=-1)]: Done 740 tasks      | elapsed:  2.2min\n",
      "[Parallel(n_jobs=-1)]: Done 1105 tasks      | elapsed:  3.6min\n",
      "[Parallel(n_jobs=-1)]: Done 1550 tasks      | elapsed:  5.3min\n",
      "[Parallel(n_jobs=-1)]: Done 2077 tasks      | elapsed:  7.0min\n",
      "[Parallel(n_jobs=-1)]: Done 2684 tasks      | elapsed: 10.5min\n",
      "[Parallel(n_jobs=-1)]: Done 3373 tasks      | elapsed: 13.5min\n",
      "[Parallel(n_jobs=-1)]: Done 4142 tasks      | elapsed: 18.0min\n",
      "[Parallel(n_jobs=-1)]: Done 4993 tasks      | elapsed: 21.8min\n",
      "[Parallel(n_jobs=-1)]: Done 5760 out of 5760 | elapsed: 26.0min finished\n"
     ]
    },
    {
     "data": {
      "text/plain": [
       "GridSearchCV(cv=10, error_score=nan,\n",
       "             estimator=LGBMClassifier(boosting_type='gbdt', class_weight=None,\n",
       "                                      colsample_bytree=1.0,\n",
       "                                      importance_type='split',\n",
       "                                      learning_rate=0.1, max_depth=-1,\n",
       "                                      min_child_samples=20,\n",
       "                                      min_child_weight=0.001,\n",
       "                                      min_split_gain=0.0, n_estimators=100,\n",
       "                                      n_jobs=-1, num_leaves=31, objective=None,\n",
       "                                      random_state=None, reg_alpha=0.0,\n",
       "                                      reg_lambda=0.0, silent=True,\n",
       "                                      subsample=1.0, subsample_for_bin=200000,\n",
       "                                      subsample_freq=0),\n",
       "             iid='deprecated', n_jobs=-1,\n",
       "             param_grid={'learning_rate': [0.1, 0.01, 0.02, 0.05],\n",
       "                         'max_depth': [3, 4, 5, 6],\n",
       "                         'min_child_samples': [5, 10, 20],\n",
       "                         'n_estimators': [100, 500, 1000, 2000],\n",
       "                         'subsample': [0.6, 0.8, 1.0]},\n",
       "             pre_dispatch='2*n_jobs', refit=True, return_train_score=False,\n",
       "             scoring=None, verbose=2)"
      ]
     },
     "execution_count": 59,
     "metadata": {},
     "output_type": "execute_result"
    }
   ],
   "source": [
    "lgbm_cv_model.fit(X_train, y_train)"
   ]
  },
  {
   "cell_type": "code",
   "execution_count": 60,
   "metadata": {},
   "outputs": [
    {
     "data": {
      "text/plain": [
       "{'learning_rate': 0.1,\n",
       " 'max_depth': 4,\n",
       " 'min_child_samples': 10,\n",
       " 'n_estimators': 2000,\n",
       " 'subsample': 0.6}"
      ]
     },
     "execution_count": 60,
     "metadata": {},
     "output_type": "execute_result"
    }
   ],
   "source": [
    "lgbm_cv_model.best_params_"
   ]
  },
  {
   "cell_type": "code",
   "execution_count": 109,
   "metadata": {},
   "outputs": [],
   "source": [
    "lgbm = LGBMClassifier(learning_rate = 0.1, \n",
    "                       max_depth = 4,\n",
    "                       subsample = 0.6,\n",
    "                       n_estimators = 2000,\n",
    "                       min_child_samples = 10)"
   ]
  },
  {
   "cell_type": "code",
   "execution_count": 110,
   "metadata": {},
   "outputs": [],
   "source": [
    "lgbm_tuned = lgbm.fit(X_train,y_train)"
   ]
  },
  {
   "cell_type": "code",
   "execution_count": 111,
   "metadata": {},
   "outputs": [
    {
     "data": {
      "text/plain": [
       "0.9529702970297029"
      ]
     },
     "execution_count": 111,
     "metadata": {},
     "output_type": "execute_result"
    }
   ],
   "source": [
    "y_pred = lgbm_tuned.predict(X_test)\n",
    "accuracy_score(y_test, y_pred)"
   ]
  },
  {
   "cell_type": "markdown",
   "metadata": {},
   "source": [
    "# CatBoost"
   ]
  },
  {
   "cell_type": "markdown",
   "metadata": {},
   "source": [
    "# Model & Tahmin"
   ]
  },
  {
   "cell_type": "code",
   "execution_count": 112,
   "metadata": {},
   "outputs": [],
   "source": [
    "data = pd.read_csv(\"bankdata.csv\")\n",
    "df = data.copy()\n",
    "df = df.dropna()\n",
    "\n",
    "\n",
    "dummy_data = pd.get_dummies(data[[\"job\",\"reason\"]])\n",
    "y = df[\"bad\"]\n",
    "X =df.drop([\"job\",\"reason\",\"bad\"],axis=1)\n",
    "\n",
    "X_train, X_test, y_train, y_test = train_test_split(X, y, \n",
    "                                                    test_size=0.20, \n",
    "                                                    random_state=42)"
   ]
  },
  {
   "cell_type": "code",
   "execution_count": 113,
   "metadata": {},
   "outputs": [],
   "source": [
    "from catboost import CatBoostClassifier"
   ]
  },
  {
   "cell_type": "code",
   "execution_count": 115,
   "metadata": {},
   "outputs": [
    {
     "name": "stdout",
     "output_type": "stream",
     "text": [
      "Learning rate set to 0.012639\n",
      "0:\tlearn: 0.6783924\ttotal: 74.3ms\tremaining: 1m 14s\n",
      "1:\tlearn: 0.6637349\ttotal: 78.2ms\tremaining: 39s\n",
      "2:\tlearn: 0.6493370\ttotal: 82.2ms\tremaining: 27.3s\n",
      "3:\tlearn: 0.6364432\ttotal: 85.1ms\tremaining: 21.2s\n",
      "4:\tlearn: 0.6229083\ttotal: 90.3ms\tremaining: 18s\n",
      "5:\tlearn: 0.6101687\ttotal: 94.3ms\tremaining: 15.6s\n",
      "6:\tlearn: 0.5980989\ttotal: 99.5ms\tremaining: 14.1s\n",
      "7:\tlearn: 0.5860459\ttotal: 105ms\tremaining: 13.1s\n",
      "8:\tlearn: 0.5744877\ttotal: 111ms\tremaining: 12.2s\n",
      "9:\tlearn: 0.5634189\ttotal: 116ms\tremaining: 11.5s\n",
      "10:\tlearn: 0.5524676\ttotal: 121ms\tremaining: 10.8s\n",
      "11:\tlearn: 0.5418449\ttotal: 125ms\tremaining: 10.3s\n",
      "12:\tlearn: 0.5311100\ttotal: 130ms\tremaining: 9.88s\n",
      "13:\tlearn: 0.5216870\ttotal: 135ms\tremaining: 9.53s\n",
      "14:\tlearn: 0.5137869\ttotal: 140ms\tremaining: 9.22s\n",
      "15:\tlearn: 0.5043756\ttotal: 146ms\tremaining: 8.95s\n",
      "16:\tlearn: 0.4964503\ttotal: 151ms\tremaining: 8.71s\n",
      "17:\tlearn: 0.4875034\ttotal: 156ms\tremaining: 8.5s\n",
      "18:\tlearn: 0.4779101\ttotal: 161ms\tremaining: 8.31s\n",
      "19:\tlearn: 0.4690491\ttotal: 166ms\tremaining: 8.14s\n",
      "20:\tlearn: 0.4610724\ttotal: 171ms\tremaining: 7.98s\n",
      "21:\tlearn: 0.4530468\ttotal: 177ms\tremaining: 7.86s\n",
      "22:\tlearn: 0.4457997\ttotal: 180ms\tremaining: 7.64s\n",
      "23:\tlearn: 0.4381321\ttotal: 183ms\tremaining: 7.44s\n",
      "24:\tlearn: 0.4306360\ttotal: 186ms\tremaining: 7.25s\n",
      "25:\tlearn: 0.4243945\ttotal: 189ms\tremaining: 7.07s\n",
      "26:\tlearn: 0.4171903\ttotal: 191ms\tremaining: 6.9s\n",
      "27:\tlearn: 0.4103180\ttotal: 194ms\tremaining: 6.74s\n",
      "28:\tlearn: 0.4048006\ttotal: 197ms\tremaining: 6.59s\n",
      "29:\tlearn: 0.3987859\ttotal: 200ms\tremaining: 6.45s\n",
      "30:\tlearn: 0.3929911\ttotal: 202ms\tremaining: 6.32s\n",
      "31:\tlearn: 0.3870771\ttotal: 205ms\tremaining: 6.2s\n",
      "32:\tlearn: 0.3820033\ttotal: 208ms\tremaining: 6.1s\n",
      "33:\tlearn: 0.3767563\ttotal: 210ms\tremaining: 5.98s\n",
      "34:\tlearn: 0.3714458\ttotal: 214ms\tremaining: 5.89s\n",
      "35:\tlearn: 0.3663411\ttotal: 216ms\tremaining: 5.79s\n",
      "36:\tlearn: 0.3616727\ttotal: 220ms\tremaining: 5.72s\n",
      "37:\tlearn: 0.3563737\ttotal: 223ms\tremaining: 5.65s\n",
      "38:\tlearn: 0.3517152\ttotal: 228ms\tremaining: 5.62s\n",
      "39:\tlearn: 0.3477325\ttotal: 233ms\tremaining: 5.59s\n",
      "40:\tlearn: 0.3441832\ttotal: 238ms\tremaining: 5.57s\n",
      "41:\tlearn: 0.3403280\ttotal: 243ms\tremaining: 5.55s\n",
      "42:\tlearn: 0.3364158\ttotal: 247ms\tremaining: 5.51s\n",
      "43:\tlearn: 0.3324138\ttotal: 253ms\tremaining: 5.49s\n",
      "44:\tlearn: 0.3283731\ttotal: 257ms\tremaining: 5.46s\n",
      "45:\tlearn: 0.3246677\ttotal: 263ms\tremaining: 5.44s\n",
      "46:\tlearn: 0.3206065\ttotal: 268ms\tremaining: 5.43s\n",
      "47:\tlearn: 0.3169854\ttotal: 273ms\tremaining: 5.41s\n",
      "48:\tlearn: 0.3135029\ttotal: 278ms\tremaining: 5.39s\n",
      "49:\tlearn: 0.3106526\ttotal: 283ms\tremaining: 5.37s\n",
      "50:\tlearn: 0.3074122\ttotal: 288ms\tremaining: 5.35s\n",
      "51:\tlearn: 0.3035366\ttotal: 293ms\tremaining: 5.33s\n",
      "52:\tlearn: 0.3007675\ttotal: 298ms\tremaining: 5.32s\n",
      "53:\tlearn: 0.2976591\ttotal: 302ms\tremaining: 5.29s\n",
      "54:\tlearn: 0.2947596\ttotal: 307ms\tremaining: 5.28s\n",
      "55:\tlearn: 0.2921356\ttotal: 312ms\tremaining: 5.26s\n",
      "56:\tlearn: 0.2895216\ttotal: 317ms\tremaining: 5.24s\n",
      "57:\tlearn: 0.2871343\ttotal: 322ms\tremaining: 5.23s\n",
      "58:\tlearn: 0.2842665\ttotal: 327ms\tremaining: 5.21s\n",
      "59:\tlearn: 0.2820027\ttotal: 332ms\tremaining: 5.2s\n",
      "60:\tlearn: 0.2801304\ttotal: 337ms\tremaining: 5.19s\n",
      "61:\tlearn: 0.2777070\ttotal: 342ms\tremaining: 5.17s\n",
      "62:\tlearn: 0.2751253\ttotal: 347ms\tremaining: 5.16s\n",
      "63:\tlearn: 0.2726917\ttotal: 352ms\tremaining: 5.15s\n",
      "64:\tlearn: 0.2706126\ttotal: 357ms\tremaining: 5.13s\n",
      "65:\tlearn: 0.2688883\ttotal: 360ms\tremaining: 5.1s\n",
      "66:\tlearn: 0.2670147\ttotal: 364ms\tremaining: 5.07s\n",
      "67:\tlearn: 0.2644371\ttotal: 368ms\tremaining: 5.04s\n",
      "68:\tlearn: 0.2624535\ttotal: 371ms\tremaining: 5s\n",
      "69:\tlearn: 0.2601450\ttotal: 374ms\tremaining: 4.96s\n",
      "70:\tlearn: 0.2585848\ttotal: 377ms\tremaining: 4.93s\n",
      "71:\tlearn: 0.2566623\ttotal: 380ms\tremaining: 4.89s\n",
      "72:\tlearn: 0.2544559\ttotal: 383ms\tremaining: 4.87s\n",
      "73:\tlearn: 0.2524390\ttotal: 387ms\tremaining: 4.84s\n",
      "74:\tlearn: 0.2511906\ttotal: 390ms\tremaining: 4.81s\n",
      "75:\tlearn: 0.2494448\ttotal: 393ms\tremaining: 4.78s\n",
      "76:\tlearn: 0.2480977\ttotal: 397ms\tremaining: 4.76s\n",
      "77:\tlearn: 0.2466523\ttotal: 401ms\tremaining: 4.74s\n",
      "78:\tlearn: 0.2450214\ttotal: 406ms\tremaining: 4.74s\n",
      "79:\tlearn: 0.2438095\ttotal: 411ms\tremaining: 4.73s\n",
      "80:\tlearn: 0.2422669\ttotal: 417ms\tremaining: 4.73s\n",
      "81:\tlearn: 0.2407037\ttotal: 422ms\tremaining: 4.72s\n",
      "82:\tlearn: 0.2388249\ttotal: 427ms\tremaining: 4.72s\n",
      "83:\tlearn: 0.2374271\ttotal: 432ms\tremaining: 4.71s\n",
      "84:\tlearn: 0.2359492\ttotal: 437ms\tremaining: 4.7s\n",
      "85:\tlearn: 0.2347707\ttotal: 442ms\tremaining: 4.69s\n",
      "86:\tlearn: 0.2335956\ttotal: 447ms\tremaining: 4.68s\n",
      "87:\tlearn: 0.2325399\ttotal: 451ms\tremaining: 4.68s\n",
      "88:\tlearn: 0.2314647\ttotal: 456ms\tremaining: 4.67s\n",
      "89:\tlearn: 0.2304517\ttotal: 461ms\tremaining: 4.66s\n",
      "90:\tlearn: 0.2295370\ttotal: 466ms\tremaining: 4.66s\n",
      "91:\tlearn: 0.2284065\ttotal: 471ms\tremaining: 4.65s\n",
      "92:\tlearn: 0.2273650\ttotal: 477ms\tremaining: 4.65s\n",
      "93:\tlearn: 0.2260108\ttotal: 483ms\tremaining: 4.66s\n",
      "94:\tlearn: 0.2247949\ttotal: 490ms\tremaining: 4.67s\n",
      "95:\tlearn: 0.2236113\ttotal: 496ms\tremaining: 4.67s\n",
      "96:\tlearn: 0.2227299\ttotal: 502ms\tremaining: 4.67s\n",
      "97:\tlearn: 0.2217283\ttotal: 507ms\tremaining: 4.67s\n",
      "98:\tlearn: 0.2204356\ttotal: 511ms\tremaining: 4.65s\n",
      "99:\tlearn: 0.2195299\ttotal: 516ms\tremaining: 4.64s\n",
      "100:\tlearn: 0.2184261\ttotal: 521ms\tremaining: 4.64s\n",
      "101:\tlearn: 0.2174084\ttotal: 526ms\tremaining: 4.63s\n",
      "102:\tlearn: 0.2164425\ttotal: 530ms\tremaining: 4.61s\n",
      "103:\tlearn: 0.2156971\ttotal: 533ms\tremaining: 4.59s\n",
      "104:\tlearn: 0.2147829\ttotal: 536ms\tremaining: 4.57s\n",
      "105:\tlearn: 0.2138295\ttotal: 539ms\tremaining: 4.54s\n",
      "106:\tlearn: 0.2130278\ttotal: 542ms\tremaining: 4.52s\n",
      "107:\tlearn: 0.2120087\ttotal: 545ms\tremaining: 4.5s\n",
      "108:\tlearn: 0.2107601\ttotal: 549ms\tremaining: 4.49s\n",
      "109:\tlearn: 0.2095125\ttotal: 552ms\tremaining: 4.47s\n",
      "110:\tlearn: 0.2085482\ttotal: 555ms\tremaining: 4.45s\n",
      "111:\tlearn: 0.2078082\ttotal: 559ms\tremaining: 4.43s\n",
      "112:\tlearn: 0.2068577\ttotal: 562ms\tremaining: 4.41s\n",
      "113:\tlearn: 0.2060767\ttotal: 565ms\tremaining: 4.39s\n",
      "114:\tlearn: 0.2055906\ttotal: 569ms\tremaining: 4.38s\n",
      "115:\tlearn: 0.2045957\ttotal: 574ms\tremaining: 4.38s\n",
      "116:\tlearn: 0.2040398\ttotal: 579ms\tremaining: 4.37s\n",
      "117:\tlearn: 0.2029690\ttotal: 585ms\tremaining: 4.37s\n",
      "118:\tlearn: 0.2022895\ttotal: 590ms\tremaining: 4.37s\n",
      "119:\tlearn: 0.2014338\ttotal: 595ms\tremaining: 4.36s\n",
      "120:\tlearn: 0.2006149\ttotal: 599ms\tremaining: 4.35s\n",
      "121:\tlearn: 0.2001450\ttotal: 604ms\tremaining: 4.34s\n",
      "122:\tlearn: 0.1994533\ttotal: 609ms\tremaining: 4.34s\n",
      "123:\tlearn: 0.1985630\ttotal: 614ms\tremaining: 4.34s\n",
      "124:\tlearn: 0.1978181\ttotal: 619ms\tremaining: 4.33s\n",
      "125:\tlearn: 0.1971378\ttotal: 624ms\tremaining: 4.33s\n",
      "126:\tlearn: 0.1966356\ttotal: 628ms\tremaining: 4.32s\n",
      "127:\tlearn: 0.1958491\ttotal: 633ms\tremaining: 4.32s\n",
      "128:\tlearn: 0.1951827\ttotal: 639ms\tremaining: 4.31s\n",
      "129:\tlearn: 0.1945372\ttotal: 643ms\tremaining: 4.31s\n",
      "130:\tlearn: 0.1937530\ttotal: 648ms\tremaining: 4.3s\n",
      "131:\tlearn: 0.1931308\ttotal: 653ms\tremaining: 4.3s\n",
      "132:\tlearn: 0.1925943\ttotal: 658ms\tremaining: 4.29s\n",
      "133:\tlearn: 0.1919563\ttotal: 662ms\tremaining: 4.28s\n",
      "134:\tlearn: 0.1914163\ttotal: 667ms\tremaining: 4.28s\n",
      "135:\tlearn: 0.1907688\ttotal: 672ms\tremaining: 4.27s\n",
      "136:\tlearn: 0.1899202\ttotal: 677ms\tremaining: 4.26s\n",
      "137:\tlearn: 0.1895012\ttotal: 682ms\tremaining: 4.26s\n",
      "138:\tlearn: 0.1889962\ttotal: 687ms\tremaining: 4.25s\n",
      "139:\tlearn: 0.1883525\ttotal: 692ms\tremaining: 4.25s\n",
      "140:\tlearn: 0.1878824\ttotal: 697ms\tremaining: 4.24s\n",
      "141:\tlearn: 0.1872746\ttotal: 699ms\tremaining: 4.22s\n",
      "142:\tlearn: 0.1867879\ttotal: 702ms\tremaining: 4.21s\n",
      "143:\tlearn: 0.1862078\ttotal: 705ms\tremaining: 4.19s\n",
      "144:\tlearn: 0.1855438\ttotal: 708ms\tremaining: 4.17s\n",
      "145:\tlearn: 0.1850304\ttotal: 711ms\tremaining: 4.16s\n",
      "146:\tlearn: 0.1842987\ttotal: 713ms\tremaining: 4.14s\n",
      "147:\tlearn: 0.1838089\ttotal: 716ms\tremaining: 4.12s\n",
      "148:\tlearn: 0.1832855\ttotal: 719ms\tremaining: 4.1s\n",
      "149:\tlearn: 0.1825274\ttotal: 721ms\tremaining: 4.09s\n",
      "150:\tlearn: 0.1817742\ttotal: 724ms\tremaining: 4.07s\n",
      "151:\tlearn: 0.1810353\ttotal: 728ms\tremaining: 4.06s\n",
      "152:\tlearn: 0.1805532\ttotal: 732ms\tremaining: 4.05s\n",
      "153:\tlearn: 0.1800413\ttotal: 737ms\tremaining: 4.05s\n",
      "154:\tlearn: 0.1795671\ttotal: 741ms\tremaining: 4.04s\n",
      "155:\tlearn: 0.1791042\ttotal: 744ms\tremaining: 4.03s\n",
      "156:\tlearn: 0.1785651\ttotal: 747ms\tremaining: 4.01s\n",
      "157:\tlearn: 0.1779282\ttotal: 750ms\tremaining: 4s\n",
      "158:\tlearn: 0.1776010\ttotal: 753ms\tremaining: 3.98s\n",
      "159:\tlearn: 0.1770476\ttotal: 756ms\tremaining: 3.97s\n",
      "160:\tlearn: 0.1765526\ttotal: 759ms\tremaining: 3.95s\n",
      "161:\tlearn: 0.1761632\ttotal: 761ms\tremaining: 3.94s\n",
      "162:\tlearn: 0.1757495\ttotal: 765ms\tremaining: 3.92s\n",
      "163:\tlearn: 0.1753216\ttotal: 767ms\tremaining: 3.91s\n",
      "164:\tlearn: 0.1748058\ttotal: 770ms\tremaining: 3.9s\n",
      "165:\tlearn: 0.1743404\ttotal: 772ms\tremaining: 3.88s\n",
      "166:\tlearn: 0.1738831\ttotal: 775ms\tremaining: 3.87s\n",
      "167:\tlearn: 0.1734093\ttotal: 778ms\tremaining: 3.85s\n",
      "168:\tlearn: 0.1731261\ttotal: 781ms\tremaining: 3.84s\n",
      "169:\tlearn: 0.1726738\ttotal: 784ms\tremaining: 3.83s\n",
      "170:\tlearn: 0.1723998\ttotal: 787ms\tremaining: 3.81s\n",
      "171:\tlearn: 0.1721658\ttotal: 790ms\tremaining: 3.8s\n",
      "172:\tlearn: 0.1719376\ttotal: 793ms\tremaining: 3.79s\n",
      "173:\tlearn: 0.1716612\ttotal: 795ms\tremaining: 3.77s\n",
      "174:\tlearn: 0.1710197\ttotal: 798ms\tremaining: 3.76s\n",
      "175:\tlearn: 0.1706479\ttotal: 801ms\tremaining: 3.75s\n",
      "176:\tlearn: 0.1701394\ttotal: 804ms\tremaining: 3.74s\n",
      "177:\tlearn: 0.1697857\ttotal: 808ms\tremaining: 3.73s\n",
      "178:\tlearn: 0.1694117\ttotal: 811ms\tremaining: 3.72s\n",
      "179:\tlearn: 0.1689634\ttotal: 814ms\tremaining: 3.71s\n",
      "180:\tlearn: 0.1684034\ttotal: 819ms\tremaining: 3.71s\n",
      "181:\tlearn: 0.1681081\ttotal: 825ms\tremaining: 3.71s\n",
      "182:\tlearn: 0.1676114\ttotal: 830ms\tremaining: 3.71s\n",
      "183:\tlearn: 0.1671490\ttotal: 835ms\tremaining: 3.7s\n",
      "184:\tlearn: 0.1668260\ttotal: 839ms\tremaining: 3.7s\n",
      "185:\tlearn: 0.1663317\ttotal: 845ms\tremaining: 3.7s\n",
      "186:\tlearn: 0.1659519\ttotal: 850ms\tremaining: 3.69s\n",
      "187:\tlearn: 0.1655450\ttotal: 855ms\tremaining: 3.69s\n",
      "188:\tlearn: 0.1652396\ttotal: 860ms\tremaining: 3.69s\n"
     ]
    },
    {
     "name": "stdout",
     "output_type": "stream",
     "text": [
      "189:\tlearn: 0.1649421\ttotal: 865ms\tremaining: 3.69s\n",
      "190:\tlearn: 0.1646333\ttotal: 868ms\tremaining: 3.68s\n",
      "191:\tlearn: 0.1642375\ttotal: 871ms\tremaining: 3.67s\n",
      "192:\tlearn: 0.1637450\ttotal: 874ms\tremaining: 3.65s\n",
      "193:\tlearn: 0.1633821\ttotal: 877ms\tremaining: 3.64s\n",
      "194:\tlearn: 0.1632687\ttotal: 879ms\tremaining: 3.63s\n",
      "195:\tlearn: 0.1630063\ttotal: 882ms\tremaining: 3.62s\n",
      "196:\tlearn: 0.1628182\ttotal: 885ms\tremaining: 3.61s\n",
      "197:\tlearn: 0.1625148\ttotal: 888ms\tremaining: 3.6s\n",
      "198:\tlearn: 0.1621025\ttotal: 892ms\tremaining: 3.59s\n",
      "199:\tlearn: 0.1616534\ttotal: 897ms\tremaining: 3.59s\n",
      "200:\tlearn: 0.1612241\ttotal: 902ms\tremaining: 3.59s\n",
      "201:\tlearn: 0.1610068\ttotal: 908ms\tremaining: 3.59s\n",
      "202:\tlearn: 0.1606538\ttotal: 914ms\tremaining: 3.59s\n",
      "203:\tlearn: 0.1603814\ttotal: 919ms\tremaining: 3.58s\n",
      "204:\tlearn: 0.1599860\ttotal: 925ms\tremaining: 3.58s\n",
      "205:\tlearn: 0.1596383\ttotal: 931ms\tremaining: 3.59s\n",
      "206:\tlearn: 0.1594447\ttotal: 937ms\tremaining: 3.59s\n",
      "207:\tlearn: 0.1592167\ttotal: 943ms\tremaining: 3.59s\n",
      "208:\tlearn: 0.1591021\ttotal: 947ms\tremaining: 3.58s\n",
      "209:\tlearn: 0.1587316\ttotal: 953ms\tremaining: 3.58s\n",
      "210:\tlearn: 0.1585453\ttotal: 959ms\tremaining: 3.58s\n",
      "211:\tlearn: 0.1582921\ttotal: 963ms\tremaining: 3.58s\n",
      "212:\tlearn: 0.1579978\ttotal: 968ms\tremaining: 3.57s\n",
      "213:\tlearn: 0.1576116\ttotal: 973ms\tremaining: 3.57s\n",
      "214:\tlearn: 0.1572941\ttotal: 977ms\tremaining: 3.57s\n",
      "215:\tlearn: 0.1570711\ttotal: 982ms\tremaining: 3.56s\n",
      "216:\tlearn: 0.1568960\ttotal: 987ms\tremaining: 3.56s\n",
      "217:\tlearn: 0.1566823\ttotal: 991ms\tremaining: 3.55s\n",
      "218:\tlearn: 0.1564037\ttotal: 995ms\tremaining: 3.55s\n",
      "219:\tlearn: 0.1562386\ttotal: 1s\tremaining: 3.55s\n",
      "220:\tlearn: 0.1558578\ttotal: 1s\tremaining: 3.54s\n",
      "221:\tlearn: 0.1556442\ttotal: 1.01s\tremaining: 3.54s\n",
      "222:\tlearn: 0.1552907\ttotal: 1.01s\tremaining: 3.53s\n",
      "223:\tlearn: 0.1549348\ttotal: 1.02s\tremaining: 3.53s\n",
      "224:\tlearn: 0.1547524\ttotal: 1.02s\tremaining: 3.52s\n",
      "225:\tlearn: 0.1543415\ttotal: 1.02s\tremaining: 3.51s\n",
      "226:\tlearn: 0.1538972\ttotal: 1.03s\tremaining: 3.5s\n",
      "227:\tlearn: 0.1536116\ttotal: 1.03s\tremaining: 3.5s\n",
      "228:\tlearn: 0.1532522\ttotal: 1.04s\tremaining: 3.49s\n",
      "229:\tlearn: 0.1531013\ttotal: 1.04s\tremaining: 3.48s\n",
      "230:\tlearn: 0.1527384\ttotal: 1.04s\tremaining: 3.47s\n",
      "231:\tlearn: 0.1525754\ttotal: 1.04s\tremaining: 3.46s\n",
      "232:\tlearn: 0.1522640\ttotal: 1.05s\tremaining: 3.45s\n",
      "233:\tlearn: 0.1520768\ttotal: 1.05s\tremaining: 3.44s\n",
      "234:\tlearn: 0.1517728\ttotal: 1.05s\tremaining: 3.43s\n",
      "235:\tlearn: 0.1514953\ttotal: 1.06s\tremaining: 3.43s\n",
      "236:\tlearn: 0.1513882\ttotal: 1.06s\tremaining: 3.43s\n",
      "237:\tlearn: 0.1510389\ttotal: 1.07s\tremaining: 3.43s\n",
      "238:\tlearn: 0.1507111\ttotal: 1.07s\tremaining: 3.42s\n",
      "239:\tlearn: 0.1504368\ttotal: 1.08s\tremaining: 3.42s\n",
      "240:\tlearn: 0.1500593\ttotal: 1.08s\tremaining: 3.41s\n",
      "241:\tlearn: 0.1498790\ttotal: 1.09s\tremaining: 3.4s\n",
      "242:\tlearn: 0.1497899\ttotal: 1.09s\tremaining: 3.39s\n",
      "243:\tlearn: 0.1493992\ttotal: 1.09s\tremaining: 3.38s\n",
      "244:\tlearn: 0.1490858\ttotal: 1.09s\tremaining: 3.37s\n",
      "245:\tlearn: 0.1488424\ttotal: 1.1s\tremaining: 3.36s\n",
      "246:\tlearn: 0.1486176\ttotal: 1.1s\tremaining: 3.35s\n",
      "247:\tlearn: 0.1485198\ttotal: 1.1s\tremaining: 3.35s\n",
      "248:\tlearn: 0.1483441\ttotal: 1.11s\tremaining: 3.34s\n",
      "249:\tlearn: 0.1482681\ttotal: 1.11s\tremaining: 3.33s\n",
      "250:\tlearn: 0.1480951\ttotal: 1.11s\tremaining: 3.31s\n",
      "251:\tlearn: 0.1478234\ttotal: 1.11s\tremaining: 3.31s\n",
      "252:\tlearn: 0.1476235\ttotal: 1.12s\tremaining: 3.3s\n",
      "253:\tlearn: 0.1475131\ttotal: 1.12s\tremaining: 3.29s\n",
      "254:\tlearn: 0.1472130\ttotal: 1.12s\tremaining: 3.28s\n",
      "255:\tlearn: 0.1469520\ttotal: 1.13s\tremaining: 3.27s\n",
      "256:\tlearn: 0.1466038\ttotal: 1.13s\tremaining: 3.26s\n",
      "257:\tlearn: 0.1462044\ttotal: 1.13s\tremaining: 3.25s\n",
      "258:\tlearn: 0.1460409\ttotal: 1.13s\tremaining: 3.24s\n",
      "259:\tlearn: 0.1458524\ttotal: 1.14s\tremaining: 3.23s\n",
      "260:\tlearn: 0.1456523\ttotal: 1.14s\tremaining: 3.22s\n",
      "261:\tlearn: 0.1453992\ttotal: 1.14s\tremaining: 3.21s\n",
      "262:\tlearn: 0.1451192\ttotal: 1.14s\tremaining: 3.2s\n",
      "263:\tlearn: 0.1449998\ttotal: 1.15s\tremaining: 3.19s\n",
      "264:\tlearn: 0.1449764\ttotal: 1.15s\tremaining: 3.18s\n",
      "265:\tlearn: 0.1448915\ttotal: 1.15s\tremaining: 3.17s\n",
      "266:\tlearn: 0.1447397\ttotal: 1.15s\tremaining: 3.16s\n",
      "267:\tlearn: 0.1445896\ttotal: 1.16s\tremaining: 3.15s\n",
      "268:\tlearn: 0.1443296\ttotal: 1.16s\tremaining: 3.15s\n",
      "269:\tlearn: 0.1440035\ttotal: 1.16s\tremaining: 3.14s\n",
      "270:\tlearn: 0.1438787\ttotal: 1.16s\tremaining: 3.13s\n",
      "271:\tlearn: 0.1437995\ttotal: 1.17s\tremaining: 3.12s\n",
      "272:\tlearn: 0.1436425\ttotal: 1.17s\tremaining: 3.12s\n",
      "273:\tlearn: 0.1433055\ttotal: 1.17s\tremaining: 3.11s\n",
      "274:\tlearn: 0.1430151\ttotal: 1.18s\tremaining: 3.1s\n",
      "275:\tlearn: 0.1429442\ttotal: 1.18s\tremaining: 3.09s\n",
      "276:\tlearn: 0.1427061\ttotal: 1.18s\tremaining: 3.09s\n",
      "277:\tlearn: 0.1424352\ttotal: 1.19s\tremaining: 3.08s\n",
      "278:\tlearn: 0.1422019\ttotal: 1.19s\tremaining: 3.07s\n",
      "279:\tlearn: 0.1420801\ttotal: 1.19s\tremaining: 3.07s\n",
      "280:\tlearn: 0.1418205\ttotal: 1.2s\tremaining: 3.06s\n",
      "281:\tlearn: 0.1416851\ttotal: 1.2s\tremaining: 3.05s\n",
      "282:\tlearn: 0.1416720\ttotal: 1.2s\tremaining: 3.04s\n",
      "283:\tlearn: 0.1416344\ttotal: 1.2s\tremaining: 3.03s\n",
      "284:\tlearn: 0.1414120\ttotal: 1.21s\tremaining: 3.02s\n",
      "285:\tlearn: 0.1412346\ttotal: 1.21s\tremaining: 3.02s\n",
      "286:\tlearn: 0.1410620\ttotal: 1.21s\tremaining: 3.01s\n",
      "287:\tlearn: 0.1409006\ttotal: 1.22s\tremaining: 3s\n",
      "288:\tlearn: 0.1406961\ttotal: 1.22s\tremaining: 3s\n",
      "289:\tlearn: 0.1405383\ttotal: 1.22s\tremaining: 2.99s\n",
      "290:\tlearn: 0.1401051\ttotal: 1.22s\tremaining: 2.98s\n",
      "291:\tlearn: 0.1398694\ttotal: 1.23s\tremaining: 2.98s\n",
      "292:\tlearn: 0.1397357\ttotal: 1.23s\tremaining: 2.97s\n",
      "293:\tlearn: 0.1394720\ttotal: 1.23s\tremaining: 2.96s\n",
      "294:\tlearn: 0.1391003\ttotal: 1.24s\tremaining: 2.95s\n",
      "295:\tlearn: 0.1389222\ttotal: 1.24s\tremaining: 2.95s\n",
      "296:\tlearn: 0.1387073\ttotal: 1.24s\tremaining: 2.94s\n",
      "297:\tlearn: 0.1385776\ttotal: 1.24s\tremaining: 2.93s\n",
      "298:\tlearn: 0.1383655\ttotal: 1.25s\tremaining: 2.92s\n",
      "299:\tlearn: 0.1381702\ttotal: 1.25s\tremaining: 2.92s\n",
      "300:\tlearn: 0.1380393\ttotal: 1.25s\tremaining: 2.92s\n",
      "301:\tlearn: 0.1379320\ttotal: 1.26s\tremaining: 2.91s\n",
      "302:\tlearn: 0.1378847\ttotal: 1.26s\tremaining: 2.9s\n",
      "303:\tlearn: 0.1376934\ttotal: 1.26s\tremaining: 2.9s\n",
      "304:\tlearn: 0.1374128\ttotal: 1.27s\tremaining: 2.89s\n",
      "305:\tlearn: 0.1372259\ttotal: 1.27s\tremaining: 2.88s\n",
      "306:\tlearn: 0.1368544\ttotal: 1.28s\tremaining: 2.88s\n",
      "307:\tlearn: 0.1366451\ttotal: 1.28s\tremaining: 2.87s\n",
      "308:\tlearn: 0.1363936\ttotal: 1.28s\tremaining: 2.87s\n",
      "309:\tlearn: 0.1363268\ttotal: 1.28s\tremaining: 2.86s\n",
      "310:\tlearn: 0.1360698\ttotal: 1.29s\tremaining: 2.85s\n",
      "311:\tlearn: 0.1358257\ttotal: 1.29s\tremaining: 2.85s\n",
      "312:\tlearn: 0.1355280\ttotal: 1.29s\tremaining: 2.84s\n",
      "313:\tlearn: 0.1352816\ttotal: 1.3s\tremaining: 2.83s\n",
      "314:\tlearn: 0.1348832\ttotal: 1.3s\tremaining: 2.83s\n",
      "315:\tlearn: 0.1347601\ttotal: 1.3s\tremaining: 2.82s\n",
      "316:\tlearn: 0.1345762\ttotal: 1.3s\tremaining: 2.81s\n",
      "317:\tlearn: 0.1344336\ttotal: 1.31s\tremaining: 2.81s\n",
      "318:\tlearn: 0.1341148\ttotal: 1.31s\tremaining: 2.8s\n",
      "319:\tlearn: 0.1339651\ttotal: 1.32s\tremaining: 2.8s\n",
      "320:\tlearn: 0.1339525\ttotal: 1.32s\tremaining: 2.8s\n",
      "321:\tlearn: 0.1337562\ttotal: 1.33s\tremaining: 2.79s\n",
      "322:\tlearn: 0.1335140\ttotal: 1.33s\tremaining: 2.79s\n",
      "323:\tlearn: 0.1333714\ttotal: 1.34s\tremaining: 2.79s\n",
      "324:\tlearn: 0.1332117\ttotal: 1.34s\tremaining: 2.79s\n",
      "325:\tlearn: 0.1331225\ttotal: 1.34s\tremaining: 2.78s\n",
      "326:\tlearn: 0.1329361\ttotal: 1.35s\tremaining: 2.78s\n",
      "327:\tlearn: 0.1327026\ttotal: 1.35s\tremaining: 2.77s\n",
      "328:\tlearn: 0.1325031\ttotal: 1.36s\tremaining: 2.77s\n",
      "329:\tlearn: 0.1322655\ttotal: 1.36s\tremaining: 2.77s\n",
      "330:\tlearn: 0.1321341\ttotal: 1.37s\tremaining: 2.76s\n",
      "331:\tlearn: 0.1318874\ttotal: 1.37s\tremaining: 2.76s\n",
      "332:\tlearn: 0.1317827\ttotal: 1.38s\tremaining: 2.76s\n",
      "333:\tlearn: 0.1316152\ttotal: 1.38s\tremaining: 2.75s\n",
      "334:\tlearn: 0.1314891\ttotal: 1.38s\tremaining: 2.75s\n",
      "335:\tlearn: 0.1312920\ttotal: 1.39s\tremaining: 2.74s\n",
      "336:\tlearn: 0.1311043\ttotal: 1.39s\tremaining: 2.73s\n",
      "337:\tlearn: 0.1308060\ttotal: 1.39s\tremaining: 2.73s\n",
      "338:\tlearn: 0.1305994\ttotal: 1.4s\tremaining: 2.72s\n",
      "339:\tlearn: 0.1303846\ttotal: 1.4s\tremaining: 2.71s\n",
      "340:\tlearn: 0.1303516\ttotal: 1.4s\tremaining: 2.71s\n",
      "341:\tlearn: 0.1301354\ttotal: 1.4s\tremaining: 2.7s\n",
      "342:\tlearn: 0.1298683\ttotal: 1.41s\tremaining: 2.7s\n",
      "343:\tlearn: 0.1296807\ttotal: 1.41s\tremaining: 2.69s\n",
      "344:\tlearn: 0.1295834\ttotal: 1.42s\tremaining: 2.69s\n",
      "345:\tlearn: 0.1294418\ttotal: 1.42s\tremaining: 2.69s\n",
      "346:\tlearn: 0.1292465\ttotal: 1.43s\tremaining: 2.69s\n",
      "347:\tlearn: 0.1290455\ttotal: 1.43s\tremaining: 2.69s\n",
      "348:\tlearn: 0.1287573\ttotal: 1.44s\tremaining: 2.68s\n",
      "349:\tlearn: 0.1285370\ttotal: 1.44s\tremaining: 2.68s\n",
      "350:\tlearn: 0.1283483\ttotal: 1.45s\tremaining: 2.68s\n",
      "351:\tlearn: 0.1281422\ttotal: 1.45s\tremaining: 2.67s\n",
      "352:\tlearn: 0.1279960\ttotal: 1.46s\tremaining: 2.67s\n",
      "353:\tlearn: 0.1277836\ttotal: 1.46s\tremaining: 2.67s\n",
      "354:\tlearn: 0.1276108\ttotal: 1.47s\tremaining: 2.67s\n",
      "355:\tlearn: 0.1274575\ttotal: 1.47s\tremaining: 2.66s\n",
      "356:\tlearn: 0.1273651\ttotal: 1.48s\tremaining: 2.66s\n",
      "357:\tlearn: 0.1272447\ttotal: 1.48s\tremaining: 2.66s\n",
      "358:\tlearn: 0.1270319\ttotal: 1.49s\tremaining: 2.66s\n",
      "359:\tlearn: 0.1268065\ttotal: 1.49s\tremaining: 2.65s\n",
      "360:\tlearn: 0.1266001\ttotal: 1.5s\tremaining: 2.65s\n",
      "361:\tlearn: 0.1264172\ttotal: 1.5s\tremaining: 2.65s\n",
      "362:\tlearn: 0.1262253\ttotal: 1.51s\tremaining: 2.65s\n",
      "363:\tlearn: 0.1261805\ttotal: 1.51s\tremaining: 2.64s\n",
      "364:\tlearn: 0.1257134\ttotal: 1.52s\tremaining: 2.64s\n",
      "365:\tlearn: 0.1255601\ttotal: 1.52s\tremaining: 2.64s\n",
      "366:\tlearn: 0.1255314\ttotal: 1.53s\tremaining: 2.64s\n",
      "367:\tlearn: 0.1254268\ttotal: 1.53s\tremaining: 2.63s\n",
      "368:\tlearn: 0.1253053\ttotal: 1.54s\tremaining: 2.63s\n"
     ]
    },
    {
     "name": "stdout",
     "output_type": "stream",
     "text": [
      "369:\tlearn: 0.1251059\ttotal: 1.54s\tremaining: 2.63s\n",
      "370:\tlearn: 0.1249525\ttotal: 1.55s\tremaining: 2.62s\n",
      "371:\tlearn: 0.1248895\ttotal: 1.55s\tremaining: 2.62s\n",
      "372:\tlearn: 0.1247730\ttotal: 1.55s\tremaining: 2.61s\n",
      "373:\tlearn: 0.1246495\ttotal: 1.56s\tremaining: 2.6s\n",
      "374:\tlearn: 0.1246294\ttotal: 1.56s\tremaining: 2.6s\n",
      "375:\tlearn: 0.1244816\ttotal: 1.56s\tremaining: 2.59s\n",
      "376:\tlearn: 0.1243764\ttotal: 1.56s\tremaining: 2.59s\n",
      "377:\tlearn: 0.1242863\ttotal: 1.57s\tremaining: 2.58s\n",
      "378:\tlearn: 0.1241925\ttotal: 1.57s\tremaining: 2.58s\n",
      "379:\tlearn: 0.1239577\ttotal: 1.58s\tremaining: 2.57s\n",
      "380:\tlearn: 0.1237353\ttotal: 1.58s\tremaining: 2.57s\n",
      "381:\tlearn: 0.1236391\ttotal: 1.58s\tremaining: 2.56s\n",
      "382:\tlearn: 0.1234227\ttotal: 1.59s\tremaining: 2.56s\n",
      "383:\tlearn: 0.1231221\ttotal: 1.59s\tremaining: 2.56s\n",
      "384:\tlearn: 0.1229497\ttotal: 1.6s\tremaining: 2.56s\n",
      "385:\tlearn: 0.1227984\ttotal: 1.6s\tremaining: 2.55s\n",
      "386:\tlearn: 0.1227033\ttotal: 1.61s\tremaining: 2.55s\n",
      "387:\tlearn: 0.1225918\ttotal: 1.61s\tremaining: 2.55s\n",
      "388:\tlearn: 0.1223770\ttotal: 1.62s\tremaining: 2.54s\n",
      "389:\tlearn: 0.1221544\ttotal: 1.62s\tremaining: 2.54s\n",
      "390:\tlearn: 0.1219868\ttotal: 1.63s\tremaining: 2.54s\n",
      "391:\tlearn: 0.1217252\ttotal: 1.63s\tremaining: 2.53s\n",
      "392:\tlearn: 0.1215450\ttotal: 1.64s\tremaining: 2.53s\n",
      "393:\tlearn: 0.1213558\ttotal: 1.64s\tremaining: 2.52s\n",
      "394:\tlearn: 0.1212368\ttotal: 1.65s\tremaining: 2.52s\n",
      "395:\tlearn: 0.1211108\ttotal: 1.65s\tremaining: 2.52s\n",
      "396:\tlearn: 0.1208629\ttotal: 1.66s\tremaining: 2.51s\n",
      "397:\tlearn: 0.1207508\ttotal: 1.66s\tremaining: 2.51s\n",
      "398:\tlearn: 0.1206582\ttotal: 1.66s\tremaining: 2.5s\n",
      "399:\tlearn: 0.1204033\ttotal: 1.66s\tremaining: 2.5s\n",
      "400:\tlearn: 0.1203540\ttotal: 1.67s\tremaining: 2.49s\n",
      "401:\tlearn: 0.1202365\ttotal: 1.67s\tremaining: 2.49s\n",
      "402:\tlearn: 0.1200509\ttotal: 1.68s\tremaining: 2.48s\n",
      "403:\tlearn: 0.1199403\ttotal: 1.68s\tremaining: 2.48s\n",
      "404:\tlearn: 0.1196886\ttotal: 1.68s\tremaining: 2.47s\n",
      "405:\tlearn: 0.1195250\ttotal: 1.69s\tremaining: 2.46s\n",
      "406:\tlearn: 0.1194425\ttotal: 1.69s\tremaining: 2.46s\n",
      "407:\tlearn: 0.1192573\ttotal: 1.69s\tremaining: 2.46s\n",
      "408:\tlearn: 0.1189622\ttotal: 1.7s\tremaining: 2.45s\n",
      "409:\tlearn: 0.1188168\ttotal: 1.7s\tremaining: 2.44s\n",
      "410:\tlearn: 0.1187298\ttotal: 1.7s\tremaining: 2.44s\n",
      "411:\tlearn: 0.1185508\ttotal: 1.71s\tremaining: 2.43s\n",
      "412:\tlearn: 0.1183439\ttotal: 1.71s\tremaining: 2.43s\n",
      "413:\tlearn: 0.1182760\ttotal: 1.71s\tremaining: 2.43s\n",
      "414:\tlearn: 0.1180733\ttotal: 1.72s\tremaining: 2.42s\n",
      "415:\tlearn: 0.1179164\ttotal: 1.72s\tremaining: 2.41s\n",
      "416:\tlearn: 0.1178855\ttotal: 1.72s\tremaining: 2.41s\n",
      "417:\tlearn: 0.1177821\ttotal: 1.72s\tremaining: 2.4s\n",
      "418:\tlearn: 0.1177650\ttotal: 1.73s\tremaining: 2.4s\n",
      "419:\tlearn: 0.1174815\ttotal: 1.73s\tremaining: 2.39s\n",
      "420:\tlearn: 0.1173913\ttotal: 1.73s\tremaining: 2.38s\n",
      "421:\tlearn: 0.1172305\ttotal: 1.74s\tremaining: 2.38s\n",
      "422:\tlearn: 0.1171147\ttotal: 1.74s\tremaining: 2.37s\n",
      "423:\tlearn: 0.1169495\ttotal: 1.74s\tremaining: 2.37s\n",
      "424:\tlearn: 0.1168046\ttotal: 1.75s\tremaining: 2.36s\n",
      "425:\tlearn: 0.1166239\ttotal: 1.75s\tremaining: 2.36s\n",
      "426:\tlearn: 0.1164292\ttotal: 1.75s\tremaining: 2.35s\n",
      "427:\tlearn: 0.1162264\ttotal: 1.76s\tremaining: 2.35s\n",
      "428:\tlearn: 0.1160819\ttotal: 1.76s\tremaining: 2.34s\n",
      "429:\tlearn: 0.1159656\ttotal: 1.76s\tremaining: 2.34s\n",
      "430:\tlearn: 0.1157276\ttotal: 1.77s\tremaining: 2.33s\n",
      "431:\tlearn: 0.1155952\ttotal: 1.77s\tremaining: 2.33s\n",
      "432:\tlearn: 0.1154775\ttotal: 1.77s\tremaining: 2.32s\n",
      "433:\tlearn: 0.1153381\ttotal: 1.78s\tremaining: 2.32s\n",
      "434:\tlearn: 0.1151816\ttotal: 1.78s\tremaining: 2.31s\n",
      "435:\tlearn: 0.1149581\ttotal: 1.78s\tremaining: 2.31s\n",
      "436:\tlearn: 0.1148473\ttotal: 1.79s\tremaining: 2.3s\n",
      "437:\tlearn: 0.1145168\ttotal: 1.79s\tremaining: 2.3s\n",
      "438:\tlearn: 0.1144383\ttotal: 1.79s\tremaining: 2.29s\n",
      "439:\tlearn: 0.1142092\ttotal: 1.8s\tremaining: 2.29s\n",
      "440:\tlearn: 0.1139920\ttotal: 1.8s\tremaining: 2.28s\n",
      "441:\tlearn: 0.1138525\ttotal: 1.8s\tremaining: 2.28s\n",
      "442:\tlearn: 0.1136359\ttotal: 1.81s\tremaining: 2.27s\n",
      "443:\tlearn: 0.1134528\ttotal: 1.81s\tremaining: 2.27s\n",
      "444:\tlearn: 0.1133319\ttotal: 1.81s\tremaining: 2.26s\n",
      "445:\tlearn: 0.1131524\ttotal: 1.81s\tremaining: 2.25s\n",
      "446:\tlearn: 0.1130526\ttotal: 1.82s\tremaining: 2.25s\n",
      "447:\tlearn: 0.1128409\ttotal: 1.82s\tremaining: 2.24s\n",
      "448:\tlearn: 0.1127527\ttotal: 1.82s\tremaining: 2.24s\n",
      "449:\tlearn: 0.1126523\ttotal: 1.83s\tremaining: 2.23s\n",
      "450:\tlearn: 0.1125786\ttotal: 1.83s\tremaining: 2.23s\n",
      "451:\tlearn: 0.1123688\ttotal: 1.84s\tremaining: 2.23s\n",
      "452:\tlearn: 0.1122582\ttotal: 1.84s\tremaining: 2.22s\n",
      "453:\tlearn: 0.1121566\ttotal: 1.84s\tremaining: 2.21s\n",
      "454:\tlearn: 0.1119374\ttotal: 1.85s\tremaining: 2.21s\n",
      "455:\tlearn: 0.1117404\ttotal: 1.85s\tremaining: 2.21s\n",
      "456:\tlearn: 0.1116144\ttotal: 1.85s\tremaining: 2.2s\n",
      "457:\tlearn: 0.1114489\ttotal: 1.86s\tremaining: 2.2s\n",
      "458:\tlearn: 0.1113079\ttotal: 1.86s\tremaining: 2.19s\n",
      "459:\tlearn: 0.1111687\ttotal: 1.86s\tremaining: 2.19s\n",
      "460:\tlearn: 0.1111536\ttotal: 1.87s\tremaining: 2.18s\n",
      "461:\tlearn: 0.1110253\ttotal: 1.87s\tremaining: 2.18s\n",
      "462:\tlearn: 0.1109363\ttotal: 1.87s\tremaining: 2.17s\n",
      "463:\tlearn: 0.1108372\ttotal: 1.88s\tremaining: 2.17s\n",
      "464:\tlearn: 0.1107728\ttotal: 1.88s\tremaining: 2.16s\n",
      "465:\tlearn: 0.1106645\ttotal: 1.88s\tremaining: 2.16s\n",
      "466:\tlearn: 0.1104515\ttotal: 1.89s\tremaining: 2.15s\n",
      "467:\tlearn: 0.1102993\ttotal: 1.89s\tremaining: 2.15s\n",
      "468:\tlearn: 0.1101022\ttotal: 1.89s\tremaining: 2.15s\n",
      "469:\tlearn: 0.1099029\ttotal: 1.9s\tremaining: 2.14s\n",
      "470:\tlearn: 0.1097688\ttotal: 1.9s\tremaining: 2.13s\n",
      "471:\tlearn: 0.1097224\ttotal: 1.9s\tremaining: 2.13s\n",
      "472:\tlearn: 0.1096095\ttotal: 1.91s\tremaining: 2.12s\n",
      "473:\tlearn: 0.1094145\ttotal: 1.91s\tremaining: 2.12s\n",
      "474:\tlearn: 0.1092682\ttotal: 1.91s\tremaining: 2.12s\n",
      "475:\tlearn: 0.1091133\ttotal: 1.92s\tremaining: 2.11s\n",
      "476:\tlearn: 0.1090503\ttotal: 1.92s\tremaining: 2.11s\n",
      "477:\tlearn: 0.1088666\ttotal: 1.93s\tremaining: 2.11s\n",
      "478:\tlearn: 0.1087789\ttotal: 1.93s\tremaining: 2.1s\n",
      "479:\tlearn: 0.1086454\ttotal: 1.94s\tremaining: 2.1s\n",
      "480:\tlearn: 0.1085426\ttotal: 1.94s\tremaining: 2.1s\n",
      "481:\tlearn: 0.1083515\ttotal: 1.95s\tremaining: 2.09s\n",
      "482:\tlearn: 0.1082791\ttotal: 1.95s\tremaining: 2.09s\n",
      "483:\tlearn: 0.1081283\ttotal: 1.96s\tremaining: 2.09s\n",
      "484:\tlearn: 0.1079673\ttotal: 1.96s\tremaining: 2.08s\n",
      "485:\tlearn: 0.1078349\ttotal: 1.97s\tremaining: 2.08s\n",
      "486:\tlearn: 0.1076939\ttotal: 1.97s\tremaining: 2.08s\n",
      "487:\tlearn: 0.1075642\ttotal: 1.98s\tremaining: 2.08s\n",
      "488:\tlearn: 0.1074019\ttotal: 1.98s\tremaining: 2.07s\n",
      "489:\tlearn: 0.1070791\ttotal: 1.99s\tremaining: 2.07s\n",
      "490:\tlearn: 0.1069832\ttotal: 1.99s\tremaining: 2.07s\n",
      "491:\tlearn: 0.1068322\ttotal: 2s\tremaining: 2.06s\n",
      "492:\tlearn: 0.1066597\ttotal: 2s\tremaining: 2.06s\n",
      "493:\tlearn: 0.1064973\ttotal: 2.01s\tremaining: 2.06s\n",
      "494:\tlearn: 0.1063733\ttotal: 2.01s\tremaining: 2.05s\n",
      "495:\tlearn: 0.1063303\ttotal: 2.02s\tremaining: 2.05s\n",
      "496:\tlearn: 0.1063183\ttotal: 2.02s\tremaining: 2.04s\n",
      "497:\tlearn: 0.1061883\ttotal: 2.02s\tremaining: 2.04s\n",
      "498:\tlearn: 0.1061602\ttotal: 2.03s\tremaining: 2.04s\n",
      "499:\tlearn: 0.1060918\ttotal: 2.04s\tremaining: 2.04s\n",
      "500:\tlearn: 0.1059028\ttotal: 2.04s\tremaining: 2.03s\n",
      "501:\tlearn: 0.1057929\ttotal: 2.04s\tremaining: 2.03s\n",
      "502:\tlearn: 0.1055410\ttotal: 2.05s\tremaining: 2.03s\n",
      "503:\tlearn: 0.1054691\ttotal: 2.05s\tremaining: 2.02s\n",
      "504:\tlearn: 0.1052957\ttotal: 2.06s\tremaining: 2.02s\n",
      "505:\tlearn: 0.1051567\ttotal: 2.06s\tremaining: 2.01s\n",
      "506:\tlearn: 0.1050228\ttotal: 2.06s\tremaining: 2s\n",
      "507:\tlearn: 0.1047365\ttotal: 2.06s\tremaining: 2s\n",
      "508:\tlearn: 0.1046312\ttotal: 2.07s\tremaining: 1.99s\n",
      "509:\tlearn: 0.1044937\ttotal: 2.07s\tremaining: 1.99s\n",
      "510:\tlearn: 0.1043961\ttotal: 2.07s\tremaining: 1.99s\n",
      "511:\tlearn: 0.1042736\ttotal: 2.08s\tremaining: 1.98s\n",
      "512:\tlearn: 0.1041174\ttotal: 2.08s\tremaining: 1.98s\n",
      "513:\tlearn: 0.1039359\ttotal: 2.09s\tremaining: 1.98s\n",
      "514:\tlearn: 0.1039088\ttotal: 2.09s\tremaining: 1.97s\n",
      "515:\tlearn: 0.1037917\ttotal: 2.1s\tremaining: 1.97s\n",
      "516:\tlearn: 0.1036306\ttotal: 2.1s\tremaining: 1.97s\n",
      "517:\tlearn: 0.1034820\ttotal: 2.11s\tremaining: 1.96s\n",
      "518:\tlearn: 0.1034570\ttotal: 2.11s\tremaining: 1.96s\n",
      "519:\tlearn: 0.1034069\ttotal: 2.12s\tremaining: 1.96s\n",
      "520:\tlearn: 0.1032917\ttotal: 2.12s\tremaining: 1.95s\n",
      "521:\tlearn: 0.1031519\ttotal: 2.13s\tremaining: 1.95s\n",
      "522:\tlearn: 0.1030686\ttotal: 2.13s\tremaining: 1.95s\n",
      "523:\tlearn: 0.1030322\ttotal: 2.14s\tremaining: 1.94s\n",
      "524:\tlearn: 0.1029043\ttotal: 2.14s\tremaining: 1.94s\n",
      "525:\tlearn: 0.1027113\ttotal: 2.15s\tremaining: 1.94s\n",
      "526:\tlearn: 0.1026467\ttotal: 2.15s\tremaining: 1.93s\n",
      "527:\tlearn: 0.1024706\ttotal: 2.16s\tremaining: 1.93s\n",
      "528:\tlearn: 0.1022290\ttotal: 2.16s\tremaining: 1.92s\n",
      "529:\tlearn: 0.1020935\ttotal: 2.17s\tremaining: 1.92s\n",
      "530:\tlearn: 0.1019596\ttotal: 2.17s\tremaining: 1.92s\n",
      "531:\tlearn: 0.1018524\ttotal: 2.18s\tremaining: 1.91s\n",
      "532:\tlearn: 0.1016782\ttotal: 2.18s\tremaining: 1.91s\n",
      "533:\tlearn: 0.1016030\ttotal: 2.19s\tremaining: 1.91s\n",
      "534:\tlearn: 0.1015075\ttotal: 2.19s\tremaining: 1.9s\n",
      "535:\tlearn: 0.1013436\ttotal: 2.2s\tremaining: 1.9s\n",
      "536:\tlearn: 0.1012946\ttotal: 2.2s\tremaining: 1.9s\n",
      "537:\tlearn: 0.1011555\ttotal: 2.21s\tremaining: 1.89s\n",
      "538:\tlearn: 0.1010260\ttotal: 2.21s\tremaining: 1.89s\n",
      "539:\tlearn: 0.1009373\ttotal: 2.21s\tremaining: 1.89s\n"
     ]
    },
    {
     "name": "stdout",
     "output_type": "stream",
     "text": [
      "540:\tlearn: 0.1008064\ttotal: 2.22s\tremaining: 1.88s\n",
      "541:\tlearn: 0.1007256\ttotal: 2.22s\tremaining: 1.88s\n",
      "542:\tlearn: 0.1006064\ttotal: 2.23s\tremaining: 1.88s\n",
      "543:\tlearn: 0.1004302\ttotal: 2.23s\tremaining: 1.87s\n",
      "544:\tlearn: 0.1003538\ttotal: 2.23s\tremaining: 1.86s\n",
      "545:\tlearn: 0.1002412\ttotal: 2.24s\tremaining: 1.86s\n",
      "546:\tlearn: 0.1000830\ttotal: 2.24s\tremaining: 1.85s\n",
      "547:\tlearn: 0.0999419\ttotal: 2.24s\tremaining: 1.85s\n",
      "548:\tlearn: 0.0998081\ttotal: 2.25s\tremaining: 1.84s\n",
      "549:\tlearn: 0.0996070\ttotal: 2.25s\tremaining: 1.84s\n",
      "550:\tlearn: 0.0993954\ttotal: 2.25s\tremaining: 1.84s\n",
      "551:\tlearn: 0.0992577\ttotal: 2.26s\tremaining: 1.83s\n",
      "552:\tlearn: 0.0990015\ttotal: 2.26s\tremaining: 1.83s\n",
      "553:\tlearn: 0.0987845\ttotal: 2.27s\tremaining: 1.83s\n",
      "554:\tlearn: 0.0986985\ttotal: 2.27s\tremaining: 1.82s\n",
      "555:\tlearn: 0.0985584\ttotal: 2.28s\tremaining: 1.82s\n",
      "556:\tlearn: 0.0985433\ttotal: 2.28s\tremaining: 1.82s\n",
      "557:\tlearn: 0.0984445\ttotal: 2.29s\tremaining: 1.81s\n",
      "558:\tlearn: 0.0983951\ttotal: 2.29s\tremaining: 1.81s\n",
      "559:\tlearn: 0.0982770\ttotal: 2.3s\tremaining: 1.81s\n",
      "560:\tlearn: 0.0980340\ttotal: 2.31s\tremaining: 1.8s\n",
      "561:\tlearn: 0.0979428\ttotal: 2.31s\tremaining: 1.8s\n",
      "562:\tlearn: 0.0978264\ttotal: 2.32s\tremaining: 1.8s\n",
      "563:\tlearn: 0.0977595\ttotal: 2.32s\tremaining: 1.79s\n",
      "564:\tlearn: 0.0975397\ttotal: 2.33s\tremaining: 1.79s\n",
      "565:\tlearn: 0.0973852\ttotal: 2.33s\tremaining: 1.79s\n",
      "566:\tlearn: 0.0972788\ttotal: 2.34s\tremaining: 1.78s\n",
      "567:\tlearn: 0.0972268\ttotal: 2.34s\tremaining: 1.78s\n",
      "568:\tlearn: 0.0971653\ttotal: 2.35s\tremaining: 1.78s\n",
      "569:\tlearn: 0.0970530\ttotal: 2.35s\tremaining: 1.77s\n",
      "570:\tlearn: 0.0969023\ttotal: 2.36s\tremaining: 1.77s\n",
      "571:\tlearn: 0.0967987\ttotal: 2.36s\tremaining: 1.77s\n",
      "572:\tlearn: 0.0966075\ttotal: 2.37s\tremaining: 1.76s\n",
      "573:\tlearn: 0.0964602\ttotal: 2.37s\tremaining: 1.76s\n",
      "574:\tlearn: 0.0963594\ttotal: 2.38s\tremaining: 1.76s\n",
      "575:\tlearn: 0.0961013\ttotal: 2.38s\tremaining: 1.75s\n",
      "576:\tlearn: 0.0960219\ttotal: 2.39s\tremaining: 1.75s\n",
      "577:\tlearn: 0.0959049\ttotal: 2.39s\tremaining: 1.75s\n",
      "578:\tlearn: 0.0958217\ttotal: 2.4s\tremaining: 1.74s\n",
      "579:\tlearn: 0.0957358\ttotal: 2.4s\tremaining: 1.74s\n",
      "580:\tlearn: 0.0956385\ttotal: 2.4s\tremaining: 1.73s\n",
      "581:\tlearn: 0.0954989\ttotal: 2.41s\tremaining: 1.73s\n",
      "582:\tlearn: 0.0952493\ttotal: 2.41s\tremaining: 1.72s\n",
      "583:\tlearn: 0.0951715\ttotal: 2.41s\tremaining: 1.72s\n",
      "584:\tlearn: 0.0951040\ttotal: 2.42s\tremaining: 1.72s\n",
      "585:\tlearn: 0.0949747\ttotal: 2.42s\tremaining: 1.71s\n",
      "586:\tlearn: 0.0948656\ttotal: 2.43s\tremaining: 1.71s\n",
      "587:\tlearn: 0.0947585\ttotal: 2.43s\tremaining: 1.7s\n",
      "588:\tlearn: 0.0945822\ttotal: 2.44s\tremaining: 1.7s\n",
      "589:\tlearn: 0.0945464\ttotal: 2.44s\tremaining: 1.7s\n",
      "590:\tlearn: 0.0945005\ttotal: 2.44s\tremaining: 1.69s\n",
      "591:\tlearn: 0.0943301\ttotal: 2.45s\tremaining: 1.69s\n",
      "592:\tlearn: 0.0942652\ttotal: 2.45s\tremaining: 1.68s\n",
      "593:\tlearn: 0.0941896\ttotal: 2.46s\tremaining: 1.68s\n",
      "594:\tlearn: 0.0940753\ttotal: 2.46s\tremaining: 1.67s\n",
      "595:\tlearn: 0.0939822\ttotal: 2.46s\tremaining: 1.67s\n",
      "596:\tlearn: 0.0938889\ttotal: 2.47s\tremaining: 1.67s\n",
      "597:\tlearn: 0.0938047\ttotal: 2.47s\tremaining: 1.66s\n",
      "598:\tlearn: 0.0936940\ttotal: 2.48s\tremaining: 1.66s\n",
      "599:\tlearn: 0.0935882\ttotal: 2.48s\tremaining: 1.66s\n",
      "600:\tlearn: 0.0934250\ttotal: 2.49s\tremaining: 1.65s\n",
      "601:\tlearn: 0.0933347\ttotal: 2.49s\tremaining: 1.65s\n",
      "602:\tlearn: 0.0931972\ttotal: 2.5s\tremaining: 1.64s\n",
      "603:\tlearn: 0.0931085\ttotal: 2.5s\tremaining: 1.64s\n",
      "604:\tlearn: 0.0930574\ttotal: 2.5s\tremaining: 1.64s\n",
      "605:\tlearn: 0.0930064\ttotal: 2.51s\tremaining: 1.63s\n",
      "606:\tlearn: 0.0928816\ttotal: 2.51s\tremaining: 1.63s\n",
      "607:\tlearn: 0.0927557\ttotal: 2.52s\tremaining: 1.62s\n",
      "608:\tlearn: 0.0927241\ttotal: 2.52s\tremaining: 1.62s\n",
      "609:\tlearn: 0.0924973\ttotal: 2.53s\tremaining: 1.61s\n",
      "610:\tlearn: 0.0923157\ttotal: 2.53s\tremaining: 1.61s\n",
      "611:\tlearn: 0.0921775\ttotal: 2.53s\tremaining: 1.61s\n",
      "612:\tlearn: 0.0920296\ttotal: 2.54s\tremaining: 1.6s\n",
      "613:\tlearn: 0.0918243\ttotal: 2.54s\tremaining: 1.6s\n",
      "614:\tlearn: 0.0917256\ttotal: 2.55s\tremaining: 1.59s\n",
      "615:\tlearn: 0.0916570\ttotal: 2.55s\tremaining: 1.59s\n",
      "616:\tlearn: 0.0915534\ttotal: 2.56s\tremaining: 1.59s\n",
      "617:\tlearn: 0.0915304\ttotal: 2.56s\tremaining: 1.58s\n",
      "618:\tlearn: 0.0913448\ttotal: 2.56s\tremaining: 1.58s\n",
      "619:\tlearn: 0.0911505\ttotal: 2.57s\tremaining: 1.57s\n",
      "620:\tlearn: 0.0910350\ttotal: 2.57s\tremaining: 1.57s\n",
      "621:\tlearn: 0.0908256\ttotal: 2.57s\tremaining: 1.56s\n",
      "622:\tlearn: 0.0907549\ttotal: 2.58s\tremaining: 1.56s\n",
      "623:\tlearn: 0.0906442\ttotal: 2.58s\tremaining: 1.55s\n",
      "624:\tlearn: 0.0905771\ttotal: 2.58s\tremaining: 1.55s\n",
      "625:\tlearn: 0.0904683\ttotal: 2.59s\tremaining: 1.54s\n",
      "626:\tlearn: 0.0903949\ttotal: 2.59s\tremaining: 1.54s\n",
      "627:\tlearn: 0.0903849\ttotal: 2.59s\tremaining: 1.54s\n",
      "628:\tlearn: 0.0903160\ttotal: 2.6s\tremaining: 1.53s\n",
      "629:\tlearn: 0.0901907\ttotal: 2.6s\tremaining: 1.53s\n",
      "630:\tlearn: 0.0900531\ttotal: 2.6s\tremaining: 1.52s\n",
      "631:\tlearn: 0.0898676\ttotal: 2.61s\tremaining: 1.52s\n",
      "632:\tlearn: 0.0898070\ttotal: 2.61s\tremaining: 1.51s\n",
      "633:\tlearn: 0.0896957\ttotal: 2.62s\tremaining: 1.51s\n",
      "634:\tlearn: 0.0896424\ttotal: 2.62s\tremaining: 1.51s\n",
      "635:\tlearn: 0.0895971\ttotal: 2.63s\tremaining: 1.5s\n",
      "636:\tlearn: 0.0894981\ttotal: 2.63s\tremaining: 1.5s\n",
      "637:\tlearn: 0.0893953\ttotal: 2.63s\tremaining: 1.49s\n",
      "638:\tlearn: 0.0892331\ttotal: 2.64s\tremaining: 1.49s\n",
      "639:\tlearn: 0.0890967\ttotal: 2.64s\tremaining: 1.49s\n",
      "640:\tlearn: 0.0889224\ttotal: 2.65s\tremaining: 1.48s\n",
      "641:\tlearn: 0.0888770\ttotal: 2.65s\tremaining: 1.48s\n",
      "642:\tlearn: 0.0888035\ttotal: 2.66s\tremaining: 1.47s\n",
      "643:\tlearn: 0.0886809\ttotal: 2.66s\tremaining: 1.47s\n",
      "644:\tlearn: 0.0884902\ttotal: 2.66s\tremaining: 1.47s\n",
      "645:\tlearn: 0.0884087\ttotal: 2.67s\tremaining: 1.46s\n",
      "646:\tlearn: 0.0882181\ttotal: 2.67s\tremaining: 1.46s\n",
      "647:\tlearn: 0.0881302\ttotal: 2.68s\tremaining: 1.46s\n",
      "648:\tlearn: 0.0879515\ttotal: 2.68s\tremaining: 1.45s\n",
      "649:\tlearn: 0.0878485\ttotal: 2.69s\tremaining: 1.45s\n",
      "650:\tlearn: 0.0877132\ttotal: 2.69s\tremaining: 1.44s\n",
      "651:\tlearn: 0.0876681\ttotal: 2.69s\tremaining: 1.44s\n",
      "652:\tlearn: 0.0874873\ttotal: 2.7s\tremaining: 1.43s\n",
      "653:\tlearn: 0.0874083\ttotal: 2.7s\tremaining: 1.43s\n",
      "654:\tlearn: 0.0873052\ttotal: 2.71s\tremaining: 1.43s\n",
      "655:\tlearn: 0.0871240\ttotal: 2.71s\tremaining: 1.42s\n",
      "656:\tlearn: 0.0869853\ttotal: 2.71s\tremaining: 1.42s\n",
      "657:\tlearn: 0.0868860\ttotal: 2.72s\tremaining: 1.41s\n",
      "658:\tlearn: 0.0866838\ttotal: 2.72s\tremaining: 1.41s\n",
      "659:\tlearn: 0.0866556\ttotal: 2.73s\tremaining: 1.4s\n",
      "660:\tlearn: 0.0866033\ttotal: 2.73s\tremaining: 1.4s\n",
      "661:\tlearn: 0.0865187\ttotal: 2.73s\tremaining: 1.4s\n",
      "662:\tlearn: 0.0863634\ttotal: 2.74s\tremaining: 1.39s\n",
      "663:\tlearn: 0.0862363\ttotal: 2.74s\tremaining: 1.39s\n",
      "664:\tlearn: 0.0862216\ttotal: 2.74s\tremaining: 1.38s\n",
      "665:\tlearn: 0.0861306\ttotal: 2.75s\tremaining: 1.38s\n",
      "666:\tlearn: 0.0860533\ttotal: 2.75s\tremaining: 1.37s\n",
      "667:\tlearn: 0.0860213\ttotal: 2.75s\tremaining: 1.37s\n",
      "668:\tlearn: 0.0859451\ttotal: 2.76s\tremaining: 1.36s\n",
      "669:\tlearn: 0.0858670\ttotal: 2.76s\tremaining: 1.36s\n",
      "670:\tlearn: 0.0857763\ttotal: 2.76s\tremaining: 1.35s\n",
      "671:\tlearn: 0.0857233\ttotal: 2.77s\tremaining: 1.35s\n",
      "672:\tlearn: 0.0856444\ttotal: 2.77s\tremaining: 1.34s\n",
      "673:\tlearn: 0.0855403\ttotal: 2.77s\tremaining: 1.34s\n",
      "674:\tlearn: 0.0855259\ttotal: 2.78s\tremaining: 1.34s\n",
      "675:\tlearn: 0.0854190\ttotal: 2.78s\tremaining: 1.33s\n",
      "676:\tlearn: 0.0853351\ttotal: 2.79s\tremaining: 1.33s\n",
      "677:\tlearn: 0.0851797\ttotal: 2.79s\tremaining: 1.33s\n",
      "678:\tlearn: 0.0850525\ttotal: 2.8s\tremaining: 1.32s\n",
      "679:\tlearn: 0.0849480\ttotal: 2.8s\tremaining: 1.32s\n",
      "680:\tlearn: 0.0848463\ttotal: 2.81s\tremaining: 1.31s\n",
      "681:\tlearn: 0.0847530\ttotal: 2.81s\tremaining: 1.31s\n",
      "682:\tlearn: 0.0846306\ttotal: 2.81s\tremaining: 1.3s\n",
      "683:\tlearn: 0.0845583\ttotal: 2.82s\tremaining: 1.3s\n",
      "684:\tlearn: 0.0844181\ttotal: 2.82s\tremaining: 1.3s\n",
      "685:\tlearn: 0.0843723\ttotal: 2.82s\tremaining: 1.29s\n",
      "686:\tlearn: 0.0843165\ttotal: 2.83s\tremaining: 1.29s\n",
      "687:\tlearn: 0.0842859\ttotal: 2.83s\tremaining: 1.28s\n",
      "688:\tlearn: 0.0842392\ttotal: 2.83s\tremaining: 1.28s\n",
      "689:\tlearn: 0.0841184\ttotal: 2.83s\tremaining: 1.27s\n",
      "690:\tlearn: 0.0840443\ttotal: 2.84s\tremaining: 1.27s\n",
      "691:\tlearn: 0.0839448\ttotal: 2.84s\tremaining: 1.26s\n",
      "692:\tlearn: 0.0838917\ttotal: 2.84s\tremaining: 1.26s\n",
      "693:\tlearn: 0.0838684\ttotal: 2.85s\tremaining: 1.25s\n",
      "694:\tlearn: 0.0836756\ttotal: 2.85s\tremaining: 1.25s\n",
      "695:\tlearn: 0.0836113\ttotal: 2.85s\tremaining: 1.25s\n",
      "696:\tlearn: 0.0835329\ttotal: 2.85s\tremaining: 1.24s\n",
      "697:\tlearn: 0.0834472\ttotal: 2.86s\tremaining: 1.24s\n",
      "698:\tlearn: 0.0834059\ttotal: 2.86s\tremaining: 1.23s\n",
      "699:\tlearn: 0.0833555\ttotal: 2.86s\tremaining: 1.23s\n",
      "700:\tlearn: 0.0832093\ttotal: 2.87s\tremaining: 1.22s\n",
      "701:\tlearn: 0.0830968\ttotal: 2.87s\tremaining: 1.22s\n",
      "702:\tlearn: 0.0830257\ttotal: 2.87s\tremaining: 1.21s\n",
      "703:\tlearn: 0.0830162\ttotal: 2.87s\tremaining: 1.21s\n",
      "704:\tlearn: 0.0829151\ttotal: 2.88s\tremaining: 1.2s\n",
      "705:\tlearn: 0.0827269\ttotal: 2.88s\tremaining: 1.2s\n",
      "706:\tlearn: 0.0825911\ttotal: 2.88s\tremaining: 1.19s\n",
      "707:\tlearn: 0.0824260\ttotal: 2.88s\tremaining: 1.19s\n",
      "708:\tlearn: 0.0823275\ttotal: 2.89s\tremaining: 1.19s\n",
      "709:\tlearn: 0.0823016\ttotal: 2.89s\tremaining: 1.18s\n",
      "710:\tlearn: 0.0822216\ttotal: 2.89s\tremaining: 1.18s\n",
      "711:\tlearn: 0.0821544\ttotal: 2.9s\tremaining: 1.17s\n"
     ]
    },
    {
     "name": "stdout",
     "output_type": "stream",
     "text": [
      "712:\tlearn: 0.0820951\ttotal: 2.9s\tremaining: 1.17s\n",
      "713:\tlearn: 0.0820113\ttotal: 2.9s\tremaining: 1.16s\n",
      "714:\tlearn: 0.0819755\ttotal: 2.9s\tremaining: 1.16s\n",
      "715:\tlearn: 0.0818801\ttotal: 2.91s\tremaining: 1.15s\n",
      "716:\tlearn: 0.0817963\ttotal: 2.91s\tremaining: 1.15s\n",
      "717:\tlearn: 0.0816999\ttotal: 2.91s\tremaining: 1.14s\n",
      "718:\tlearn: 0.0816526\ttotal: 2.92s\tremaining: 1.14s\n",
      "719:\tlearn: 0.0815104\ttotal: 2.92s\tremaining: 1.14s\n",
      "720:\tlearn: 0.0814210\ttotal: 2.92s\tremaining: 1.13s\n",
      "721:\tlearn: 0.0813590\ttotal: 2.92s\tremaining: 1.13s\n",
      "722:\tlearn: 0.0811888\ttotal: 2.93s\tremaining: 1.12s\n",
      "723:\tlearn: 0.0811028\ttotal: 2.93s\tremaining: 1.12s\n",
      "724:\tlearn: 0.0810296\ttotal: 2.93s\tremaining: 1.11s\n",
      "725:\tlearn: 0.0809345\ttotal: 2.94s\tremaining: 1.11s\n",
      "726:\tlearn: 0.0808854\ttotal: 2.94s\tremaining: 1.1s\n",
      "727:\tlearn: 0.0808253\ttotal: 2.94s\tremaining: 1.1s\n",
      "728:\tlearn: 0.0806299\ttotal: 2.94s\tremaining: 1.09s\n",
      "729:\tlearn: 0.0805324\ttotal: 2.95s\tremaining: 1.09s\n",
      "730:\tlearn: 0.0805177\ttotal: 2.95s\tremaining: 1.09s\n",
      "731:\tlearn: 0.0803705\ttotal: 2.95s\tremaining: 1.08s\n",
      "732:\tlearn: 0.0802509\ttotal: 2.96s\tremaining: 1.08s\n",
      "733:\tlearn: 0.0802270\ttotal: 2.96s\tremaining: 1.07s\n",
      "734:\tlearn: 0.0801177\ttotal: 2.96s\tremaining: 1.07s\n",
      "735:\tlearn: 0.0800885\ttotal: 2.97s\tremaining: 1.06s\n",
      "736:\tlearn: 0.0800638\ttotal: 2.97s\tremaining: 1.06s\n",
      "737:\tlearn: 0.0800548\ttotal: 2.97s\tremaining: 1.05s\n",
      "738:\tlearn: 0.0799947\ttotal: 2.98s\tremaining: 1.05s\n",
      "739:\tlearn: 0.0799634\ttotal: 2.98s\tremaining: 1.05s\n",
      "740:\tlearn: 0.0799398\ttotal: 2.98s\tremaining: 1.04s\n",
      "741:\tlearn: 0.0798161\ttotal: 2.98s\tremaining: 1.04s\n",
      "742:\tlearn: 0.0796136\ttotal: 2.99s\tremaining: 1.03s\n",
      "743:\tlearn: 0.0794276\ttotal: 2.99s\tremaining: 1.03s\n",
      "744:\tlearn: 0.0793068\ttotal: 2.99s\tremaining: 1.02s\n",
      "745:\tlearn: 0.0791203\ttotal: 3s\tremaining: 1.02s\n",
      "746:\tlearn: 0.0791043\ttotal: 3s\tremaining: 1.01s\n",
      "747:\tlearn: 0.0789633\ttotal: 3s\tremaining: 1.01s\n",
      "748:\tlearn: 0.0787884\ttotal: 3s\tremaining: 1.01s\n",
      "749:\tlearn: 0.0786486\ttotal: 3.01s\tremaining: 1s\n",
      "750:\tlearn: 0.0785739\ttotal: 3.01s\tremaining: 998ms\n",
      "751:\tlearn: 0.0784764\ttotal: 3.01s\tremaining: 994ms\n",
      "752:\tlearn: 0.0783812\ttotal: 3.02s\tremaining: 989ms\n",
      "753:\tlearn: 0.0782247\ttotal: 3.02s\tremaining: 985ms\n",
      "754:\tlearn: 0.0781403\ttotal: 3.02s\tremaining: 981ms\n",
      "755:\tlearn: 0.0780543\ttotal: 3.02s\tremaining: 976ms\n",
      "756:\tlearn: 0.0779263\ttotal: 3.03s\tremaining: 972ms\n",
      "757:\tlearn: 0.0778822\ttotal: 3.03s\tremaining: 967ms\n",
      "758:\tlearn: 0.0778427\ttotal: 3.03s\tremaining: 963ms\n",
      "759:\tlearn: 0.0777654\ttotal: 3.04s\tremaining: 959ms\n",
      "760:\tlearn: 0.0776646\ttotal: 3.04s\tremaining: 955ms\n",
      "761:\tlearn: 0.0776392\ttotal: 3.04s\tremaining: 950ms\n",
      "762:\tlearn: 0.0775358\ttotal: 3.04s\tremaining: 946ms\n",
      "763:\tlearn: 0.0775240\ttotal: 3.05s\tremaining: 942ms\n",
      "764:\tlearn: 0.0774939\ttotal: 3.05s\tremaining: 937ms\n",
      "765:\tlearn: 0.0774097\ttotal: 3.06s\tremaining: 933ms\n",
      "766:\tlearn: 0.0773489\ttotal: 3.06s\tremaining: 929ms\n",
      "767:\tlearn: 0.0773384\ttotal: 3.06s\tremaining: 925ms\n",
      "768:\tlearn: 0.0772690\ttotal: 3.06s\tremaining: 921ms\n",
      "769:\tlearn: 0.0772398\ttotal: 3.07s\tremaining: 917ms\n",
      "770:\tlearn: 0.0771678\ttotal: 3.07s\tremaining: 913ms\n",
      "771:\tlearn: 0.0771592\ttotal: 3.08s\tremaining: 908ms\n",
      "772:\tlearn: 0.0770997\ttotal: 3.08s\tremaining: 904ms\n",
      "773:\tlearn: 0.0770566\ttotal: 3.08s\tremaining: 900ms\n",
      "774:\tlearn: 0.0769652\ttotal: 3.08s\tremaining: 896ms\n",
      "775:\tlearn: 0.0769244\ttotal: 3.09s\tremaining: 892ms\n",
      "776:\tlearn: 0.0767936\ttotal: 3.09s\tremaining: 887ms\n",
      "777:\tlearn: 0.0766840\ttotal: 3.09s\tremaining: 883ms\n",
      "778:\tlearn: 0.0765967\ttotal: 3.1s\tremaining: 879ms\n",
      "779:\tlearn: 0.0765752\ttotal: 3.1s\tremaining: 875ms\n",
      "780:\tlearn: 0.0764804\ttotal: 3.1s\tremaining: 871ms\n",
      "781:\tlearn: 0.0764030\ttotal: 3.11s\tremaining: 867ms\n",
      "782:\tlearn: 0.0763693\ttotal: 3.11s\tremaining: 862ms\n",
      "783:\tlearn: 0.0762762\ttotal: 3.11s\tremaining: 858ms\n",
      "784:\tlearn: 0.0762416\ttotal: 3.12s\tremaining: 854ms\n",
      "785:\tlearn: 0.0762060\ttotal: 3.12s\tremaining: 849ms\n",
      "786:\tlearn: 0.0760679\ttotal: 3.12s\tremaining: 845ms\n",
      "787:\tlearn: 0.0759824\ttotal: 3.12s\tremaining: 841ms\n",
      "788:\tlearn: 0.0758696\ttotal: 3.13s\tremaining: 836ms\n",
      "789:\tlearn: 0.0757512\ttotal: 3.13s\tremaining: 833ms\n",
      "790:\tlearn: 0.0757170\ttotal: 3.14s\tremaining: 829ms\n",
      "791:\tlearn: 0.0756247\ttotal: 3.14s\tremaining: 825ms\n",
      "792:\tlearn: 0.0755622\ttotal: 3.14s\tremaining: 821ms\n",
      "793:\tlearn: 0.0754261\ttotal: 3.15s\tremaining: 816ms\n",
      "794:\tlearn: 0.0753801\ttotal: 3.15s\tremaining: 812ms\n",
      "795:\tlearn: 0.0752550\ttotal: 3.15s\tremaining: 808ms\n",
      "796:\tlearn: 0.0751261\ttotal: 3.15s\tremaining: 804ms\n",
      "797:\tlearn: 0.0750589\ttotal: 3.16s\tremaining: 800ms\n",
      "798:\tlearn: 0.0750023\ttotal: 3.16s\tremaining: 796ms\n",
      "799:\tlearn: 0.0748265\ttotal: 3.17s\tremaining: 792ms\n",
      "800:\tlearn: 0.0747356\ttotal: 3.17s\tremaining: 788ms\n",
      "801:\tlearn: 0.0746002\ttotal: 3.18s\tremaining: 784ms\n",
      "802:\tlearn: 0.0745310\ttotal: 3.18s\tremaining: 780ms\n",
      "803:\tlearn: 0.0744984\ttotal: 3.18s\tremaining: 776ms\n",
      "804:\tlearn: 0.0743941\ttotal: 3.19s\tremaining: 772ms\n",
      "805:\tlearn: 0.0743182\ttotal: 3.19s\tremaining: 768ms\n",
      "806:\tlearn: 0.0743104\ttotal: 3.2s\tremaining: 765ms\n",
      "807:\tlearn: 0.0742657\ttotal: 3.2s\tremaining: 761ms\n",
      "808:\tlearn: 0.0740650\ttotal: 3.21s\tremaining: 757ms\n",
      "809:\tlearn: 0.0740189\ttotal: 3.21s\tremaining: 753ms\n",
      "810:\tlearn: 0.0739615\ttotal: 3.22s\tremaining: 749ms\n",
      "811:\tlearn: 0.0738243\ttotal: 3.22s\tremaining: 745ms\n",
      "812:\tlearn: 0.0737229\ttotal: 3.22s\tremaining: 742ms\n",
      "813:\tlearn: 0.0737017\ttotal: 3.23s\tremaining: 738ms\n",
      "814:\tlearn: 0.0736358\ttotal: 3.23s\tremaining: 734ms\n",
      "815:\tlearn: 0.0735902\ttotal: 3.24s\tremaining: 730ms\n",
      "816:\tlearn: 0.0734629\ttotal: 3.24s\tremaining: 726ms\n",
      "817:\tlearn: 0.0733798\ttotal: 3.25s\tremaining: 722ms\n",
      "818:\tlearn: 0.0733742\ttotal: 3.25s\tremaining: 718ms\n",
      "819:\tlearn: 0.0732607\ttotal: 3.25s\tremaining: 714ms\n",
      "820:\tlearn: 0.0731649\ttotal: 3.25s\tremaining: 710ms\n",
      "821:\tlearn: 0.0731247\ttotal: 3.26s\tremaining: 706ms\n",
      "822:\tlearn: 0.0729988\ttotal: 3.26s\tremaining: 701ms\n",
      "823:\tlearn: 0.0728274\ttotal: 3.26s\tremaining: 697ms\n",
      "824:\tlearn: 0.0728170\ttotal: 3.27s\tremaining: 693ms\n",
      "825:\tlearn: 0.0726934\ttotal: 3.27s\tremaining: 689ms\n",
      "826:\tlearn: 0.0725924\ttotal: 3.27s\tremaining: 685ms\n",
      "827:\tlearn: 0.0724801\ttotal: 3.28s\tremaining: 681ms\n",
      "828:\tlearn: 0.0724237\ttotal: 3.28s\tremaining: 677ms\n",
      "829:\tlearn: 0.0722987\ttotal: 3.28s\tremaining: 672ms\n",
      "830:\tlearn: 0.0721332\ttotal: 3.29s\tremaining: 668ms\n",
      "831:\tlearn: 0.0721231\ttotal: 3.29s\tremaining: 664ms\n",
      "832:\tlearn: 0.0720805\ttotal: 3.29s\tremaining: 660ms\n",
      "833:\tlearn: 0.0719716\ttotal: 3.3s\tremaining: 656ms\n",
      "834:\tlearn: 0.0719057\ttotal: 3.3s\tremaining: 652ms\n",
      "835:\tlearn: 0.0718673\ttotal: 3.31s\tremaining: 649ms\n",
      "836:\tlearn: 0.0717495\ttotal: 3.31s\tremaining: 645ms\n",
      "837:\tlearn: 0.0716175\ttotal: 3.31s\tremaining: 641ms\n",
      "838:\tlearn: 0.0716077\ttotal: 3.32s\tremaining: 637ms\n",
      "839:\tlearn: 0.0715778\ttotal: 3.32s\tremaining: 633ms\n",
      "840:\tlearn: 0.0714981\ttotal: 3.33s\tremaining: 629ms\n",
      "841:\tlearn: 0.0714469\ttotal: 3.33s\tremaining: 625ms\n",
      "842:\tlearn: 0.0713592\ttotal: 3.34s\tremaining: 622ms\n",
      "843:\tlearn: 0.0712590\ttotal: 3.34s\tremaining: 618ms\n",
      "844:\tlearn: 0.0710867\ttotal: 3.35s\tremaining: 614ms\n",
      "845:\tlearn: 0.0710446\ttotal: 3.35s\tremaining: 610ms\n",
      "846:\tlearn: 0.0709678\ttotal: 3.35s\tremaining: 606ms\n",
      "847:\tlearn: 0.0708872\ttotal: 3.36s\tremaining: 602ms\n",
      "848:\tlearn: 0.0707967\ttotal: 3.36s\tremaining: 598ms\n",
      "849:\tlearn: 0.0706999\ttotal: 3.36s\tremaining: 594ms\n",
      "850:\tlearn: 0.0706331\ttotal: 3.37s\tremaining: 590ms\n",
      "851:\tlearn: 0.0706024\ttotal: 3.37s\tremaining: 586ms\n",
      "852:\tlearn: 0.0705882\ttotal: 3.38s\tremaining: 582ms\n",
      "853:\tlearn: 0.0704815\ttotal: 3.38s\tremaining: 578ms\n",
      "854:\tlearn: 0.0704491\ttotal: 3.39s\tremaining: 574ms\n",
      "855:\tlearn: 0.0703042\ttotal: 3.39s\tremaining: 570ms\n",
      "856:\tlearn: 0.0701779\ttotal: 3.4s\tremaining: 567ms\n",
      "857:\tlearn: 0.0701067\ttotal: 3.4s\tremaining: 563ms\n",
      "858:\tlearn: 0.0699809\ttotal: 3.4s\tremaining: 559ms\n",
      "859:\tlearn: 0.0698737\ttotal: 3.41s\tremaining: 555ms\n",
      "860:\tlearn: 0.0697189\ttotal: 3.41s\tremaining: 551ms\n",
      "861:\tlearn: 0.0695974\ttotal: 3.42s\tremaining: 547ms\n",
      "862:\tlearn: 0.0695854\ttotal: 3.42s\tremaining: 543ms\n",
      "863:\tlearn: 0.0694869\ttotal: 3.42s\tremaining: 539ms\n",
      "864:\tlearn: 0.0693751\ttotal: 3.43s\tremaining: 535ms\n",
      "865:\tlearn: 0.0693509\ttotal: 3.43s\tremaining: 531ms\n",
      "866:\tlearn: 0.0692589\ttotal: 3.43s\tremaining: 527ms\n",
      "867:\tlearn: 0.0692509\ttotal: 3.44s\tremaining: 523ms\n",
      "868:\tlearn: 0.0691213\ttotal: 3.44s\tremaining: 519ms\n",
      "869:\tlearn: 0.0690234\ttotal: 3.45s\tremaining: 515ms\n",
      "870:\tlearn: 0.0688738\ttotal: 3.45s\tremaining: 511ms\n",
      "871:\tlearn: 0.0688619\ttotal: 3.46s\tremaining: 507ms\n",
      "872:\tlearn: 0.0687963\ttotal: 3.46s\tremaining: 503ms\n",
      "873:\tlearn: 0.0687852\ttotal: 3.46s\tremaining: 500ms\n",
      "874:\tlearn: 0.0687292\ttotal: 3.47s\tremaining: 496ms\n",
      "875:\tlearn: 0.0686600\ttotal: 3.48s\tremaining: 492ms\n",
      "876:\tlearn: 0.0685830\ttotal: 3.48s\tremaining: 488ms\n",
      "877:\tlearn: 0.0684813\ttotal: 3.48s\tremaining: 484ms\n",
      "878:\tlearn: 0.0683344\ttotal: 3.49s\tremaining: 480ms\n",
      "879:\tlearn: 0.0681700\ttotal: 3.49s\tremaining: 476ms\n",
      "880:\tlearn: 0.0680522\ttotal: 3.49s\tremaining: 472ms\n",
      "881:\tlearn: 0.0680300\ttotal: 3.5s\tremaining: 468ms\n",
      "882:\tlearn: 0.0679917\ttotal: 3.5s\tremaining: 464ms\n",
      "883:\tlearn: 0.0679603\ttotal: 3.5s\tremaining: 460ms\n",
      "884:\tlearn: 0.0678957\ttotal: 3.51s\tremaining: 456ms\n",
      "885:\tlearn: 0.0677601\ttotal: 3.51s\tremaining: 452ms\n",
      "886:\tlearn: 0.0677333\ttotal: 3.51s\tremaining: 448ms\n",
      "887:\tlearn: 0.0676654\ttotal: 3.52s\tremaining: 444ms\n",
      "888:\tlearn: 0.0675908\ttotal: 3.52s\tremaining: 440ms\n",
      "889:\tlearn: 0.0675365\ttotal: 3.52s\tremaining: 436ms\n",
      "890:\tlearn: 0.0674990\ttotal: 3.53s\tremaining: 432ms\n",
      "891:\tlearn: 0.0674097\ttotal: 3.53s\tremaining: 428ms\n",
      "892:\tlearn: 0.0673146\ttotal: 3.54s\tremaining: 424ms\n",
      "893:\tlearn: 0.0672066\ttotal: 3.54s\tremaining: 420ms\n",
      "894:\tlearn: 0.0671424\ttotal: 3.55s\tremaining: 416ms\n",
      "895:\tlearn: 0.0671031\ttotal: 3.55s\tremaining: 412ms\n",
      "896:\tlearn: 0.0670688\ttotal: 3.56s\tremaining: 408ms\n",
      "897:\tlearn: 0.0670425\ttotal: 3.56s\tremaining: 405ms\n",
      "898:\tlearn: 0.0670183\ttotal: 3.57s\tremaining: 401ms\n",
      "899:\tlearn: 0.0669955\ttotal: 3.57s\tremaining: 397ms\n"
     ]
    },
    {
     "name": "stdout",
     "output_type": "stream",
     "text": [
      "900:\tlearn: 0.0669863\ttotal: 3.58s\tremaining: 393ms\n",
      "901:\tlearn: 0.0669020\ttotal: 3.58s\tremaining: 389ms\n",
      "902:\tlearn: 0.0668665\ttotal: 3.58s\tremaining: 385ms\n",
      "903:\tlearn: 0.0668083\ttotal: 3.59s\tremaining: 381ms\n",
      "904:\tlearn: 0.0667882\ttotal: 3.59s\tremaining: 377ms\n",
      "905:\tlearn: 0.0667567\ttotal: 3.6s\tremaining: 373ms\n",
      "906:\tlearn: 0.0666339\ttotal: 3.6s\tremaining: 369ms\n",
      "907:\tlearn: 0.0664826\ttotal: 3.6s\tremaining: 365ms\n",
      "908:\tlearn: 0.0664226\ttotal: 3.6s\tremaining: 361ms\n",
      "909:\tlearn: 0.0663759\ttotal: 3.61s\tremaining: 357ms\n",
      "910:\tlearn: 0.0663141\ttotal: 3.62s\tremaining: 353ms\n",
      "911:\tlearn: 0.0662679\ttotal: 3.62s\tremaining: 349ms\n",
      "912:\tlearn: 0.0661340\ttotal: 3.62s\tremaining: 345ms\n",
      "913:\tlearn: 0.0661083\ttotal: 3.63s\tremaining: 341ms\n",
      "914:\tlearn: 0.0660757\ttotal: 3.63s\tremaining: 338ms\n",
      "915:\tlearn: 0.0659772\ttotal: 3.64s\tremaining: 334ms\n",
      "916:\tlearn: 0.0659188\ttotal: 3.64s\tremaining: 330ms\n",
      "917:\tlearn: 0.0658580\ttotal: 3.65s\tremaining: 326ms\n",
      "918:\tlearn: 0.0657920\ttotal: 3.65s\tremaining: 322ms\n",
      "919:\tlearn: 0.0656841\ttotal: 3.65s\tremaining: 318ms\n",
      "920:\tlearn: 0.0655631\ttotal: 3.66s\tremaining: 314ms\n",
      "921:\tlearn: 0.0654684\ttotal: 3.66s\tremaining: 310ms\n",
      "922:\tlearn: 0.0653763\ttotal: 3.66s\tremaining: 306ms\n",
      "923:\tlearn: 0.0653268\ttotal: 3.67s\tremaining: 302ms\n",
      "924:\tlearn: 0.0652891\ttotal: 3.67s\tremaining: 298ms\n",
      "925:\tlearn: 0.0652384\ttotal: 3.67s\tremaining: 294ms\n",
      "926:\tlearn: 0.0651745\ttotal: 3.68s\tremaining: 290ms\n",
      "927:\tlearn: 0.0650816\ttotal: 3.68s\tremaining: 285ms\n",
      "928:\tlearn: 0.0649181\ttotal: 3.68s\tremaining: 282ms\n",
      "929:\tlearn: 0.0649062\ttotal: 3.69s\tremaining: 278ms\n",
      "930:\tlearn: 0.0648300\ttotal: 3.69s\tremaining: 274ms\n",
      "931:\tlearn: 0.0648017\ttotal: 3.7s\tremaining: 270ms\n",
      "932:\tlearn: 0.0647114\ttotal: 3.7s\tremaining: 266ms\n",
      "933:\tlearn: 0.0645718\ttotal: 3.71s\tremaining: 262ms\n",
      "934:\tlearn: 0.0644798\ttotal: 3.71s\tremaining: 258ms\n",
      "935:\tlearn: 0.0643440\ttotal: 3.72s\tremaining: 254ms\n",
      "936:\tlearn: 0.0642678\ttotal: 3.72s\tremaining: 250ms\n",
      "937:\tlearn: 0.0642212\ttotal: 3.73s\tremaining: 246ms\n",
      "938:\tlearn: 0.0641365\ttotal: 3.73s\tremaining: 242ms\n",
      "939:\tlearn: 0.0640783\ttotal: 3.73s\tremaining: 238ms\n",
      "940:\tlearn: 0.0640223\ttotal: 3.74s\tremaining: 234ms\n",
      "941:\tlearn: 0.0639334\ttotal: 3.74s\tremaining: 230ms\n",
      "942:\tlearn: 0.0639019\ttotal: 3.75s\tremaining: 226ms\n",
      "943:\tlearn: 0.0638090\ttotal: 3.75s\tremaining: 222ms\n",
      "944:\tlearn: 0.0636967\ttotal: 3.75s\tremaining: 218ms\n",
      "945:\tlearn: 0.0636531\ttotal: 3.75s\tremaining: 214ms\n",
      "946:\tlearn: 0.0635428\ttotal: 3.76s\tremaining: 210ms\n",
      "947:\tlearn: 0.0634878\ttotal: 3.76s\tremaining: 206ms\n",
      "948:\tlearn: 0.0633494\ttotal: 3.76s\tremaining: 202ms\n",
      "949:\tlearn: 0.0632311\ttotal: 3.77s\tremaining: 198ms\n",
      "950:\tlearn: 0.0631532\ttotal: 3.77s\tremaining: 194ms\n",
      "951:\tlearn: 0.0630534\ttotal: 3.77s\tremaining: 190ms\n",
      "952:\tlearn: 0.0630225\ttotal: 3.77s\tremaining: 186ms\n",
      "953:\tlearn: 0.0629693\ttotal: 3.78s\tremaining: 182ms\n",
      "954:\tlearn: 0.0629021\ttotal: 3.78s\tremaining: 178ms\n",
      "955:\tlearn: 0.0627495\ttotal: 3.78s\tremaining: 174ms\n",
      "956:\tlearn: 0.0625606\ttotal: 3.79s\tremaining: 170ms\n",
      "957:\tlearn: 0.0624514\ttotal: 3.79s\tremaining: 166ms\n",
      "958:\tlearn: 0.0624369\ttotal: 3.79s\tremaining: 162ms\n",
      "959:\tlearn: 0.0624054\ttotal: 3.79s\tremaining: 158ms\n",
      "960:\tlearn: 0.0622821\ttotal: 3.8s\tremaining: 154ms\n",
      "961:\tlearn: 0.0621671\ttotal: 3.8s\tremaining: 150ms\n",
      "962:\tlearn: 0.0621023\ttotal: 3.8s\tremaining: 146ms\n",
      "963:\tlearn: 0.0619992\ttotal: 3.8s\tremaining: 142ms\n",
      "964:\tlearn: 0.0619582\ttotal: 3.81s\tremaining: 138ms\n",
      "965:\tlearn: 0.0618062\ttotal: 3.81s\tremaining: 134ms\n",
      "966:\tlearn: 0.0617013\ttotal: 3.81s\tremaining: 130ms\n",
      "967:\tlearn: 0.0615463\ttotal: 3.82s\tremaining: 126ms\n",
      "968:\tlearn: 0.0614836\ttotal: 3.82s\tremaining: 122ms\n",
      "969:\tlearn: 0.0614767\ttotal: 3.83s\tremaining: 118ms\n",
      "970:\tlearn: 0.0613951\ttotal: 3.83s\tremaining: 114ms\n",
      "971:\tlearn: 0.0612514\ttotal: 3.83s\tremaining: 110ms\n",
      "972:\tlearn: 0.0611372\ttotal: 3.83s\tremaining: 106ms\n",
      "973:\tlearn: 0.0610982\ttotal: 3.84s\tremaining: 102ms\n",
      "974:\tlearn: 0.0609634\ttotal: 3.84s\tremaining: 98.5ms\n",
      "975:\tlearn: 0.0609247\ttotal: 3.84s\tremaining: 94.5ms\n",
      "976:\tlearn: 0.0608879\ttotal: 3.85s\tremaining: 90.5ms\n",
      "977:\tlearn: 0.0607728\ttotal: 3.85s\tremaining: 86.6ms\n",
      "978:\tlearn: 0.0607468\ttotal: 3.85s\tremaining: 82.6ms\n",
      "979:\tlearn: 0.0606495\ttotal: 3.85s\tremaining: 78.7ms\n",
      "980:\tlearn: 0.0605263\ttotal: 3.86s\tremaining: 74.7ms\n",
      "981:\tlearn: 0.0604810\ttotal: 3.86s\tremaining: 70.8ms\n",
      "982:\tlearn: 0.0603748\ttotal: 3.86s\tremaining: 66.8ms\n",
      "983:\tlearn: 0.0603212\ttotal: 3.87s\tremaining: 62.9ms\n",
      "984:\tlearn: 0.0602934\ttotal: 3.87s\tremaining: 58.9ms\n",
      "985:\tlearn: 0.0602562\ttotal: 3.87s\tremaining: 55ms\n",
      "986:\tlearn: 0.0601614\ttotal: 3.87s\tremaining: 51ms\n",
      "987:\tlearn: 0.0601363\ttotal: 3.88s\tremaining: 47.1ms\n",
      "988:\tlearn: 0.0600339\ttotal: 3.88s\tremaining: 43.2ms\n",
      "989:\tlearn: 0.0600051\ttotal: 3.88s\tremaining: 39.2ms\n",
      "990:\tlearn: 0.0598889\ttotal: 3.89s\tremaining: 35.3ms\n",
      "991:\tlearn: 0.0598649\ttotal: 3.89s\tremaining: 31.4ms\n",
      "992:\tlearn: 0.0597850\ttotal: 3.89s\tremaining: 27.4ms\n",
      "993:\tlearn: 0.0596404\ttotal: 3.9s\tremaining: 23.5ms\n",
      "994:\tlearn: 0.0595397\ttotal: 3.9s\tremaining: 19.6ms\n",
      "995:\tlearn: 0.0594323\ttotal: 3.9s\tremaining: 15.7ms\n",
      "996:\tlearn: 0.0593815\ttotal: 3.9s\tremaining: 11.8ms\n",
      "997:\tlearn: 0.0592983\ttotal: 3.91s\tremaining: 7.83ms\n",
      "998:\tlearn: 0.0591728\ttotal: 3.91s\tremaining: 3.92ms\n",
      "999:\tlearn: 0.0590565\ttotal: 3.91s\tremaining: 0us\n"
     ]
    }
   ],
   "source": [
    "cat_model = CatBoostClassifier().fit(X_train, y_train)"
   ]
  },
  {
   "cell_type": "code",
   "execution_count": 116,
   "metadata": {},
   "outputs": [
    {
     "data": {
      "text/plain": [
       "0.9554455445544554"
      ]
     },
     "execution_count": 116,
     "metadata": {},
     "output_type": "execute_result"
    }
   ],
   "source": [
    "y_pred = cat_model.predict(X_test)\n",
    "accuracy_score(y_test, y_pred)"
   ]
  },
  {
   "cell_type": "markdown",
   "metadata": {},
   "source": [
    "# Model Tuning"
   ]
  },
  {
   "cell_type": "code",
   "execution_count": 122,
   "metadata": {},
   "outputs": [],
   "source": [
    "catb_params = {\n",
    "    'iterations': [200,500],\n",
    "    'learning_rate': [0.01,0.05, 0.1],\n",
    "    'depth': [3,5,8] }"
   ]
  },
  {
   "cell_type": "code",
   "execution_count": 118,
   "metadata": {},
   "outputs": [
    {
     "name": "stdout",
     "output_type": "stream",
     "text": [
      "Fitting 5 folds for each of 18 candidates, totalling 90 fits\n"
     ]
    },
    {
     "name": "stderr",
     "output_type": "stream",
     "text": [
      "[Parallel(n_jobs=-1)]: Using backend LokyBackend with 4 concurrent workers.\n",
      "[Parallel(n_jobs=-1)]: Done  33 tasks      | elapsed:   26.9s\n",
      "[Parallel(n_jobs=-1)]: Done  90 out of  90 | elapsed:  2.7min finished\n"
     ]
    },
    {
     "name": "stdout",
     "output_type": "stream",
     "text": [
      "0:\tlearn: 0.6365081\ttotal: 4.27ms\tremaining: 850ms\n",
      "1:\tlearn: 0.5848591\ttotal: 16.2ms\tremaining: 1.6s\n",
      "2:\tlearn: 0.5345221\ttotal: 28.8ms\tremaining: 1.89s\n",
      "3:\tlearn: 0.4914734\ttotal: 40.9ms\tremaining: 2s\n",
      "4:\tlearn: 0.4543201\ttotal: 53ms\tremaining: 2.07s\n",
      "5:\tlearn: 0.4230499\ttotal: 66.2ms\tremaining: 2.14s\n",
      "6:\tlearn: 0.3953455\ttotal: 77.8ms\tremaining: 2.14s\n",
      "7:\tlearn: 0.3701968\ttotal: 88.5ms\tremaining: 2.12s\n",
      "8:\tlearn: 0.3495653\ttotal: 102ms\tremaining: 2.16s\n",
      "9:\tlearn: 0.3309823\ttotal: 115ms\tremaining: 2.18s\n",
      "10:\tlearn: 0.3132876\ttotal: 126ms\tremaining: 2.16s\n",
      "11:\tlearn: 0.3011359\ttotal: 129ms\tremaining: 2.02s\n",
      "12:\tlearn: 0.2888061\ttotal: 140ms\tremaining: 2.01s\n",
      "13:\tlearn: 0.2757627\ttotal: 152ms\tremaining: 2.02s\n",
      "14:\tlearn: 0.2640045\ttotal: 163ms\tremaining: 2.01s\n",
      "15:\tlearn: 0.2547129\ttotal: 171ms\tremaining: 1.97s\n",
      "16:\tlearn: 0.2467544\ttotal: 180ms\tremaining: 1.94s\n",
      "17:\tlearn: 0.2387184\ttotal: 187ms\tremaining: 1.89s\n",
      "18:\tlearn: 0.2318158\ttotal: 195ms\tremaining: 1.85s\n",
      "19:\tlearn: 0.2267839\ttotal: 199ms\tremaining: 1.79s\n",
      "20:\tlearn: 0.2208293\ttotal: 208ms\tremaining: 1.77s\n",
      "21:\tlearn: 0.2140231\ttotal: 217ms\tremaining: 1.76s\n",
      "22:\tlearn: 0.2092436\ttotal: 227ms\tremaining: 1.75s\n",
      "23:\tlearn: 0.2044678\ttotal: 234ms\tremaining: 1.72s\n",
      "24:\tlearn: 0.1984871\ttotal: 243ms\tremaining: 1.7s\n",
      "25:\tlearn: 0.1944311\ttotal: 251ms\tremaining: 1.68s\n",
      "26:\tlearn: 0.1921781\ttotal: 261ms\tremaining: 1.67s\n",
      "27:\tlearn: 0.1885675\ttotal: 270ms\tremaining: 1.66s\n",
      "28:\tlearn: 0.1838895\ttotal: 277ms\tremaining: 1.64s\n",
      "29:\tlearn: 0.1803593\ttotal: 285ms\tremaining: 1.62s\n",
      "30:\tlearn: 0.1779220\ttotal: 295ms\tremaining: 1.61s\n",
      "31:\tlearn: 0.1740138\ttotal: 303ms\tremaining: 1.59s\n",
      "32:\tlearn: 0.1706581\ttotal: 311ms\tremaining: 1.58s\n",
      "33:\tlearn: 0.1679658\ttotal: 319ms\tremaining: 1.55s\n",
      "34:\tlearn: 0.1649214\ttotal: 327ms\tremaining: 1.54s\n",
      "35:\tlearn: 0.1631960\ttotal: 334ms\tremaining: 1.52s\n",
      "36:\tlearn: 0.1604595\ttotal: 345ms\tremaining: 1.52s\n",
      "37:\tlearn: 0.1587446\ttotal: 356ms\tremaining: 1.52s\n",
      "38:\tlearn: 0.1568786\ttotal: 367ms\tremaining: 1.51s\n",
      "39:\tlearn: 0.1553744\ttotal: 376ms\tremaining: 1.5s\n",
      "40:\tlearn: 0.1545525\ttotal: 384ms\tremaining: 1.49s\n",
      "41:\tlearn: 0.1534863\ttotal: 392ms\tremaining: 1.48s\n",
      "42:\tlearn: 0.1513042\ttotal: 400ms\tremaining: 1.46s\n",
      "43:\tlearn: 0.1499311\ttotal: 407ms\tremaining: 1.44s\n",
      "44:\tlearn: 0.1474140\ttotal: 415ms\tremaining: 1.43s\n",
      "45:\tlearn: 0.1460304\ttotal: 422ms\tremaining: 1.41s\n",
      "46:\tlearn: 0.1445258\ttotal: 429ms\tremaining: 1.4s\n",
      "47:\tlearn: 0.1426235\ttotal: 437ms\tremaining: 1.38s\n",
      "48:\tlearn: 0.1399648\ttotal: 444ms\tremaining: 1.37s\n",
      "49:\tlearn: 0.1382007\ttotal: 453ms\tremaining: 1.36s\n",
      "50:\tlearn: 0.1368126\ttotal: 466ms\tremaining: 1.36s\n",
      "51:\tlearn: 0.1361623\ttotal: 477ms\tremaining: 1.36s\n",
      "52:\tlearn: 0.1347423\ttotal: 488ms\tremaining: 1.35s\n",
      "53:\tlearn: 0.1327445\ttotal: 501ms\tremaining: 1.35s\n",
      "54:\tlearn: 0.1304865\ttotal: 513ms\tremaining: 1.35s\n",
      "55:\tlearn: 0.1291091\ttotal: 527ms\tremaining: 1.35s\n",
      "56:\tlearn: 0.1276236\ttotal: 537ms\tremaining: 1.35s\n",
      "57:\tlearn: 0.1265461\ttotal: 546ms\tremaining: 1.34s\n",
      "58:\tlearn: 0.1253208\ttotal: 555ms\tremaining: 1.33s\n",
      "59:\tlearn: 0.1246849\ttotal: 563ms\tremaining: 1.31s\n",
      "60:\tlearn: 0.1236238\ttotal: 570ms\tremaining: 1.3s\n",
      "61:\tlearn: 0.1231843\ttotal: 578ms\tremaining: 1.28s\n",
      "62:\tlearn: 0.1231076\ttotal: 580ms\tremaining: 1.26s\n",
      "63:\tlearn: 0.1217790\ttotal: 587ms\tremaining: 1.25s\n",
      "64:\tlearn: 0.1207563\ttotal: 596ms\tremaining: 1.24s\n",
      "65:\tlearn: 0.1206085\ttotal: 599ms\tremaining: 1.22s\n",
      "66:\tlearn: 0.1189427\ttotal: 614ms\tremaining: 1.22s\n",
      "67:\tlearn: 0.1177141\ttotal: 624ms\tremaining: 1.21s\n",
      "68:\tlearn: 0.1167479\ttotal: 635ms\tremaining: 1.21s\n",
      "69:\tlearn: 0.1155074\ttotal: 648ms\tremaining: 1.2s\n",
      "70:\tlearn: 0.1145687\ttotal: 660ms\tremaining: 1.2s\n",
      "71:\tlearn: 0.1139958\ttotal: 672ms\tremaining: 1.19s\n",
      "72:\tlearn: 0.1135476\ttotal: 684ms\tremaining: 1.19s\n",
      "73:\tlearn: 0.1117989\ttotal: 695ms\tremaining: 1.18s\n",
      "74:\tlearn: 0.1102414\ttotal: 708ms\tremaining: 1.18s\n",
      "75:\tlearn: 0.1092814\ttotal: 717ms\tremaining: 1.17s\n",
      "76:\tlearn: 0.1086742\ttotal: 727ms\tremaining: 1.16s\n",
      "77:\tlearn: 0.1072315\ttotal: 734ms\tremaining: 1.15s\n",
      "78:\tlearn: 0.1068065\ttotal: 741ms\tremaining: 1.14s\n",
      "79:\tlearn: 0.1059370\ttotal: 749ms\tremaining: 1.12s\n",
      "80:\tlearn: 0.1050315\ttotal: 756ms\tremaining: 1.11s\n",
      "81:\tlearn: 0.1044400\ttotal: 763ms\tremaining: 1.1s\n",
      "82:\tlearn: 0.1039441\ttotal: 773ms\tremaining: 1.09s\n",
      "83:\tlearn: 0.1030246\ttotal: 786ms\tremaining: 1.08s\n",
      "84:\tlearn: 0.1022284\ttotal: 799ms\tremaining: 1.08s\n",
      "85:\tlearn: 0.1015550\ttotal: 808ms\tremaining: 1.07s\n",
      "86:\tlearn: 0.1010456\ttotal: 819ms\tremaining: 1.06s\n",
      "87:\tlearn: 0.1005614\ttotal: 833ms\tremaining: 1.06s\n",
      "88:\tlearn: 0.0996691\ttotal: 843ms\tremaining: 1.05s\n",
      "89:\tlearn: 0.0989597\ttotal: 856ms\tremaining: 1.04s\n",
      "90:\tlearn: 0.0983675\ttotal: 868ms\tremaining: 1.04s\n",
      "91:\tlearn: 0.0975929\ttotal: 881ms\tremaining: 1.03s\n",
      "92:\tlearn: 0.0962155\ttotal: 897ms\tremaining: 1.03s\n",
      "93:\tlearn: 0.0949687\ttotal: 910ms\tremaining: 1.03s\n",
      "94:\tlearn: 0.0935943\ttotal: 920ms\tremaining: 1.02s\n",
      "95:\tlearn: 0.0931533\ttotal: 931ms\tremaining: 1.01s\n",
      "96:\tlearn: 0.0923370\ttotal: 940ms\tremaining: 999ms\n",
      "97:\tlearn: 0.0922955\ttotal: 942ms\tremaining: 980ms\n",
      "98:\tlearn: 0.0915584\ttotal: 950ms\tremaining: 970ms\n",
      "99:\tlearn: 0.0906924\ttotal: 961ms\tremaining: 961ms\n",
      "100:\tlearn: 0.0900713\ttotal: 971ms\tremaining: 951ms\n",
      "101:\tlearn: 0.0895748\ttotal: 984ms\tremaining: 945ms\n",
      "102:\tlearn: 0.0888394\ttotal: 996ms\tremaining: 938ms\n",
      "103:\tlearn: 0.0882253\ttotal: 1.01s\tremaining: 931ms\n",
      "104:\tlearn: 0.0870365\ttotal: 1.02s\tremaining: 924ms\n",
      "105:\tlearn: 0.0859529\ttotal: 1.03s\tremaining: 916ms\n",
      "106:\tlearn: 0.0854393\ttotal: 1.04s\tremaining: 909ms\n",
      "107:\tlearn: 0.0851857\ttotal: 1.06s\tremaining: 901ms\n",
      "108:\tlearn: 0.0843185\ttotal: 1.07s\tremaining: 893ms\n",
      "109:\tlearn: 0.0839772\ttotal: 1.08s\tremaining: 885ms\n",
      "110:\tlearn: 0.0830939\ttotal: 1.09s\tremaining: 875ms\n",
      "111:\tlearn: 0.0822002\ttotal: 1.1s\tremaining: 864ms\n",
      "112:\tlearn: 0.0815573\ttotal: 1.11s\tremaining: 852ms\n",
      "113:\tlearn: 0.0804935\ttotal: 1.11s\tremaining: 840ms\n",
      "114:\tlearn: 0.0798561\ttotal: 1.12s\tremaining: 828ms\n",
      "115:\tlearn: 0.0793927\ttotal: 1.13s\tremaining: 816ms\n",
      "116:\tlearn: 0.0784620\ttotal: 1.14s\tremaining: 806ms\n",
      "117:\tlearn: 0.0772600\ttotal: 1.14s\tremaining: 796ms\n",
      "118:\tlearn: 0.0767485\ttotal: 1.15s\tremaining: 786ms\n",
      "119:\tlearn: 0.0765809\ttotal: 1.16s\tremaining: 774ms\n",
      "120:\tlearn: 0.0757938\ttotal: 1.17s\tremaining: 763ms\n",
      "121:\tlearn: 0.0751124\ttotal: 1.18s\tremaining: 752ms\n",
      "122:\tlearn: 0.0748978\ttotal: 1.18s\tremaining: 741ms\n",
      "123:\tlearn: 0.0738950\ttotal: 1.19s\tremaining: 731ms\n",
      "124:\tlearn: 0.0736419\ttotal: 1.2s\tremaining: 719ms\n",
      "125:\tlearn: 0.0729888\ttotal: 1.21s\tremaining: 708ms\n",
      "126:\tlearn: 0.0725431\ttotal: 1.21s\tremaining: 698ms\n",
      "127:\tlearn: 0.0717229\ttotal: 1.22s\tremaining: 687ms\n",
      "128:\tlearn: 0.0714987\ttotal: 1.23s\tremaining: 676ms\n",
      "129:\tlearn: 0.0712341\ttotal: 1.24s\tremaining: 666ms\n",
      "130:\tlearn: 0.0705493\ttotal: 1.24s\tremaining: 656ms\n",
      "131:\tlearn: 0.0700722\ttotal: 1.26s\tremaining: 648ms\n",
      "132:\tlearn: 0.0693610\ttotal: 1.27s\tremaining: 640ms\n",
      "133:\tlearn: 0.0692130\ttotal: 1.28s\tremaining: 631ms\n",
      "134:\tlearn: 0.0685610\ttotal: 1.29s\tremaining: 620ms\n",
      "135:\tlearn: 0.0682456\ttotal: 1.29s\tremaining: 610ms\n",
      "136:\tlearn: 0.0679150\ttotal: 1.3s\tremaining: 599ms\n",
      "137:\tlearn: 0.0672399\ttotal: 1.31s\tremaining: 590ms\n",
      "138:\tlearn: 0.0667256\ttotal: 1.32s\tremaining: 582ms\n",
      "139:\tlearn: 0.0661787\ttotal: 1.34s\tremaining: 573ms\n",
      "140:\tlearn: 0.0658057\ttotal: 1.35s\tremaining: 564ms\n",
      "141:\tlearn: 0.0657109\ttotal: 1.36s\tremaining: 555ms\n",
      "142:\tlearn: 0.0653067\ttotal: 1.37s\tremaining: 547ms\n",
      "143:\tlearn: 0.0652018\ttotal: 1.38s\tremaining: 538ms\n",
      "144:\tlearn: 0.0646234\ttotal: 1.4s\tremaining: 529ms\n",
      "145:\tlearn: 0.0643859\ttotal: 1.4s\tremaining: 520ms\n",
      "146:\tlearn: 0.0638658\ttotal: 1.42s\tremaining: 510ms\n",
      "147:\tlearn: 0.0630815\ttotal: 1.43s\tremaining: 502ms\n",
      "148:\tlearn: 0.0622919\ttotal: 1.44s\tremaining: 493ms\n",
      "149:\tlearn: 0.0617467\ttotal: 1.45s\tremaining: 484ms\n",
      "150:\tlearn: 0.0613011\ttotal: 1.46s\tremaining: 473ms\n",
      "151:\tlearn: 0.0604994\ttotal: 1.47s\tremaining: 463ms\n",
      "152:\tlearn: 0.0597370\ttotal: 1.47s\tremaining: 453ms\n",
      "153:\tlearn: 0.0591350\ttotal: 1.48s\tremaining: 443ms\n",
      "154:\tlearn: 0.0587656\ttotal: 1.49s\tremaining: 433ms\n",
      "155:\tlearn: 0.0583541\ttotal: 1.5s\tremaining: 423ms\n",
      "156:\tlearn: 0.0580663\ttotal: 1.51s\tremaining: 413ms\n",
      "157:\tlearn: 0.0576708\ttotal: 1.52s\tremaining: 404ms\n",
      "158:\tlearn: 0.0572732\ttotal: 1.53s\tremaining: 395ms\n",
      "159:\tlearn: 0.0570320\ttotal: 1.54s\tremaining: 386ms\n",
      "160:\tlearn: 0.0564956\ttotal: 1.56s\tremaining: 378ms\n",
      "161:\tlearn: 0.0558586\ttotal: 1.57s\tremaining: 369ms\n",
      "162:\tlearn: 0.0555586\ttotal: 1.58s\tremaining: 359ms\n",
      "163:\tlearn: 0.0550777\ttotal: 1.6s\tremaining: 350ms\n",
      "164:\tlearn: 0.0544860\ttotal: 1.61s\tremaining: 341ms\n",
      "165:\tlearn: 0.0541751\ttotal: 1.62s\tremaining: 332ms\n"
     ]
    },
    {
     "name": "stdout",
     "output_type": "stream",
     "text": [
      "166:\tlearn: 0.0538221\ttotal: 1.63s\tremaining: 322ms\n",
      "167:\tlearn: 0.0536039\ttotal: 1.64s\tremaining: 312ms\n",
      "168:\tlearn: 0.0534192\ttotal: 1.64s\tremaining: 302ms\n",
      "169:\tlearn: 0.0532613\ttotal: 1.65s\tremaining: 292ms\n",
      "170:\tlearn: 0.0530218\ttotal: 1.66s\tremaining: 282ms\n",
      "171:\tlearn: 0.0526666\ttotal: 1.67s\tremaining: 273ms\n",
      "172:\tlearn: 0.0522188\ttotal: 1.69s\tremaining: 263ms\n",
      "173:\tlearn: 0.0519571\ttotal: 1.7s\tremaining: 253ms\n",
      "174:\tlearn: 0.0517450\ttotal: 1.71s\tremaining: 244ms\n",
      "175:\tlearn: 0.0514027\ttotal: 1.72s\tremaining: 234ms\n",
      "176:\tlearn: 0.0510479\ttotal: 1.73s\tremaining: 225ms\n",
      "177:\tlearn: 0.0509102\ttotal: 1.74s\tremaining: 215ms\n",
      "178:\tlearn: 0.0505507\ttotal: 1.75s\tremaining: 206ms\n",
      "179:\tlearn: 0.0502739\ttotal: 1.77s\tremaining: 196ms\n",
      "180:\tlearn: 0.0500502\ttotal: 1.78s\tremaining: 187ms\n",
      "181:\tlearn: 0.0499506\ttotal: 1.79s\tremaining: 177ms\n",
      "182:\tlearn: 0.0496254\ttotal: 1.8s\tremaining: 167ms\n",
      "183:\tlearn: 0.0492705\ttotal: 1.8s\tremaining: 157ms\n",
      "184:\tlearn: 0.0490492\ttotal: 1.81s\tremaining: 147ms\n",
      "185:\tlearn: 0.0486710\ttotal: 1.82s\tremaining: 137ms\n",
      "186:\tlearn: 0.0483151\ttotal: 1.82s\tremaining: 127ms\n",
      "187:\tlearn: 0.0480065\ttotal: 1.83s\tremaining: 117ms\n",
      "188:\tlearn: 0.0479338\ttotal: 1.84s\tremaining: 107ms\n",
      "189:\tlearn: 0.0475258\ttotal: 1.85s\tremaining: 97.3ms\n",
      "190:\tlearn: 0.0472096\ttotal: 1.86s\tremaining: 87.5ms\n",
      "191:\tlearn: 0.0468042\ttotal: 1.87s\tremaining: 77.9ms\n",
      "192:\tlearn: 0.0464661\ttotal: 1.88s\tremaining: 68.2ms\n",
      "193:\tlearn: 0.0462170\ttotal: 1.89s\tremaining: 58.4ms\n",
      "194:\tlearn: 0.0460125\ttotal: 1.9s\tremaining: 48.7ms\n",
      "195:\tlearn: 0.0457340\ttotal: 1.91s\tremaining: 38.9ms\n",
      "196:\tlearn: 0.0454476\ttotal: 1.92s\tremaining: 29.2ms\n",
      "197:\tlearn: 0.0452781\ttotal: 1.92s\tremaining: 19.4ms\n",
      "198:\tlearn: 0.0451544\ttotal: 1.93s\tremaining: 9.7ms\n",
      "199:\tlearn: 0.0448430\ttotal: 1.94s\tremaining: 0us\n"
     ]
    },
    {
     "data": {
      "text/plain": [
       "{'depth': 8, 'iterations': 200, 'learning_rate': 0.05}"
      ]
     },
     "execution_count": 118,
     "metadata": {},
     "output_type": "execute_result"
    }
   ],
   "source": [
    "catb = CatBoostClassifier()\n",
    "catb_cv_model = GridSearchCV(catb, catb_params, cv=5, n_jobs = -1, verbose = 2)\n",
    "catb_cv_model.fit(X_train, y_train)\n",
    "catb_cv_model.best_params_"
   ]
  },
  {
   "cell_type": "code",
   "execution_count": 123,
   "metadata": {},
   "outputs": [
    {
     "data": {
      "text/plain": [
       "{'depth': 8, 'iterations': 200, 'learning_rate': 0.05}"
      ]
     },
     "execution_count": 123,
     "metadata": {},
     "output_type": "execute_result"
    }
   ],
   "source": [
    "catb_cv_model.best_params_"
   ]
  },
  {
   "cell_type": "code",
   "execution_count": 124,
   "metadata": {},
   "outputs": [
    {
     "name": "stdout",
     "output_type": "stream",
     "text": [
      "0:\tlearn: 0.6365081\ttotal: 3.18ms\tremaining: 633ms\n",
      "1:\tlearn: 0.5848591\ttotal: 13.5ms\tremaining: 1.34s\n",
      "2:\tlearn: 0.5345221\ttotal: 21.9ms\tremaining: 1.44s\n",
      "3:\tlearn: 0.4914734\ttotal: 29.6ms\tremaining: 1.45s\n",
      "4:\tlearn: 0.4543201\ttotal: 37.1ms\tremaining: 1.45s\n",
      "5:\tlearn: 0.4230499\ttotal: 45.2ms\tremaining: 1.46s\n",
      "6:\tlearn: 0.3953455\ttotal: 54.1ms\tremaining: 1.49s\n",
      "7:\tlearn: 0.3701968\ttotal: 62.2ms\tremaining: 1.49s\n",
      "8:\tlearn: 0.3495653\ttotal: 70.6ms\tremaining: 1.5s\n",
      "9:\tlearn: 0.3309823\ttotal: 77ms\tremaining: 1.46s\n",
      "10:\tlearn: 0.3132876\ttotal: 85.3ms\tremaining: 1.46s\n",
      "11:\tlearn: 0.3011359\ttotal: 87.8ms\tremaining: 1.38s\n",
      "12:\tlearn: 0.2888061\ttotal: 96.9ms\tremaining: 1.39s\n",
      "13:\tlearn: 0.2757627\ttotal: 105ms\tremaining: 1.4s\n",
      "14:\tlearn: 0.2640045\ttotal: 111ms\tremaining: 1.37s\n",
      "15:\tlearn: 0.2547129\ttotal: 117ms\tremaining: 1.35s\n",
      "16:\tlearn: 0.2467544\ttotal: 123ms\tremaining: 1.32s\n",
      "17:\tlearn: 0.2387184\ttotal: 131ms\tremaining: 1.33s\n",
      "18:\tlearn: 0.2318158\ttotal: 140ms\tremaining: 1.33s\n",
      "19:\tlearn: 0.2267839\ttotal: 145ms\tremaining: 1.3s\n",
      "20:\tlearn: 0.2208293\ttotal: 152ms\tremaining: 1.29s\n",
      "21:\tlearn: 0.2140231\ttotal: 158ms\tremaining: 1.28s\n",
      "22:\tlearn: 0.2092436\ttotal: 167ms\tremaining: 1.28s\n",
      "23:\tlearn: 0.2044678\ttotal: 175ms\tremaining: 1.28s\n",
      "24:\tlearn: 0.1984871\ttotal: 183ms\tremaining: 1.28s\n",
      "25:\tlearn: 0.1944311\ttotal: 191ms\tremaining: 1.28s\n",
      "26:\tlearn: 0.1921781\ttotal: 199ms\tremaining: 1.27s\n",
      "27:\tlearn: 0.1885675\ttotal: 208ms\tremaining: 1.28s\n",
      "28:\tlearn: 0.1838895\ttotal: 216ms\tremaining: 1.27s\n",
      "29:\tlearn: 0.1803593\ttotal: 223ms\tremaining: 1.26s\n",
      "30:\tlearn: 0.1779220\ttotal: 229ms\tremaining: 1.25s\n",
      "31:\tlearn: 0.1740138\ttotal: 239ms\tremaining: 1.25s\n",
      "32:\tlearn: 0.1706581\ttotal: 246ms\tremaining: 1.25s\n",
      "33:\tlearn: 0.1679658\ttotal: 255ms\tremaining: 1.25s\n",
      "34:\tlearn: 0.1649214\ttotal: 264ms\tremaining: 1.25s\n",
      "35:\tlearn: 0.1631960\ttotal: 273ms\tremaining: 1.24s\n",
      "36:\tlearn: 0.1604595\ttotal: 281ms\tremaining: 1.24s\n",
      "37:\tlearn: 0.1587446\ttotal: 288ms\tremaining: 1.23s\n",
      "38:\tlearn: 0.1568786\ttotal: 297ms\tremaining: 1.23s\n",
      "39:\tlearn: 0.1553744\ttotal: 310ms\tremaining: 1.24s\n",
      "40:\tlearn: 0.1545525\ttotal: 316ms\tremaining: 1.23s\n",
      "41:\tlearn: 0.1534863\ttotal: 323ms\tremaining: 1.22s\n",
      "42:\tlearn: 0.1513042\ttotal: 330ms\tremaining: 1.2s\n",
      "43:\tlearn: 0.1499311\ttotal: 338ms\tremaining: 1.2s\n",
      "44:\tlearn: 0.1474140\ttotal: 347ms\tremaining: 1.2s\n",
      "45:\tlearn: 0.1460304\ttotal: 357ms\tremaining: 1.19s\n",
      "46:\tlearn: 0.1445258\ttotal: 367ms\tremaining: 1.19s\n",
      "47:\tlearn: 0.1426235\ttotal: 375ms\tremaining: 1.19s\n",
      "48:\tlearn: 0.1399648\ttotal: 383ms\tremaining: 1.18s\n",
      "49:\tlearn: 0.1382007\ttotal: 390ms\tremaining: 1.17s\n",
      "50:\tlearn: 0.1368126\ttotal: 400ms\tremaining: 1.17s\n",
      "51:\tlearn: 0.1361623\ttotal: 407ms\tremaining: 1.16s\n",
      "52:\tlearn: 0.1347423\ttotal: 414ms\tremaining: 1.15s\n",
      "53:\tlearn: 0.1327445\ttotal: 421ms\tremaining: 1.14s\n",
      "54:\tlearn: 0.1304865\ttotal: 427ms\tremaining: 1.13s\n",
      "55:\tlearn: 0.1291091\ttotal: 434ms\tremaining: 1.12s\n",
      "56:\tlearn: 0.1276236\ttotal: 442ms\tremaining: 1.11s\n",
      "57:\tlearn: 0.1265461\ttotal: 453ms\tremaining: 1.11s\n",
      "58:\tlearn: 0.1253208\ttotal: 470ms\tremaining: 1.12s\n",
      "59:\tlearn: 0.1246849\ttotal: 483ms\tremaining: 1.13s\n",
      "60:\tlearn: 0.1236238\ttotal: 495ms\tremaining: 1.13s\n",
      "61:\tlearn: 0.1231843\ttotal: 506ms\tremaining: 1.13s\n",
      "62:\tlearn: 0.1231076\ttotal: 511ms\tremaining: 1.11s\n",
      "63:\tlearn: 0.1217790\ttotal: 523ms\tremaining: 1.11s\n",
      "64:\tlearn: 0.1207563\ttotal: 535ms\tremaining: 1.11s\n",
      "65:\tlearn: 0.1206085\ttotal: 538ms\tremaining: 1.09s\n",
      "66:\tlearn: 0.1189427\ttotal: 547ms\tremaining: 1.08s\n",
      "67:\tlearn: 0.1177141\ttotal: 554ms\tremaining: 1.07s\n",
      "68:\tlearn: 0.1167479\ttotal: 562ms\tremaining: 1.07s\n",
      "69:\tlearn: 0.1155074\ttotal: 568ms\tremaining: 1.05s\n",
      "70:\tlearn: 0.1145687\ttotal: 575ms\tremaining: 1.04s\n",
      "71:\tlearn: 0.1139958\ttotal: 583ms\tremaining: 1.04s\n",
      "72:\tlearn: 0.1135476\ttotal: 595ms\tremaining: 1.03s\n",
      "73:\tlearn: 0.1117989\ttotal: 606ms\tremaining: 1.03s\n",
      "74:\tlearn: 0.1102414\ttotal: 618ms\tremaining: 1.03s\n",
      "75:\tlearn: 0.1092814\ttotal: 629ms\tremaining: 1.03s\n",
      "76:\tlearn: 0.1086742\ttotal: 642ms\tremaining: 1.02s\n",
      "77:\tlearn: 0.1072315\ttotal: 653ms\tremaining: 1.02s\n",
      "78:\tlearn: 0.1068065\ttotal: 665ms\tremaining: 1.02s\n",
      "79:\tlearn: 0.1059370\ttotal: 676ms\tremaining: 1.01s\n",
      "80:\tlearn: 0.1050315\ttotal: 688ms\tremaining: 1.01s\n",
      "81:\tlearn: 0.1044400\ttotal: 699ms\tremaining: 1.01s\n",
      "82:\tlearn: 0.1039441\ttotal: 711ms\tremaining: 1s\n",
      "83:\tlearn: 0.1030246\ttotal: 721ms\tremaining: 995ms\n",
      "84:\tlearn: 0.1022284\ttotal: 728ms\tremaining: 986ms\n",
      "85:\tlearn: 0.1015550\ttotal: 737ms\tremaining: 976ms\n",
      "86:\tlearn: 0.1010456\ttotal: 744ms\tremaining: 967ms\n",
      "87:\tlearn: 0.1005614\ttotal: 753ms\tremaining: 958ms\n",
      "88:\tlearn: 0.0996691\ttotal: 761ms\tremaining: 949ms\n",
      "89:\tlearn: 0.0989597\ttotal: 771ms\tremaining: 943ms\n",
      "90:\tlearn: 0.0983675\ttotal: 783ms\tremaining: 938ms\n",
      "91:\tlearn: 0.0975929\ttotal: 794ms\tremaining: 932ms\n",
      "92:\tlearn: 0.0962155\ttotal: 806ms\tremaining: 927ms\n",
      "93:\tlearn: 0.0949687\ttotal: 818ms\tremaining: 922ms\n",
      "94:\tlearn: 0.0935943\ttotal: 830ms\tremaining: 918ms\n",
      "95:\tlearn: 0.0931533\ttotal: 842ms\tremaining: 912ms\n",
      "96:\tlearn: 0.0923370\ttotal: 854ms\tremaining: 906ms\n",
      "97:\tlearn: 0.0922955\ttotal: 856ms\tremaining: 891ms\n",
      "98:\tlearn: 0.0915584\ttotal: 868ms\tremaining: 885ms\n",
      "99:\tlearn: 0.0906924\ttotal: 880ms\tremaining: 880ms\n",
      "100:\tlearn: 0.0900713\ttotal: 891ms\tremaining: 873ms\n",
      "101:\tlearn: 0.0895748\ttotal: 900ms\tremaining: 865ms\n",
      "102:\tlearn: 0.0888394\ttotal: 907ms\tremaining: 854ms\n",
      "103:\tlearn: 0.0882253\ttotal: 914ms\tremaining: 844ms\n",
      "104:\tlearn: 0.0870365\ttotal: 921ms\tremaining: 833ms\n",
      "105:\tlearn: 0.0859529\ttotal: 927ms\tremaining: 822ms\n",
      "106:\tlearn: 0.0854393\ttotal: 935ms\tremaining: 813ms\n",
      "107:\tlearn: 0.0851857\ttotal: 944ms\tremaining: 805ms\n",
      "108:\tlearn: 0.0843185\ttotal: 959ms\tremaining: 801ms\n",
      "109:\tlearn: 0.0839772\ttotal: 973ms\tremaining: 796ms\n",
      "110:\tlearn: 0.0830939\ttotal: 987ms\tremaining: 792ms\n",
      "111:\tlearn: 0.0822002\ttotal: 1s\tremaining: 786ms\n",
      "112:\tlearn: 0.0815573\ttotal: 1.01s\tremaining: 779ms\n",
      "113:\tlearn: 0.0804935\ttotal: 1.02s\tremaining: 772ms\n",
      "114:\tlearn: 0.0798561\ttotal: 1.03s\tremaining: 766ms\n",
      "115:\tlearn: 0.0793927\ttotal: 1.05s\tremaining: 759ms\n",
      "116:\tlearn: 0.0784620\ttotal: 1.06s\tremaining: 751ms\n",
      "117:\tlearn: 0.0772600\ttotal: 1.07s\tremaining: 744ms\n",
      "118:\tlearn: 0.0767485\ttotal: 1.08s\tremaining: 735ms\n",
      "119:\tlearn: 0.0765809\ttotal: 1.09s\tremaining: 725ms\n",
      "120:\tlearn: 0.0757938\ttotal: 1.09s\tremaining: 715ms\n",
      "121:\tlearn: 0.0751124\ttotal: 1.1s\tremaining: 705ms\n",
      "122:\tlearn: 0.0748978\ttotal: 1.11s\tremaining: 696ms\n",
      "123:\tlearn: 0.0738950\ttotal: 1.12s\tremaining: 686ms\n",
      "124:\tlearn: 0.0736419\ttotal: 1.13s\tremaining: 676ms\n",
      "125:\tlearn: 0.0729888\ttotal: 1.14s\tremaining: 668ms\n",
      "126:\tlearn: 0.0725431\ttotal: 1.14s\tremaining: 657ms\n",
      "127:\tlearn: 0.0717229\ttotal: 1.15s\tremaining: 647ms\n",
      "128:\tlearn: 0.0714987\ttotal: 1.16s\tremaining: 638ms\n",
      "129:\tlearn: 0.0712341\ttotal: 1.17s\tremaining: 628ms\n",
      "130:\tlearn: 0.0705493\ttotal: 1.18s\tremaining: 619ms\n",
      "131:\tlearn: 0.0700722\ttotal: 1.18s\tremaining: 610ms\n",
      "132:\tlearn: 0.0693610\ttotal: 1.19s\tremaining: 601ms\n",
      "133:\tlearn: 0.0692130\ttotal: 1.2s\tremaining: 592ms\n",
      "134:\tlearn: 0.0685610\ttotal: 1.21s\tremaining: 583ms\n",
      "135:\tlearn: 0.0682456\ttotal: 1.22s\tremaining: 575ms\n",
      "136:\tlearn: 0.0679150\ttotal: 1.23s\tremaining: 568ms\n",
      "137:\tlearn: 0.0672399\ttotal: 1.25s\tremaining: 560ms\n",
      "138:\tlearn: 0.0667256\ttotal: 1.25s\tremaining: 551ms\n",
      "139:\tlearn: 0.0661787\ttotal: 1.26s\tremaining: 541ms\n",
      "140:\tlearn: 0.0658057\ttotal: 1.27s\tremaining: 531ms\n",
      "141:\tlearn: 0.0657109\ttotal: 1.27s\tremaining: 521ms\n",
      "142:\tlearn: 0.0653067\ttotal: 1.28s\tremaining: 512ms\n",
      "143:\tlearn: 0.0652018\ttotal: 1.3s\tremaining: 504ms\n",
      "144:\tlearn: 0.0646234\ttotal: 1.31s\tremaining: 496ms\n",
      "145:\tlearn: 0.0643859\ttotal: 1.32s\tremaining: 488ms\n",
      "146:\tlearn: 0.0638658\ttotal: 1.33s\tremaining: 480ms\n",
      "147:\tlearn: 0.0630815\ttotal: 1.34s\tremaining: 472ms\n",
      "148:\tlearn: 0.0622919\ttotal: 1.35s\tremaining: 464ms\n",
      "149:\tlearn: 0.0617467\ttotal: 1.36s\tremaining: 455ms\n",
      "150:\tlearn: 0.0613011\ttotal: 1.37s\tremaining: 445ms\n",
      "151:\tlearn: 0.0604994\ttotal: 1.38s\tremaining: 436ms\n",
      "152:\tlearn: 0.0597370\ttotal: 1.39s\tremaining: 428ms\n",
      "153:\tlearn: 0.0591350\ttotal: 1.4s\tremaining: 419ms\n",
      "154:\tlearn: 0.0587656\ttotal: 1.42s\tremaining: 411ms\n",
      "155:\tlearn: 0.0583541\ttotal: 1.43s\tremaining: 403ms\n",
      "156:\tlearn: 0.0580663\ttotal: 1.44s\tremaining: 394ms\n",
      "157:\tlearn: 0.0576708\ttotal: 1.44s\tremaining: 384ms\n",
      "158:\tlearn: 0.0572732\ttotal: 1.45s\tremaining: 374ms\n",
      "159:\tlearn: 0.0570320\ttotal: 1.46s\tremaining: 365ms\n",
      "160:\tlearn: 0.0564956\ttotal: 1.47s\tremaining: 356ms\n",
      "161:\tlearn: 0.0558586\ttotal: 1.48s\tremaining: 348ms\n",
      "162:\tlearn: 0.0555586\ttotal: 1.49s\tremaining: 338ms\n",
      "163:\tlearn: 0.0550777\ttotal: 1.5s\tremaining: 329ms\n",
      "164:\tlearn: 0.0544860\ttotal: 1.5s\tremaining: 319ms\n",
      "165:\tlearn: 0.0541751\ttotal: 1.51s\tremaining: 309ms\n",
      "166:\tlearn: 0.0538221\ttotal: 1.52s\tremaining: 300ms\n",
      "167:\tlearn: 0.0536039\ttotal: 1.52s\tremaining: 290ms\n",
      "168:\tlearn: 0.0534192\ttotal: 1.53s\tremaining: 281ms\n",
      "169:\tlearn: 0.0532613\ttotal: 1.54s\tremaining: 272ms\n",
      "170:\tlearn: 0.0530218\ttotal: 1.54s\tremaining: 262ms\n",
      "171:\tlearn: 0.0526666\ttotal: 1.55s\tremaining: 253ms\n",
      "172:\tlearn: 0.0522188\ttotal: 1.56s\tremaining: 243ms\n",
      "173:\tlearn: 0.0519571\ttotal: 1.57s\tremaining: 234ms\n",
      "174:\tlearn: 0.0517450\ttotal: 1.57s\tremaining: 225ms\n",
      "175:\tlearn: 0.0514027\ttotal: 1.58s\tremaining: 216ms\n",
      "176:\tlearn: 0.0510479\ttotal: 1.59s\tremaining: 207ms\n",
      "177:\tlearn: 0.0509102\ttotal: 1.6s\tremaining: 198ms\n",
      "178:\tlearn: 0.0505507\ttotal: 1.61s\tremaining: 188ms\n"
     ]
    },
    {
     "name": "stdout",
     "output_type": "stream",
     "text": [
      "179:\tlearn: 0.0502739\ttotal: 1.61s\tremaining: 180ms\n",
      "180:\tlearn: 0.0500502\ttotal: 1.62s\tremaining: 170ms\n",
      "181:\tlearn: 0.0499506\ttotal: 1.63s\tremaining: 161ms\n",
      "182:\tlearn: 0.0496254\ttotal: 1.64s\tremaining: 152ms\n",
      "183:\tlearn: 0.0492705\ttotal: 1.64s\tremaining: 143ms\n",
      "184:\tlearn: 0.0490492\ttotal: 1.65s\tremaining: 134ms\n",
      "185:\tlearn: 0.0486710\ttotal: 1.66s\tremaining: 125ms\n",
      "186:\tlearn: 0.0483151\ttotal: 1.67s\tremaining: 116ms\n",
      "187:\tlearn: 0.0480065\ttotal: 1.68s\tremaining: 107ms\n",
      "188:\tlearn: 0.0479338\ttotal: 1.68s\tremaining: 98ms\n",
      "189:\tlearn: 0.0475258\ttotal: 1.69s\tremaining: 89ms\n",
      "190:\tlearn: 0.0472096\ttotal: 1.7s\tremaining: 80.3ms\n",
      "191:\tlearn: 0.0468042\ttotal: 1.71s\tremaining: 71.4ms\n",
      "192:\tlearn: 0.0464661\ttotal: 1.72s\tremaining: 62.5ms\n",
      "193:\tlearn: 0.0462170\ttotal: 1.73s\tremaining: 53.5ms\n",
      "194:\tlearn: 0.0460125\ttotal: 1.74s\tremaining: 44.6ms\n",
      "195:\tlearn: 0.0457340\ttotal: 1.75s\tremaining: 35.7ms\n",
      "196:\tlearn: 0.0454476\ttotal: 1.75s\tremaining: 26.7ms\n",
      "197:\tlearn: 0.0452781\ttotal: 1.76s\tremaining: 17.8ms\n",
      "198:\tlearn: 0.0451544\ttotal: 1.77s\tremaining: 8.91ms\n",
      "199:\tlearn: 0.0448430\ttotal: 1.78s\tremaining: 0us\n"
     ]
    }
   ],
   "source": [
    "catb = CatBoostClassifier(iterations = 200, \n",
    "                          learning_rate = 0.05, \n",
    "                          depth = 8)\n",
    "\n",
    "catb_tuned = catb.fit(X_train, y_train)\n",
    "y_pred = catb_tuned.predict(X_test)"
   ]
  },
  {
   "cell_type": "code",
   "execution_count": 125,
   "metadata": {},
   "outputs": [
    {
     "data": {
      "text/plain": [
       "0.9529702970297029"
      ]
     },
     "execution_count": 125,
     "metadata": {},
     "output_type": "execute_result"
    }
   ],
   "source": [
    "y_pred = catb_tuned.predict(X_test)\n",
    "accuracy_score(y_test, y_pred)"
   ]
  },
  {
   "cell_type": "markdown",
   "metadata": {},
   "source": [
    "# Tüm Modellerin Karşılaştırılması"
   ]
  },
  {
   "cell_type": "markdown",
   "metadata": {},
   "source": [
    "Sık kullanılan ve geçerliliği yüksek olan algoritmaarın hepsine değindik."
   ]
  },
  {
   "cell_type": "code",
   "execution_count": 73,
   "metadata": {},
   "outputs": [],
   "source": [
    "knn = KNeighborsClassifier(17)\n",
    "knn_tuned = knn.fit(X_train, y_train)"
   ]
  },
  {
   "cell_type": "code",
   "execution_count": 74,
   "metadata": {},
   "outputs": [
    {
     "name": "stdout",
     "output_type": "stream",
     "text": [
      "Optimization terminated successfully.\n",
      "         Current function value: 0.261768\n",
      "         Iterations 7\n"
     ]
    },
    {
     "data": {
      "text/html": [
       "<table class=\"simpletable\">\n",
       "<caption>Logit Regression Results</caption>\n",
       "<tr>\n",
       "  <th>Dep. Variable:</th>          <td>bad</td>       <th>  No. Observations:  </th>  <td>  2018</td>  \n",
       "</tr>\n",
       "<tr>\n",
       "  <th>Model:</th>                 <td>Logit</td>      <th>  Df Residuals:      </th>  <td>  2008</td>  \n",
       "</tr>\n",
       "<tr>\n",
       "  <th>Method:</th>                 <td>MLE</td>       <th>  Df Model:          </th>  <td>     9</td>  \n",
       "</tr>\n",
       "<tr>\n",
       "  <th>Date:</th>            <td>Thu, 13 Aug 2020</td> <th>  Pseudo R-squ.:     </th>  <td>0.1227</td>  \n",
       "</tr>\n",
       "<tr>\n",
       "  <th>Time:</th>                <td>16:24:35</td>     <th>  Log-Likelihood:    </th> <td> -528.25</td> \n",
       "</tr>\n",
       "<tr>\n",
       "  <th>converged:</th>             <td>True</td>       <th>  LL-Null:           </th> <td> -602.11</td> \n",
       "</tr>\n",
       "<tr>\n",
       "  <th>Covariance Type:</th>     <td>nonrobust</td>    <th>  LLR p-value:       </th> <td>2.621e-27</td>\n",
       "</tr>\n",
       "</table>\n",
       "<table class=\"simpletable\">\n",
       "<tr>\n",
       "     <td></td>        <th>coef</th>     <th>std err</th>      <th>z</th>      <th>P>|z|</th>  <th>[0.025</th>    <th>0.975]</th>  \n",
       "</tr>\n",
       "<tr>\n",
       "  <th>loan</th>    <td>-2.706e-05</td> <td> 1.04e-05</td> <td>   -2.600</td> <td> 0.009</td> <td>-4.74e-05</td> <td>-6.66e-06</td>\n",
       "</tr>\n",
       "<tr>\n",
       "  <th>mortdue</th> <td>-3.409e-07</td> <td> 5.22e-06</td> <td>   -0.065</td> <td> 0.948</td> <td>-1.06e-05</td> <td>  9.9e-06</td>\n",
       "</tr>\n",
       "<tr>\n",
       "  <th>value</th>   <td>-3.173e-06</td> <td> 4.29e-06</td> <td>   -0.739</td> <td> 0.460</td> <td>-1.16e-05</td> <td> 5.24e-06</td>\n",
       "</tr>\n",
       "<tr>\n",
       "  <th>yoj</th>     <td>   -0.0342</td> <td>    0.013</td> <td>   -2.727</td> <td> 0.006</td> <td>   -0.059</td> <td>   -0.010</td>\n",
       "</tr>\n",
       "<tr>\n",
       "  <th>derog</th>   <td>    0.5800</td> <td>    0.122</td> <td>    4.758</td> <td> 0.000</td> <td>    0.341</td> <td>    0.819</td>\n",
       "</tr>\n",
       "<tr>\n",
       "  <th>delinq</th>  <td>    0.7398</td> <td>    0.086</td> <td>    8.610</td> <td> 0.000</td> <td>    0.571</td> <td>    0.908</td>\n",
       "</tr>\n",
       "<tr>\n",
       "  <th>clage</th>   <td>   -0.0084</td> <td>    0.001</td> <td>   -6.358</td> <td> 0.000</td> <td>   -0.011</td> <td>   -0.006</td>\n",
       "</tr>\n",
       "<tr>\n",
       "  <th>ninq</th>    <td>    0.0266</td> <td>    0.047</td> <td>    0.571</td> <td> 0.568</td> <td>   -0.065</td> <td>    0.118</td>\n",
       "</tr>\n",
       "<tr>\n",
       "  <th>clno</th>    <td>   -0.0505</td> <td>    0.011</td> <td>   -4.635</td> <td> 0.000</td> <td>   -0.072</td> <td>   -0.029</td>\n",
       "</tr>\n",
       "<tr>\n",
       "  <th>debtinc</th> <td>    0.0222</td> <td>    0.007</td> <td>    3.126</td> <td> 0.002</td> <td>    0.008</td> <td>    0.036</td>\n",
       "</tr>\n",
       "</table>"
      ],
      "text/plain": [
       "<class 'statsmodels.iolib.summary.Summary'>\n",
       "\"\"\"\n",
       "                           Logit Regression Results                           \n",
       "==============================================================================\n",
       "Dep. Variable:                    bad   No. Observations:                 2018\n",
       "Model:                          Logit   Df Residuals:                     2008\n",
       "Method:                           MLE   Df Model:                            9\n",
       "Date:                Thu, 13 Aug 2020   Pseudo R-squ.:                  0.1227\n",
       "Time:                        16:24:35   Log-Likelihood:                -528.25\n",
       "converged:                       True   LL-Null:                       -602.11\n",
       "Covariance Type:            nonrobust   LLR p-value:                 2.621e-27\n",
       "==============================================================================\n",
       "                 coef    std err          z      P>|z|      [0.025      0.975]\n",
       "------------------------------------------------------------------------------\n",
       "loan       -2.706e-05   1.04e-05     -2.600      0.009   -4.74e-05   -6.66e-06\n",
       "mortdue    -3.409e-07   5.22e-06     -0.065      0.948   -1.06e-05     9.9e-06\n",
       "value      -3.173e-06   4.29e-06     -0.739      0.460   -1.16e-05    5.24e-06\n",
       "yoj           -0.0342      0.013     -2.727      0.006      -0.059      -0.010\n",
       "derog          0.5800      0.122      4.758      0.000       0.341       0.819\n",
       "delinq         0.7398      0.086      8.610      0.000       0.571       0.908\n",
       "clage         -0.0084      0.001     -6.358      0.000      -0.011      -0.006\n",
       "ninq           0.0266      0.047      0.571      0.568      -0.065       0.118\n",
       "clno          -0.0505      0.011     -4.635      0.000      -0.072      -0.029\n",
       "debtinc        0.0222      0.007      3.126      0.002       0.008       0.036\n",
       "==============================================================================\n",
       "\"\"\""
      ]
     },
     "execution_count": 74,
     "metadata": {},
     "output_type": "execute_result"
    }
   ],
   "source": [
    "loj = sm.Logit(y, X)\n",
    "loj_model= loj.fit()\n",
    "loj_model.summary()"
   ]
  },
  {
   "cell_type": "code",
   "execution_count": 75,
   "metadata": {},
   "outputs": [],
   "source": [
    "svc_tuned = SVC(kernel = \"linear\", C = 5).fit(X_train, y_train)"
   ]
  },
  {
   "cell_type": "code",
   "execution_count": 76,
   "metadata": {},
   "outputs": [
    {
     "data": {
      "text/plain": [
       "MLPClassifier(activation='relu', alpha=0.0001, batch_size='auto', beta_1=0.9,\n",
       "              beta_2=0.999, early_stopping=False, epsilon=1e-08,\n",
       "              hidden_layer_sizes=(100, 100, 100), learning_rate='constant',\n",
       "              learning_rate_init=0.001, max_fun=15000, max_iter=200,\n",
       "              momentum=0.9, n_iter_no_change=10, nesterovs_momentum=True,\n",
       "              power_t=0.5, random_state=None, shuffle=True, solver='adam',\n",
       "              tol=0.0001, validation_fraction=0.1, verbose=False,\n",
       "              warm_start=False)"
      ]
     },
     "execution_count": 76,
     "metadata": {},
     "output_type": "execute_result"
    }
   ],
   "source": [
    "mlpc_tuned.fit(X_train_scaled, y_train)"
   ]
  },
  {
   "cell_type": "code",
   "execution_count": 3,
   "metadata": {},
   "outputs": [],
   "source": [
    "cart = tree.DecisionTreeClassifier(max_depth = 7, min_samples_split = 22)\n",
    "cart_tuned = cart.fit(X_train, y_train)"
   ]
  },
  {
   "cell_type": "code",
   "execution_count": 4,
   "metadata": {},
   "outputs": [
    {
     "data": {
      "text/plain": [
       "RandomForestClassifier(bootstrap=True, ccp_alpha=0.0, class_weight=None,\n",
       "                       criterion='gini', max_depth=10, max_features=8,\n",
       "                       max_leaf_nodes=None, max_samples=None,\n",
       "                       min_impurity_decrease=0.0, min_impurity_split=None,\n",
       "                       min_samples_leaf=1, min_samples_split=10,\n",
       "                       min_weight_fraction_leaf=0.0, n_estimators=1000,\n",
       "                       n_jobs=None, oob_score=False, random_state=None,\n",
       "                       verbose=0, warm_start=False)"
      ]
     },
     "execution_count": 4,
     "metadata": {},
     "output_type": "execute_result"
    }
   ],
   "source": [
    "rf_tuned = RandomForestClassifier(max_depth = 10, \n",
    "                                  max_features = 8, \n",
    "                                  min_samples_split = 10,\n",
    "                                  n_estimators = 1000)\n",
    "\n",
    "rf_tuned.fit(X_train, y_train)"
   ]
  },
  {
   "cell_type": "code",
   "execution_count": 33,
   "metadata": {},
   "outputs": [],
   "source": [
    "gbm_tuned =  gbm.fit(X_train,y_train)"
   ]
  },
  {
   "cell_type": "code",
   "execution_count": 34,
   "metadata": {},
   "outputs": [
    {
     "name": "stdout",
     "output_type": "stream",
     "text": [
      "0:\tlearn: 0.6365081\ttotal: 3.97ms\tremaining: 790ms\n",
      "1:\tlearn: 0.5848591\ttotal: 12.4ms\tremaining: 1.23s\n",
      "2:\tlearn: 0.5345221\ttotal: 19.6ms\tremaining: 1.29s\n",
      "3:\tlearn: 0.4914734\ttotal: 27.4ms\tremaining: 1.34s\n",
      "4:\tlearn: 0.4543201\ttotal: 37.2ms\tremaining: 1.45s\n",
      "5:\tlearn: 0.4230499\ttotal: 44.7ms\tremaining: 1.45s\n",
      "6:\tlearn: 0.3953455\ttotal: 52.5ms\tremaining: 1.45s\n",
      "7:\tlearn: 0.3701968\ttotal: 61.7ms\tremaining: 1.48s\n",
      "8:\tlearn: 0.3495653\ttotal: 71ms\tremaining: 1.51s\n",
      "9:\tlearn: 0.3309823\ttotal: 79.7ms\tremaining: 1.51s\n",
      "10:\tlearn: 0.3132876\ttotal: 87.4ms\tremaining: 1.5s\n",
      "11:\tlearn: 0.3011359\ttotal: 89.8ms\tremaining: 1.41s\n",
      "12:\tlearn: 0.2888061\ttotal: 97.3ms\tremaining: 1.4s\n",
      "13:\tlearn: 0.2757627\ttotal: 104ms\tremaining: 1.38s\n",
      "14:\tlearn: 0.2640045\ttotal: 110ms\tremaining: 1.36s\n",
      "15:\tlearn: 0.2547129\ttotal: 118ms\tremaining: 1.35s\n",
      "16:\tlearn: 0.2467544\ttotal: 124ms\tremaining: 1.34s\n",
      "17:\tlearn: 0.2387184\ttotal: 131ms\tremaining: 1.32s\n",
      "18:\tlearn: 0.2318158\ttotal: 137ms\tremaining: 1.31s\n",
      "19:\tlearn: 0.2267839\ttotal: 141ms\tremaining: 1.27s\n",
      "20:\tlearn: 0.2208293\ttotal: 147ms\tremaining: 1.25s\n",
      "21:\tlearn: 0.2140231\ttotal: 154ms\tremaining: 1.24s\n",
      "22:\tlearn: 0.2092436\ttotal: 162ms\tremaining: 1.25s\n",
      "23:\tlearn: 0.2044678\ttotal: 170ms\tremaining: 1.25s\n",
      "24:\tlearn: 0.1984871\ttotal: 178ms\tremaining: 1.24s\n",
      "25:\tlearn: 0.1944311\ttotal: 185ms\tremaining: 1.24s\n",
      "26:\tlearn: 0.1921781\ttotal: 192ms\tremaining: 1.23s\n",
      "27:\tlearn: 0.1885675\ttotal: 199ms\tremaining: 1.22s\n",
      "28:\tlearn: 0.1838895\ttotal: 206ms\tremaining: 1.22s\n",
      "29:\tlearn: 0.1803593\ttotal: 214ms\tremaining: 1.21s\n",
      "30:\tlearn: 0.1779220\ttotal: 222ms\tremaining: 1.21s\n",
      "31:\tlearn: 0.1740138\ttotal: 230ms\tremaining: 1.21s\n",
      "32:\tlearn: 0.1706581\ttotal: 239ms\tremaining: 1.21s\n",
      "33:\tlearn: 0.1679658\ttotal: 248ms\tremaining: 1.21s\n",
      "34:\tlearn: 0.1649214\ttotal: 256ms\tremaining: 1.21s\n",
      "35:\tlearn: 0.1631960\ttotal: 264ms\tremaining: 1.2s\n",
      "36:\tlearn: 0.1604595\ttotal: 270ms\tremaining: 1.19s\n",
      "37:\tlearn: 0.1587446\ttotal: 279ms\tremaining: 1.19s\n",
      "38:\tlearn: 0.1568786\ttotal: 289ms\tremaining: 1.19s\n",
      "39:\tlearn: 0.1553744\ttotal: 296ms\tremaining: 1.18s\n",
      "40:\tlearn: 0.1545525\ttotal: 302ms\tremaining: 1.17s\n",
      "41:\tlearn: 0.1534863\ttotal: 309ms\tremaining: 1.16s\n",
      "42:\tlearn: 0.1513042\ttotal: 315ms\tremaining: 1.15s\n",
      "43:\tlearn: 0.1499311\ttotal: 322ms\tremaining: 1.14s\n",
      "44:\tlearn: 0.1474140\ttotal: 330ms\tremaining: 1.14s\n",
      "45:\tlearn: 0.1460304\ttotal: 338ms\tremaining: 1.13s\n",
      "46:\tlearn: 0.1445258\ttotal: 349ms\tremaining: 1.13s\n",
      "47:\tlearn: 0.1426235\ttotal: 360ms\tremaining: 1.14s\n",
      "48:\tlearn: 0.1399648\ttotal: 369ms\tremaining: 1.14s\n",
      "49:\tlearn: 0.1382007\ttotal: 376ms\tremaining: 1.13s\n",
      "50:\tlearn: 0.1368126\ttotal: 382ms\tremaining: 1.11s\n",
      "51:\tlearn: 0.1361623\ttotal: 388ms\tremaining: 1.1s\n",
      "52:\tlearn: 0.1347423\ttotal: 395ms\tremaining: 1.09s\n",
      "53:\tlearn: 0.1327445\ttotal: 403ms\tremaining: 1.09s\n",
      "54:\tlearn: 0.1304865\ttotal: 414ms\tremaining: 1.09s\n",
      "55:\tlearn: 0.1291091\ttotal: 426ms\tremaining: 1.09s\n",
      "56:\tlearn: 0.1276236\ttotal: 437ms\tremaining: 1.1s\n",
      "57:\tlearn: 0.1265461\ttotal: 449ms\tremaining: 1.1s\n",
      "58:\tlearn: 0.1253208\ttotal: 461ms\tremaining: 1.1s\n",
      "59:\tlearn: 0.1246849\ttotal: 473ms\tremaining: 1.1s\n",
      "60:\tlearn: 0.1236238\ttotal: 484ms\tremaining: 1.1s\n",
      "61:\tlearn: 0.1231843\ttotal: 496ms\tremaining: 1.1s\n",
      "62:\tlearn: 0.1231076\ttotal: 501ms\tremaining: 1.09s\n",
      "63:\tlearn: 0.1217790\ttotal: 513ms\tremaining: 1.09s\n",
      "64:\tlearn: 0.1207563\ttotal: 524ms\tremaining: 1.09s\n",
      "65:\tlearn: 0.1206085\ttotal: 528ms\tremaining: 1.07s\n",
      "66:\tlearn: 0.1189427\ttotal: 539ms\tremaining: 1.07s\n",
      "67:\tlearn: 0.1177141\ttotal: 549ms\tremaining: 1.06s\n",
      "68:\tlearn: 0.1167479\ttotal: 556ms\tremaining: 1.06s\n",
      "69:\tlearn: 0.1155074\ttotal: 564ms\tremaining: 1.05s\n",
      "70:\tlearn: 0.1145687\ttotal: 570ms\tremaining: 1.04s\n",
      "71:\tlearn: 0.1139958\ttotal: 577ms\tremaining: 1.03s\n",
      "72:\tlearn: 0.1135476\ttotal: 587ms\tremaining: 1.02s\n",
      "73:\tlearn: 0.1117989\ttotal: 599ms\tremaining: 1.02s\n",
      "74:\tlearn: 0.1102414\ttotal: 609ms\tremaining: 1.01s\n",
      "75:\tlearn: 0.1092814\ttotal: 621ms\tremaining: 1.01s\n",
      "76:\tlearn: 0.1086742\ttotal: 633ms\tremaining: 1.01s\n",
      "77:\tlearn: 0.1072315\ttotal: 645ms\tremaining: 1.01s\n",
      "78:\tlearn: 0.1068065\ttotal: 656ms\tremaining: 1s\n",
      "79:\tlearn: 0.1059370\ttotal: 668ms\tremaining: 1s\n",
      "80:\tlearn: 0.1050315\ttotal: 679ms\tremaining: 998ms\n",
      "81:\tlearn: 0.1044400\ttotal: 691ms\tremaining: 994ms\n",
      "82:\tlearn: 0.1039441\ttotal: 702ms\tremaining: 990ms\n",
      "83:\tlearn: 0.1030246\ttotal: 714ms\tremaining: 986ms\n",
      "84:\tlearn: 0.1022284\ttotal: 723ms\tremaining: 979ms\n",
      "85:\tlearn: 0.1015550\ttotal: 731ms\tremaining: 970ms\n",
      "86:\tlearn: 0.1010456\ttotal: 739ms\tremaining: 960ms\n",
      "87:\tlearn: 0.1005614\ttotal: 747ms\tremaining: 950ms\n",
      "88:\tlearn: 0.0996691\ttotal: 755ms\tremaining: 942ms\n",
      "89:\tlearn: 0.0989597\ttotal: 763ms\tremaining: 933ms\n",
      "90:\tlearn: 0.0983675\ttotal: 774ms\tremaining: 927ms\n",
      "91:\tlearn: 0.0975929\ttotal: 786ms\tremaining: 922ms\n",
      "92:\tlearn: 0.0962155\ttotal: 798ms\tremaining: 918ms\n",
      "93:\tlearn: 0.0949687\ttotal: 809ms\tremaining: 913ms\n",
      "94:\tlearn: 0.0935943\ttotal: 821ms\tremaining: 908ms\n",
      "95:\tlearn: 0.0931533\ttotal: 832ms\tremaining: 901ms\n",
      "96:\tlearn: 0.0923370\ttotal: 844ms\tremaining: 896ms\n",
      "97:\tlearn: 0.0922955\ttotal: 846ms\tremaining: 881ms\n",
      "98:\tlearn: 0.0915584\ttotal: 858ms\tremaining: 876ms\n",
      "99:\tlearn: 0.0906924\ttotal: 870ms\tremaining: 870ms\n",
      "100:\tlearn: 0.0900713\ttotal: 882ms\tremaining: 865ms\n",
      "101:\tlearn: 0.0895748\ttotal: 893ms\tremaining: 858ms\n",
      "102:\tlearn: 0.0888394\ttotal: 902ms\tremaining: 850ms\n",
      "103:\tlearn: 0.0882253\ttotal: 910ms\tremaining: 840ms\n",
      "104:\tlearn: 0.0870365\ttotal: 917ms\tremaining: 829ms\n",
      "105:\tlearn: 0.0859529\ttotal: 923ms\tremaining: 819ms\n",
      "106:\tlearn: 0.0854393\ttotal: 929ms\tremaining: 808ms\n",
      "107:\tlearn: 0.0851857\ttotal: 939ms\tremaining: 800ms\n",
      "108:\tlearn: 0.0843185\ttotal: 950ms\tremaining: 793ms\n",
      "109:\tlearn: 0.0839772\ttotal: 964ms\tremaining: 789ms\n",
      "110:\tlearn: 0.0830939\ttotal: 977ms\tremaining: 784ms\n",
      "111:\tlearn: 0.0822002\ttotal: 990ms\tremaining: 778ms\n",
      "112:\tlearn: 0.0815573\ttotal: 1s\tremaining: 773ms\n",
      "113:\tlearn: 0.0804935\ttotal: 1.01s\tremaining: 766ms\n",
      "114:\tlearn: 0.0798561\ttotal: 1.03s\tremaining: 759ms\n",
      "115:\tlearn: 0.0793927\ttotal: 1.04s\tremaining: 752ms\n",
      "116:\tlearn: 0.0784620\ttotal: 1.05s\tremaining: 745ms\n",
      "117:\tlearn: 0.0772600\ttotal: 1.06s\tremaining: 739ms\n",
      "118:\tlearn: 0.0767485\ttotal: 1.07s\tremaining: 729ms\n",
      "119:\tlearn: 0.0765809\ttotal: 1.08s\tremaining: 722ms\n",
      "120:\tlearn: 0.0757938\ttotal: 1.09s\tremaining: 712ms\n",
      "121:\tlearn: 0.0751124\ttotal: 1.1s\tremaining: 702ms\n",
      "122:\tlearn: 0.0748978\ttotal: 1.1s\tremaining: 692ms\n",
      "123:\tlearn: 0.0738950\ttotal: 1.11s\tremaining: 682ms\n",
      "124:\tlearn: 0.0736419\ttotal: 1.12s\tremaining: 673ms\n",
      "125:\tlearn: 0.0729888\ttotal: 1.13s\tremaining: 664ms\n",
      "126:\tlearn: 0.0725431\ttotal: 1.14s\tremaining: 654ms\n",
      "127:\tlearn: 0.0717229\ttotal: 1.15s\tremaining: 646ms\n",
      "128:\tlearn: 0.0714987\ttotal: 1.15s\tremaining: 636ms\n",
      "129:\tlearn: 0.0712341\ttotal: 1.16s\tremaining: 627ms\n",
      "130:\tlearn: 0.0705493\ttotal: 1.17s\tremaining: 617ms\n",
      "131:\tlearn: 0.0700722\ttotal: 1.18s\tremaining: 607ms\n",
      "132:\tlearn: 0.0693610\ttotal: 1.19s\tremaining: 597ms\n",
      "133:\tlearn: 0.0692130\ttotal: 1.19s\tremaining: 588ms\n",
      "134:\tlearn: 0.0685610\ttotal: 1.2s\tremaining: 579ms\n",
      "135:\tlearn: 0.0682456\ttotal: 1.21s\tremaining: 570ms\n",
      "136:\tlearn: 0.0679150\ttotal: 1.22s\tremaining: 561ms\n",
      "137:\tlearn: 0.0672399\ttotal: 1.23s\tremaining: 552ms\n",
      "138:\tlearn: 0.0667256\ttotal: 1.24s\tremaining: 543ms\n",
      "139:\tlearn: 0.0661787\ttotal: 1.25s\tremaining: 534ms\n",
      "140:\tlearn: 0.0658057\ttotal: 1.25s\tremaining: 524ms\n",
      "141:\tlearn: 0.0657109\ttotal: 1.26s\tremaining: 515ms\n",
      "142:\tlearn: 0.0653067\ttotal: 1.27s\tremaining: 505ms\n",
      "143:\tlearn: 0.0652018\ttotal: 1.27s\tremaining: 496ms\n",
      "144:\tlearn: 0.0646234\ttotal: 1.28s\tremaining: 487ms\n",
      "145:\tlearn: 0.0643859\ttotal: 1.29s\tremaining: 478ms\n",
      "146:\tlearn: 0.0638658\ttotal: 1.3s\tremaining: 468ms\n",
      "147:\tlearn: 0.0630815\ttotal: 1.31s\tremaining: 459ms\n",
      "148:\tlearn: 0.0622919\ttotal: 1.31s\tremaining: 449ms\n",
      "149:\tlearn: 0.0617467\ttotal: 1.32s\tremaining: 440ms\n",
      "150:\tlearn: 0.0613011\ttotal: 1.33s\tremaining: 430ms\n",
      "151:\tlearn: 0.0604994\ttotal: 1.33s\tremaining: 421ms\n",
      "152:\tlearn: 0.0597370\ttotal: 1.34s\tremaining: 413ms\n",
      "153:\tlearn: 0.0591350\ttotal: 1.35s\tremaining: 404ms\n",
      "154:\tlearn: 0.0587656\ttotal: 1.36s\tremaining: 394ms\n",
      "155:\tlearn: 0.0583541\ttotal: 1.36s\tremaining: 385ms\n",
      "156:\tlearn: 0.0580663\ttotal: 1.37s\tremaining: 376ms\n",
      "157:\tlearn: 0.0576708\ttotal: 1.38s\tremaining: 367ms\n",
      "158:\tlearn: 0.0572732\ttotal: 1.39s\tremaining: 358ms\n",
      "159:\tlearn: 0.0570320\ttotal: 1.4s\tremaining: 349ms\n",
      "160:\tlearn: 0.0564956\ttotal: 1.4s\tremaining: 340ms\n",
      "161:\tlearn: 0.0558586\ttotal: 1.41s\tremaining: 332ms\n",
      "162:\tlearn: 0.0555586\ttotal: 1.42s\tremaining: 323ms\n",
      "163:\tlearn: 0.0550777\ttotal: 1.43s\tremaining: 314ms\n"
     ]
    },
    {
     "name": "stdout",
     "output_type": "stream",
     "text": [
      "164:\tlearn: 0.0544860\ttotal: 1.44s\tremaining: 305ms\n",
      "165:\tlearn: 0.0541751\ttotal: 1.44s\tremaining: 296ms\n",
      "166:\tlearn: 0.0538221\ttotal: 1.45s\tremaining: 286ms\n",
      "167:\tlearn: 0.0536039\ttotal: 1.46s\tremaining: 278ms\n",
      "168:\tlearn: 0.0534192\ttotal: 1.47s\tremaining: 269ms\n",
      "169:\tlearn: 0.0532613\ttotal: 1.48s\tremaining: 260ms\n",
      "170:\tlearn: 0.0530218\ttotal: 1.48s\tremaining: 252ms\n",
      "171:\tlearn: 0.0526666\ttotal: 1.49s\tremaining: 243ms\n",
      "172:\tlearn: 0.0522188\ttotal: 1.5s\tremaining: 234ms\n",
      "173:\tlearn: 0.0519571\ttotal: 1.5s\tremaining: 225ms\n",
      "174:\tlearn: 0.0517450\ttotal: 1.51s\tremaining: 216ms\n",
      "175:\tlearn: 0.0514027\ttotal: 1.52s\tremaining: 207ms\n",
      "176:\tlearn: 0.0510479\ttotal: 1.52s\tremaining: 198ms\n",
      "177:\tlearn: 0.0509102\ttotal: 1.53s\tremaining: 189ms\n",
      "178:\tlearn: 0.0505507\ttotal: 1.54s\tremaining: 181ms\n",
      "179:\tlearn: 0.0502739\ttotal: 1.55s\tremaining: 172ms\n",
      "180:\tlearn: 0.0500502\ttotal: 1.55s\tremaining: 163ms\n",
      "181:\tlearn: 0.0499506\ttotal: 1.56s\tremaining: 155ms\n",
      "182:\tlearn: 0.0496254\ttotal: 1.57s\tremaining: 146ms\n",
      "183:\tlearn: 0.0492705\ttotal: 1.58s\tremaining: 137ms\n",
      "184:\tlearn: 0.0490492\ttotal: 1.59s\tremaining: 129ms\n",
      "185:\tlearn: 0.0486710\ttotal: 1.6s\tremaining: 120ms\n",
      "186:\tlearn: 0.0483151\ttotal: 1.61s\tremaining: 112ms\n",
      "187:\tlearn: 0.0480065\ttotal: 1.62s\tremaining: 103ms\n",
      "188:\tlearn: 0.0479338\ttotal: 1.62s\tremaining: 94.5ms\n",
      "189:\tlearn: 0.0475258\ttotal: 1.63s\tremaining: 85.8ms\n",
      "190:\tlearn: 0.0472096\ttotal: 1.64s\tremaining: 77.2ms\n",
      "191:\tlearn: 0.0468042\ttotal: 1.65s\tremaining: 68.7ms\n",
      "192:\tlearn: 0.0464661\ttotal: 1.66s\tremaining: 60.1ms\n",
      "193:\tlearn: 0.0462170\ttotal: 1.66s\tremaining: 51.4ms\n",
      "194:\tlearn: 0.0460125\ttotal: 1.67s\tremaining: 42.8ms\n",
      "195:\tlearn: 0.0457340\ttotal: 1.68s\tremaining: 34.2ms\n",
      "196:\tlearn: 0.0454476\ttotal: 1.68s\tremaining: 25.7ms\n",
      "197:\tlearn: 0.0452781\ttotal: 1.7s\tremaining: 17.1ms\n",
      "198:\tlearn: 0.0451544\ttotal: 1.71s\tremaining: 8.58ms\n",
      "199:\tlearn: 0.0448430\ttotal: 1.72s\tremaining: 0us\n"
     ]
    }
   ],
   "source": [
    "catb = CatBoostClassifier(iterations = 200, \n",
    "                          learning_rate = 0.05, \n",
    "                          depth = 8)\n",
    "\n",
    "catb_tuned = catb.fit(X_train, y_train)\n",
    "y_pred = catb_tuned.predict(X_test)"
   ]
  },
  {
   "cell_type": "code",
   "execution_count": 120,
   "metadata": {},
   "outputs": [],
   "source": [
    "lgbm_tuned = lgbm.fit(X_train,y_train)"
   ]
  },
  {
   "cell_type": "code",
   "execution_count": 36,
   "metadata": {},
   "outputs": [],
   "source": [
    "xgb_tuned =  xgb.fit(X_train,y_train)"
   ]
  },
  {
   "cell_type": "code",
   "execution_count": null,
   "metadata": {},
   "outputs": [],
   "source": []
  },
  {
   "cell_type": "code",
   "execution_count": 126,
   "metadata": {},
   "outputs": [
    {
     "name": "stdout",
     "output_type": "stream",
     "text": [
      "----------------------------\n",
      "KNeighborsClassifier:\n",
      "Accuracy: 91.8317%\n",
      "----------------------------\n",
      "LogisticRegression:\n",
      "Accuracy: 91.3366%\n",
      "----------------------------\n",
      "GaussianNB:\n",
      "Accuracy: 89.6040%\n",
      "----------------------------\n",
      "MLPClassifier:\n",
      "Accuracy: 32.4257%\n",
      "----------------------------\n",
      "DecisionTreeClassifier:\n",
      "Accuracy: 93.8119%\n",
      "----------------------------\n",
      "RandomForestClassifier:\n",
      "Accuracy: 94.5545%\n",
      "----------------------------\n",
      "GradientBoostingClassifier:\n",
      "Accuracy: 94.5545%\n",
      "----------------------------\n",
      "CatBoostClassifier:\n",
      "Accuracy: 95.2970%\n",
      "----------------------------\n",
      "LGBMClassifier:\n",
      "Accuracy: 95.2970%\n",
      "----------------------------\n",
      "XGBClassifier:\n",
      "Accuracy: 95.7921%\n"
     ]
    }
   ],
   "source": [
    "modeller = [\n",
    "    knn_tuned,\n",
    "    loj_model,\n",
    "    nb_model,\n",
    "    mlpc_tuned,\n",
    "    cart_tuned,\n",
    "    rf_tuned,\n",
    "    gbm_tuned,\n",
    "    catb_tuned,\n",
    "    lgbm_tuned,\n",
    "    xgb_tuned\n",
    "    \n",
    "]\n",
    "\n",
    "\n",
    "for model in modeller:\n",
    "    isimler = model.__class__.__name__\n",
    "    y_pred = model.predict(X_test)\n",
    "    dogruluk = accuracy_score(y_test, y_pred)\n",
    "    print(\"-\"*28)\n",
    "    print(isimler + \":\" )\n",
    "    print(\"Accuracy: {:.4%}\".format(dogruluk))"
   ]
  },
  {
   "cell_type": "code",
   "execution_count": 127,
   "metadata": {},
   "outputs": [
    {
     "data": {
      "image/png": "[encoded data removed]",
      "text/plain": [
       "<Figure size 432x288 with 1 Axes>"
      ]
     },
     "metadata": {
      "needs_background": "light"
     },
     "output_type": "display_data"
    }
   ],
   "source": [
    "sonuc = []\n",
    "\n",
    "sonuclar = pd.DataFrame(columns= [\"Modeller\",\"Accuracy\"])\n",
    "\n",
    "for model in modeller:\n",
    "    isimler = model.__class__.__name__\n",
    "    y_pred = model.predict(X_test)\n",
    "    dogruluk = accuracy_score(y_test, y_pred)    \n",
    "    sonuc = pd.DataFrame([[isimler, dogruluk*100]], columns= [\"Modeller\",\"Accuracy\"])\n",
    "    sonuclar = sonuclar.append(sonuc)\n",
    "    \n",
    "    \n",
    "sns.barplot(x= 'Accuracy', y = 'Modeller', data=sonuclar, color=\"r\")\n",
    "plt.xlabel('Accuracy %')\n",
    "plt.title('Modellerin Doğruluk Oranları');"
   ]
  },
  {
   "cell_type": "code",
   "execution_count": null,
   "metadata": {},
   "outputs": [],
   "source": []
  }
 ],
 "metadata": {
  "kernelspec": {
   "display_name": "Python 3",
   "language": "python",
   "name": "python3"
  },
  "language_info": {
   "codemirror_mode": {
    "name": "ipython",
    "version": 3
   },
   "file_extension": ".py",
   "mimetype": "text/x-python",
   "name": "python",
   "nbconvert_exporter": "python",
   "pygments_lexer": "ipython3",
   "version": "3.7.6"
  }
 },
 "nbformat": 4,
 "nbformat_minor": 4
}
